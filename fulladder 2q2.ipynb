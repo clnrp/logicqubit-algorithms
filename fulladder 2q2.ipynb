{
 "cells": [
  {
   "cell_type": "code",
   "execution_count": null,
   "metadata": {
    "scrolled": true
   },
   "outputs": [],
   "source": [
    "from logicqubit.logic import *"
   ]
  },
  {
   "cell_type": "code",
   "execution_count": 34,
   "metadata": {},
   "outputs": [
    {
     "name": "stdout",
     "output_type": "stream",
     "text": [
      "x1 x2 x3 x4 - r1 r2 r3\n"
     ]
    },
    {
     "data": {
      "text/plain": [
       "['0000-000',\n",
       " '0001-001',\n",
       " '0010-010',\n",
       " '0011-011',\n",
       " '0100-001',\n",
       " '0101-010',\n",
       " '0110-011',\n",
       " '0111-100',\n",
       " '1000-010',\n",
       " '1001-011',\n",
       " '1010-100',\n",
       " '1011-101',\n",
       " '1100-011',\n",
       " '1101-100',\n",
       " '1110-101',\n",
       " '1111-110']"
      ]
     },
     "execution_count": 34,
     "metadata": {},
     "output_type": "execute_result"
    }
   ],
   "source": [
    "print('x1 x2 x3 x4 - r1 r2 r3')\n",
    "[str(bin(i)[2:].zfill(4))+\"-\"+str(bin(int((i>>2)&0x3) + int(i&0x3))[2:].zfill(3)) for i in range(16)]"
   ]
  },
  {
   "cell_type": "code",
   "execution_count": 35,
   "metadata": {},
   "outputs": [
    {
     "data": {
      "text/latex": [
       "$\\displaystyle x_1^0x_2^0x_3^0x_4^1\\oplus x_1^0x_2^1x_3^0x_4^0$"
      ],
      "text/plain": [
       "<IPython.core.display.Math object>"
      ]
     },
     "metadata": {},
     "output_type": "display_data"
    },
    {
     "data": {
      "text/latex": [
       "$\\displaystyle x_1^0x_2^0x_3^1x_4^0\\oplus x_1^0x_2^1x_3^0x_4^1\\oplus x_1^1x_2^0x_3^0x_4^0$"
      ],
      "text/plain": [
       "<IPython.core.display.Math object>"
      ]
     },
     "metadata": {},
     "output_type": "display_data"
    },
    {
     "data": {
      "text/latex": [
       "$\\displaystyle x_1^0x_2^1x_3^1x_4^1\\oplus x_1^1x_2^0x_3^1x_4^0\\oplus x_1^1x_2^1x_3^0x_4^1$"
      ],
      "text/plain": [
       "<IPython.core.display.Math object>"
      ]
     },
     "metadata": {},
     "output_type": "display_data"
    }
   ],
   "source": [
    "poly = Zhegalkin_Poly()\n",
    "poly.addTable(['0001','0011','0100','0110','1001','1011','1100','1110'])  # r3\n",
    "poly.addTable(['0010','0011','0101','0110','1000','1001','1100','1111'])  # r2\n",
    "poly.addTable(['0111','1010','1011','1101','1110','1111'])                # r1\n",
    "poly.Compute()\n",
    "poly.ShowPolynomial()"
   ]
  },
  {
   "cell_type": "code",
   "execution_count": 52,
   "metadata": {},
   "outputs": [],
   "source": [
    "logicQuBit  = LogicQuBit(8, first_left=False)\n",
    "\n",
    "a1 = Qubit() # x1\n",
    "a2 = Qubit() # x2\n",
    "b1 = Qubit() # x3\n",
    "b2 = Qubit() # x4\n",
    "r1 = Qubit()\n",
    "r2 = Qubit()\n",
    "r3 = Qubit()\n",
    "a = Qubit()\n",
    "\n",
    "#a1.X()\n",
    "a2.X()\n",
    "#b1.X()\n",
    "b2.X()\n",
    "\n",
    "# r3\n",
    "r3.CX(a2)\n",
    "r3.CX(b2)\n",
    "\n",
    "# r2\n",
    "r2.CX(a1)\n",
    "r2.CCX(a2,b2)\n",
    "r2.CX(b1)\n",
    "\n",
    "# r3\n",
    "\n",
    "\n",
    "#A.PrintState()"
   ]
  },
  {
   "cell_type": "code",
   "execution_count": 53,
   "metadata": {},
   "outputs": [
    {
     "data": {
      "image/png": "[encoded data removed]",
      "text/plain": [
       "<Figure size 432x288 with 1 Axes>"
      ]
     },
     "metadata": {
      "needs_background": "light"
     },
     "output_type": "display_data"
    }
   ],
   "source": [
    "logicQuBit.Measure([r3,r2,r1])\n",
    "logicQuBit.Plot()"
   ]
  },
  {
   "cell_type": "code",
   "execution_count": null,
   "metadata": {},
   "outputs": [],
   "source": []
  }
 ],
 "metadata": {
  "kernelspec": {
   "display_name": "Python 3",
   "language": "python",
   "name": "python3"
  },
  "language_info": {
   "codemirror_mode": {
    "name": "ipython",
    "version": 3
   },
   "file_extension": ".py",
   "mimetype": "text/x-python",
   "name": "python",
   "nbconvert_exporter": "python",
   "pygments_lexer": "ipython3",
   "version": "3.7.4"
  }
 },
 "nbformat": 4,
 "nbformat_minor": 2
}
