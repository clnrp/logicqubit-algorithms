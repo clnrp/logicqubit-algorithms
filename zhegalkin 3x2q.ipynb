{
 "cells": [
  {
   "cell_type": "code",
   "execution_count": 18,
   "metadata": {
    "scrolled": true
   },
   "outputs": [],
   "source": [
    "from logicqubit.logic import *\n",
    "from logicqubit.zhegalkin import *"
   ]
  },
  {
   "cell_type": "code",
   "execution_count": 19,
   "metadata": {},
   "outputs": [
    {
     "name": "stdout",
     "output_type": "stream",
     "text": [
      "[[1, 0, 0, 0, 1, 0, 0, 0], [1, 0, 0, 1, 0, 1, 1, 0]]\n"
     ]
    },
    {
     "data": {
      "text/latex": [
       "$\\displaystyle x_1^0x_2^0x_3^0\\oplus x_1^1x_2^0x_3^0$"
      ],
      "text/plain": [
       "<IPython.core.display.Math object>"
      ]
     },
     "metadata": {},
     "output_type": "display_data"
    },
    {
     "data": {
      "text/latex": [
       "$\\displaystyle x_1^0x_2^0x_3^0\\oplus x_1^0x_2^1x_3^1\\oplus x_1^1x_2^0x_3^1\\oplus x_1^1x_2^1x_3^0$"
      ],
      "text/plain": [
       "<IPython.core.display.Math object>"
      ]
     },
     "metadata": {},
     "output_type": "display_data"
    }
   ],
   "source": [
    "# H|x1,x2,x3>|00>\n",
    "# x1 x2 x3 y1 y2\n",
    "# 0  0  0  1  1\n",
    "# 0  0  1  1  1\n",
    "# 0  1  0  1  1\n",
    "# 0  1  1  1  0\n",
    "# 1  0  0  0  1\n",
    "# 1  0  1  0  0\n",
    "# 1  1  0  0  0\n",
    "# 1  1  1  0  0\n",
    "\n",
    "# 1 x 00, 1 x 10, 2 x 11\n",
    "\n",
    "poly = Zhegalkin_Poly()\n",
    "poly.addTable(['000','001','010','011'])\n",
    "poly.addTable(['000','001','010','100'])\n",
    "poly.Compute()\n",
    "poly.ShowPolynomial()"
   ]
  },
  {
   "cell_type": "code",
   "execution_count": 20,
   "metadata": {},
   "outputs": [
    {
     "data": {
      "image/png": "[encoded data removed]",
      "text/plain": [
       "<Figure size 432x288 with 1 Axes>"
      ]
     },
     "metadata": {
      "needs_background": "light"
     },
     "output_type": "display_data"
    }
   ],
   "source": [
    "logicQuBit  = LogicQuBit(8, first_left=True)\n",
    "\n",
    "x1 = Qubit()\n",
    "x2 = Qubit()\n",
    "x3 = Qubit()\n",
    "\n",
    "y1 = Qubit()\n",
    "y2 = Qubit()\n",
    "\n",
    "x1.H()\n",
    "x2.H()\n",
    "x3.H()\n",
    "\n",
    "# p/ y1, p = [1, 0, 0, 0, 1, 0, 0, 0]\n",
    "y1.CX(x1)\n",
    "y1.X()\n",
    "\n",
    "# p/ y2, p = [1, 0, 0, 1, 0, 1, 1, 1]\n",
    "y2.CCX(x1,x2)\n",
    "y2.CCX(x1,x3)\n",
    "y2.CCX(x2,x3)\n",
    "y2.X()\n",
    "\n",
    "res = logicQuBit.Measure([y1,y2])\n",
    "logicQuBit.Plot()"
   ]
  },
  {
   "cell_type": "code",
   "execution_count": 21,
   "metadata": {},
   "outputs": [
    {
     "name": "stdout",
     "output_type": "stream",
     "text": [
      "['H(1)', 'H(2)', 'H(3)', 'CX(1,4)', 'X(4)', 'CCX(1,2,5)', 'CCX(1,3,5)', 'CCX(2,3,5)', 'X(5)', 'Measure(4,5)']\n"
     ]
    }
   ],
   "source": [
    "logicQuBit.PrintOperations()"
   ]
  },
  {
   "cell_type": "code",
   "execution_count": null,
   "metadata": {},
   "outputs": [],
   "source": []
  }
 ],
 "metadata": {
  "kernelspec": {
   "display_name": "Python 3",
   "language": "python",
   "name": "python3"
  },
  "language_info": {
   "codemirror_mode": {
    "name": "ipython",
    "version": 3
   },
   "file_extension": ".py",
   "mimetype": "text/x-python",
   "name": "python",
   "nbconvert_exporter": "python",
   "pygments_lexer": "ipython3",
   "version": "3.7.4"
  }
 },
 "nbformat": 4,
 "nbformat_minor": 2
}
