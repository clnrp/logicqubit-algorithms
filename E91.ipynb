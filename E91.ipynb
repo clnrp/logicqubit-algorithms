{
 "cells": [
  {
   "cell_type": "code",
   "execution_count": 12,
   "metadata": {
    "scrolled": true
   },
   "outputs": [],
   "source": [
    "from logicqubit.logic import *\n",
    "import random\n",
    "import matplotlib.pyplot as plt"
   ]
  },
  {
   "cell_type": "code",
   "execution_count": 13,
   "metadata": {},
   "outputs": [
    {
     "name": "stdout",
     "output_type": "stream",
     "text": [
      "46 46\n",
      "3.1890894175553735 92 0\n"
     ]
    }
   ],
   "source": [
    "# |<C>| = |<z.z> + <x.z> + <z.x> - <x.x>| <= 2\n",
    "def bell_inequality(A, B):\n",
    "    zz = 0\n",
    "    xz = 0\n",
    "    zx = 0\n",
    "    xx = 0\n",
    "    cnt_zz = 0\n",
    "    cnt_xz = 0\n",
    "    cnt_zx = 0\n",
    "    cnt_xx = 0\n",
    "    \n",
    "    for a,b in zip(A,B):\n",
    "        if a[0]=='Z' and b[0]=='Z':\n",
    "            zz += a[1]*b[1]\n",
    "            cnt_zz += 1\n",
    "        if a[0]=='X' and b[0]=='Z':\n",
    "            xz += a[1]*b[1]\n",
    "            cnt_xz += 1\n",
    "        if a[0]=='Z' and b[0]=='X':\n",
    "            zz += a[1]*b[1]\n",
    "            cnt_zx += 1\n",
    "        if a[0]=='X' and b[0]=='X':\n",
    "            zz += a[1]*b[1]\n",
    "            cnt_xx += 1\n",
    "            \n",
    "    zz = zz / cnt_zz\n",
    "    xz = xz / cnt_xz\n",
    "    zx = zx / cnt_zx\n",
    "    xx = xx / cnt_xx\n",
    "    total = zz + xz + zx - xx\n",
    "    inequality = sqrt(total * total)\n",
    "    #print(cnt_zz,cnt_xz,cnt_zx,cnt_xx)\n",
    "    return inequality\n",
    "\n",
    "def measurements(eva=False, attempts=10, angle = 90):\n",
    "    to_minus_one = lambda x: -1 if x == 0 else x\n",
    "    measure_A = []\n",
    "    measure_B = []\n",
    "\n",
    "    angle = angle*pi/180     \n",
    "    for i in range(attempts):\n",
    "        logicQuBit = LogicQuBit(2)\n",
    "\n",
    "        A = Qubit()\n",
    "        B = Qubit()\n",
    "\n",
    "        # generate entangled state\n",
    "        A.H()\n",
    "        B.CNOT(A)\n",
    "\n",
    "        # Alice choose the measurement\n",
    "        measure_type_A = random.choice(['Z', 'X'])\n",
    "        if 'X' in measure_type_A:\n",
    "            A.RY(-angle)\n",
    "            #A.H()\n",
    "\n",
    "        # Alice performs the measurement\n",
    "        m_A = logicQuBit.Measure_One(A)[0]\n",
    "        m_A = to_minus_one(m_A)\n",
    "\n",
    "        # Eva performs the measurement\n",
    "        if eva:\n",
    "            measure_type_E = random.choice(['Z', 'X'])\n",
    "            if 'X' in measure_type_E:\n",
    "                B.RY(-angle)\n",
    "                #B.H()\n",
    "            m_E = logicQuBit.Measure_One(B)[0]\n",
    "\n",
    "        # Bob choose the measurement\n",
    "        measure_type_B = random.choice(['Z', 'X'])\n",
    "        if 'X' in measure_type_B:\n",
    "            B.RY(-angle)\n",
    "            #B.H()\n",
    "\n",
    "        # Bob performs the measurement\n",
    "        m_B = logicQuBit.Measure_One(B)[0]\n",
    "        m_B = to_minus_one(m_B)\n",
    "\n",
    "        measure_A.append([measure_type_A, m_A])\n",
    "        measure_B.append([measure_type_B, m_B])\n",
    "\n",
    "    return measure_A, measure_B\n",
    "\n",
    "def separete_data(A, B):\n",
    "    equals = [A[i] for i in range(len(A)) if A[i] == B[i]]\n",
    "    error = [A[i] for i in range(len(A)) if A[i][0] == B[i][0] and A[i][1] != B[i][1]]\n",
    "    a = [A[i] for i in range(len(A)) if A[i] != B[i]]\n",
    "    b = [B[i] for i in range(len(B)) if A[i] != B[i]]\n",
    "    return equals, error, a, b\n",
    "\n",
    "measure_A, measure_B = measurements(eva=False, attempts=200, angle=70)\n",
    "key, error, a, b = separete_data(measure_A, measure_B)\n",
    "bell = bell_inequality(measure_A, measure_B)\n",
    "size_key_x = len([i for i in key if i[0]=='X'])\n",
    "size_key_z = len([i for i in key if i[0]=='Z'])\n",
    "key_diff = [i for i in key if i]\n",
    "\n",
    "print(size_key_z, size_key_x)\n",
    "print(bell.real, len(key), len(error))"
   ]
  },
  {
   "cell_type": "code",
   "execution_count": 14,
   "metadata": {},
   "outputs": [
    {
     "name": "stdout",
     "output_type": "stream",
     "text": [
      "[['X', -1], ['Z', -1], ['Z', 1], ['Z', 1], ['X', 1], ['X', 1], ['Z', 1], ['X', -1], ['X', 1], ['X', -1]]\n",
      "[['Z', -1], ['X', -1], ['Z', 1], ['Z', 1], ['Z', 1], ['Z', 1], ['Z', 1], ['X', -1], ['Z', 1], ['X', -1]]\n"
     ]
    }
   ],
   "source": [
    "print(measure_A[:10])\n",
    "print(measure_B[:10])"
   ]
  },
  {
   "cell_type": "code",
   "execution_count": 15,
   "metadata": {},
   "outputs": [
    {
     "name": "stdout",
     "output_type": "stream",
     "text": [
      "value: 2.17371231353251\n"
     ]
    },
    {
     "data": {
      "image/png": "[encoded data removed]",
      "text/plain": [
       "<Figure size 432x288 with 1 Axes>"
      ]
     },
     "metadata": {
      "needs_background": "light"
     },
     "output_type": "display_data"
    }
   ],
   "source": [
    "# without eva\n",
    "step = 1 \n",
    "angles = np.arange(70, 100, step)\n",
    "result_without_eva = []\n",
    "for angle in angles:\n",
    "    measure_A, measure_B = measurements(eva=False, attempts=200, angle=angle)\n",
    "    bell = bell_inequality(measure_A, measure_B)\n",
    "    result_without_eva.append(bell)\n",
    "mean_without_eva = np.mean(result_without_eva)\n",
    "print(\"value: \"+str(mean_without_eva.real))\n",
    "plt.plot(angles, result_without_eva, color='blue')\n",
    "plt.show()"
   ]
  },
  {
   "cell_type": "code",
   "execution_count": 16,
   "metadata": {},
   "outputs": [
    {
     "name": "stdout",
     "output_type": "stream",
     "text": [
      "value: 1.2472595296684632\n"
     ]
    },
    {
     "data": {
      "image/png": "[encoded data removed]",
      "text/plain": [
       "<Figure size 432x288 with 1 Axes>"
      ]
     },
     "metadata": {
      "needs_background": "light"
     },
     "output_type": "display_data"
    }
   ],
   "source": [
    "# with eva\n",
    "step = 1 \n",
    "angles = np.arange(70, 100, step)\n",
    "result_with_eva = []\n",
    "for angle in angles:\n",
    "    measure_A, measure_B = measurements(eva=True, attempts=200, angle=angle)\n",
    "    bell = bell_inequality(measure_A, measure_B)\n",
    "    result_with_eva.append(bell)\n",
    "mean_with_eva = np.mean(result_with_eva)\n",
    "print(\"value: \"+str(mean_with_eva.real))\n",
    "plt.plot(angles, result_with_eva, color='blue')\n",
    "plt.show()"
   ]
  },
  {
   "cell_type": "code",
   "execution_count": null,
   "metadata": {},
   "outputs": [],
   "source": []
  }
 ],
 "metadata": {
  "kernelspec": {
   "display_name": "Python 3",
   "language": "python",
   "name": "python3"
  },
  "language_info": {
   "codemirror_mode": {
    "name": "ipython",
    "version": 3
   },
   "file_extension": ".py",
   "mimetype": "text/x-python",
   "name": "python",
   "nbconvert_exporter": "python",
   "pygments_lexer": "ipython3",
   "version": "3.7.4"
  }
 },
 "nbformat": 4,
 "nbformat_minor": 2
}
