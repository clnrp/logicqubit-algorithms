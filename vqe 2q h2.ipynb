{
 "cells": [
  {
   "cell_type": "code",
   "execution_count": 5,
   "metadata": {
    "scrolled": true
   },
   "outputs": [],
   "source": [
    "from logicqubit.logic import *\n",
    "from openfermion import *\n",
    "from openfermion.transforms import get_fermion_operator, jordan_wigner, bravyi_kitaev, parity_code\n",
    "from openfermion.linalg import get_ground_state, get_sparse_operator\n",
    "from openfermionpyscf import run_pyscf\n",
    "from cmath import *\n",
    "import numpy as np\n",
    "import scipy\n",
    "from scipy.optimize import *\n",
    "import matplotlib.pyplot as plt"
   ]
  },
  {
   "cell_type": "markdown",
   "metadata": {},
   "source": [
    "Second Quantized Hamiltonian\n",
    "\\begin{eqnarray*}\n",
    "    \\mathcal{H}(r)=h_0 + \\sum_{pq} h_{pq}(r) a^{\\dagger}_p a_q +\\frac{1}{2} \\sum_{pqrs} h_{pqrs}(r) a^{\\dagger}_p a^{\\dagger}_qa_ra_s\n",
    "\\end{eqnarray*}\n",
    "\n",
    "\\begin{eqnarray*}\n",
    "    h_{pq}(r)=\\int{d\\mathbf{r}}\\,\\phi^*_p(\\mathbf{r})\\left(-\\frac{1}{2}\\nabla^2-\\sum_{a}{\\frac{Z_a}{\\mathbf{r}_{a,\\mathbf{r}}}}\\right)\\phi_q(\\mathbf{r})\n",
    "\\end{eqnarray*}\n",
    "\n",
    "\\begin{eqnarray*}\n",
    "    h_{pqrs}(r)=\\int{d\\mathbf{r_1}\\,d\\mathbf{r_2}}\\,\\phi^*_p(\\mathbf{r_1})\\phi^*_q(\\mathbf{r_2})r_{1,2}^{-1}\\phi_r(\\mathbf{r_1})\\phi_s(\\mathbf{r_2})\n",
    "\\end{eqnarray*}\n",
    "\n",
    "Jordan-Wigner transformation\n",
    "\\begin{eqnarray*}\n",
    "    a^{\\dagger} = I^{\\otimes j-1}\\otimes \\sigma_{-} \\otimes \\sigma_{z}^{\\otimes N-j}\\\\\n",
    "    a = I^{\\otimes j-1}\\otimes \\sigma_{+} \\otimes \\sigma_{z}^{\\otimes N-j}\n",
    "\\end{eqnarray*}"
   ]
  },
  {
   "cell_type": "code",
   "execution_count": 66,
   "metadata": {},
   "outputs": [],
   "source": [
    "gates = Gates(1)\n",
    "\n",
    "ID = gates.ID()\n",
    "X = gates.X()\n",
    "Y = gates.Y()\n",
    "Z = gates.Z()"
   ]
  },
  {
   "cell_type": "code",
   "execution_count": 67,
   "metadata": {},
   "outputs": [],
   "source": [
    "def get_molecule(distance = 0.75):\n",
    "    geometry = [('H', (0., 0., 0.)), ('H', (0., 0., distance))]\n",
    "    basis = \"sto-3g\"\n",
    "    multiplicity = 1\n",
    "    charge = 0\n",
    "    description = \"H2\"\n",
    "\n",
    "    mol_h2 = MolecularData(geometry, basis, multiplicity, charge, description)\n",
    "\n",
    "    mol_h2 = run_pyscf(mol_h2, run_scf=1, verbose=0)\n",
    "\n",
    "    mol_h2 = binary_code_transform(get_fermion_operator(mol_h2.get_molecular_hamiltonian()), interleaved_code(4)*(2*checksum_code(2,1)))\n",
    "\n",
    "    mol_gates = list(mol_h2.terms.keys())\n",
    "    mol_co = list(mol_h2.terms.values())\n",
    "    return mol_gates, mol_co"
   ]
  },
  {
   "cell_type": "code",
   "execution_count": 68,
   "metadata": {},
   "outputs": [],
   "source": [
    "def get_sigma(gate_name):\n",
    "    if gate_name == 'X':\n",
    "        gate = X\n",
    "    elif gate_name == 'Y':\n",
    "        gate = Y\n",
    "    elif gate_name == 'Z':\n",
    "        gate = Z\n",
    "    else:\n",
    "        gate = ID\n",
    "    return gate\n",
    "\n",
    "def get_H_k(mol_gates):\n",
    "    gate_list = []\n",
    "    name_list = []\n",
    "    for pauli_gate in mol_gates:\n",
    "        prod_list = [get_sigma('I') for _ in range(2)]\n",
    "        name_gate_list = ['I' for _ in range(2)]\n",
    "        for term in pauli_gate:\n",
    "            prod_list[1-term[0]] = get_sigma(term[1])\n",
    "            name_gate_list[1-term[0]] = term[1]\n",
    "        gate_kron = prod_list[0]\n",
    "        for item in prod_list[1:]:\n",
    "            gate_kron = gate_kron.kron(item)\n",
    "        gate_list.append(gate_kron)\n",
    "        name_list.append(name_gate_list)\n",
    "    return gate_list, name_list\n",
    "\n",
    "def get_base(mol_gate):\n",
    "    prod_list = [Matrix([1, 1]) for _ in range(2)]\n",
    "    if isinstance(mol_gates, tuple):\n",
    "        for item in mol_gate:\n",
    "            prod_list[1-item[0]] = Matrix([1, -1])\n",
    "    else:\n",
    "        gate_list = list(mol_gate)\n",
    "        for i, item in enumerate(gate_list):\n",
    "            if item != 'I':\n",
    "                prod_list[i] = Matrix([1, -1])\n",
    "    base_kron = prod_list[0]\n",
    "    for item in prod_list[1:]:\n",
    "        base_kron = base_kron.kron(item)\n",
    "    return base_kron\n",
    "\n",
    "def sum(items):\n",
    "    value = items[0]\n",
    "    for item in items[1:]:\n",
    "        value = value + item\n",
    "    return value"
   ]
  },
  {
   "cell_type": "code",
   "execution_count": 69,
   "metadata": {},
   "outputs": [
    {
     "data": {
      "text/plain": [
       "array([ 1, -1, -1,  1])"
      ]
     },
     "execution_count": 69,
     "metadata": {},
     "output_type": "execute_result"
    }
   ],
   "source": [
    "get_base('ZZ').get()"
   ]
  },
  {
   "cell_type": "code",
   "execution_count": 26,
   "metadata": {},
   "outputs": [
    {
     "name": "stdout",
     "output_type": "stream",
     "text": [
      "Repulsion energy (Eh): 0.7055696793059831\n"
     ]
    }
   ],
   "source": [
    "def repulsion_energy(Z1=1, Z2=1, r=75e-12):\n",
    "    Eh = 4.3597447222071e-18 # hartree energy\n",
    "    ep0 = 8.854187e-12\n",
    "    e = -1.602176634e-19\n",
    "    return (1/(4*pi*ep0)*(Z1*Z2*e**2)/r)/Eh\n",
    "\n",
    "rep_energy = repulsion_energy()\n",
    "print(\"Repulsion energy (Eh): %s\"%rep_energy)"
   ]
  },
  {
   "cell_type": "code",
   "execution_count": 103,
   "metadata": {},
   "outputs": [],
   "source": [
    "def ansatz_2q(q1, q2, params):\n",
    "    q1.RY(params[0])\n",
    "    q2.RZ(params[1])\n",
    "    q1.CNOT(q2)\n",
    "    q2.CNOT(q1)"
   ]
  },
  {
   "cell_type": "code",
   "execution_count": 104,
   "metadata": {},
   "outputs": [
    {
     "data": {
      "text/plain": [
       "(-1.1371170673457311+0j)"
      ]
     },
     "execution_count": 104,
     "metadata": {},
     "output_type": "execute_result"
    }
   ],
   "source": [
    "mol_gates, mol_co = get_molecule(0.75)\n",
    "co = [c.real for c in mol_co]\n",
    "H_k = get_H_k(mol_gates)\n",
    "H = sum([gate*co for gate,co in zip(H_k[0], mol_co)])\n",
    "min(scipy.linalg.eig(H.get())[0])"
   ]
  },
  {
   "cell_type": "code",
   "execution_count": 105,
   "metadata": {},
   "outputs": [
    {
     "data": {
      "text/plain": [
       "([(), ((0, 'Z'),), ((1, 'Z'),), ((0, 'Z'), (1, 'Z')), ((0, 'Y'), (1, 'Y'))],\n",
       " ([<logicqubit.hilbert.Matrix at 0x7f9d02339e50>,\n",
       "   <logicqubit.hilbert.Matrix at 0x7f9ca4fd1ac0>,\n",
       "   <logicqubit.hilbert.Matrix at 0x7f9ca50aad90>,\n",
       "   <logicqubit.hilbert.Matrix at 0x7f9d0030bf10>,\n",
       "   <logicqubit.hilbert.Matrix at 0x7f9ca4069a90>],\n",
       "  [['I', 'I'], ['I', 'Z'], ['Z', 'I'], ['Z', 'Z'], ['Y', 'Y']]))"
      ]
     },
     "execution_count": 105,
     "metadata": {},
     "output_type": "execute_result"
    }
   ],
   "source": [
    "mol_gates,H_k"
   ]
  },
  {
   "cell_type": "code",
   "execution_count": 106,
   "metadata": {},
   "outputs": [
    {
     "name": "stdout",
     "output_type": "stream",
     "text": [
      "-1.1371170591717967\n"
     ]
    },
    {
     "name": "stderr",
     "output_type": "stream",
     "text": [
      "/tmp/ipykernel_4864/1232056574.py:12: OptimizeWarning: Unknown solver options: xtol\n",
      "  minimum = minimize(expectation_2q, initial_values, method='SLSQP',options={'xtol': 1e-5, 'ftol': 1e-5})\n"
     ]
    }
   ],
   "source": [
    "def expectation_2q(params):\n",
    "    logicQuBit  = LogicQuBit(2)\n",
    "    q1 = Qubit()\n",
    "    q2 = Qubit()\n",
    "    \n",
    "    ansatz_2q(q1,q2,params)\n",
    "    psi = logicQuBit.getPsi()\n",
    "    \n",
    "    return (psi.adjoint()*H*psi).get()[0][0].real\n",
    "\n",
    "initial_values = np.random.uniform(-np.pi, np.pi, 2)\n",
    "minimum = minimize(expectation_2q, initial_values, method='SLSQP',options={'xtol': 1e-5, 'ftol': 1e-5})\n",
    "print(minimum.fun)"
   ]
  },
  {
   "cell_type": "code",
   "execution_count": 73,
   "metadata": {},
   "outputs": [
    {
     "data": {
      "text/plain": [
       "([['I', 'I'], ['I', 'Z'], ['Z', 'I'], ['Z', 'Z'], ['Y', 'Y']],\n",
       " [-0.32638630654897643,\n",
       "  0.4010607395826913,\n",
       "  0.4010607395826913,\n",
       "  0.011313679651752784,\n",
       "  -0.18065279338644322])"
      ]
     },
     "execution_count": 73,
     "metadata": {},
     "output_type": "execute_result"
    }
   ],
   "source": [
    "H_k[1],co"
   ]
  },
  {
   "cell_type": "code",
   "execution_count": 74,
   "metadata": {},
   "outputs": [],
   "source": [
    "def expectation_value(measurements, base = np.array([ 1, -1, -1,  1])):\n",
    "    probabilities = np.array(measurements)\n",
    "    expectation = np.sum(base * probabilities)\n",
    "    return expectation.real\n",
    "\n",
    "def sigma_zz(params):\n",
    "    logicQuBit  = LogicQuBit(2)\n",
    "    q1 = Qubit()\n",
    "    q2 = Qubit()\n",
    "    \n",
    "    ansatz_2q(q1,q2,params)\n",
    "          \n",
    "    result = logicQuBit.Measure([q1,q2])\n",
    "    \n",
    "    zz = expectation_value(result, get_base('ZZ').get())\n",
    "    iz = expectation_value(result, get_base('IZ').get()) # [zz, iz] = 0\n",
    "    zi = expectation_value(result, get_base('ZI').get()) # [zz, zi] = 0\n",
    "    \n",
    "    return zz,iz,zi\n",
    "\n",
    "def sigma_yy(params):\n",
    "    logicQuBit  = LogicQuBit(2)\n",
    "    q1 = Qubit()\n",
    "    q2 = Qubit()\n",
    "    \n",
    "    ansatz_2q(q1,q2,params)\n",
    "       \n",
    "    # medidas em Y\n",
    "    q1.RX(pi/2)\n",
    "    q2.RX(pi/2)\n",
    "    \n",
    "    result = logicQuBit.Measure([q1,q2])\n",
    "    result = expectation_value(result)\n",
    "    return result\n",
    "\n",
    "def expectation_energy(params, co):\n",
    "    zz,iz,zi = sigma_zz(params)\n",
    "    yy = sigma_yy(params)\n",
    "\n",
    "    result = co[0] + co[1]*iz + co[2]*zi + co[3]*zz + co[4]*yy\n",
    "    return result"
   ]
  },
  {
   "cell_type": "code",
   "execution_count": 75,
   "metadata": {},
   "outputs": [
    {
     "name": "stdout",
     "output_type": "stream",
     "text": [
      "-1.1372851695800223\n"
     ]
    },
    {
     "name": "stderr",
     "output_type": "stream",
     "text": [
      "/tmp/ipykernel_4864/2412149840.py:2: OptimizeWarning: Unknown solver options: xtol\n",
      "  minimum = minimize(expectation_energy, initial_values, method='SLSQP',options={'xtol': 1e-5, 'ftol': 1e-5}, args=(co))\n"
     ]
    }
   ],
   "source": [
    "initial_values = np.random.uniform(-np.pi, np.pi, 16)\n",
    "minimum = minimize(expectation_energy, initial_values, method='SLSQP',options={'xtol': 1e-5, 'ftol': 1e-5}, args=(co))\n",
    "print(minimum.fun)"
   ]
  },
  {
   "cell_type": "code",
   "execution_count": 76,
   "metadata": {},
   "outputs": [],
   "source": [
    "def gradient(params, evaluate, args):\n",
    "    n_params = params.shape[0]\n",
    "    shift = pi/2\n",
    "    gradients = np.zeros(n_params)\n",
    "    \n",
    "    for i in range(n_params):\n",
    "        #parameter shift rule\n",
    "        shift_vect = np.array([shift if j==i else 0 for j in range(n_params)])\n",
    "        shift_right = params + shift_vect\n",
    "        shift_left = params - shift_vect\n",
    "        \n",
    "        expectation_right = evaluate(shift_right, args)\n",
    "        expectation_left = evaluate(shift_left, args)\n",
    "\n",
    "        gradients[i] = expectation_right - expectation_left\n",
    "\n",
    "    return gradients"
   ]
  },
  {
   "cell_type": "code",
   "execution_count": 77,
   "metadata": {},
   "outputs": [],
   "source": [
    "params = np.random.uniform(-np.pi, np.pi, 2)\n",
    "last_params = np.zeros(2)"
   ]
  },
  {
   "cell_type": "code",
   "execution_count": 78,
   "metadata": {},
   "outputs": [
    {
     "name": "stdout",
     "output_type": "stream",
     "text": [
      "1.636298028930586\n",
      "0.09920175060171821\n",
      "0.09914491962131966\n",
      "0.09826927210248693\n",
      "0.09658630510568744\n",
      "0.09414249712132239\n",
      "0.09101574323398043\n",
      "0.08730865000057986\n",
      "0.08313979970442975\n",
      "0.07863436875189256\n",
      "0.07391541769241272\n",
      "0.06909683061453897\n",
      "0.06427841194264539\n",
      "0.05954319617030368\n",
      "0.054956691176331784\n",
      "0.05056759456330301\n",
      "0.04640947890535613\n",
      "0.042502992923470595\n",
      "0.038858224597589364\n",
      "0.03547698214560996\n",
      "0.03235484696791169\n",
      "0.029482928996619473\n",
      "0.02684930792029322\n",
      "0.02444017660877182\n",
      "0.0222407205616095\n",
      "0.020235774136532297\n",
      "0.018410294646017872\n",
      "0.01674969206995716\n",
      "0.015240047102297316\n",
      "0.013868244764478066\n",
      "0.01262204557801476\n",
      "0.011490111637309189\n",
      "0.010462000986602368\n",
      "0.009528140481357333\n",
      "0.008679784739759916\n",
      "0.007908966773481407\n",
      "0.007208444332527292\n",
      "0.00657164481742982\n",
      "0.005992610725121764\n",
      "0.00546594693716549\n",
      "0.00498677067742094\n",
      "0.004550664618443168\n",
      "0.0041536333687433175\n",
      "0.003792063400899194\n",
      "0.003462686363731683\n",
      "0.0031625456455223883\n",
      "0.0028889660082746724\n",
      "0.0026395260869603206\n",
      "0.0024120335363292285\n",
      "0.0022045026065941956\n",
      "0.0020151339347697084\n",
      "0.0018422963482500818\n",
      "0.0016845104895770076\n",
      "0.0015404340850460503\n",
      "0.0014088486940084348\n",
      "0.0012886477898060855\n",
      "0.0011788260368866717\n",
      "0.001078469641541114\n",
      "0.0009867476657379852\n",
      "0.0009029042046298178\n",
      "0.0008262513384887041\n",
      "0.0007561627790912077\n",
      "0.0006920681389315456\n",
      "0.000633447759214212\n",
      "0.0005798280393500607\n",
      "0.0005307772167694623\n",
      "0.00048590155130550077\n",
      "0.00044484187326257994\n",
      "0.0004072704586117748\n",
      "0.000372888198637256\n",
      "0.00034142203478686444\n",
      "0.00031262263255718006\n",
      "0.0002862622709684181\n",
      "0.00026213292662623493\n",
      "0.00024004453353232424\n",
      "0.00021982340173029016\n",
      "0.00020131077961779145\n",
      "0.00018436154625900425\n",
      "0.00016884302144397627\n",
      "0.00015463388242776817\n",
      "0.00014162317740664667\n",
      "0.00012970942675195603\n",
      "0.00011879980390819842\n",
      "0.00010880938863749856\n",
      "9.966048601721682e-05\n"
     ]
    }
   ],
   "source": [
    "lr = 0.1\n",
    "err = 1\n",
    "while err > 1e-4:\n",
    "    grad = gradient(params, expectation_energy, co)\n",
    "    params = params - lr*grad\n",
    "    err = abs(sum(params - last_params))\n",
    "    last_params = np.array(params)\n",
    "    print(err) "
   ]
  },
  {
   "cell_type": "code",
   "execution_count": 79,
   "metadata": {},
   "outputs": [
    {
     "name": "stdout",
     "output_type": "stream",
     "text": [
      "-1.1372854293189993\n"
     ]
    }
   ],
   "source": [
    "energy = expectation_energy(params, co)\n",
    "energy = energy\n",
    "print(energy)"
   ]
  },
  {
   "cell_type": "code",
   "execution_count": 109,
   "metadata": {},
   "outputs": [
    {
     "name": "stderr",
     "output_type": "stream",
     "text": [
      "/tmp/ipykernel_4864/3721741453.py:14: OptimizeWarning: Unknown solver options: xtol\n",
      "  minimum = minimize(expectation_energy, initial_values, method='SLSQP',options={'xtol': 1e-5, 'ftol': 1e-5}, args=(co))\n",
      "/home/cleoner/anaconda3/lib/python3.8/site-packages/numpy/core/_asarray.py:85: ComplexWarning: Casting complex values to real discards the imaginary part\n",
      "  return array(a, dtype, copy=False, order=order)\n",
      "No handles with labels found to put in legend.\n"
     ]
    },
    {
     "data": {
      "image/png": "[encoded data removed]",
      "text/plain": [
       "<Figure size 720x576 with 1 Axes>"
      ]
     },
     "metadata": {
      "needs_background": "light"
     },
     "output_type": "display_data"
    }
   ],
   "source": [
    "n=30\n",
    "distances = np.linspace(0.3, 2.5, n)\n",
    "exact_energy = []\n",
    "energies = []\n",
    "\n",
    "for i, distance in enumerate(distances):\n",
    "    \n",
    "    mol_gates, mol_co = get_molecule(distance)\n",
    "    co = [c.real for c in mol_co]\n",
    "    H = sum([gate*co for gate,co in zip(get_H_k(mol_gates)[0], mol_co)])\n",
    "    exact_energy.append(min(scipy.linalg.eig(H.get())[0]))\n",
    "    \n",
    "    initial_values = np.random.uniform(-np.pi, np.pi, 2)\n",
    "    minimum = minimize(expectation_energy, initial_values, method='SLSQP',options={'xtol': 1e-5, 'ftol': 1e-5}, args=(co))\n",
    "    energies.append(minimum.fun)\n",
    "    \n",
    "fig, ax = plt.subplots(1, 1, figsize=(10,8))\n",
    "ax.plot(distances, exact_energy, color='red')\n",
    "ax.plot(distances, energies, color='blue')\n",
    "ax.set_xlabel('Distância $\\AA$', fontsize=13)\n",
    "ax.set_ylabel('Energia', fontsize=12)\n",
    "ax.set_title('Curva de dissociação do $H_2$', fontsize=12)\n",
    "ax.legend()\n",
    "plt.show()"
   ]
  },
  {
   "cell_type": "code",
   "execution_count": null,
   "metadata": {},
   "outputs": [],
   "source": []
  }
 ],
 "metadata": {
  "kernelspec": {
   "display_name": "Python 3 (ipykernel)",
   "language": "python",
   "name": "python3"
  },
  "language_info": {
   "codemirror_mode": {
    "name": "ipython",
    "version": 3
   },
   "file_extension": ".py",
   "mimetype": "text/x-python",
   "name": "python",
   "nbconvert_exporter": "python",
   "pygments_lexer": "ipython3",
   "version": "3.8.5"
  }
 },
 "nbformat": 4,
 "nbformat_minor": 2
}
