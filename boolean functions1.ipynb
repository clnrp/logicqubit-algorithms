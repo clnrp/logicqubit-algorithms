{
 "cells": [
  {
   "cell_type": "code",
   "execution_count": 1,
   "metadata": {
    "scrolled": true
   },
   "outputs": [
    {
     "name": "stdout",
     "output_type": "stream",
     "text": [
      "logicqubit-gpu version 1.5.3\n"
     ]
    }
   ],
   "source": [
    "from logicqubit.logic import *"
   ]
  },
  {
   "cell_type": "code",
   "execution_count": 2,
   "metadata": {},
   "outputs": [
    {
     "data": {
      "image/png": "[encoded data removed]",
      "text/plain": [
       "<Figure size 432x288 with 1 Axes>"
      ]
     },
     "metadata": {
      "needs_background": "light"
     },
     "output_type": "display_data"
    },
    {
     "name": "stdout",
     "output_type": "stream",
     "text": [
      "[0.0, 0.0, 0.0, 0.0, 0.0, 0.0, 0.0, 0.0, 0.0, 0.0, 0.4999999999999999, 0.0, 0.4999999999999999, 0.0, 0.0, 0.0]\n"
     ]
    }
   ],
   "source": [
    "# H|x>|0000>\n",
    "# f0=0   U0=[[I,0],[0,I]], nada, não depende do valor de x\n",
    "# f1=x   U1=[[I,0],[0,X]], CNOT(x,f1)\n",
    "# f2=x+1 U2=[[X,0],[0,I]], CNOT(x,f2), X(f2)\n",
    "# f3=1   U3=[[X,0],[0,X]], X(f3), não depende do valor de x\n",
    "\n",
    "logicQuBit  = LogicQuBit(8)\n",
    "\n",
    "x = Qubit()\n",
    "f = QubitRegister(4)\n",
    "\n",
    "x.H()\n",
    "f[2].CNOT(x)\n",
    "f[3].CNOT(x)\n",
    "f[3].X()\n",
    "f[4].X()\n",
    "\n",
    "res = logicQuBit.Measure(f.getQubits())\n",
    "\n",
    "logicQuBit.Plot()\n",
    "print(res)"
   ]
  },
  {
   "cell_type": "code",
   "execution_count": 4,
   "metadata": {},
   "outputs": [
    {
     "data": {
      "image/png": "[encoded data removed]",
      "text/plain": [
       "<Figure size 432x288 with 1 Axes>"
      ]
     },
     "metadata": {
      "needs_background": "light"
     },
     "output_type": "display_data"
    },
    {
     "name": "stdout",
     "output_type": "stream",
     "text": [
      "[0.2499999999999999, 0.0, 0.2499999999999999, 0.4999999999999998]\n"
     ]
    }
   ],
   "source": [
    "# H|x1,x2>|0000>\n",
    "# x1 x2 y1 y2\n",
    "# 0  0  1  1\n",
    "# 0  1  0  0\n",
    "# 1  0  1  1\n",
    "# 1  1  1  0\n",
    "\n",
    "# 1 x 00, 1 x 10, 2 x 11\n",
    "\n",
    "# e00 00 - y1=1, x1x2+x1+x2+1 = x1x2\n",
    "# e01 01 - y1=1, x1x2+x2 = x1!x2\n",
    "\n",
    "logicQuBit  = LogicQuBit(8, first_left=True)\n",
    "\n",
    "x1 = Qubit()\n",
    "x2 = Qubit()\n",
    "\n",
    "y1 = Qubit()\n",
    "y2 = Qubit()\n",
    "y3 = Qubit()\n",
    "\n",
    "x1.H()\n",
    "x2.H()\n",
    "\n",
    "# pol = x1^0x2^0 + x1^0x2^1 + x1^1x2^0 + x1^1x2^1, onde x1^0x2^0 = 1\n",
    "\n",
    "# p/ y2\n",
    "#x00 => e00, p00 = (1,1,1,1)\n",
    "y1.CCX(x1,x2)\n",
    "y1.CX(x1)\n",
    "y1.CX(x2)\n",
    "y1.X()\n",
    "\n",
    "#x01 => e01, p01 = (0,1,0,1)\n",
    "#y1.CCX(x1,x2)\n",
    "#y1.CX(x2)\n",
    "\n",
    "#x10 => e10, p10 = (0,0,1,1)\n",
    "y1.CCX(x1,x2)\n",
    "y1.CX(x1)\n",
    "\n",
    "#x11 => e11, p11 = (0,0,0,1)\n",
    "y1.CCX(x1,x2)\n",
    "\n",
    "# p/ y1\n",
    "#e00, p00 = (1,1,1,1)\n",
    "y2.CCX(x1,x2)\n",
    "y2.CX(x1)\n",
    "y2.CX(x2)\n",
    "y2.X()\n",
    "\n",
    "#e10, p10 = (0,0,1,1)\n",
    "y2.CCX(x1,x2)\n",
    "y2.CX(x1)\n",
    "\n",
    "res = logicQuBit.Measure([y1, y2], True)\n",
    "\n",
    "logicQuBit.Plot()\n",
    "print(res)"
   ]
  },
  {
   "cell_type": "code",
   "execution_count": 5,
   "metadata": {},
   "outputs": [
    {
     "data": {
      "image/png": "[encoded data removed]",
      "text/plain": [
       "<Figure size 432x288 with 1 Axes>"
      ]
     },
     "metadata": {
      "needs_background": "light"
     },
     "output_type": "display_data"
    }
   ],
   "source": [
    "# H|x1,x2>|0000>\n",
    "# x1 x2 y1 y2\n",
    "# 0  0  1  1\n",
    "# 0  1  0  0\n",
    "# 1  0  1  1\n",
    "# 1  1  1  0\n",
    "\n",
    "# 1 x 00, 1 x 10, 2 x 11\n",
    "\n",
    "# e00 00 - y1=1, x1x2+x1+x2+1 = x1x2\n",
    "# e01 01 - y1=1, x1x2+x2 = x1!x2\n",
    "\n",
    "logicQuBit  = LogicQuBit(4, first_left=False)\n",
    "\n",
    "x1 = Qubit()\n",
    "x2 = Qubit()\n",
    "\n",
    "y1 = Qubit()\n",
    "y2 = Qubit()\n",
    "\n",
    "x1.H()\n",
    "x2.H()\n",
    "\n",
    "# pol = x1^0x2^0 + x1^0x2^1 + x1^1x2^0 + x1^1x2^1, onde x1^0x2^0 = 1\n",
    "\n",
    "# p/ y1\n",
    "#x00 => e00, p00 = (1,1,1,1)\n",
    "#y1.CCX(x1,x2)\n",
    "#y1.CX(x1)\n",
    "#y1.CX(x2)\n",
    "#y1.X()\n",
    "\n",
    "#x01 => e01, p01 = (0,1,0,1)\n",
    "#y1.CCX(x1,x2)\n",
    "#y1.CX(x2)\n",
    "\n",
    "#x10 => e10, p10 = (0,0,1,1)\n",
    "#y1.CCX(x1,x2)\n",
    "#y1.CX(x1)\n",
    "\n",
    "#---------------------------\n",
    "# p00+p10 = (1,1,0,0)\n",
    "#y1.CX(x2)\n",
    "#y1.X()\n",
    "\n",
    "#x11 => e11, p11 = (0,0,0,1)\n",
    "#y1.CCX(x1,x2)\n",
    "\n",
    "#p00+p10+p11 = (1,1,0,1)\n",
    "y1.CX(x2)\n",
    "y1.X()\n",
    "y1.CCX(x1,x2)\n",
    "\n",
    "# p/ y2\n",
    "#e00\n",
    "#y2.CCX(x1,x2)\n",
    "#y2.CX(x1)\n",
    "#y2.CX(x2)\n",
    "#y2.X()\n",
    "\n",
    "#e10\n",
    "#y2.CCX(x1,x2)\n",
    "#y2.CX(x1)\n",
    "\n",
    "#p00+p10 = (1,1,0,0)\n",
    "y2.CX(x2)\n",
    "y2.X()\n",
    "\n",
    "res = logicQuBit.Measure([y1,y2], True)\n",
    "logicQuBit.Plot()"
   ]
  },
  {
   "cell_type": "code",
   "execution_count": null,
   "metadata": {},
   "outputs": [],
   "source": []
  }
 ],
 "metadata": {
  "kernelspec": {
   "display_name": "Python 3",
   "language": "python",
   "name": "python3"
  },
  "language_info": {
   "codemirror_mode": {
    "name": "ipython",
    "version": 3
   },
   "file_extension": ".py",
   "mimetype": "text/x-python",
   "name": "python",
   "nbconvert_exporter": "python",
   "pygments_lexer": "ipython3",
   "version": "3.7.4"
  }
 },
 "nbformat": 4,
 "nbformat_minor": 2
}
