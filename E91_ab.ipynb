{
 "cells": [
  {
   "cell_type": "code",
   "execution_count": 2,
   "metadata": {
    "scrolled": true
   },
   "outputs": [
    {
     "name": "stdout",
     "output_type": "stream",
     "text": [
      "Cuda is not available!\n",
      "logicqubit version 1.5.6\n"
     ]
    }
   ],
   "source": [
    "from logicqubit.logic import *\n",
    "from math import *\n",
    "import random\n",
    "import numpy as np\n",
    "import matplotlib.pyplot as plt"
   ]
  },
  {
   "cell_type": "code",
   "execution_count": 3,
   "metadata": {},
   "outputs": [
    {
     "name": "stdout",
     "output_type": "stream",
     "text": [
      "{'00': 0j, '01': (0.7071067811865475+0j), '10': (-0.7071067811865475+0j), '11': 0j}\n",
      "{'ab': array([-0.70710678+0.j]), \"a'b\": array([-0.70710678+0.j]), \"ab'\": array([-0.70710678+0.j]), \"a'b'\": array([0.70710678+0.j])}\n",
      "Inequality: 2.8284271247461894\n"
     ]
    }
   ],
   "source": [
    "logicQuBit = LogicQuBit(2)\n",
    "\n",
    "B = Qubit()\n",
    "A = Qubit()\n",
    "\n",
    "# generate entangled state |01>-|10>\n",
    "A.H()\n",
    "B.CNOT(A)\n",
    "B.X()\n",
    "B.Z()\n",
    "\n",
    "psi = logicQuBit.getPsi()\n",
    "\n",
    "gates = Gates()\n",
    "M = {}\n",
    "M[\"ab\"] = gates.Z().kron((gates.Z()+gates.X())/sqrt(2))\n",
    "M[\"a'b\"] = gates.X().kron((gates.Z()+gates.X())/sqrt(2))\n",
    "M[\"ab'\"] = gates.Z().kron((gates.Z()-gates.X())/sqrt(2))\n",
    "M[\"a'b'\"] = gates.X().kron((gates.Z()-gates.X())/sqrt(2))\n",
    "ZZ = gates.X().kron(gates.Z())\n",
    "\n",
    "values = {}\n",
    "values[\"ab\"] = (psi.adjoint()*M[\"ab\"]*psi).get()[0]\n",
    "values[\"a'b\"] = (psi.adjoint()*M[\"a'b\"]*psi).get()[0]\n",
    "values[\"ab'\"] = (psi.adjoint()*M[\"ab'\"]*psi).get()[0]\n",
    "values[\"a'b'\"] = (psi.adjoint()*M[\"a'b'\"]*psi).get()[0]\n",
    "\n",
    "print(logicQuBit.getDictPsi())\n",
    "print(values)\n",
    "\n",
    "inequality = values[\"ab\"] + values[\"a'b\"] + values[\"ab'\"] - values[\"a'b'\"]\n",
    "inequality = sqrt(inequality.real * inequality.real)\n",
    "print(\"Inequality: \"+str(inequality))"
   ]
  },
  {
   "cell_type": "code",
   "execution_count": 89,
   "metadata": {},
   "outputs": [
    {
     "data": {
      "text/plain": [
       "array([[ 0.70710678, -0.70710678,  0.        , -0.        ],\n",
       "       [-0.70710678, -0.70710678, -0.        , -0.        ],\n",
       "       [ 0.        , -0.        , -0.70710678,  0.70710678],\n",
       "       [-0.        , -0.        ,  0.70710678,  0.70710678]])"
      ]
     },
     "execution_count": 89,
     "metadata": {},
     "output_type": "execute_result"
    }
   ],
   "source": [
    "M[\"ab'\"].get()"
   ]
  },
  {
   "cell_type": "code",
   "execution_count": 136,
   "metadata": {},
   "outputs": [],
   "source": [
    "#psi.get()"
   ]
  },
  {
   "cell_type": "code",
   "execution_count": 130,
   "metadata": {},
   "outputs": [
    {
     "name": "stdout",
     "output_type": "stream",
     "text": [
      "[[ 7.07106781e-01+0.00000000e+00j -7.07106781e-01+8.65956056e-17j\n",
      "   0.00000000e+00+0.00000000e+00j -0.00000000e+00+0.00000000e+00j]\n",
      " [-4.32978028e-17-7.07106781e-01j -1.29893408e-16-7.07106781e-01j\n",
      "   0.00000000e+00-0.00000000e+00j  0.00000000e+00-0.00000000e+00j]\n",
      " [ 0.00000000e+00+0.00000000e+00j -0.00000000e+00+0.00000000e+00j\n",
      "  -7.07106781e-01+0.00000000e+00j  7.07106781e-01-8.65956056e-17j]\n",
      " [ 0.00000000e+00-0.00000000e+00j  0.00000000e+00-0.00000000e+00j\n",
      "   4.32978028e-17+7.07106781e-01j  1.29893408e-16+7.07106781e-01j]]\n"
     ]
    }
   ],
   "source": [
    "gates = Gates()\n",
    "#rint(gates.Z(1).kron(gates.H(1)).get()) # ab\n",
    "#print(gates.X(1).kron(gates.H(1)).get()) # a'b\n",
    "print(gates.Z(1).kron(gates.U3(1,-pi/2,pi/2,pi)).get()) # ab'\n",
    "#print(gates.X(1).kron(gates.U3(1,-pi/2,pi/2,pi)).get()) # a'b'"
   ]
  },
  {
   "cell_type": "code",
   "execution_count": 26,
   "metadata": {},
   "outputs": [
    {
     "name": "stdout",
     "output_type": "stream",
     "text": [
      "{'0': (0.9238795325112866+0j), '1': (0.3826834323650897+0j)}\n",
      "[[ 0.70710678 -0.70710678]\n",
      " [-0.70710678 -0.70710678]]\n",
      "[(0.8535533905932735+0j), (0.1464466094067262+0j)] [[0.70710678]]\n"
     ]
    }
   ],
   "source": [
    "logicQuBit = LogicQuBit(1)\n",
    "x = Qubit()\n",
    "#x.X()\n",
    "\n",
    "psi = x.getState().get()\n",
    "x.H()\n",
    "x.RY(pi/4)\n",
    "print(x.getDictPsi())\n",
    "\n",
    "p = logicQuBit.Measure([x])\n",
    "\n",
    "Mt = (gates.Z()-gates.X()).get()/sqrt(2)\n",
    "v = np.dot(np.dot(psi.transpose().conjugate(), Mt), psi)\n",
    "\n",
    "print(Mt)\n",
    "print(p,v)"
   ]
  },
  {
   "cell_type": "code",
   "execution_count": 137,
   "metadata": {},
   "outputs": [
    {
     "name": "stdout",
     "output_type": "stream",
     "text": [
      "{'ab': 0.11475409836065574, \"a'b\": 0.014705882352941176, \"ab'\": 0.08620689655172414, \"a'b'\": -0.015873015873015872}\n",
      "0.23153989313833692\n"
     ]
    }
   ],
   "source": [
    "# |<C>| = |<a.b> + <a'.b> + <a.b'> - <a'.b'>| <= 2\n",
    "def bell_inequality(A, B):\n",
    "    direction = {\"ab\":0, \"a'b\":0, \"ab'\":0, \"a'b'\":0}\n",
    "    count = {\"ab\":0, \"a'b\":0, \"ab'\":0, \"a'b'\":0}\n",
    "    \n",
    "    for a,b in zip(A,B):\n",
    "        if a[0]==\"a\" and b[0]==\"b\":\n",
    "            direction[\"ab\"] += a[1]*b[1]\n",
    "            count[\"ab\"] += 1\n",
    "        elif a[0]==\"a'\" and b[0]==\"b\":\n",
    "            direction[\"a'b\"] += a[1]*b[1]\n",
    "            count[\"a'b\"] += 1\n",
    "        elif a[0]==\"a\" and b[0]==\"b'\":\n",
    "            direction[\"ab'\"] += a[1]*b[1]\n",
    "            count[\"ab'\"] += 1\n",
    "        elif a[0]==\"a'\" and b[0]==\"b'\":\n",
    "            direction[\"a'b'\"] += a[1]*b[1]\n",
    "            count[\"a'b'\"] += 1\n",
    "\n",
    "    direction[\"ab\"] /= count[\"ab\"]\n",
    "    direction[\"a'b\"] /= count[\"a'b\"]\n",
    "    direction[\"ab'\"] /= count[\"ab'\"]\n",
    "    direction[\"a'b'\"] /= count[\"a'b'\"]\n",
    "    inequality = direction[\"ab\"] + direction[\"a'b\"] + direction[\"ab'\"] - direction[\"a'b'\"]\n",
    "    inequality = sqrt(inequality * inequality)\n",
    "    print(direction)\n",
    "    return inequality\n",
    "\n",
    "def measurements(eva=False, attempts=10):\n",
    "    to_minus_one = lambda x: -1 if x == 0 else x\n",
    "    measure_A = []\n",
    "    measure_B = []\n",
    "  \n",
    "    for i in range(attempts):\n",
    "        logicQuBit = LogicQuBit(2)\n",
    "\n",
    "        B = Qubit()\n",
    "        A = Qubit()\n",
    "\n",
    "        # generate entangled state |01>-|10>\n",
    "        A.H()\n",
    "        B.CNOT(A)\n",
    "        B.X()\n",
    "        B.Z()\n",
    "\n",
    "        # Alice choose the measurement\n",
    "        measure_type_A = random.choice([\"a\", \"a'\"])\n",
    "        #if \"a\" in measure_type_A:\n",
    "            #A.Z()\n",
    "        if \"a'\" in measure_type_A:\n",
    "            A.X()\n",
    "\n",
    "        # Alice performs the measurement\n",
    "        m_A = logicQuBit.Measure_One(A)[0]\n",
    "        m_A = to_minus_one(m_A)\n",
    "\n",
    "        # Eva performs the measurement\n",
    "        if eva:\n",
    "            measure_type_E = random.choice([\"b\", \"b'\"])\n",
    "            if \"b\" in measure_type_E:\n",
    "                B.H()\n",
    "            elif \"b'\" in measure_type_E:\n",
    "                B.U3(-pi/2,pi/2,pi)\n",
    "            m_E = logicQuBit.Measure_One(B)[0]\n",
    "\n",
    "        # Bob choose the measurement\n",
    "        measure_type_B = random.choice([\"b\", \"b'\"])\n",
    "        if \"b\" in measure_type_B:\n",
    "            B.H()\n",
    "        elif \"b'\" in measure_type_B:\n",
    "            B.U3(-pi/2,pi/2,pi)\n",
    "\n",
    "        # Bob performs the measurement\n",
    "        m_B = logicQuBit.Measure_One(B)[0]\n",
    "        m_B = to_minus_one(m_B)\n",
    "\n",
    "        measure_A.append([measure_type_A, m_A])\n",
    "        measure_B.append([measure_type_B, m_B])\n",
    "\n",
    "    return measure_A, measure_B\n",
    "\n",
    "measure_A, measure_B = measurements(eva=False, attempts=500)\n",
    "bell = bell_inequality(measure_A, measure_B)\n",
    "print(bell.real)"
   ]
  },
  {
   "cell_type": "code",
   "execution_count": 138,
   "metadata": {},
   "outputs": [
    {
     "name": "stdout",
     "output_type": "stream",
     "text": [
      "[[\"a'\", -1], ['a', 1], ['a', -1], ['a', 1], ['a', 1], ['a', -1], [\"a'\", 1], [\"a'\", 1], [\"a'\", -1], [\"a'\", 1]]\n",
      "[['b', -1], [\"b'\", 1], [\"b'\", -1], [\"b'\", -1], ['b', 1], [\"b'\", 1], [\"b'\", 1], ['b', 1], ['b', -1], ['b', -1]]\n"
     ]
    }
   ],
   "source": [
    "print(measure_A[:10])\n",
    "print(measure_B[:10])"
   ]
  },
  {
   "cell_type": "code",
   "execution_count": 139,
   "metadata": {},
   "outputs": [
    {
     "name": "stdout",
     "output_type": "stream",
     "text": [
      "{'ab': -0.125, \"a'b\": 0.0, \"ab'\": 0.0, \"a'b'\": -0.07692307692307693}\n",
      "0.04807692307692307\n"
     ]
    }
   ],
   "source": [
    "# without eva\n",
    "measure_A, measure_B = measurements(eva=False, attempts=200)\n",
    "bell = bell_inequality(measure_A, measure_B)\n",
    "print(bell)"
   ]
  },
  {
   "cell_type": "code",
   "execution_count": 140,
   "metadata": {},
   "outputs": [
    {
     "name": "stdout",
     "output_type": "stream",
     "text": [
      "{'ab': -0.043478260869565216, \"a'b\": 0.2653061224489796, \"ab'\": 0.09803921568627451, \"a'b'\": -0.07407407407407407}\n",
      "0.393941151339763\n"
     ]
    }
   ],
   "source": [
    "# without eva\n",
    "measure_A, measure_B = measurements(eva=True, attempts=200)\n",
    "bell = bell_inequality(measure_A, measure_B)\n",
    "print(bell)"
   ]
  },
  {
   "cell_type": "code",
   "execution_count": null,
   "metadata": {},
   "outputs": [],
   "source": []
  }
 ],
 "metadata": {
  "kernelspec": {
   "display_name": "Python 3",
   "language": "python",
   "name": "python3"
  },
  "language_info": {
   "codemirror_mode": {
    "name": "ipython",
    "version": 3
   },
   "file_extension": ".py",
   "mimetype": "text/x-python",
   "name": "python",
   "nbconvert_exporter": "python",
   "pygments_lexer": "ipython3",
   "version": "3.7.4"
  }
 },
 "nbformat": 4,
 "nbformat_minor": 2
}
