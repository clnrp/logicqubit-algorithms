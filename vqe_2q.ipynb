{
 "cells": [
  {
   "cell_type": "code",
   "execution_count": 9,
   "metadata": {
    "scrolled": true
   },
   "outputs": [],
   "source": [
    "from logicqubit.logic import *\n",
    "from cmath import *\n",
    "import numpy as np\n",
    "import sympy as sp\n",
    "import scipy\n",
    "from scipy.optimize import *\n",
    "import matplotlib.pyplot as plt"
   ]
  },
  {
   "cell_type": "code",
   "execution_count": 10,
   "metadata": {},
   "outputs": [],
   "source": [
    "gates = Gates(1)\n",
    "\n",
    "ID = gates.ID()\n",
    "X = gates.X()\n",
    "Y = gates.Y()\n",
    "Z = gates.Z()"
   ]
  },
  {
   "cell_type": "code",
   "execution_count": 60,
   "metadata": {},
   "outputs": [
    {
     "data": {
      "text/plain": [
       "array([[ 1,  0,  0,  0],\n",
       "       [ 0, -1,  0,  0],\n",
       "       [ 0,  0, -1,  0],\n",
       "       [ 0,  0,  0,  1]])"
      ]
     },
     "execution_count": 60,
     "metadata": {},
     "output_type": "execute_result"
    }
   ],
   "source": [
    "II = ID.kron(ID)\n",
    "XX = X.kron(X)\n",
    "YY = Y.kron(Y)\n",
    "ZZ = Z.kron(Z)\n",
    "IZ = ID.kron(Z)\n",
    "ZI = Z.kron(ID)\n",
    "sig_yy = [YY.get()[i,i] for i in range(len(YY.get()))]\n",
    "sig_iz = [IZ.get()[i,i] for i in range(len(IZ.get()))]\n",
    "sig_zi = [ZI.get()[i,i] for i in range(len(ZI.get()))]\n",
    "sig_iz\n",
    "ZZ.get()"
   ]
  },
  {
   "cell_type": "code",
   "execution_count": 61,
   "metadata": {},
   "outputs": [
    {
     "data": {
      "text/plain": [
       "(-4.123105625617661+0j)"
      ]
     },
     "execution_count": 61,
     "metadata": {},
     "output_type": "execute_result"
    }
   ],
   "source": [
    "H = II*2 + YY + IZ*3 - ZI + ZZ*2\n",
    "\n",
    "min(scipy.linalg.eig(H.get())[0])"
   ]
  },
  {
   "cell_type": "code",
   "execution_count": 62,
   "metadata": {},
   "outputs": [],
   "source": [
    "def ansatz(reg, params):\n",
    "    n_qubits = len(reg)\n",
    "    depth = n_qubits\n",
    "    for i in range(depth):\n",
    "        for j in range(n_qubits):\n",
    "            if(j < n_qubits-1):\n",
    "                reg[j+1].CNOT(reg[j])\n",
    "            reg[i].RY(params[j])\n",
    "            \n",
    "def ansatz_2q(q1, q2, params):\n",
    "    q2.CNOT(q1)\n",
    "    q1.RY(params[0])\n",
    "    q2.RY(params[1])\n",
    "    q1.CNOT(q2)\n",
    "    q1.RY(params[2])\n",
    "    q2.RY(params[3])\n",
    "    q2.CNOT(q1)\n",
    "    q1.RY(params[4])\n",
    "    q2.RY(params[5])"
   ]
  },
  {
   "cell_type": "code",
   "execution_count": 59,
   "metadata": {},
   "outputs": [
    {
     "name": "stdout",
     "output_type": "stream",
     "text": [
      " final_simplex: (array([[-1.08588037, -1.20307451,  1.5931768 ,  0.98904206, -0.43267192,\n",
      "         0.89020761],\n",
      "       [-1.08588037, -1.20307451,  1.5931768 ,  0.98904206, -0.43267192,\n",
      "         0.89020761],\n",
      "       [-1.08588037, -1.20307451,  1.5931768 ,  0.98904206, -0.43267192,\n",
      "         0.89020761],\n",
      "       [-1.08588037, -1.20307451,  1.5931768 ,  0.98904206, -0.43267192,\n",
      "         0.89020761],\n",
      "       [-1.08588037, -1.20307451,  1.5931768 ,  0.98904206, -0.43267192,\n",
      "         0.89020761],\n",
      "       [-1.08588037, -1.20307451,  1.5931768 ,  0.98904206, -0.43267192,\n",
      "         0.89020761],\n",
      "       [-1.08588037, -1.20307451,  1.5931768 ,  0.98904206, -0.43267192,\n",
      "         0.89020761]]), array([-4.12310563, -4.12310563, -4.12310563, -4.12310563, -4.12310563,\n",
      "       -4.12310563, -4.12310563]))\n",
      "           fun: -4.123105625617663\n",
      "       message: 'Optimization terminated successfully.'\n",
      "          nfev: 899\n",
      "           nit: 518\n",
      "        status: 0\n",
      "       success: True\n",
      "             x: array([-1.08588037, -1.20307451,  1.5931768 ,  0.98904206, -0.43267192,\n",
      "        0.89020761])\n"
     ]
    }
   ],
   "source": [
    "def expectation_2q(params):\n",
    "    logicQuBit  = LogicQuBit(2)\n",
    "    q1 = Qubit()\n",
    "    q2 = Qubit()\n",
    "\n",
    "    ansatz_2q(q1,q2,params)\n",
    "    psi = logicQuBit.getPsi()\n",
    "    \n",
    "    return (psi.adjoint()*H*psi).get()[0][0]\n",
    "\n",
    "minimum = minimize(expectation_2q, [0,0,0,0,0,0], method='Nelder-Mead', options={'xtol': 1e-10, 'ftol': 1e-10})\n",
    "print(minimum)"
   ]
  },
  {
   "cell_type": "code",
   "execution_count": 73,
   "metadata": {},
   "outputs": [],
   "source": [
    "def expectation_value(measurements, base = np.array([1,-1,-1,1])):\n",
    "    probabilities = np.array(measurements)\n",
    "    expectation = np.sum(base * probabilities)\n",
    "    return expectation\n",
    "\n",
    "def sigma_xx(params):\n",
    "    logicQuBit  = LogicQuBit(2, first_left = False)\n",
    "    q1 = Qubit()\n",
    "    q2 = Qubit()\n",
    "    \n",
    "    ansatz_2q(q1,q2,params)\n",
    "    \n",
    "    # medidas em XX\n",
    "    q1.RY(-pi/2)\n",
    "    q2.RY(-pi/2)\n",
    "    \n",
    "    result = logicQuBit.Measure([q1,q2])\n",
    "    result = expectation_value(result)\n",
    "    return result\n",
    "\n",
    "def sigma_yy(params):\n",
    "    logicQuBit  = LogicQuBit(2, first_left = False)\n",
    "    q1 = Qubit()\n",
    "    q2 = Qubit()\n",
    "    \n",
    "    ansatz_2q(q1,q2,params)\n",
    "    \n",
    "    # medidas em YY\n",
    "    q1.RX(pi/2)\n",
    "    q2.RX(pi/2)\n",
    "    \n",
    "    result = logicQuBit.Measure([q1,q2])\n",
    "    result = expectation_value(result)\n",
    "    return result\n",
    "\n",
    "def sigma_zz(params):\n",
    "    logicQuBit  = LogicQuBit(2, first_left = False)\n",
    "    q1 = Qubit()\n",
    "    q2 = Qubit()\n",
    "    \n",
    "    ansatz_2q(q1,q2,params)\n",
    "          \n",
    "    result = logicQuBit.Measure([q1,q2])\n",
    "    zz = expectation_value(result)\n",
    "    iz = expectation_value(result, sig_iz) # [zz, iz] = 0\n",
    "    zi = expectation_value(result, sig_zi) # [zz, zi] = 0\n",
    "    return zz, iz, zi\n",
    "\n",
    "def expectation_energy(params):\n",
    "    #xx =  sigma_xx(params)\n",
    "    yy =  sigma_yy(params)\n",
    "    zz, iz, zi =  sigma_zz(params)\n",
    "\n",
    "    result = 2 + yy + 3*iz - zi + 2*zz\n",
    "    return result"
   ]
  },
  {
   "cell_type": "code",
   "execution_count": 74,
   "metadata": {},
   "outputs": [
    {
     "name": "stdout",
     "output_type": "stream",
     "text": [
      " final_simplex: (array([[ 1.71336166, -3.14720546, -0.97839616,  2.16971816, -2.76042898,\n",
      "         1.02473882],\n",
      "       [ 1.71336166, -3.14720546, -0.97839616,  2.16971816, -2.76042898,\n",
      "         1.02473882],\n",
      "       [ 1.71336166, -3.14720546, -0.97839616,  2.16971816, -2.76042898,\n",
      "         1.02473882],\n",
      "       [ 1.71336166, -3.14720546, -0.97839616,  2.16971816, -2.76042898,\n",
      "         1.02473882],\n",
      "       [ 1.71336166, -3.14720546, -0.97839616,  2.16971816, -2.76042898,\n",
      "         1.02473882],\n",
      "       [ 1.71336166, -3.14720546, -0.97839616,  2.16971816, -2.76042898,\n",
      "         1.02473882],\n",
      "       [ 1.71336166, -3.14720546, -0.97839616,  2.16971816, -2.76042898,\n",
      "         1.02473882]]), array([-4.12310563, -4.12310563, -4.12310563, -4.12310563, -4.12310563,\n",
      "       -4.12310563, -4.12310563]))\n",
      "           fun: -4.123105625617663\n",
      "       message: 'Optimization terminated successfully.'\n",
      "          nfev: 991\n",
      "           nit: 574\n",
      "        status: 0\n",
      "       success: True\n",
      "             x: array([ 1.71336166, -3.14720546, -0.97839616,  2.16971816, -2.76042898,\n",
      "        1.02473882])\n"
     ]
    }
   ],
   "source": [
    "minimum = minimize(expectation_energy, [0,0,0,0,0,0], method='Nelder-Mead', options={'xtol': 1e-10, 'ftol': 1e-10})\n",
    "print(minimum)"
   ]
  },
  {
   "cell_type": "code",
   "execution_count": 75,
   "metadata": {},
   "outputs": [],
   "source": [
    "def gradient(params, evaluate):\n",
    "    n_params = params.shape[0]\n",
    "    shift = pi/2\n",
    "    gradients = np.zeros(n_params)\n",
    "    \n",
    "    for i in range(n_params):\n",
    "        #parameter shift rule\n",
    "        shift_vect = np.array([shift if j==i else 0 for j in range(n_params)])\n",
    "        shift_right = params + shift_vect\n",
    "        shift_left = params - shift_vect\n",
    "        \n",
    "        expectation_right = evaluate(shift_right)\n",
    "        expectation_left = evaluate(shift_left)\n",
    "\n",
    "        gradients[i] = expectation_right - expectation_left\n",
    "\n",
    "    return gradients"
   ]
  },
  {
   "cell_type": "code",
   "execution_count": 78,
   "metadata": {},
   "outputs": [],
   "source": [
    "params = np.random.uniform(-np.pi, np.pi, 6)\n",
    "last_params = np.zeros(6)"
   ]
  },
  {
   "cell_type": "code",
   "execution_count": 79,
   "metadata": {},
   "outputs": [
    {
     "name": "stderr",
     "output_type": "stream",
     "text": [
      "/tmp/ipykernel_14932/1088512639.py:15: ComplexWarning: Casting complex values to real discards the imaginary part\n",
      "  gradients[i] = expectation_right - expectation_left\n"
     ]
    },
    {
     "name": "stdout",
     "output_type": "stream",
     "text": [
      "1.7006599878076414\n",
      "1.2545549614764386\n",
      "1.1497605201879366\n",
      "0.22736544200075426\n",
      "0.0978543078026497\n",
      "0.017160441604664012\n",
      "0.18828757124844753\n",
      "0.2610390239473779\n",
      "0.5487657730870437\n",
      "0.8427397298047863\n",
      "1.1747962716587876\n",
      "1.175037952625668\n",
      "1.2701384756107241\n",
      "0.9374663154575005\n",
      "1.0295511077500044\n",
      "0.6964526889194024\n",
      "0.6839972299070306\n",
      "0.46189779463680064\n",
      "0.39424493769346963\n",
      "0.2737567403818101\n",
      "0.21726307543124623\n",
      "0.15446090748048297\n",
      "0.118717492097142\n",
      "0.08565273277681701\n",
      "0.06464332044561588\n",
      "0.046960241224349886\n",
      "0.03499562474990564\n",
      "0.025460538146252987\n",
      "0.018780133747339722\n",
      "0.013631896309170555\n",
      "0.009958528103665376\n",
      "0.007189234555726842\n",
      "0.005197279928212284\n",
      "0.003719269828432792\n",
      "0.0026546739228606175\n",
      "0.0018751334865257374\n",
      "0.0013156704131106478\n",
      "0.0009112873837680557\n"
     ]
    }
   ],
   "source": [
    "lr = 0.1\n",
    "err = 1\n",
    "while err > 1e-3:\n",
    "    grad = gradient(params, expectation_energy)\n",
    "    params = params - lr*grad\n",
    "    err = abs(sum(params - last_params))\n",
    "    last_params = np.array(params)\n",
    "    print(err) "
   ]
  },
  {
   "cell_type": "code",
   "execution_count": 80,
   "metadata": {},
   "outputs": [
    {
     "data": {
      "text/plain": [
       "(-4.123095913489123+0j)"
      ]
     },
     "execution_count": 80,
     "metadata": {},
     "output_type": "execute_result"
    }
   ],
   "source": [
    "expectation_energy(params)"
   ]
  },
  {
   "cell_type": "code",
   "execution_count": null,
   "metadata": {},
   "outputs": [],
   "source": []
  }
 ],
 "metadata": {
  "kernelspec": {
   "display_name": "Python 3 (ipykernel)",
   "language": "python",
   "name": "python3"
  },
  "language_info": {
   "codemirror_mode": {
    "name": "ipython",
    "version": 3
   },
   "file_extension": ".py",
   "mimetype": "text/x-python",
   "name": "python",
   "nbconvert_exporter": "python",
   "pygments_lexer": "ipython3",
   "version": "3.8.5"
  }
 },
 "nbformat": 4,
 "nbformat_minor": 2
}
