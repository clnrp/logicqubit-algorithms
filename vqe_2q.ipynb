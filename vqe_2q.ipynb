{
 "cells": [
  {
   "cell_type": "code",
   "execution_count": 1,
   "metadata": {
    "scrolled": true
   },
   "outputs": [
    {
     "name": "stdout",
     "output_type": "stream",
     "text": [
      "Cuda is not available!\n",
      "logicqubit version 1.5.8\n"
     ]
    }
   ],
   "source": [
    "from logicqubit.logic import *\n",
    "from cmath import *\n",
    "import numpy as np\n",
    "import sympy as sp\n",
    "import scipy\n",
    "from scipy.optimize import *\n",
    "import matplotlib.pyplot as plt"
   ]
  },
  {
   "cell_type": "code",
   "execution_count": 2,
   "metadata": {},
   "outputs": [],
   "source": [
    "gates = Gates(1)\n",
    "\n",
    "ID = gates.ID()\n",
    "X = gates.X()\n",
    "Y = gates.Y()\n",
    "Z = gates.Z()"
   ]
  },
  {
   "cell_type": "code",
   "execution_count": 3,
   "metadata": {},
   "outputs": [
    {
     "data": {
      "text/plain": [
       "array([[ 1,  0,  0,  0],\n",
       "       [ 0, -1,  0,  0],\n",
       "       [ 0,  0, -1,  0],\n",
       "       [ 0,  0,  0,  1]])"
      ]
     },
     "execution_count": 3,
     "metadata": {},
     "output_type": "execute_result"
    }
   ],
   "source": [
    "II = ID.kron(ID)\n",
    "XX = X.kron(X)\n",
    "YY = Y.kron(Y)\n",
    "ZZ = Z.kron(Z)\n",
    "IZ = ID.kron(Z)\n",
    "ZI = Z.kron(ID)\n",
    "sig_ss = np.kron([1, -1], [1, -1])\n",
    "sig_is = np.kron([1, 1], [1, -1])\n",
    "sig_si = np.kron([1, -1], [1, 1])\n",
    "sig_is\n",
    "ZZ.get()"
   ]
  },
  {
   "cell_type": "code",
   "execution_count": 4,
   "metadata": {},
   "outputs": [
    {
     "data": {
      "text/plain": [
       "(-4.123105625617661+0j)"
      ]
     },
     "execution_count": 4,
     "metadata": {},
     "output_type": "execute_result"
    }
   ],
   "source": [
    "H = II*2 + YY + IZ*3 - ZI + ZZ*2\n",
    "\n",
    "min(scipy.linalg.eig(H.get())[0])"
   ]
  },
  {
   "cell_type": "code",
   "execution_count": 5,
   "metadata": {},
   "outputs": [],
   "source": [
    "def ansatz(reg, params):\n",
    "    n_qubits = len(reg)\n",
    "    depth = n_qubits\n",
    "    for i in range(depth):\n",
    "        for j in range(n_qubits):\n",
    "            if(j < n_qubits-1):\n",
    "                reg[j+1].CNOT(reg[j])\n",
    "            reg[i].RY(params[j])\n",
    "            \n",
    "def ansatz_2q(q1, q2, params):\n",
    "    q2.CNOT(q1)\n",
    "    q1.RY(params[0])\n",
    "    q2.RY(params[1])\n",
    "    q1.CNOT(q2)\n",
    "    q1.RY(params[2])\n",
    "    q2.RY(params[3])\n",
    "    q2.CNOT(q1)\n",
    "    q1.RY(params[4])\n",
    "    q2.RY(params[5])"
   ]
  },
  {
   "cell_type": "code",
   "execution_count": 6,
   "metadata": {},
   "outputs": [
    {
     "name": "stderr",
     "output_type": "stream",
     "text": [
      "/home/cleoner/anaconda3/lib/python3.8/site-packages/scipy/optimize/optimize.py:586: ComplexWarning: Casting complex values to real discards the imaginary part\n",
      "  fsim[k] = func(sim[k])\n",
      "/home/cleoner/anaconda3/lib/python3.8/site-packages/scipy/optimize/optimize.py:618: ComplexWarning: Casting complex values to real discards the imaginary part\n",
      "  fsim[-1] = fxr\n",
      "/home/cleoner/anaconda3/lib/python3.8/site-packages/scipy/optimize/optimize.py:611: ComplexWarning: Casting complex values to real discards the imaginary part\n",
      "  fsim[-1] = fxe\n",
      "/home/cleoner/anaconda3/lib/python3.8/site-packages/scipy/optimize/optimize.py:614: ComplexWarning: Casting complex values to real discards the imaginary part\n",
      "  fsim[-1] = fxr\n",
      "/home/cleoner/anaconda3/lib/python3.8/site-packages/scipy/optimize/optimize.py:627: ComplexWarning: Casting complex values to real discards the imaginary part\n",
      "  fsim[-1] = fxc\n",
      "/home/cleoner/anaconda3/lib/python3.8/site-packages/scipy/optimize/optimize.py:637: ComplexWarning: Casting complex values to real discards the imaginary part\n",
      "  fsim[-1] = fxcc\n"
     ]
    },
    {
     "name": "stdout",
     "output_type": "stream",
     "text": [
      " final_simplex: (array([[-1.08588037, -1.20307451,  1.5931768 ,  0.98904206, -0.43267192,\n",
      "         0.89020761],\n",
      "       [-1.08588037, -1.20307451,  1.5931768 ,  0.98904206, -0.43267192,\n",
      "         0.89020761],\n",
      "       [-1.08588037, -1.20307451,  1.5931768 ,  0.98904206, -0.43267192,\n",
      "         0.89020761],\n",
      "       [-1.08588037, -1.20307451,  1.5931768 ,  0.98904206, -0.43267192,\n",
      "         0.89020761],\n",
      "       [-1.08588037, -1.20307451,  1.5931768 ,  0.98904206, -0.43267192,\n",
      "         0.89020761],\n",
      "       [-1.08588037, -1.20307451,  1.5931768 ,  0.98904206, -0.43267192,\n",
      "         0.89020761],\n",
      "       [-1.08588037, -1.20307451,  1.5931768 ,  0.98904206, -0.43267192,\n",
      "         0.89020761]]), array([-4.12310563, -4.12310563, -4.12310563, -4.12310563, -4.12310563,\n",
      "       -4.12310563, -4.12310563]))\n",
      "           fun: -4.123105625617663\n",
      "       message: 'Optimization terminated successfully.'\n",
      "          nfev: 899\n",
      "           nit: 518\n",
      "        status: 0\n",
      "       success: True\n",
      "             x: array([-1.08588037, -1.20307451,  1.5931768 ,  0.98904206, -0.43267192,\n",
      "        0.89020761])\n"
     ]
    },
    {
     "name": "stderr",
     "output_type": "stream",
     "text": [
      "/home/cleoner/anaconda3/lib/python3.8/site-packages/scipy/optimize/optimize.py:644: ComplexWarning: Casting complex values to real discards the imaginary part\n",
      "  fsim[j] = func(sim[j])\n"
     ]
    }
   ],
   "source": [
    "def expectation_2q(params):\n",
    "    logicQuBit  = LogicQuBit(2)\n",
    "    q1 = Qubit()\n",
    "    q2 = Qubit()\n",
    "\n",
    "    ansatz_2q(q1,q2,params)\n",
    "    psi = logicQuBit.getPsi()\n",
    "    \n",
    "    return (psi.adjoint()*H*psi).get()[0][0]\n",
    "\n",
    "minimum = minimize(expectation_2q, [0,0,0,0,0,0], method='Nelder-Mead', options={'xtol': 1e-10, 'ftol': 1e-10})\n",
    "print(minimum)"
   ]
  },
  {
   "cell_type": "code",
   "execution_count": 7,
   "metadata": {},
   "outputs": [],
   "source": [
    "def expectation_value(measurements, base = np.array([1,-1,-1,1])):\n",
    "    probabilities = np.array(measurements)\n",
    "    expectation = np.sum(base * probabilities)\n",
    "    return expectation\n",
    "\n",
    "def sigma_xx(params):\n",
    "    logicQuBit  = LogicQuBit(2, first_left = False)\n",
    "    q1 = Qubit()\n",
    "    q2 = Qubit()\n",
    "    \n",
    "    ansatz_2q(q1,q2,params)\n",
    "    \n",
    "    # medidas em XX\n",
    "    q1.RY(-pi/2)\n",
    "    q2.RY(-pi/2)\n",
    "    \n",
    "    result = logicQuBit.Measure([q1,q2])\n",
    "    result = expectation_value(result)\n",
    "    return result\n",
    "\n",
    "def sigma_yy(params):\n",
    "    logicQuBit  = LogicQuBit(2, first_left = False)\n",
    "    q1 = Qubit()\n",
    "    q2 = Qubit()\n",
    "    \n",
    "    ansatz_2q(q1,q2,params)\n",
    "    \n",
    "    # medidas em YY\n",
    "    q1.RX(pi/2)\n",
    "    q2.RX(pi/2)\n",
    "    \n",
    "    result = logicQuBit.Measure([q1,q2])\n",
    "    result = expectation_value(result)\n",
    "    return result\n",
    "\n",
    "def sigma_zz(params):\n",
    "    logicQuBit  = LogicQuBit(2, first_left = False)\n",
    "    q1 = Qubit()\n",
    "    q2 = Qubit()\n",
    "    \n",
    "    ansatz_2q(q1,q2,params)\n",
    "          \n",
    "    result = logicQuBit.Measure([q1,q2])\n",
    "    zz = expectation_value(result)\n",
    "    iz = expectation_value(result, sig_is) # [zz, iz] = 0\n",
    "    zi = expectation_value(result, sig_si) # [zz, zi] = 0\n",
    "    return zz, iz, zi\n",
    "\n",
    "def expectation_energy(params):\n",
    "    #xx =  sigma_xx(params)\n",
    "    yy =  sigma_yy(params)\n",
    "    zz, iz, zi =  sigma_zz(params)\n",
    "\n",
    "    result = 2 + yy + 3*iz - zi + 2*zz\n",
    "    return result"
   ]
  },
  {
   "cell_type": "code",
   "execution_count": 8,
   "metadata": {},
   "outputs": [
    {
     "name": "stdout",
     "output_type": "stream",
     "text": [
      " final_simplex: (array([[ 1.71336166, -3.14720546, -0.97839616,  2.16971816, -2.76042898,\n",
      "         1.02473882],\n",
      "       [ 1.71336166, -3.14720546, -0.97839616,  2.16971816, -2.76042898,\n",
      "         1.02473882],\n",
      "       [ 1.71336166, -3.14720546, -0.97839616,  2.16971816, -2.76042898,\n",
      "         1.02473882],\n",
      "       [ 1.71336166, -3.14720546, -0.97839616,  2.16971816, -2.76042898,\n",
      "         1.02473882],\n",
      "       [ 1.71336166, -3.14720546, -0.97839616,  2.16971816, -2.76042898,\n",
      "         1.02473882],\n",
      "       [ 1.71336166, -3.14720546, -0.97839616,  2.16971816, -2.76042898,\n",
      "         1.02473882],\n",
      "       [ 1.71336166, -3.14720546, -0.97839616,  2.16971816, -2.76042898,\n",
      "         1.02473882]]), array([-4.12310563, -4.12310563, -4.12310563, -4.12310563, -4.12310563,\n",
      "       -4.12310563, -4.12310563]))\n",
      "           fun: -4.123105625617663\n",
      "       message: 'Optimization terminated successfully.'\n",
      "          nfev: 991\n",
      "           nit: 574\n",
      "        status: 0\n",
      "       success: True\n",
      "             x: array([ 1.71336166, -3.14720546, -0.97839616,  2.16971816, -2.76042898,\n",
      "        1.02473882])\n"
     ]
    }
   ],
   "source": [
    "minimum = minimize(expectation_energy, [0,0,0,0,0,0], method='Nelder-Mead', options={'xtol': 1e-10, 'ftol': 1e-10})\n",
    "print(minimum)"
   ]
  },
  {
   "cell_type": "code",
   "execution_count": 14,
   "metadata": {},
   "outputs": [],
   "source": [
    "def gradient(params, evaluate, shift = pi/2):\n",
    "    n_params = params.shape[0]\n",
    "    gradients = np.zeros(n_params)\n",
    "    \n",
    "    for i in range(n_params):\n",
    "        #parameter shift rule\n",
    "        shift_vect = np.array([shift if j==i else 0 for j in range(n_params)])\n",
    "        shift_right = params + shift_vect\n",
    "        shift_left = params - shift_vect\n",
    "        \n",
    "        expectation_right = evaluate(shift_right)\n",
    "        expectation_left = evaluate(shift_left)\n",
    "\n",
    "        gradients[i] = expectation_right - expectation_left\n",
    "\n",
    "    return gradients"
   ]
  },
  {
   "cell_type": "code",
   "execution_count": 15,
   "metadata": {},
   "outputs": [],
   "source": [
    "params = np.random.uniform(-np.pi, np.pi, 6)\n",
    "last_params = np.zeros(6)"
   ]
  },
  {
   "cell_type": "code",
   "execution_count": 16,
   "metadata": {},
   "outputs": [
    {
     "name": "stderr",
     "output_type": "stream",
     "text": [
      "/tmp/ipykernel_10875/2399136664.py:14: ComplexWarning: Casting complex values to real discards the imaginary part\n",
      "  gradients[i] = expectation_right - expectation_left\n"
     ]
    },
    {
     "name": "stdout",
     "output_type": "stream",
     "text": [
      "6.482663126567106\n",
      "0.38223934285331607\n",
      "0.24488311284400144\n",
      "0.15336235431677614\n",
      "0.09703052432549342\n",
      "0.06171935514192828\n",
      "0.039443704313149364\n",
      "0.025282440007640683\n",
      "0.01623888046263866\n",
      "0.010444314063609794\n",
      "0.006723457691249157\n",
      "0.004330708948179662\n",
      "0.0027905545833459833\n",
      "0.0017985774254206666\n",
      "0.0011594101206759966\n",
      "0.0007474632522979086\n"
     ]
    }
   ],
   "source": [
    "lr = 0.1\n",
    "err = 1\n",
    "while err > 1e-3:\n",
    "    grad = gradient(params, expectation_energy, pi/1.2)\n",
    "    params = params - lr*grad\n",
    "    err = abs(sum(params - last_params))\n",
    "    last_params = np.array(params)\n",
    "    print(err) "
   ]
  },
  {
   "cell_type": "code",
   "execution_count": 17,
   "metadata": {},
   "outputs": [
    {
     "data": {
      "text/plain": [
       "(-4.123104878258455+0j)"
      ]
     },
     "execution_count": 17,
     "metadata": {},
     "output_type": "execute_result"
    }
   ],
   "source": [
    "expectation_energy(params)"
   ]
  },
  {
   "cell_type": "code",
   "execution_count": null,
   "metadata": {},
   "outputs": [],
   "source": []
  }
 ],
 "metadata": {
  "kernelspec": {
   "display_name": "Python 3 (ipykernel)",
   "language": "python",
   "name": "python3"
  },
  "language_info": {
   "codemirror_mode": {
    "name": "ipython",
    "version": 3
   },
   "file_extension": ".py",
   "mimetype": "text/x-python",
   "name": "python",
   "nbconvert_exporter": "python",
   "pygments_lexer": "ipython3",
   "version": "3.8.5"
  }
 },
 "nbformat": 4,
 "nbformat_minor": 2
}
