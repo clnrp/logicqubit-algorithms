{
 "cells": [
  {
   "cell_type": "code",
   "execution_count": 10,
   "metadata": {
    "scrolled": true
   },
   "outputs": [],
   "source": [
    "from logicqubit.logic import *\n",
    "from cmath import *\n",
    "import numpy as np\n",
    "import sympy as sp\n",
    "from scipy.linalg import expm, sinm, cosm, logm, sqrtm"
   ]
  },
  {
   "cell_type": "code",
   "execution_count": 11,
   "metadata": {},
   "outputs": [],
   "source": [
    "def qft(qr):\n",
    "    for i in range(len(qr)):\n",
    "        for j in range(i):\n",
    "            qr[i].CU1(qr[j], pi/float(2**(i-j)))\n",
    "        qr[i].H()\n",
    "        \n",
    "def iqft(qr):\n",
    "    for i in range(len(qr)):\n",
    "        for j in range(i):\n",
    "            qr[i].CU1(qr[j], -pi/float(2**(i-j)))\n",
    "        qr[i].H()\n",
    "        \n",
    "def swap(s1, s2):\n",
    "    s2.CX(s1)\n",
    "    s1.CX(s2)\n",
    "    s2.CX(s1)"
   ]
  },
  {
   "cell_type": "code",
   "execution_count": 12,
   "metadata": {},
   "outputs": [
    {
     "name": "stdout",
     "output_type": "stream",
     "text": [
      "[[(1.0000000000000004+4.440892098500627e-16j), 0j], [0j, (1.0000000000000004+4.440892098500627e-16j)]]\n"
     ]
    }
   ],
   "source": [
    "D = np.matrix('1.5707963267948966 0; 0 3.141592653589793')\n",
    "P = np.matrix('1 0; 0 1')/sqrt(2)\n",
    "\n",
    "A = np.matrix('3 1; 1 3')\n",
    "#A = P*D*P.I\n",
    "#A_ad = A.getH()\n",
    "t0 = 2*pi\n",
    "\n",
    "#U = np.matrix(expm(-1j*pi*A))\n",
    "U_A_div2 = np.matrix(expm(1j*A*t0/2))\n",
    "U_A_div4 = np.matrix(expm(1j*A*t0/4))\n",
    "print(U_A_div2.tolist())"
   ]
  },
  {
   "cell_type": "code",
   "execution_count": 13,
   "metadata": {},
   "outputs": [
    {
     "name": "stdout",
     "output_type": "stream",
     "text": [
      "[ 0.375 -0.125]\n"
     ]
    }
   ],
   "source": [
    "b = np.array([1,0])\n",
    "x = np.linalg.solve(A, b)\n",
    "print(x)"
   ]
  },
  {
   "cell_type": "code",
   "execution_count": 14,
   "metadata": {},
   "outputs": [
    {
     "data": {
      "text/latex": [
       "$\\displaystyle \\begin{pmatrix}0.5-2.78426e-17j \\\\ 0.5-2.76685e-17j \\\\ -2.23706e-16+7.5546e-17j \\\\ -1.11856e-17+1.46499e-16j \\\\ -2.45038e-16-4.73355e-17j \\\\ -2.77556e-17+1.76998e-17j \\\\ 0.353553+2.78426e-17j \\\\ -0.353553-1.14097e-17j \\\\ -1.89288e-17+2.78426e-17j \\\\ 9.81308e-18-2.78426e-17j \\\\ -1.26364e-16-3.10767e-17j \\\\ 6.51042e-17+3.10767e-17j \\\\ -1.50275e-16+3.776e-18j \\\\ -1.14967e-17-1.53233e-16j \\\\ 0.353553-2.78426e-17j \\\\ -0.353553-6.70949e-17j \\end{pmatrix}$"
      ],
      "text/plain": [
       "<IPython.core.display.Math object>"
      ]
     },
     "metadata": {},
     "output_type": "display_data"
    },
    {
     "data": {
      "text/plain": [
       "{'0000': (0.5-2.7842613392665686e-17j),\n",
       " '0001': (0.4999999999999999-2.7668537838592144e-17j),\n",
       " '0010': (-2.23705968685014e-16+7.554599442488008e-17j),\n",
       " '0011': (-1.1185571585378691e-17+1.4649861050015117e-16j),\n",
       " '0100': (-2.4503807662796223e-16-4.7335537465165435e-17j),\n",
       " '0101': (-2.7755575615628914e-17+1.7699821591488393e-17j),\n",
       " '0110': (0.3535533905932736+2.78426133926657e-17j),\n",
       " '0111': (-0.35355339059327373-1.1409698074428693e-17j),\n",
       " '1000': (-1.8928761761890062e-17+2.7842613392665704e-17j),\n",
       " '1001': (9.813077866773592e-18-2.7842613392665717e-17j),\n",
       " '1010': (-1.2636372189240907e-16-3.107669770100199e-17j),\n",
       " '1011': (6.510420273541852e-17+3.1076697701002e-17j),\n",
       " '1100': (-1.5027461392961003e-16+3.7760034294587894e-18j),\n",
       " '1101': (-1.149673585146546e-17-1.5323324243891858e-16j),\n",
       " '1110': (0.3535533905932737-2.7842613392665674e-17j),\n",
       " '1111': (-0.3535533905932737-6.709492485976009e-17j)}"
      ]
     },
     "execution_count": 14,
     "metadata": {},
     "output_type": "execute_result"
    }
   ],
   "source": [
    "logicQuBit  = LogicQuBit(4)\n",
    "\n",
    "a = Qubit()\n",
    "c1 = Qubit()\n",
    "c2 = Qubit()\n",
    "b = Qubit()\n",
    "r = 2\n",
    "\n",
    "c1.H()\n",
    "c2.H()\n",
    "\n",
    "#b.X()\n",
    "#b.H()\n",
    "\n",
    "# phase estimation\n",
    "b.CU(c2, U_A_div4.tolist())\n",
    "b.CU(c1, U_A_div2.tolist())\n",
    "\n",
    "# iqft\n",
    "swap(c1,c2)\n",
    "c2.H()\n",
    "c2.CS(c1, True)\n",
    "c1.H()\n",
    "swap(c1,c2)\n",
    "\n",
    "a.CRY(c1, pi/2**r)\n",
    "a.CRY(c2, 2*pi/2**r)\n",
    "\n",
    "swap(c1,c2)\n",
    "# qft\n",
    "c1.H()\n",
    "c2.CS(c1)\n",
    "c2.H()\n",
    "swap(c1,c2)\n",
    "\n",
    "\n",
    "# reverse phase estimation\n",
    "b.CU(c1, U_A_div4.conj().T.tolist())\n",
    "b.CU(c2, U_A_div2.conj().T.tolist())\n",
    "\n",
    "c1.H()\n",
    "c2.H()\n",
    "c2.PrintState()\n",
    "c2.getDictPsi()"
   ]
  },
  {
   "cell_type": "code",
   "execution_count": 15,
   "metadata": {},
   "outputs": [
    {
     "name": "stdout",
     "output_type": "stream",
     "text": [
      "[0]\n"
     ]
    },
    {
     "data": {
      "image/png": "[encoded data removed]",
      "text/plain": [
       "<Figure size 432x288 with 1 Axes>"
      ]
     },
     "metadata": {
      "needs_background": "light"
     },
     "output_type": "display_data"
    },
    {
     "name": "stdout",
     "output_type": "stream",
     "text": [
      "[(0.5+0j), (0.5+0j)]\n"
     ]
    }
   ],
   "source": [
    "res_a = logicQuBit.Measure_One(a)\n",
    "print(res_a)\n",
    "res = logicQuBit.Measure([b])\n",
    "logicQuBit.Plot()\n",
    "print(res)"
   ]
  },
  {
   "cell_type": "code",
   "execution_count": 16,
   "metadata": {},
   "outputs": [],
   "source": [
    "def Text2List(table):\n",
    "    list = [int(i, base=2) for i in table]\n",
    "    size = len(table[0])\n",
    "    tmp = sorted(list, key=int, reverse=False)  # values in ascending order\n",
    "    result = [[int(bin(j)[2:].zfill(size)[i]) for i in range(size)] for j in tmp]\n",
    "    return result\n",
    "\n",
    "def BinList(n):\n",
    "    blist = []\n",
    "    for i in iter(range(2 ** n)):\n",
    "        b = bin(i)[2:].zfill(n)  # value in binary, ex: i=1, n=4 -> '0001'\n",
    "        blist.append(b)\n",
    "    return Text2List(blist)\n",
    "\n",
    "#size=3\n",
    "#blist = [value for i,value in enumerate(BinList(size)) if res[i]>0.1] \n",
    "#results = [sum([value/2**(i+1) for i,value in enumerate(j)]) for j in blist]\n",
    "#print(results)"
   ]
  },
  {
   "cell_type": "code",
   "execution_count": 17,
   "metadata": {},
   "outputs": [
    {
     "data": {
      "text/plain": [
       "[0.0, 1.5707963267948966, 3.141592653589793, 4.71238898038469]"
      ]
     },
     "execution_count": 17,
     "metadata": {},
     "output_type": "execute_result"
    }
   ],
   "source": [
    "# todos possíveis valores\n",
    "size = 2\n",
    "blist = [[i >> bl & 0x1 for bl in range(size)][::-1] for i in range(2**size)]\n",
    "results = [2*pi*sum([value/2**(i+1) for i,value in enumerate(j)]) for j in blist]\n",
    "results"
   ]
  },
  {
   "cell_type": "code",
   "execution_count": null,
   "metadata": {},
   "outputs": [],
   "source": []
  }
 ],
 "metadata": {
  "kernelspec": {
   "display_name": "Python 3",
   "language": "python",
   "name": "python3"
  },
  "language_info": {
   "codemirror_mode": {
    "name": "ipython",
    "version": 3
   },
   "file_extension": ".py",
   "mimetype": "text/x-python",
   "name": "python",
   "nbconvert_exporter": "python",
   "pygments_lexer": "ipython3",
   "version": "3.8.5"
  }
 },
 "nbformat": 4,
 "nbformat_minor": 2
}
