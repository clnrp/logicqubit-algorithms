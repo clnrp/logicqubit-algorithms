{
 "cells": [
  {
   "cell_type": "code",
   "execution_count": 1,
   "metadata": {
    "scrolled": true
   },
   "outputs": [
    {
     "name": "stdout",
     "output_type": "stream",
     "text": [
      "logicqubit-gpu version 1.5.1\n"
     ]
    }
   ],
   "source": [
    "from logicqubit.logic import *\n",
    "from cmath import *\n",
    "import numpy as np\n",
    "import cupy as cp\n",
    "import sympy as sp\n",
    "from scipy.linalg import expm, sinm, cosm, logm, sqrtm"
   ]
  },
  {
   "cell_type": "code",
   "execution_count": 2,
   "metadata": {},
   "outputs": [],
   "source": [
    "def qft(qr):\n",
    "    for i in range(len(qr)):\n",
    "        for j in range(i):\n",
    "            qr[i].CU1(qr[j], pi/float(2**(i-j)))\n",
    "        qr[i].H()\n",
    "        \n",
    "def iqft(qr):\n",
    "    for i in range(len(qr)):\n",
    "        for j in range(i):\n",
    "            qr[i].CU1(qr[j], -pi/float(2**(i-j)))\n",
    "        qr[i].H()\n",
    "        \n",
    "def swap(s1, s2):\n",
    "    s2.CX(s1)\n",
    "    s1.CX(s2)\n",
    "    s2.CX(s1)"
   ]
  },
  {
   "cell_type": "code",
   "execution_count": 3,
   "metadata": {},
   "outputs": [
    {
     "name": "stdout",
     "output_type": "stream",
     "text": [
      "[[(1+4.440892098500626e-16j), (-5.551115123125786e-17+1.942890293094024e-16j)], [(-5.551115123125788e-17+1.942890293094024e-16j), (1+4.440892098500626e-16j)]]\n"
     ]
    }
   ],
   "source": [
    "D = np.matrix('1.5707963267948966 0; 0 3.141592653589793')\n",
    "P = np.matrix('1 0; 0 1')/sqrt(2)\n",
    "\n",
    "A = np.matrix('3 1; 1 3')\n",
    "#A = P*D*P.I\n",
    "#A_ad = A.getH()\n",
    "t0 = 2*pi\n",
    "\n",
    "#U = np.matrix(expm(-1j*pi*A))\n",
    "U_A_div2 = np.matrix(expm(1j*A*t0/2))\n",
    "U_A_div4 = np.matrix(expm(1j*A*t0/4))\n",
    "print(U_A_div2.tolist())"
   ]
  },
  {
   "cell_type": "code",
   "execution_count": 4,
   "metadata": {},
   "outputs": [
    {
     "name": "stdout",
     "output_type": "stream",
     "text": [
      "[ 0.375 -0.125]\n"
     ]
    }
   ],
   "source": [
    "b = np.array([1,0])\n",
    "x = np.linalg.solve(A, b)\n",
    "print(x)"
   ]
  },
  {
   "cell_type": "code",
   "execution_count": 6,
   "metadata": {},
   "outputs": [
    {
     "data": {
      "text/latex": [
       "$\\displaystyle \\begin{pmatrix}0.5+6.44308e-19j \\\\ 0.5+6.29459e-18j \\\\ -4.45094e-18+8.93579e-17j \\\\ 7.0458e-18+1.26794e-16j \\\\ 1.82314e-17-1.8468e-17j \\\\ 5.21438e-17-3.04578e-17j \\\\ 0.353553-8.15491e-18j \\\\ -0.353553-2.28745e-17j \\\\ -1.38778e-17-6.44308e-19j \\\\ 9.81308e-18+6.44308e-19j \\\\ 1.07305e-17-7.02367e-17j \\\\ -1.47952e-17-3.28006e-17j \\\\ 2.63608e-17-6.01013e-17j \\\\ 1.39479e-18-1.48419e-16j \\\\ 0.353553+8.15491e-18j \\\\ -0.353553-6.5647e-18j \\end{pmatrix}$"
      ],
      "text/plain": [
       "<IPython.core.display.Math object>"
      ]
     },
     "metadata": {},
     "output_type": "display_data"
    },
    {
     "data": {
      "text/plain": [
       "{'0000': (0.49999999999999967+6.443080165107333e-19j),\n",
       " '0001': (0.4999999999999996+6.294585887396402e-18j),\n",
       " '0010': (-4.450939646611226e-18+8.935786812531302e-17j),\n",
       " '0011': (7.045796204854234e-18+1.2679393385329662e-16j),\n",
       " '0100': (1.8231367790232924e-17-1.8467956784669355e-17j),\n",
       " '0101': (5.2143835261874095e-17-3.045782464265219e-17j),\n",
       " '0110': (0.35355339059327345-8.154912656756364e-18j),\n",
       " '0111': (-0.35355339059327356-2.287452945691676e-17j),\n",
       " '1000': (-1.3877787807814454e-17-6.44308016510772e-19j),\n",
       " '1001': (9.813077866773593e-18+6.443080165107606e-19j),\n",
       " '1010': (1.0730498201043602e-17-7.023669166455311e-17j),\n",
       " '1011': (-1.4795208142084464e-17-3.2800625936569504e-17j),\n",
       " '1100': (2.636078767231465e-17-6.010132020811269e-17j),\n",
       " '1101': (1.394787943314262e-18-1.4841902100907496e-16j),\n",
       " '1110': (0.3535533905932735+8.154912656756381e-18j),\n",
       " '1111': (-0.35355339059327345-6.564704143404018e-18j)}"
      ]
     },
     "execution_count": 6,
     "metadata": {},
     "output_type": "execute_result"
    }
   ],
   "source": [
    "logicQuBit  = LogicQuBit(4)\n",
    "\n",
    "a = Qubit()\n",
    "c1 = Qubit()\n",
    "c2 = Qubit()\n",
    "b = Qubit()\n",
    "r = 2\n",
    "\n",
    "c1.H()\n",
    "c2.H()\n",
    "\n",
    "#b.X()\n",
    "#b.H()\n",
    "\n",
    "# phase estimation\n",
    "b.CU(c2, U_A_div4.tolist())\n",
    "b.CU(c1, U_A_div2.tolist())\n",
    "\n",
    "# iqft\n",
    "swap(c1,c2)\n",
    "c2.H()\n",
    "c2.CS(c1, True)\n",
    "c1.H()\n",
    "swap(c1,c2)\n",
    "\n",
    "a.CRY(c1, pi/2**r)\n",
    "a.CRY(c2, 2*pi/2**r)\n",
    "\n",
    "swap(c1,c2)\n",
    "# qft\n",
    "c1.H()\n",
    "c2.CS(c1)\n",
    "c2.H()\n",
    "swap(c1,c2)\n",
    "\n",
    "\n",
    "# reverse phase estimation\n",
    "b.CU(c1, U_A_div4.conj().T.tolist())\n",
    "b.CU(c2, U_A_div2.conj().T.tolist())\n",
    "\n",
    "c1.H()\n",
    "c2.H()\n",
    "c2.PrintState()\n",
    "c2.getDictPsi()"
   ]
  },
  {
   "cell_type": "code",
   "execution_count": 7,
   "metadata": {},
   "outputs": [
    {
     "name": "stdout",
     "output_type": "stream",
     "text": [
      "[0]\n"
     ]
    },
    {
     "data": {
      "image/png": "[encoded data removed]",
      "text/plain": [
       "<Figure size 432x288 with 1 Axes>"
      ]
     },
     "metadata": {
      "needs_background": "light"
     },
     "output_type": "display_data"
    },
    {
     "name": "stdout",
     "output_type": "stream",
     "text": [
      "[0.5, 0.5]\n"
     ]
    }
   ],
   "source": [
    "res_a = logicQuBit.Measure_One(a)\n",
    "print(res_a)\n",
    "res = logicQuBit.Measure([b]) # x = medir(b)\n",
    "logicQuBit.Plot()\n",
    "print(res)"
   ]
  },
  {
   "cell_type": "code",
   "execution_count": 20,
   "metadata": {},
   "outputs": [],
   "source": [
    "def Text2List(table):\n",
    "    list = [int(i, base=2) for i in table]\n",
    "    size = len(table[0])\n",
    "    tmp = sorted(list, key=int, reverse=False)  # values in ascending order\n",
    "    result = [[int(bin(j)[2:].zfill(size)[i]) for i in range(size)] for j in tmp]\n",
    "    return result\n",
    "\n",
    "def BinList(n):\n",
    "    blist = []\n",
    "    for i in iter(range(2 ** n)):\n",
    "        b = bin(i)[2:].zfill(n)  # value in binary, ex: i=1, n=4 -> '0001'\n",
    "        blist.append(b)\n",
    "    return Text2List(blist)\n",
    "\n",
    "#size=3\n",
    "#blist = [value for i,value in enumerate(BinList(size)) if res[i]>0.1] \n",
    "#results = [sum([value/2**(i+1) for i,value in enumerate(j)]) for j in blist]\n",
    "#print(results)"
   ]
  },
  {
   "cell_type": "code",
   "execution_count": 16,
   "metadata": {},
   "outputs": [
    {
     "data": {
      "text/plain": [
       "[0.0, 1.5707963267948966, 3.141592653589793, 4.71238898038469]"
      ]
     },
     "execution_count": 16,
     "metadata": {},
     "output_type": "execute_result"
    }
   ],
   "source": [
    "# todos possíveis valores\n",
    "size = 2\n",
    "blist = [[i >> bl & 0x1 for bl in range(size)][::-1] for i in range(2**size)]\n",
    "results = [2*pi*sum([value/2**(i+1) for i,value in enumerate(j)]) for j in blist]\n",
    "results"
   ]
  },
  {
   "cell_type": "code",
   "execution_count": 74,
   "metadata": {},
   "outputs": [
    {
     "name": "stdout",
     "output_type": "stream",
     "text": [
      "(array([0.06666667, 0.13333333]), matrix([[-0.70710678,  0.70710678],\n",
      "        [ 0.70710678,  0.70710678]]))\n"
     ]
    }
   ],
   "source": [
    "h_eigenvalue = np.linalg.eigh(A)\n",
    "print(h_eigenvalue)"
   ]
  },
  {
   "cell_type": "code",
   "execution_count": 75,
   "metadata": {},
   "outputs": [],
   "source": [
    "b  = [1, 1] \n",
    "a1 = h_eigenvalue[0][0]\n",
    "a2 = h_eigenvalue[0][1]\n",
    "v1 = h_eigenvalue[1][0]\n",
    "v2 = h_eigenvalue[1][1]"
   ]
  },
  {
   "cell_type": "code",
   "execution_count": 76,
   "metadata": {},
   "outputs": [
    {
     "data": {
      "text/plain": [
       "matrix([[0.03535534, 0.10606602]])"
      ]
     },
     "execution_count": 76,
     "metadata": {},
     "output_type": "execute_result"
    }
   ],
   "source": [
    "# multiplicar lamb^-1 por a_i*v_i\n",
    "(a1*v1+a2*v2)*0.75"
   ]
  },
  {
   "cell_type": "code",
   "execution_count": 77,
   "metadata": {},
   "outputs": [
    {
     "data": {
      "text/plain": [
       "matrix([[-0.31622777+0.j,  0.9486833 +0.j]])"
      ]
     },
     "execution_count": 77,
     "metadata": {},
     "output_type": "execute_result"
    }
   ],
   "source": [
    "x = sqrt(1/(b[0]**2/a1**2 + b[1]**2/a2**2))*(b[0]/a1*v1 + b[1]/a2*v2)\n",
    "x"
   ]
  },
  {
   "cell_type": "code",
   "execution_count": 96,
   "metadata": {},
   "outputs": [],
   "source": [
    "vd = np.matrix([0.375, -0.125])\n",
    "v = vd.transpose().conjugate() "
   ]
  },
  {
   "cell_type": "code",
   "execution_count": 7,
   "metadata": {},
   "outputs": [
    {
     "data": {
      "text/plain": [
       "{'0000': (0.4939925017688567+0j),\n",
       " '0001': (0.00359986156724162+0j),\n",
       " '0010': (-0.00359986156724162+0j),\n",
       " '0011': (-0.4939925017688567+0j),\n",
       " '0100': (0.00359986156724162+0j),\n",
       " '0101': (0.4939925017688567+0j),\n",
       " '0110': (-0.4939925017688567+0j),\n",
       " '0111': (-0.00359986156724162+0j),\n",
       " '1000': (0.07327686558642219+0j),\n",
       " '1001': (-0.0242682954216419+0j),\n",
       " '1010': (0.0242682954216419+0j),\n",
       " '1011': (-0.07327686558642219+0j),\n",
       " '1100': (-0.0242682954216419+0j),\n",
       " '1101': (0.07327686558642219+0j),\n",
       " '1110': (-0.07327686558642219+0j),\n",
       " '1111': (0.0242682954216419+0j)}"
      ]
     },
     "execution_count": 7,
     "metadata": {},
     "output_type": "execute_result"
    }
   ],
   "source": [
    "# Experimental quantum computing to solve systems of linear equations\n",
    "logicQuBit  = LogicQuBit(4)\n",
    "\n",
    "a = Qubit()\n",
    "c1 = Qubit()\n",
    "c2 = Qubit()\n",
    "b = Qubit()\n",
    "\n",
    "b.H()\n",
    "c2.CNOT(b)\n",
    "c1.CNOT(c2)\n",
    "c2.X()\n",
    "b.H()\n",
    "\n",
    "swap(c1,c2)\n",
    "swap(c1,c2)\n",
    "\n",
    "a.CRY(c1, pi/8)\n",
    "a.CRY(c2, pi/16)\n",
    "\n",
    "c1.H()\n",
    "c2.H()\n",
    "\n",
    "logicQuBit.getDictPsi()"
   ]
  },
  {
   "cell_type": "code",
   "execution_count": null,
   "metadata": {},
   "outputs": [],
   "source": []
  }
 ],
 "metadata": {
  "kernelspec": {
   "display_name": "Python 3",
   "language": "python",
   "name": "python3"
  },
  "language_info": {
   "codemirror_mode": {
    "name": "ipython",
    "version": 3
   },
   "file_extension": ".py",
   "mimetype": "text/x-python",
   "name": "python",
   "nbconvert_exporter": "python",
   "pygments_lexer": "ipython3",
   "version": "3.7.4"
  }
 },
 "nbformat": 4,
 "nbformat_minor": 2
}
