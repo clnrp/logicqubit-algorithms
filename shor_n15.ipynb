{
 "cells": [
  {
   "cell_type": "code",
   "execution_count": 1,
   "metadata": {
    "scrolled": true
   },
   "outputs": [
    {
     "name": "stdout",
     "output_type": "stream",
     "text": [
      "Cuda is not available!\n",
      "logicqubit version 1.5.6\n"
     ]
    }
   ],
   "source": [
    "from logicqubit.logic import *"
   ]
  },
  {
   "cell_type": "code",
   "execution_count": 2,
   "metadata": {},
   "outputs": [],
   "source": [
    "def qft(qr):\n",
    "    for i in range(len(qr)):\n",
    "        for j in range(i):\n",
    "            qr[i].CU1(qr[j], pi/float(2**(i-j)))\n",
    "        qr[i].H()\n",
    "        \n",
    "def iqft(qr): # transformada quântica de Fourier inversa\n",
    "    for i in range(len(qr)):\n",
    "        for j in range(i):\n",
    "            qr[i].CU1(qr[j], -pi/float(2**(i-j)))\n",
    "        qr[i].H()\n",
    "        \n",
    "def swap(s1, s2):\n",
    "    s2.CX(s1)\n",
    "    s1.CX(s2)\n",
    "    s2.CX(s1)"
   ]
  },
  {
   "cell_type": "code",
   "execution_count": 3,
   "metadata": {},
   "outputs": [
    {
     "data": {
      "text/plain": [
       "['0001',\n",
       " '0111',\n",
       " '0100',\n",
       " '1101',\n",
       " '0001',\n",
       " '0111',\n",
       " '0100',\n",
       " '1101',\n",
       " '0001',\n",
       " '0111',\n",
       " '0100',\n",
       " '1101',\n",
       " '0001',\n",
       " '0111',\n",
       " '0100']"
      ]
     },
     "execution_count": 3,
     "metadata": {},
     "output_type": "execute_result"
    }
   ],
   "source": [
    "N=15\n",
    "a=7\n",
    "psi = [bin(a**x % N)[2:].zfill(4) for x in range(N)]\n",
    "psi"
   ]
  },
  {
   "cell_type": "code",
   "execution_count": 4,
   "metadata": {},
   "outputs": [
    {
     "name": "stdout",
     "output_type": "stream",
     "text": [
      "['H(1)', 'H(2)', 'H(3)', 'CCX(2,3,4)', 'CCX(2,3,5)', 'CX(2,5)', 'CX(3,5)', 'CCX(2,3,6)', 'CX(3,6)', 'CCX(2,3,7)', 'CX(2,7)', 'X(7)']\n"
     ]
    }
   ],
   "source": [
    "# f(x) = 7^x mod 15\n",
    "# truth table\n",
    "# x   - y\n",
    "# 000 - 0001\n",
    "# 001 - 0111\n",
    "# 010 - 0100\n",
    "# 011 - 1101\n",
    "# 100 - 0001\n",
    "# 101 - 0111\n",
    "# 110 - 0100\n",
    "# 111 - 1011\n",
    "\n",
    "logicQuBit  = LogicQuBit(7, first_left=True)\n",
    "\n",
    "x1 = Qubit()\n",
    "x2 = Qubit()\n",
    "x3 = Qubit()\n",
    "\n",
    "y1 = Qubit()\n",
    "y2 = Qubit()\n",
    "y3 = Qubit()\n",
    "y4 = Qubit()\n",
    "\n",
    "x1.H()\n",
    "x2.H()\n",
    "x3.H()\n",
    "\n",
    "oracle = Oracle([x1, x2, x3])\n",
    "oracle.addTable(y1, ['011', '111'])\n",
    "oracle.addTable(y2, ['001', '010', '011', '101','110'])\n",
    "oracle.addTable(y3, ['001', '101', '111'])\n",
    "oracle.addTable(y4, ['000', '001', '011', '100','101','111'])\n",
    "\n",
    "logicQuBit.addOracle(oracle)\n",
    "logicQuBit.PrintOperations()\n",
    "\n",
    "qft([x1,x2,x3])\n",
    "swap(x1,x3)"
   ]
  },
  {
   "cell_type": "code",
   "execution_count": 5,
   "metadata": {},
   "outputs": [
    {
     "data": {
      "text/plain": [
       "{'0000000': array([0.]),\n",
       " '0000001': array([0.]),\n",
       " '0000010': array([0.]),\n",
       " '0000011': array([0.]),\n",
       " '0000100': array([0.]),\n",
       " '0000101': array([0.]),\n",
       " '0000110': array([0.]),\n",
       " '0000111': array([0.]),\n",
       " '0001000': array([0.]),\n",
       " '0001001': array([0.]),\n",
       " '0001010': array([0.]),\n",
       " '0001011': array([0.]),\n",
       " '0001100': array([0.]),\n",
       " '0001101': array([0.]),\n",
       " '0001110': array([0.]),\n",
       " '0001111': array([0.]),\n",
       " '0010000': array([0.]),\n",
       " '0010001': array([0.]),\n",
       " '0010010': array([0.]),\n",
       " '0010011': array([0.]),\n",
       " '0010100': array([90.]),\n",
       " '0010101': array([0.]),\n",
       " '0010110': array([0.]),\n",
       " '0010111': array([45.]),\n",
       " '0011000': array([0.]),\n",
       " '0011001': array([0.]),\n",
       " '0011010': array([0.]),\n",
       " '0011011': array([0.]),\n",
       " '0011100': array([0.]),\n",
       " '0011101': array([135.]),\n",
       " '0011110': array([0.]),\n",
       " '0011111': array([0.]),\n",
       " '0100000': array([0.]),\n",
       " '0100001': array([0.]),\n",
       " '0100010': array([0.]),\n",
       " '0100011': array([0.]),\n",
       " '0100100': array([180.]),\n",
       " '0100101': array([0.]),\n",
       " '0100110': array([0.]),\n",
       " '0100111': array([90.]),\n",
       " '0101000': array([0.]),\n",
       " '0101001': array([0.]),\n",
       " '0101010': array([0.]),\n",
       " '0101011': array([0.]),\n",
       " '0101100': array([0.]),\n",
       " '0101101': array([-90.]),\n",
       " '0101110': array([0.]),\n",
       " '0101111': array([0.]),\n",
       " '0110000': array([0.]),\n",
       " '0110001': array([0.]),\n",
       " '0110010': array([0.]),\n",
       " '0110011': array([0.]),\n",
       " '0110100': array([-90.]),\n",
       " '0110101': array([0.]),\n",
       " '0110110': array([0.]),\n",
       " '0110111': array([135.]),\n",
       " '0111000': array([0.]),\n",
       " '0111001': array([0.]),\n",
       " '0111010': array([0.]),\n",
       " '0111011': array([0.]),\n",
       " '0111100': array([0.]),\n",
       " '0111101': array([45.]),\n",
       " '0111110': array([0.]),\n",
       " '0111111': array([0.]),\n",
       " '1000000': array([0.]),\n",
       " '1000001': array([0.]),\n",
       " '1000010': array([0.]),\n",
       " '1000011': array([0.]),\n",
       " '1000100': array([0.]),\n",
       " '1000101': array([0.]),\n",
       " '1000110': array([0.]),\n",
       " '1000111': array([180.]),\n",
       " '1001000': array([0.]),\n",
       " '1001001': array([0.]),\n",
       " '1001010': array([0.]),\n",
       " '1001011': array([0.]),\n",
       " '1001100': array([0.]),\n",
       " '1001101': array([180.]),\n",
       " '1001110': array([0.]),\n",
       " '1001111': array([0.]),\n",
       " '1010000': array([0.]),\n",
       " '1010001': array([0.]),\n",
       " '1010010': array([0.]),\n",
       " '1010011': array([0.]),\n",
       " '1010100': array([90.]),\n",
       " '1010101': array([0.]),\n",
       " '1010110': array([0.]),\n",
       " '1010111': array([-135.]),\n",
       " '1011000': array([0.]),\n",
       " '1011001': array([0.]),\n",
       " '1011010': array([0.]),\n",
       " '1011011': array([0.]),\n",
       " '1011100': array([0.]),\n",
       " '1011101': array([-45.]),\n",
       " '1011110': array([0.]),\n",
       " '1011111': array([0.]),\n",
       " '1100000': array([0.]),\n",
       " '1100001': array([0.]),\n",
       " '1100010': array([0.]),\n",
       " '1100011': array([0.]),\n",
       " '1100100': array([180.]),\n",
       " '1100101': array([0.]),\n",
       " '1100110': array([0.]),\n",
       " '1100111': array([-90.]),\n",
       " '1101000': array([0.]),\n",
       " '1101001': array([0.]),\n",
       " '1101010': array([0.]),\n",
       " '1101011': array([0.]),\n",
       " '1101100': array([0.]),\n",
       " '1101101': array([90.]),\n",
       " '1101110': array([0.]),\n",
       " '1101111': array([0.]),\n",
       " '1110000': array([0.]),\n",
       " '1110001': array([0.]),\n",
       " '1110010': array([0.]),\n",
       " '1110011': array([0.]),\n",
       " '1110100': array([-90.]),\n",
       " '1110101': array([0.]),\n",
       " '1110110': array([0.]),\n",
       " '1110111': array([-45.]),\n",
       " '1111000': array([0.]),\n",
       " '1111001': array([0.]),\n",
       " '1111010': array([0.]),\n",
       " '1111011': array([0.]),\n",
       " '1111100': array([0.]),\n",
       " '1111101': array([-135.]),\n",
       " '1111110': array([0.]),\n",
       " '1111111': array([0.])}"
      ]
     },
     "execution_count": 5,
     "metadata": {},
     "output_type": "execute_result"
    }
   ],
   "source": [
    "psi = x1.getPsiAtAngles(degree = True)\n",
    "psi = {bin(i)[2:].zfill(7):value for i,value in enumerate(psi)}\n",
    "psi"
   ]
  },
  {
   "cell_type": "code",
   "execution_count": 6,
   "metadata": {},
   "outputs": [
    {
     "name": "stderr",
     "output_type": "stream",
     "text": [
      "/home/cleoner/anaconda3/lib/python3.8/site-packages/numpy/core/_asarray.py:85: ComplexWarning: Casting complex values to real discards the imaginary part\n",
      "  return array(a, dtype, copy=False, order=order)\n"
     ]
    },
    {
     "data": {
      "image/png": "[encoded data removed]",
      "text/plain": [
       "<Figure size 432x288 with 1 Axes>"
      ]
     },
     "metadata": {
      "needs_background": "light"
     },
     "output_type": "display_data"
    },
    {
     "name": "stdout",
     "output_type": "stream",
     "text": [
      "[(0.24999999999999978+0j), (9.682320048931733e-38+0j), (0.24999999999999978+0j), (9.682320048931733e-38+0j), (0.24999999999999978+0j), (9.682320048931733e-38+0j), (0.24999999999999978+0j), (9.682320048931733e-38+0j)]\n"
     ]
    }
   ],
   "source": [
    "#res = logicQuBit.Measure([y1,y2,y3,y4], True)\n",
    "res = logicQuBit.Measure([x1,x2,x3], True)\n",
    "logicQuBit.Plot()\n",
    "print(res)"
   ]
  },
  {
   "cell_type": "code",
   "execution_count": null,
   "metadata": {},
   "outputs": [],
   "source": []
  }
 ],
 "metadata": {
  "kernelspec": {
   "display_name": "Python 3",
   "language": "python",
   "name": "python3"
  },
  "language_info": {
   "codemirror_mode": {
    "name": "ipython",
    "version": 3
   },
   "file_extension": ".py",
   "mimetype": "text/x-python",
   "name": "python",
   "nbconvert_exporter": "python",
   "pygments_lexer": "ipython3",
   "version": "3.8.5"
  }
 },
 "nbformat": 4,
 "nbformat_minor": 2
}
