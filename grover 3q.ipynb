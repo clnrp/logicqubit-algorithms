{
 "cells": [
  {
   "cell_type": "code",
   "execution_count": 44,
   "metadata": {
    "scrolled": true
   },
   "outputs": [],
   "source": [
    "from logicqubit.logic import *"
   ]
  },
  {
   "cell_type": "code",
   "execution_count": 45,
   "metadata": {},
   "outputs": [],
   "source": [
    "logicQuBit  = LogicQuBit(3)\n",
    "\n",
    "q1 = Qubit()\n",
    "q2 = Qubit()\n",
    "q3 = Qubit()\n",
    "\n",
    "q1.H()\n",
    "q2.H()\n",
    "q3.H()"
   ]
  },
  {
   "cell_type": "code",
   "execution_count": 46,
   "metadata": {},
   "outputs": [
    {
     "data": {
      "text/latex": [
       "$\\displaystyle \\begin{pmatrix}0.353553 \\\\ 0.353553 \\\\ 0.353553 \\\\ 0.353553 \\\\ 0.353553 \\\\ 0.353553 \\\\ 0.353553 \\\\ 0.353553 \\end{pmatrix}$"
      ],
      "text/plain": [
       "<IPython.core.display.Math object>"
      ]
     },
     "metadata": {},
     "output_type": "display_data"
    }
   ],
   "source": [
    "q1.PrintState()"
   ]
  },
  {
   "cell_type": "code",
   "execution_count": 47,
   "metadata": {},
   "outputs": [],
   "source": [
    "q1.X()\n",
    "#q2.X()\n",
    "#q3.X()\n",
    "\n",
    "q2.CZ(q1)\n",
    "#q3.CZ(q1)\n",
    "\n",
    "q1.X()\n",
    "#q2.X()\n",
    "#q3.X()"
   ]
  },
  {
   "cell_type": "code",
   "execution_count": 48,
   "metadata": {},
   "outputs": [
    {
     "data": {
      "text/latex": [
       "$\\displaystyle \\begin{pmatrix}0.353553 \\\\ 0.353553 \\\\ -0.353553 \\\\ -0.353553 \\\\ 0.353553 \\\\ 0.353553 \\\\ 0.353553 \\\\ 0.353553 \\end{pmatrix}$"
      ],
      "text/plain": [
       "<IPython.core.display.Math object>"
      ]
     },
     "metadata": {},
     "output_type": "display_data"
    }
   ],
   "source": [
    "q2.PrintState()"
   ]
  },
  {
   "cell_type": "code",
   "execution_count": 49,
   "metadata": {},
   "outputs": [],
   "source": [
    "# Grover 1x\n",
    "q1.H()\n",
    "q2.H()\n",
    "q3.H()\n",
    "q1.X()\n",
    "q2.X()\n",
    "q3.X()\n",
    "\n",
    "q3.H()\n",
    "q3.CCX(q1,q2)\n",
    "q3.H()\n",
    "\n",
    "q1.X()\n",
    "q2.X()\n",
    "q3.X()\n",
    "q1.H()\n",
    "q2.H()\n",
    "q3.H()"
   ]
  },
  {
   "cell_type": "code",
   "execution_count": 50,
   "metadata": {},
   "outputs": [
    {
     "data": {
      "text/latex": [
       "$\\displaystyle \\begin{pmatrix}-9.96426e-18 \\\\ -9.96426e-18 \\\\ -0.707107 \\\\ -0.707107 \\\\ -1.78638e-34 \\\\ -1.78638e-34 \\\\ -1.34693e-17 \\\\ -1.34693e-17 \\end{pmatrix}$"
      ],
      "text/plain": [
       "<IPython.core.display.Math object>"
      ]
     },
     "metadata": {},
     "output_type": "display_data"
    }
   ],
   "source": [
    "q2.PrintState()"
   ]
  },
  {
   "cell_type": "code",
   "execution_count": 51,
   "metadata": {},
   "outputs": [
    {
     "data": {
      "image/png": "[encoded data removed]",
      "text/plain": [
       "<Figure size 432x288 with 1 Axes>"
      ]
     },
     "metadata": {
      "needs_background": "light"
     },
     "output_type": "display_data"
    }
   ],
   "source": [
    "logicQuBit.Measure([q1,q2,q3], True)\n",
    "logicQuBit.Plot()"
   ]
  },
  {
   "cell_type": "code",
   "execution_count": null,
   "metadata": {},
   "outputs": [],
   "source": []
  }
 ],
 "metadata": {
  "kernelspec": {
   "display_name": "Python 3",
   "language": "python",
   "name": "python3"
  },
  "language_info": {
   "codemirror_mode": {
    "name": "ipython",
    "version": 3
   },
   "file_extension": ".py",
   "mimetype": "text/x-python",
   "name": "python",
   "nbconvert_exporter": "python",
   "pygments_lexer": "ipython3",
   "version": "3.7.4"
  }
 },
 "nbformat": 4,
 "nbformat_minor": 2
}
