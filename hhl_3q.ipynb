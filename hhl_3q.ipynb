{
 "cells": [
  {
   "cell_type": "code",
   "execution_count": 2,
   "metadata": {
    "scrolled": true
   },
   "outputs": [
    {
     "name": "stdout",
     "output_type": "stream",
     "text": [
      "logicqubit-gpu version 1.4.4\n"
     ]
    }
   ],
   "source": [
    "from logicqubit.logic import *\n",
    "from cmath import *\n",
    "import numpy as np\n",
    "import sympy as sp\n",
    "from scipy.linalg import expm, sinm, cosm, logm, sqrtm"
   ]
  },
  {
   "cell_type": "code",
   "execution_count": 8,
   "metadata": {},
   "outputs": [],
   "source": [
    "def qft(qr):\n",
    "    for i in range(len(qr)):\n",
    "        for j in range(i):\n",
    "            qr[i].CU1(qr[j], pi/float(2**(i-j)))\n",
    "        qr[i].H()\n",
    "        \n",
    "def iqft(qr):\n",
    "    for i in range(len(qr)):\n",
    "        for j in range(i):\n",
    "            qr[i].CU1(qr[j], -pi/float(2**(i-j)))\n",
    "        qr[i].H()\n",
    "        \n",
    "def swap(s1, s2):\n",
    "    s2.CX(s1)\n",
    "    s1.CX(s2)\n",
    "    s2.CX(s1)\n",
    "    \n",
    "def ancilla_rotation(k, C, N, t):\n",
    "    if k == 0:\n",
    "        k = 3\n",
    "    theta = 2*asin(C*N*t / (2*pi*k))\n",
    "    return theta"
   ]
  },
  {
   "cell_type": "code",
   "execution_count": 18,
   "metadata": {},
   "outputs": [
    {
     "name": "stdout",
     "output_type": "stream",
     "text": [
      "[[ 1.00000000e+00+4.44089210e-16j -5.55111512e-17+1.94289029e-16j]\n",
      " [-5.55111512e-17+1.94289029e-16j  1.00000000e+00+4.44089210e-16j]]\n"
     ]
    }
   ],
   "source": [
    "# Ax=b, x=3/8=0.375 e -1/8=-0.125\n",
    "\n",
    "#A = np.matrix([[1.5,0.5],[0.5,1.5]])\n",
    "A = np.matrix([[3,1],[1,3]])\n",
    "t0 = 2*pi\n",
    "#t0 = 0.358166*pi\n",
    "register_size = 3\n",
    "\n",
    "# Set C to be the smallest eigenvalue that can be represented by the\n",
    "C = 2*pi / (2**register_size * t0)\n",
    "\n",
    "U = np.matrix(expm(1j*A*t0/2))\n",
    "U_A_div2 = np.matrix(expm(1j*A*t0/2)) \n",
    "U_A_div4 = np.matrix(expm(1j*A*t0/4))\n",
    "U_A_div8 = np.matrix(expm(1j*A*t0/8))\n",
    "U_A_inv_div2 = np.matrix(expm(-1j*A*t0/2)) \n",
    "U_A_inv_div4 = np.matrix(expm(-1j*A*t0/4))\n",
    "U_A_inv_div8 = np.matrix(expm(-1j*A*t0/8))\n",
    "print(U_A_div2)"
   ]
  },
  {
   "cell_type": "code",
   "execution_count": 19,
   "metadata": {},
   "outputs": [
    {
     "name": "stdout",
     "output_type": "stream",
     "text": [
      "[ 0.375 -0.125]\n"
     ]
    }
   ],
   "source": [
    "b = np.array([1,0])\n",
    "x = np.linalg.solve(A, b)\n",
    "print(x)"
   ]
  },
  {
   "cell_type": "code",
   "execution_count": 22,
   "metadata": {},
   "outputs": [],
   "source": [
    "logicQuBit  = LogicQuBit(5)\n",
    "\n",
    "m = 1\n",
    "\n",
    "a = Qubit()\n",
    "c1 = Qubit()\n",
    "c2 = Qubit()\n",
    "c3 = Qubit()\n",
    "b = Qubit()\n",
    "\n",
    "c1.H()\n",
    "c2.H()\n",
    "c3.H()\n",
    "\n",
    "#logicQuBit.PrintState() # a,c1,c2,c3,b\n",
    "#b.X()\n",
    "#b.H()\n",
    "\n",
    "# phase estimation\n",
    "b.CU(c3, U_A_div8)\n",
    "b.CU(c2, U_A_div4)\n",
    "b.CU(c1, U_A_div2)\n",
    "\n",
    "#b.CU(c3, U_A_div8)\n",
    "#c3.CU(c2, U_A_div4)\n",
    "#b.CU(c1, U_A_div2)\n",
    "\n",
    "b.CU(c1, U)\n",
    "\n",
    "b.CU(c2, U)\n",
    "b.CU(c2, U)\n",
    "\n",
    "b.CU(c3, U)\n",
    "b.CU(c3, U)\n",
    "b.CU(c3, U)\n",
    "\n",
    "iqft([c1,c2,c3])\n",
    "\n",
    "#logicQuBit.PrintState()\n",
    "\n",
    "swap(c1,c2)\n",
    "\n",
    "#a.CRY(c1, ancilla_rotation(1,C,register_size,t0))\n",
    "#a.CRY(c2, ancilla_rotation(2,C,register_size,t0))\n",
    "#a.CRY(c3, ancilla_rotation(3,C,register_size,t0))\n",
    "\n",
    "a.CRY(c1, 4*pi/(2**(m-1)))\n",
    "a.CRY(c2, 2*pi/(2**(m-1)))\n",
    "a.CRY(c3, 1*pi/(2**(m-1)))\n",
    "\n",
    "swap(c1,c2)\n",
    "\n",
    "qft([c1,c2,c3])\n",
    "\n",
    "# reverse phase estimation\n",
    "b.CU(c1, U_A_inv_div2)\n",
    "b.CU(c2, U_A_inv_div4)\n",
    "b.CU(c3, U_A_inv_div8)\n",
    "\n",
    "#b.CU(c1, U_A_div2.conj().T)\n",
    "#c3.CU(c2, U_A_div4.conj().T)\n",
    "#b.CU(c3, U_A_div8.conj().T)\n",
    "\n",
    "c1.H()\n",
    "c2.H()\n",
    "c3.H()\n",
    "#logicQuBit.PrintState()"
   ]
  },
  {
   "cell_type": "code",
   "execution_count": 23,
   "metadata": {},
   "outputs": [
    {
     "data": {
      "text/plain": [
       "{'|00000>': (0.2499999999999998+1.7063409187895582e-16j),\n",
       " '|00001>': (-0.2499999999999998-1.4607661608023493e-16j),\n",
       " '|00010>': (-1.1086672032947227e-16+0.2499999999999993j),\n",
       " '|00011>': (2.587602823027333e-16-0.2500000000000003j),\n",
       " '|00100>': (-2.1767899912092535e-18-2.8452969587286026e-17j),\n",
       " '|00101>': (3.9745443473611747e-17-5.050973954075609e-18j),\n",
       " '|00110>': (1.3183898417423731e-16+1.0974716840810325e-16j),\n",
       " '|00111>': (9.049449079217158e-17+1.4185632400615065e-16j),\n",
       " '|01000>': (2.6104397459488953e-16-0.24999999999999967j),\n",
       " '|01001>': (-2.658060785075875e-16+0.2499999999999997j),\n",
       " '|01010>': (0.24999999999999964+3.305302732981546e-16j),\n",
       " '|01011>': (-0.24999999999999978-1.7450729144281182e-16j),\n",
       " '|01100>': (-2.102094367686143e-17+6.561309913940905e-17j),\n",
       " '|01101>': (-1.6547709805541077e-17-6.967780908044991e-17j),\n",
       " '|01110>': (-1.5224714195567952e-16-2.1867728895564751e-16j),\n",
       " '|01111>': (-4.233075739510048e-17-2.0032626727651272e-16j),\n",
       " '|10000>': (0.1249999999999994+0.3017766952966368j),\n",
       " '|10001>': (0.12499999999999947+0.30177669529663675j),\n",
       " '|10010>': (-9.65067872401406e-18-9.181148766896414e-17j),\n",
       " '|10011>': (9.482345003015759e-18+8.958601784565853e-17j),\n",
       " '|10100>': (0.301776695296637-0.1249999999999993j),\n",
       " '|10101>': (0.3017766952966367-0.12499999999999933j),\n",
       " '|10110>': (2.7340234675633238e-17-7.866702207694828e-17j),\n",
       " '|10111>': (2.5945446732318976e-17+1.1948245520835522e-16j),\n",
       " '|11000>': (0.12499999999999974-0.051776695296636324j),\n",
       " '|11001>': (0.12499999999999953-0.05177669529663639j),\n",
       " '|11010>': (-1.0063830152270301e-16-8.376667586312026e-17j),\n",
       " '|11011>': (1.0543633367954246e-16+1.2647480026273595e-16j),\n",
       " '|11100>': (-0.05177669529663655-0.12500000000000017j),\n",
       " '|11101>': (-0.0517766952966364-0.12499999999999988j),\n",
       " '|11110>': (-1.0909889548428126e-16+7.485525393314356e-17j),\n",
       " '|11111>': (1.5650929685214397e-16-7.858241400071044e-17j)}"
      ]
     },
     "execution_count": 23,
     "metadata": {},
     "output_type": "execute_result"
    }
   ],
   "source": [
    "logicQuBit.getDicPsi()"
   ]
  },
  {
   "cell_type": "code",
   "execution_count": 15,
   "metadata": {},
   "outputs": [
    {
     "name": "stdout",
     "output_type": "stream",
     "text": [
      "[array(0.40623087-2.85155959e-18j), array(0.59376913-2.79524139e-19j)]\n"
     ]
    },
    {
     "data": {
      "image/png": "[encoded data removed]",
      "text/plain": [
       "<Figure size 432x288 with 1 Axes>"
      ]
     },
     "metadata": {
      "needs_background": "light"
     },
     "output_type": "display_data"
    },
    {
     "name": "stdout",
     "output_type": "stream",
     "text": [
      "[0.6008739716199221, 0.39912602838007605]\n"
     ]
    }
   ],
   "source": [
    "res_a = logicQuBit.Measure_One(a)\n",
    "print(res_a)\n",
    "res = logicQuBit.Measure([b]) # x = medir(b)\n",
    "logicQuBit.Plot()\n",
    "print(res)"
   ]
  },
  {
   "cell_type": "code",
   "execution_count": null,
   "metadata": {},
   "outputs": [],
   "source": [
    "def Text2List(table):\n",
    "    list = [int(i, base=2) for i in table]\n",
    "    size = len(table[0])\n",
    "    tmp = sorted(list, key=int, reverse=False)  # values in ascending order\n",
    "    result = [[int(bin(j)[2:].zfill(size)[i]) for i in range(size)] for j in tmp]\n",
    "    return result\n",
    "\n",
    "def BinList(n):\n",
    "    blist = []\n",
    "    for i in iter(range(2 ** n)):\n",
    "        b = bin(i)[2:].zfill(n)  # value in binary, ex: i=1, n=4 -> '0001'\n",
    "        blist.append(b)\n",
    "    return Text2List(blist)\n",
    "\n",
    "#size=3\n",
    "#blist = [value for i,value in enumerate(BinList(size)) if res[i]>0.1] \n",
    "#results = [sum([value/2**(i+1) for i,value in enumerate(j)]) for j in blist]\n",
    "#print(results)"
   ]
  },
  {
   "cell_type": "code",
   "execution_count": 17,
   "metadata": {},
   "outputs": [
    {
     "data": {
      "text/plain": [
       "[0.0,\n",
       " 0.7853981633974483,\n",
       " 1.5707963267948966,\n",
       " 2.356194490192345,\n",
       " 3.141592653589793,\n",
       " 3.9269908169872414,\n",
       " 4.71238898038469,\n",
       " 5.497787143782138]"
      ]
     },
     "execution_count": 17,
     "metadata": {},
     "output_type": "execute_result"
    }
   ],
   "source": [
    "# todos possíveis valores\n",
    "size = 3\n",
    "blist = [[i >> bl & 0x1 for bl in range(size)][::-1] for i in range(2**size)]\n",
    "results = [2*pi*sum([value/2**(i+1) for i,value in enumerate(j)]) for j in blist]\n",
    "results"
   ]
  },
  {
   "cell_type": "code",
   "execution_count": 18,
   "metadata": {},
   "outputs": [
    {
     "name": "stdout",
     "output_type": "stream",
     "text": [
      "(array([2., 4.]), matrix([[-0.70710678,  0.70710678],\n",
      "        [ 0.70710678,  0.70710678]]))\n"
     ]
    }
   ],
   "source": [
    "h_eigenvalue = np.linalg.eigh(A)\n",
    "print(h_eigenvalue)"
   ]
  },
  {
   "cell_type": "code",
   "execution_count": 57,
   "metadata": {},
   "outputs": [],
   "source": [
    "b  = [1, 1] \n",
    "a1 = h_eigenvalue[0][0]\n",
    "a2 = h_eigenvalue[0][1]\n",
    "v1 = h_eigenvalue[1][0]\n",
    "v2 = h_eigenvalue[1][1]"
   ]
  },
  {
   "cell_type": "code",
   "execution_count": 58,
   "metadata": {},
   "outputs": [
    {
     "data": {
      "text/plain": [
       "matrix([[1.06066017, 3.18198052]])"
      ]
     },
     "execution_count": 58,
     "metadata": {},
     "output_type": "execute_result"
    }
   ],
   "source": [
    "# multiplicar lamb^-1 por a_i*v_i\n",
    "(a1*v1+a2*v2)*0.75"
   ]
  },
  {
   "cell_type": "code",
   "execution_count": 59,
   "metadata": {},
   "outputs": [
    {
     "data": {
      "text/plain": [
       "matrix([[-0.31622777+0.j,  0.9486833 +0.j]])"
      ]
     },
     "execution_count": 59,
     "metadata": {},
     "output_type": "execute_result"
    }
   ],
   "source": [
    "x = sqrt(1/(b[0]**2/a1**2 + b[1]**2/a2**2))*(b[0]/a1*v1 + b[1]/a2*v2)\n",
    "x"
   ]
  },
  {
   "cell_type": "code",
   "execution_count": null,
   "metadata": {},
   "outputs": [],
   "source": [
    "logicQuBit  = LogicQuBit(5)\n",
    "\n",
    "m = 2\n",
    "\n",
    "a = Qubit()\n",
    "c1 = Qubit()\n",
    "c2 = Qubit()\n",
    "c3 = Qubit()\n",
    "b = Qubit()\n",
    "\n",
    "c1.H()\n",
    "c2.H()\n",
    "c3.H()\n",
    "\n",
    "#logicQuBit.PrintState() # a,c1,c2,c3,b\n",
    "#b.X()\n",
    "#b.H()\n",
    "\n",
    "# phase estimation\n",
    "#b.CU(c3, U_A_div8)\n",
    "#b.CU(c2, U_A_div4)\n",
    "#b.CU(c1, U_A_div2)\n",
    "\n",
    "#b.CU(c3, U_A_div8)\n",
    "#c3.CU(c2, U_A_div4)\n",
    "#b.CU(c1, U_A_div2)\n",
    "\n",
    "b.CU(c1, U)\n",
    "\n",
    "b.CU(c2, U)\n",
    "b.CU(c2, U)\n",
    "\n",
    "b.CU(c3, U)\n",
    "b.CU(c3, U)\n",
    "b.CU(c3, U)\n",
    "\n",
    "iqft([c1,c2,c3])\n",
    "\n",
    "#logicQuBit.PrintState()\n",
    "\n",
    "swap(c1,c2)\n",
    "\n",
    "#a.CRY(c1, ancilla_rotation(1,C,register_size,t0))\n",
    "#a.CRY(c2, ancilla_rotation(2,C,register_size,t0))\n",
    "#a.CRY(c3, ancilla_rotation(3,C,register_size,t0))\n",
    "\n",
    "a.CRY(c1, 4*pi/(2**(m-1)))\n",
    "a.CRY(c2, 2*pi/(2**(m-1)))\n",
    "a.CRY(c3, 1*pi/(2**(m-1)))\n",
    "\n",
    "swap(c1,c2)\n",
    "\n",
    "qft([c1,c2,c3])\n",
    "\n",
    "# reverse phase estimation\n",
    "#b.CU(c1, U_A_inv_div2)\n",
    "#b.CU(c2, U_A_inv_div4)\n",
    "#b.CU(c3, U_A_inv_div8)\n",
    "\n",
    "#b.CU(c1, U_A_div2.conj().T)\n",
    "#c3.CU(c2, U_A_div4.conj().T)\n",
    "#b.CU(c3, U_A_div8.conj().T)\n",
    "\n",
    "b.CU(c3, U.conj().T)\n",
    "b.CU(c3, U.conj().T)\n",
    "b.CU(c3, U.conj().T)\n",
    "\n",
    "b.CU(c2, U.conj().T)\n",
    "b.CU(c2, U.conj().T)\n",
    "\n",
    "b.CU(c1, U.conj().T)\n",
    "\n",
    "c1.H()\n",
    "c2.H()\n",
    "c3.H()\n",
    "#logicQuBit.PrintState()"
   ]
  },
  {
   "cell_type": "code",
   "execution_count": null,
   "metadata": {},
   "outputs": [],
   "source": []
  }
 ],
 "metadata": {
  "kernelspec": {
   "display_name": "Python 3",
   "language": "python",
   "name": "python3"
  },
  "language_info": {
   "codemirror_mode": {
    "name": "ipython",
    "version": 3
   },
   "file_extension": ".py",
   "mimetype": "text/x-python",
   "name": "python",
   "nbconvert_exporter": "python",
   "pygments_lexer": "ipython3",
   "version": "3.7.4"
  }
 },
 "nbformat": 4,
 "nbformat_minor": 2
}
