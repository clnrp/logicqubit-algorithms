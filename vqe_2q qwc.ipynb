{
 "cells": [
  {
   "cell_type": "code",
   "execution_count": 1,
   "metadata": {
    "scrolled": true
   },
   "outputs": [
    {
     "name": "stdout",
     "output_type": "stream",
     "text": [
      "Cuda is not available!\n",
      "logicqubit version 1.5.8\n"
     ]
    }
   ],
   "source": [
    "from logicqubit.logic import *\n",
    "from cmath import *\n",
    "import numpy as np\n",
    "import sympy as sp\n",
    "import scipy\n",
    "from scipy.optimize import *\n",
    "import matplotlib.pyplot as plt"
   ]
  },
  {
   "cell_type": "markdown",
   "metadata": {},
   "source": [
    "See https://arxiv.org/abs/1304.3061"
   ]
  },
  {
   "cell_type": "code",
   "execution_count": 2,
   "metadata": {},
   "outputs": [],
   "source": [
    "gates = Gates(1)\n",
    "\n",
    "ID = gates.ID()\n",
    "X = gates.X()\n",
    "Y = gates.Y()\n",
    "Z = gates.Z()"
   ]
  },
  {
   "cell_type": "code",
   "execution_count": 3,
   "metadata": {},
   "outputs": [
    {
     "data": {
      "text/plain": [
       "array([[ 1,  0,  0,  0],\n",
       "       [ 0, -1,  0,  0],\n",
       "       [ 0,  0, -1,  0],\n",
       "       [ 0,  0,  0,  1]])"
      ]
     },
     "execution_count": 3,
     "metadata": {},
     "output_type": "execute_result"
    }
   ],
   "source": [
    "II = ID.kron(ID)\n",
    "\n",
    "XX = X.kron(X)\n",
    "XI = X.kron(ID)\n",
    "IX = ID.kron(X)\n",
    "XY = X.kron(Y)\n",
    "XZ = X.kron(Z)\n",
    "\n",
    "YY = Y.kron(Y)\n",
    "YI = Y.kron(ID)\n",
    "IY = ID.kron(Y)\n",
    "YX = Y.kron(X)\n",
    "YZ = Y.kron(Z)\n",
    "\n",
    "ZZ = Z.kron(Z)\n",
    "ZI = Z.kron(ID)\n",
    "IZ = ID.kron(Z)\n",
    "ZX = Z.kron(X)\n",
    "ZY = Z.kron(Y)\n",
    "\n",
    "sig_yy = [YY.get()[i,i] for i in range(len(YY.get()))]\n",
    "sig_iz = [IZ.get()[i,i] for i in range(len(IZ.get()))]\n",
    "sig_zi = [ZI.get()[i,i] for i in range(len(ZI.get()))]\n",
    "sig_iz\n",
    "ZZ.get()"
   ]
  },
  {
   "cell_type": "code",
   "execution_count": 4,
   "metadata": {},
   "outputs": [
    {
     "data": {
      "text/plain": [
       "(-2.23606797749979+0j)"
      ]
     },
     "execution_count": 4,
     "metadata": {},
     "output_type": "execute_result"
    }
   ],
   "source": [
    "H = XZ + ZI*2 # -ZX + 2*ZI\n",
    "\n",
    "min(scipy.linalg.eig(H.get())[0])"
   ]
  },
  {
   "cell_type": "code",
   "execution_count": 5,
   "metadata": {},
   "outputs": [],
   "source": [
    "def ansatz(reg, params):\n",
    "    n_qubits = len(reg)\n",
    "    depth = n_qubits\n",
    "    for i in range(depth):\n",
    "        for j in range(n_qubits):\n",
    "            if(j < n_qubits-1):\n",
    "                reg[j+1].CNOT(reg[j])\n",
    "            reg[i].RY(params[j])\n",
    "            \n",
    "def ansatz_2q(q1, q2, params):\n",
    "    q2.CNOT(q1)\n",
    "    q1.RY(params[0])\n",
    "    q2.RY(params[1])\n",
    "    q1.CNOT(q2)\n",
    "    q1.RY(params[2])\n",
    "    q2.RY(params[3])\n",
    "    q2.CNOT(q1)\n",
    "    q1.RY(params[4])\n",
    "    q2.RY(params[5])"
   ]
  },
  {
   "cell_type": "code",
   "execution_count": 6,
   "metadata": {
    "scrolled": true
   },
   "outputs": [
    {
     "name": "stderr",
     "output_type": "stream",
     "text": [
      "/home/cleoner/anaconda3/lib/python3.8/site-packages/scipy/optimize/optimize.py:586: ComplexWarning: Casting complex values to real discards the imaginary part\n",
      "  fsim[k] = func(sim[k])\n",
      "/home/cleoner/anaconda3/lib/python3.8/site-packages/scipy/optimize/optimize.py:611: ComplexWarning: Casting complex values to real discards the imaginary part\n",
      "  fsim[-1] = fxe\n",
      "/home/cleoner/anaconda3/lib/python3.8/site-packages/scipy/optimize/optimize.py:618: ComplexWarning: Casting complex values to real discards the imaginary part\n",
      "  fsim[-1] = fxr\n",
      "/home/cleoner/anaconda3/lib/python3.8/site-packages/scipy/optimize/optimize.py:614: ComplexWarning: Casting complex values to real discards the imaginary part\n",
      "  fsim[-1] = fxr\n",
      "/home/cleoner/anaconda3/lib/python3.8/site-packages/scipy/optimize/optimize.py:627: ComplexWarning: Casting complex values to real discards the imaginary part\n",
      "  fsim[-1] = fxc\n",
      "/home/cleoner/anaconda3/lib/python3.8/site-packages/scipy/optimize/optimize.py:637: ComplexWarning: Casting complex values to real discards the imaginary part\n",
      "  fsim[-1] = fxcc\n"
     ]
    },
    {
     "name": "stdout",
     "output_type": "stream",
     "text": [
      " final_simplex: (array([[ 3.988717  ,  1.21161093, -0.99924905, -1.78975361, -0.80799974,\n",
      "        -1.84695884],\n",
      "       [ 3.988717  ,  1.21161093, -0.99924905, -1.78975361, -0.80799974,\n",
      "        -1.84695884],\n",
      "       [ 3.988717  ,  1.21161093, -0.99924905, -1.78975361, -0.80799974,\n",
      "        -1.84695884],\n",
      "       [ 3.988717  ,  1.21161093, -0.99924905, -1.78975361, -0.80799974,\n",
      "        -1.84695884],\n",
      "       [ 3.988717  ,  1.21161093, -0.99924905, -1.78975361, -0.80799974,\n",
      "        -1.84695884],\n",
      "       [ 3.988717  ,  1.21161093, -0.99924905, -1.78975361, -0.80799974,\n",
      "        -1.84695884],\n",
      "       [ 3.988717  ,  1.21161093, -0.99924905, -1.78975361, -0.80799974,\n",
      "        -1.84695884]]), array([-2.23606798, -2.23606798, -2.23606798, -2.23606798, -2.23606798,\n",
      "       -2.23606798, -2.23606798]))\n",
      "           fun: -2.2360679774997907\n",
      "       message: 'Optimization terminated successfully.'\n",
      "          nfev: 650\n",
      "           nit: 348\n",
      "        status: 0\n",
      "       success: True\n",
      "             x: array([ 3.988717  ,  1.21161093, -0.99924905, -1.78975361, -0.80799974,\n",
      "       -1.84695884])\n"
     ]
    },
    {
     "name": "stderr",
     "output_type": "stream",
     "text": [
      "/home/cleoner/anaconda3/lib/python3.8/site-packages/scipy/optimize/optimize.py:644: ComplexWarning: Casting complex values to real discards the imaginary part\n",
      "  fsim[j] = func(sim[j])\n"
     ]
    }
   ],
   "source": [
    "def expectation_2q(params):\n",
    "    logicQuBit  = LogicQuBit(2)\n",
    "    q1 = Qubit()\n",
    "    q2 = Qubit()\n",
    "\n",
    "    ansatz_2q(q1,q2,params)\n",
    "    psi = logicQuBit.getPsi()\n",
    "    \n",
    "    return (psi.adjoint()*H*psi).get()[0][0]\n",
    "\n",
    "minimum = minimize(expectation_2q, [0,0,0,0,0,0], method='Nelder-Mead', options={'xtol': 1e-10, 'ftol': 1e-10})\n",
    "print(minimum)"
   ]
  },
  {
   "cell_type": "code",
   "execution_count": 7,
   "metadata": {},
   "outputs": [],
   "source": [
    "def expectation_value(measurements, base = np.array([1,-1,-1,1])):\n",
    "    probabilities = np.array(measurements)\n",
    "    expectation = np.sum(base * probabilities)\n",
    "    return expectation\n",
    "\n",
    "def sigma_xx(params):\n",
    "    logicQuBit  = LogicQuBit(2, first_left = False)\n",
    "    q1 = Qubit()\n",
    "    q2 = Qubit()\n",
    "    \n",
    "    ansatz_2q(q1,q2,params)\n",
    "    \n",
    "    # medidas em XX\n",
    "    q1.RY(-pi/2)\n",
    "    q2.RY(-pi/2)\n",
    "    \n",
    "    result = logicQuBit.Measure([q1,q2])\n",
    "    result = expectation_value(result)\n",
    "    return result\n",
    "\n",
    "def sigma_yy(params):\n",
    "    logicQuBit  = LogicQuBit(2, first_left = False)\n",
    "    q1 = Qubit()\n",
    "    q2 = Qubit()\n",
    "    \n",
    "    ansatz_2q(q1,q2,params)\n",
    "    \n",
    "    # medidas em YY\n",
    "    q1.RX(pi/2)\n",
    "    q2.RX(pi/2)\n",
    "    \n",
    "    result = logicQuBit.Measure([q1,q2])\n",
    "    result = expectation_value(result)\n",
    "    return result\n",
    "\n",
    "def sigma_zz(params):\n",
    "    logicQuBit  = LogicQuBit(2, first_left = False)\n",
    "    q1 = Qubit()\n",
    "    q2 = Qubit()\n",
    "    \n",
    "    ansatz_2q(q1,q2,params)\n",
    "          \n",
    "    result = logicQuBit.Measure([q1,q2])\n",
    "    zz = expectation_value(result)\n",
    "    iz = expectation_value(result, sig_iz) # [zz, iz] = 0\n",
    "    zi = expectation_value(result, sig_zi) # [zz, zi] = 0\n",
    "    return zz, iz, zi\n",
    "\n",
    "def sigma_zx(params):\n",
    "    logicQuBit  = LogicQuBit(2, first_left = False)\n",
    "    q1 = Qubit()\n",
    "    q2 = Qubit()\n",
    "    \n",
    "    ansatz_2q(q1,q2,params)\n",
    "    \n",
    "    # medidas em X\n",
    "    #q1.RY(-pi/2)\n",
    "    q2.RY(-pi/2)\n",
    "    \n",
    "    result = logicQuBit.Measure([q1,q2])\n",
    "    zx = expectation_value(result)\n",
    "    zi = expectation_value(result, sig_zi)\n",
    "    return zx, zi\n",
    "\n",
    "def expectation_energy(params):\n",
    "    #xx =  sigma_xx(params)\n",
    "    #yy =  sigma_yy(params)\n",
    "    zz, iz, zi = sigma_zz(params)\n",
    "    zx, zi = sigma_zx(params)\n",
    "    zy = sigma_zx(params)\n",
    "\n",
    "    result = -zx + zi*2\n",
    "    return result"
   ]
  },
  {
   "cell_type": "code",
   "execution_count": 8,
   "metadata": {},
   "outputs": [
    {
     "name": "stdout",
     "output_type": "stream",
     "text": [
      " final_simplex: (array([[ 2.33667492, -0.80654829,  0.7874674 , -2.8748362 ,  0.55634138,\n",
      "        -1.89601139],\n",
      "       [ 2.33667492, -0.80654829,  0.7874674 , -2.8748362 ,  0.55634138,\n",
      "        -1.89601139],\n",
      "       [ 2.33667492, -0.80654829,  0.7874674 , -2.8748362 ,  0.55634138,\n",
      "        -1.89601139],\n",
      "       [ 2.33667492, -0.80654829,  0.7874674 , -2.8748362 ,  0.55634138,\n",
      "        -1.89601139],\n",
      "       [ 2.33667492, -0.80654829,  0.7874674 , -2.8748362 ,  0.55634138,\n",
      "        -1.89601139],\n",
      "       [ 2.33667492, -0.80654829,  0.7874674 , -2.8748362 ,  0.55634138,\n",
      "        -1.89601139],\n",
      "       [ 2.33667492, -0.80654829,  0.7874674 , -2.8748362 ,  0.55634138,\n",
      "        -1.89601139]]), array([-3., -3., -3., -3., -3., -3., -3.]))\n",
      "           fun: -3.0000000000000013\n",
      "       message: 'Optimization terminated successfully.'\n",
      "          nfev: 781\n",
      "           nit: 443\n",
      "        status: 0\n",
      "       success: True\n",
      "             x: array([ 2.33667492, -0.80654829,  0.7874674 , -2.8748362 ,  0.55634138,\n",
      "       -1.89601139])\n"
     ]
    }
   ],
   "source": [
    "minimum = minimize(expectation_energy, [0,0,0,0,0,0], method='Nelder-Mead', options={'xtol': 1e-10, 'ftol': 1e-10})\n",
    "print(minimum)"
   ]
  },
  {
   "cell_type": "code",
   "execution_count": 9,
   "metadata": {},
   "outputs": [],
   "source": [
    "def gradient(params, evaluate):\n",
    "    n_params = params.shape[0]\n",
    "    shift = pi/2\n",
    "    gradients = np.zeros(n_params)\n",
    "    \n",
    "    for i in range(n_params):\n",
    "        #parameter shift rule\n",
    "        shift_vect = np.array([shift if j==i else 0 for j in range(n_params)])\n",
    "        shift_right = params + shift_vect\n",
    "        shift_left = params - shift_vect\n",
    "        \n",
    "        expectation_right = evaluate(shift_right)\n",
    "        expectation_left = evaluate(shift_left)\n",
    "\n",
    "        gradients[i] = expectation_right - expectation_left\n",
    "\n",
    "    return gradients"
   ]
  },
  {
   "cell_type": "code",
   "execution_count": 10,
   "metadata": {},
   "outputs": [],
   "source": [
    "params = np.random.uniform(-np.pi, np.pi, 6)\n",
    "last_params = np.zeros(6)"
   ]
  },
  {
   "cell_type": "code",
   "execution_count": 11,
   "metadata": {},
   "outputs": [
    {
     "name": "stdout",
     "output_type": "stream",
     "text": [
      "9.28249216443392\n",
      "0.13968873911406765\n",
      "0.07449573496384498\n",
      "0.03561819761113505\n",
      "0.017009135022420074\n",
      "0.008289269456142612\n"
     ]
    },
    {
     "name": "stderr",
     "output_type": "stream",
     "text": [
      "/tmp/ipykernel_2886/1088512639.py:15: ComplexWarning: Casting complex values to real discards the imaginary part\n",
      "  gradients[i] = expectation_right - expectation_left\n"
     ]
    },
    {
     "name": "stdout",
     "output_type": "stream",
     "text": [
      "0.004118625697719369\n",
      "0.0020804823085976976\n",
      "0.0010654092946490445\n",
      "0.0005516774294618276\n"
     ]
    }
   ],
   "source": [
    "lr = 0.1\n",
    "err = 1\n",
    "while err > 1e-3:\n",
    "    grad = gradient(params, expectation_energy)\n",
    "    params = params - lr*grad\n",
    "    err = abs(sum(params - last_params))\n",
    "    last_params = np.array(params)\n",
    "    print(err) "
   ]
  },
  {
   "cell_type": "code",
   "execution_count": 12,
   "metadata": {},
   "outputs": [
    {
     "data": {
      "text/plain": [
       "(-2.9999998441205644+0j)"
      ]
     },
     "execution_count": 12,
     "metadata": {},
     "output_type": "execute_result"
    }
   ],
   "source": [
    "expectation_energy(params)"
   ]
  },
  {
   "cell_type": "code",
   "execution_count": null,
   "metadata": {},
   "outputs": [],
   "source": []
  }
 ],
 "metadata": {
  "kernelspec": {
   "display_name": "Python 3 (ipykernel)",
   "language": "python",
   "name": "python3"
  },
  "language_info": {
   "codemirror_mode": {
    "name": "ipython",
    "version": 3
   },
   "file_extension": ".py",
   "mimetype": "text/x-python",
   "name": "python",
   "nbconvert_exporter": "python",
   "pygments_lexer": "ipython3",
   "version": "3.8.5"
  }
 },
 "nbformat": 4,
 "nbformat_minor": 2
}
