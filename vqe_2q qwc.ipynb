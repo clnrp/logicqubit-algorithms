{
 "cells": [
  {
   "cell_type": "code",
   "execution_count": 23,
   "metadata": {
    "scrolled": true
   },
   "outputs": [],
   "source": [
    "from logicqubit.logic import *\n",
    "from cmath import *\n",
    "import numpy as np\n",
    "import sympy as sp\n",
    "import scipy\n",
    "from scipy.optimize import *\n",
    "import matplotlib.pyplot as plt"
   ]
  },
  {
   "cell_type": "markdown",
   "metadata": {},
   "source": [
    "https://arxiv.org/abs/1304.3061\n",
    "\n",
    "https://cpb-us-w2.wpmucdn.com/voices.uchicago.edu/dist/0/2327/files/2020/10/SimultaneousMeasurementVQE.pdf1"
   ]
  },
  {
   "cell_type": "code",
   "execution_count": 24,
   "metadata": {},
   "outputs": [],
   "source": [
    "gates = Gates(1)\n",
    "\n",
    "ID = gates.ID()\n",
    "X = gates.X()\n",
    "Y = gates.Y()\n",
    "Z = gates.Z()"
   ]
  },
  {
   "cell_type": "code",
   "execution_count": 25,
   "metadata": {},
   "outputs": [
    {
     "data": {
      "text/plain": [
       "array([[ 1,  0,  0,  0],\n",
       "       [ 0, -1,  0,  0],\n",
       "       [ 0,  0, -1,  0],\n",
       "       [ 0,  0,  0,  1]])"
      ]
     },
     "execution_count": 25,
     "metadata": {},
     "output_type": "execute_result"
    }
   ],
   "source": [
    "II = ID.kron(ID)\n",
    "\n",
    "XX = X.kron(X)\n",
    "XI = X.kron(ID)\n",
    "IX = ID.kron(X)\n",
    "XY = X.kron(Y)\n",
    "XZ = X.kron(Z)\n",
    "\n",
    "YY = Y.kron(Y)\n",
    "YI = Y.kron(ID)\n",
    "IY = ID.kron(Y)\n",
    "YX = Y.kron(X)\n",
    "YZ = Y.kron(Z)\n",
    "\n",
    "ZZ = Z.kron(Z)\n",
    "ZI = Z.kron(ID)\n",
    "IZ = ID.kron(Z)\n",
    "ZX = Z.kron(X)\n",
    "ZY = Z.kron(Y)\n",
    "\n",
    "sig_is = np.kron([1, 1], [1, -1])\n",
    "sig_si = np.kron([1, -1], [1, 1])\n",
    "ZZ.get()"
   ]
  },
  {
   "cell_type": "code",
   "execution_count": 26,
   "metadata": {},
   "outputs": [
    {
     "data": {
      "text/plain": [
       "(-10+0j)"
      ]
     },
     "execution_count": 26,
     "metadata": {},
     "output_type": "execute_result"
    }
   ],
   "source": [
    "#H = XZ + ZI*2 # -ZX + 2*ZI\n",
    "\n",
    "H = XX*3 + ZZ*7\n",
    "\n",
    "min(scipy.linalg.eig(H.get())[0])"
   ]
  },
  {
   "cell_type": "code",
   "execution_count": 27,
   "metadata": {},
   "outputs": [],
   "source": [
    "def ansatz(reg, params):\n",
    "    n_qubits = len(reg)\n",
    "    depth = n_qubits\n",
    "    for i in range(depth):\n",
    "        for j in range(n_qubits):\n",
    "            if(j < n_qubits-1):\n",
    "                reg[j+1].CNOT(reg[j])\n",
    "            reg[i].RY(params[j])\n",
    "            \n",
    "def ansatz_2q(q1, q2, params):\n",
    "    q2.CNOT(q1)\n",
    "    q1.RY(params[0])\n",
    "    q2.RY(params[1])\n",
    "    q1.CNOT(q2)\n",
    "    q1.RY(params[2])\n",
    "    q2.RY(params[3])\n",
    "    q2.CNOT(q1)\n",
    "    q1.RY(params[4])\n",
    "    q2.RY(params[5])\n",
    "    q1.CNOT(q2)"
   ]
  },
  {
   "cell_type": "code",
   "execution_count": 28,
   "metadata": {
    "scrolled": true
   },
   "outputs": [
    {
     "name": "stdout",
     "output_type": "stream",
     "text": [
      " final_simplex: (array([[ 5.31847022, -0.42327127, -3.1307354 ,  1.06588762,  1.01423211,\n",
      "        -3.42077752],\n",
      "       [ 5.31847022, -0.42327127, -3.1307354 ,  1.06588762,  1.01423211,\n",
      "        -3.42077752],\n",
      "       [ 5.31847022, -0.42327127, -3.1307354 ,  1.06588762,  1.01423211,\n",
      "        -3.42077752],\n",
      "       [ 5.31847022, -0.42327127, -3.1307354 ,  1.06588762,  1.01423211,\n",
      "        -3.42077752],\n",
      "       [ 5.31847022, -0.42327127, -3.1307354 ,  1.06588762,  1.01423211,\n",
      "        -3.42077752],\n",
      "       [ 5.31847022, -0.42327127, -3.1307354 ,  1.06588762,  1.01423211,\n",
      "        -3.42077752],\n",
      "       [ 5.31847022, -0.42327127, -3.1307354 ,  1.06588762,  1.01423211,\n",
      "        -3.42077752]]), array([-10., -10., -10., -10., -10., -10., -10.]))\n",
      "           fun: -10.000000000000004\n",
      "       message: 'Optimization terminated successfully.'\n",
      "          nfev: 1065\n",
      "           nit: 614\n",
      "        status: 0\n",
      "       success: True\n",
      "             x: array([ 5.31847022, -0.42327127, -3.1307354 ,  1.06588762,  1.01423211,\n",
      "       -3.42077752])\n"
     ]
    }
   ],
   "source": [
    "def expectation_2q(params):\n",
    "    logicQuBit  = LogicQuBit(2)\n",
    "    q1 = Qubit()\n",
    "    q2 = Qubit()\n",
    "\n",
    "    ansatz_2q(q1,q2,params)\n",
    "    psi = logicQuBit.getPsi()\n",
    "    \n",
    "    return (psi.adjoint()*H*psi).get()[0][0]\n",
    "\n",
    "minimum = minimize(expectation_2q, [0,0,0,0,0,0], method='Nelder-Mead', options={'xtol': 1e-10, 'ftol': 1e-10})\n",
    "print(minimum)"
   ]
  },
  {
   "cell_type": "code",
   "execution_count": 29,
   "metadata": {},
   "outputs": [],
   "source": [
    "def expectation_value(measurements, base = np.array([1,-1,-1,1])):\n",
    "    probabilities = np.array(measurements)\n",
    "    expectation = np.sum(base * probabilities)\n",
    "    return expectation\n",
    "\n",
    "def sigma_xx(params):\n",
    "    logicQuBit  = LogicQuBit(2, first_left = False)\n",
    "    q1 = Qubit()\n",
    "    q2 = Qubit()\n",
    "    \n",
    "    ansatz_2q(q1,q2,params)\n",
    "    \n",
    "    # medidas em XX\n",
    "    q1.RY(-pi/2)\n",
    "    q2.RY(-pi/2)\n",
    "    \n",
    "    result = logicQuBit.Measure([q1,q2])\n",
    "    result = expectation_value(result)\n",
    "    return result\n",
    "\n",
    "def sigma_yy(params):\n",
    "    logicQuBit  = LogicQuBit(2, first_left = False)\n",
    "    q1 = Qubit()\n",
    "    q2 = Qubit()\n",
    "    \n",
    "    ansatz_2q(q1,q2,params)\n",
    "    \n",
    "    # medidas em YY\n",
    "    q1.RX(pi/2)\n",
    "    q2.RX(pi/2)\n",
    "    \n",
    "    result = logicQuBit.Measure([q1,q2])\n",
    "    yy = expectation_value(result)\n",
    "    iy = expectation_value(result, sig_is)\n",
    "    yi = expectation_value(result, sig_si)\n",
    "    return yy, iy, yi\n",
    "\n",
    "def sigma_zz(params):\n",
    "    logicQuBit  = LogicQuBit(2, first_left = False)\n",
    "    q1 = Qubit()\n",
    "    q2 = Qubit()\n",
    "    \n",
    "    ansatz_2q(q1,q2,params)\n",
    "          \n",
    "    result = logicQuBit.Measure([q1,q2])\n",
    "    zz = expectation_value(result)\n",
    "    iz = expectation_value(result, sig_is) # [zz, iz] = 0\n",
    "    zi = expectation_value(result, sig_si) # [zz, zi] = 0\n",
    "    return zz, iz, zi\n",
    "\n",
    "def sigma_zx(params):\n",
    "    logicQuBit  = LogicQuBit(2, first_left = False)\n",
    "    q1 = Qubit()\n",
    "    q2 = Qubit()\n",
    "    \n",
    "    ansatz_2q(q1,q2,params)\n",
    "    \n",
    "    # medidas em X\n",
    "    #q1.RY(-pi/2)\n",
    "    q2.RY(-pi/2)\n",
    "    \n",
    "    result = logicQuBit.Measure([q1,q2])\n",
    "    zx = expectation_value(result)\n",
    "    return zx\n",
    "\n",
    "def sigma_xx_zz(params):\n",
    "    logicQuBit  = LogicQuBit(2)\n",
    "    q1 = Qubit()\n",
    "    q2 = Qubit()\n",
    "    \n",
    "    ansatz_2q(q1,q2,params)\n",
    "    \n",
    "    # medida na base de bell\n",
    "    q2.CX(q1)\n",
    "    q1.H()    # Hx1\n",
    "    \n",
    "    result = logicQuBit.Measure([q1,q2])\n",
    "    zi = expectation_value(result, sig_si)\n",
    "    iz = expectation_value(result, sig_is)\n",
    "    xx = zi\n",
    "    zz = iz\n",
    "    return xx, zz\n",
    "\n",
    "def expectation_energy(params):\n",
    "    #xx =  sigma_xx(params)\n",
    "    #yy =  sigma_yy(params)\n",
    "    \n",
    "    #zz, iz, zi = sigma_zz(params)\n",
    "    #zx = sigma_zx(params)   \n",
    "    #result = -zx + zi*2\n",
    "    \n",
    "    xx, zz = sigma_xx_zz(params) \n",
    "    result = xx*3 + zz*7\n",
    "    return result"
   ]
  },
  {
   "cell_type": "code",
   "execution_count": 30,
   "metadata": {},
   "outputs": [
    {
     "name": "stdout",
     "output_type": "stream",
     "text": [
      " final_simplex: (array([[ 2.19396352, -0.53207923,  0.91245827, -3.03402174,  0.31749551,\n",
      "        -1.89342844],\n",
      "       [ 2.19396352, -0.53207923,  0.91245827, -3.03402174,  0.31749551,\n",
      "        -1.89342844],\n",
      "       [ 2.19396352, -0.53207923,  0.91245827, -3.03402174,  0.31749551,\n",
      "        -1.89342844],\n",
      "       [ 2.19396352, -0.53207923,  0.91245827, -3.03402174,  0.31749551,\n",
      "        -1.89342844],\n",
      "       [ 2.19396352, -0.53207923,  0.91245828, -3.03402174,  0.31749551,\n",
      "        -1.89342844],\n",
      "       [ 2.19396352, -0.53207923,  0.91245827, -3.03402174,  0.31749551,\n",
      "        -1.89342844],\n",
      "       [ 2.19396352, -0.53207923,  0.91245827, -3.03402174,  0.31749551,\n",
      "        -1.89342844]]), array([-10., -10., -10., -10., -10., -10., -10.]))\n",
      "           fun: -10.000000000000005\n",
      "       message: 'Optimization terminated successfully.'\n",
      "          nfev: 932\n",
      "           nit: 543\n",
      "        status: 0\n",
      "       success: True\n",
      "             x: array([ 2.19396352, -0.53207923,  0.91245827, -3.03402174,  0.31749551,\n",
      "       -1.89342844])\n"
     ]
    }
   ],
   "source": [
    "minimum = minimize(expectation_energy, [0,0,0,0,0,0], method='Nelder-Mead', options={'xtol': 1e-10, 'ftol': 1e-10})\n",
    "print(minimum)"
   ]
  },
  {
   "cell_type": "code",
   "execution_count": 31,
   "metadata": {},
   "outputs": [],
   "source": [
    "def gradient(params, evaluate, shift = pi/2):\n",
    "    n_params = params.shape[0]\n",
    "    gradients = np.zeros(n_params)\n",
    "    \n",
    "    for i in range(n_params):\n",
    "        #parameter shift rule\n",
    "        shift_vect = np.array([shift if j==i else 0 for j in range(n_params)])\n",
    "        shift_right = params + shift_vect\n",
    "        shift_left = params - shift_vect\n",
    "        \n",
    "        expectation_right = evaluate(shift_right)\n",
    "        expectation_left = evaluate(shift_left)\n",
    "\n",
    "        gradients[i] = expectation_right - expectation_left\n",
    "\n",
    "    return gradients"
   ]
  },
  {
   "cell_type": "code",
   "execution_count": 36,
   "metadata": {},
   "outputs": [],
   "source": [
    "params = np.random.uniform(-np.pi, np.pi, 6)\n",
    "last_params = np.zeros(6)"
   ]
  },
  {
   "cell_type": "code",
   "execution_count": 37,
   "metadata": {},
   "outputs": [
    {
     "name": "stderr",
     "output_type": "stream",
     "text": [
      "/tmp/ipykernel_10773/2399136664.py:14: ComplexWarning: Casting complex values to real discards the imaginary part\n",
      "  gradients[i] = expectation_right - expectation_left\n"
     ]
    },
    {
     "name": "stdout",
     "output_type": "stream",
     "text": [
      "5.242381289750311\n",
      "1.2889758380243934\n",
      "0.8469000184874783\n",
      "1.715505786108866\n",
      "1.2857087151314395\n",
      "0.6665949071449118\n",
      "0.6217152863618391\n",
      "0.4502480346945008\n",
      "0.4015030288008472\n",
      "0.3084211700757258\n",
      "0.26803408924379646\n",
      "0.21245510675985635\n",
      "0.18154598875298378\n",
      "0.14636982828737843\n",
      "0.1237463383802897\n",
      "0.10074594911990808\n",
      "0.08459198537134305\n",
      "0.06927493025400655\n",
      "0.05790614903768021\n",
      "0.04759712440969022\n",
      "0.03966686651250573\n",
      "0.03268382882723664\n",
      "0.027183388111598594\n",
      "0.022434057092212578\n",
      "0.018633066423850764\n",
      "0.015394340051459787\n",
      "0.01277418938381536\n",
      "0.010561655143450865\n",
      "0.00875847779291572\n",
      "0.007245152363900109\n",
      "0.006005594294535843\n",
      "0.004969651583073942\n",
      "0.004118184616198395\n",
      "0.0034086270007260833\n",
      "0.0028240437050082168\n",
      "0.0023378482643301446\n",
      "0.0019366364025408256\n",
      "0.001603400193223914\n",
      "0.0013281053403841891\n",
      "0.0010996639112277329\n",
      "0.0009107986294276671\n"
     ]
    }
   ],
   "source": [
    "lr = 0.1\n",
    "err = 1\n",
    "while err > 1e-3:\n",
    "    grad = gradient(params, expectation_energy, pi/1.3)\n",
    "    params = params - lr*grad\n",
    "    err = abs(sum(params - last_params))\n",
    "    last_params = np.array(params)\n",
    "    print(err) "
   ]
  },
  {
   "cell_type": "code",
   "execution_count": 38,
   "metadata": {},
   "outputs": [
    {
     "data": {
      "text/plain": [
       "(-9.999999421740936+0j)"
      ]
     },
     "execution_count": 38,
     "metadata": {},
     "output_type": "execute_result"
    }
   ],
   "source": [
    "expectation_energy(params)"
   ]
  },
  {
   "cell_type": "code",
   "execution_count": null,
   "metadata": {},
   "outputs": [],
   "source": []
  }
 ],
 "metadata": {
  "kernelspec": {
   "display_name": "Python 3 (ipykernel)",
   "language": "python",
   "name": "python3"
  },
  "language_info": {
   "codemirror_mode": {
    "name": "ipython",
    "version": 3
   },
   "file_extension": ".py",
   "mimetype": "text/x-python",
   "name": "python",
   "nbconvert_exporter": "python",
   "pygments_lexer": "ipython3",
   "version": "3.8.5"
  }
 },
 "nbformat": 4,
 "nbformat_minor": 2
}
