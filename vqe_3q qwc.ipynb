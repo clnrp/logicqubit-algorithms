{
 "cells": [
  {
   "cell_type": "code",
   "execution_count": 4,
   "metadata": {
    "scrolled": true
   },
   "outputs": [
    {
     "name": "stdout",
     "output_type": "stream",
     "text": [
      "Cuda is not available!\n",
      "logicqubit version 1.5.8\n"
     ]
    }
   ],
   "source": [
    "from logicqubit.logic import *\n",
    "from cmath import *\n",
    "import numpy as np\n",
    "import sympy as sp\n",
    "import scipy\n",
    "from scipy.optimize import *\n",
    "import matplotlib.pyplot as plt"
   ]
  },
  {
   "cell_type": "markdown",
   "metadata": {},
   "source": [
    "https://arxiv.org/pdf/1907.09386.pdf"
   ]
  },
  {
   "cell_type": "code",
   "execution_count": 5,
   "metadata": {},
   "outputs": [],
   "source": [
    "def commutator(A, B):\n",
    "    C = A*B-B*A\n",
    "    return np.all(C.get() == 0)"
   ]
  },
  {
   "cell_type": "code",
   "execution_count": 6,
   "metadata": {},
   "outputs": [],
   "source": [
    "gates = Gates(1)\n",
    "\n",
    "ID = gates.ID()\n",
    "X = gates.X()\n",
    "Y = gates.Y()\n",
    "Z = gates.Z()"
   ]
  },
  {
   "cell_type": "code",
   "execution_count": 7,
   "metadata": {},
   "outputs": [],
   "source": [
    "III = ID.kron(ID).kron(ID)\n",
    "XXX = X.kron(X).kron(X)\n",
    "XIZ = X.kron(ID).kron(Z)\n",
    "XYI = X.kron(Y).kron(ID)\n",
    "XIZ = X.kron(ID).kron(Z)\n",
    "YYY = Y.kron(Y).kron(Y)\n",
    "ZZZ = Z.kron(Z).kron(Z)\n",
    "IZZ = ID.kron(Z).kron(Z)\n",
    "ZZI = ID.kron(Z).kron(ID)"
   ]
  },
  {
   "cell_type": "code",
   "execution_count": 8,
   "metadata": {},
   "outputs": [
    {
     "data": {
      "text/plain": [
       "True"
      ]
     },
     "execution_count": 8,
     "metadata": {},
     "output_type": "execute_result"
    }
   ],
   "source": [
    "commutator(XYI, XIZ)"
   ]
  },
  {
   "cell_type": "code",
   "execution_count": 9,
   "metadata": {},
   "outputs": [
    {
     "data": {
      "text/plain": [
       "array([ 1, -1,  1, -1, -1,  1, -1,  1])"
      ]
     },
     "execution_count": 9,
     "metadata": {},
     "output_type": "execute_result"
    }
   ],
   "source": [
    "# autovalores de X,Y,Z: [1, -1] e de I: [1, 1]\n",
    "sig_iss = np.kron(np.kron([1, 1], [1, -1]), [1, -1])\n",
    "sig_ssi = np.kron(np.kron([1, -1], [1, -1]), [1, 1])\n",
    "sig_sis = np.kron(np.kron([1, -1], [1, 1]), [1, -1])\n",
    "sig_sis"
   ]
  },
  {
   "cell_type": "code",
   "execution_count": 10,
   "metadata": {},
   "outputs": [
    {
     "data": {
      "text/plain": [
       "(-12+4.1241847957050005e-32j)"
      ]
     },
     "execution_count": 10,
     "metadata": {},
     "output_type": "execute_result"
    }
   ],
   "source": [
    "H = III + XYI*3 + XIZ*10\n",
    "\n",
    "min(scipy.linalg.eig(H.get())[0])"
   ]
  },
  {
   "cell_type": "code",
   "execution_count": 11,
   "metadata": {},
   "outputs": [],
   "source": [
    "def ansatz(reg, params):\n",
    "    n_qubits = len(reg)\n",
    "    depth = n_qubits\n",
    "    for i in range(depth):\n",
    "        for j in range(n_qubits):\n",
    "            if(j < n_qubits-1):\n",
    "                reg[j+1].CNOT(reg[j])\n",
    "            reg[i].RY(params[j])\n",
    "            \n",
    "def ansatz_3q(q1, q2, q3, params):\n",
    "    q1.RY(params[0])\n",
    "    q2.RY(params[1])\n",
    "    q3.RY(params[2])\n",
    "    q2.CNOT(q1)\n",
    "    q3.CNOT(q2)\n",
    "    q1.RX(params[3])\n",
    "    q2.RX(params[4])\n",
    "    q3.RX(params[5])\n",
    "    q2.CNOT(q1)\n",
    "    q3.CNOT(q2)\n",
    "    q1.RY(params[6])\n",
    "    q2.RY(params[7])\n",
    "    q3.RY(params[8])\n",
    "    q2.CNOT(q1)\n",
    "    q3.CNOT(q2)\n",
    "    q1.RY(params[9])\n",
    "    q2.RY(params[10])\n",
    "    q3.RY(params[11])\n",
    "    q2.CNOT(q1)\n",
    "    q3.CNOT(q2)"
   ]
  },
  {
   "cell_type": "code",
   "execution_count": 12,
   "metadata": {
    "scrolled": true
   },
   "outputs": [
    {
     "name": "stderr",
     "output_type": "stream",
     "text": [
      "/home/cleoner/anaconda3/lib/python3.8/site-packages/scipy/optimize/optimize.py:586: ComplexWarning: Casting complex values to real discards the imaginary part\n",
      "  fsim[k] = func(sim[k])\n",
      "/home/cleoner/anaconda3/lib/python3.8/site-packages/scipy/optimize/optimize.py:611: ComplexWarning: Casting complex values to real discards the imaginary part\n",
      "  fsim[-1] = fxe\n",
      "/home/cleoner/anaconda3/lib/python3.8/site-packages/scipy/optimize/optimize.py:618: ComplexWarning: Casting complex values to real discards the imaginary part\n",
      "  fsim[-1] = fxr\n",
      "/home/cleoner/anaconda3/lib/python3.8/site-packages/scipy/optimize/optimize.py:614: ComplexWarning: Casting complex values to real discards the imaginary part\n",
      "  fsim[-1] = fxr\n",
      "/home/cleoner/anaconda3/lib/python3.8/site-packages/scipy/optimize/optimize.py:637: ComplexWarning: Casting complex values to real discards the imaginary part\n",
      "  fsim[-1] = fxcc\n",
      "/home/cleoner/anaconda3/lib/python3.8/site-packages/scipy/optimize/optimize.py:627: ComplexWarning: Casting complex values to real discards the imaginary part\n",
      "  fsim[-1] = fxc\n"
     ]
    },
    {
     "name": "stdout",
     "output_type": "stream",
     "text": [
      " final_simplex: (array([[-1.70536841e+00, -1.00539050e-01,  1.55861477e-01,\n",
      "         1.43285592e+00,  7.21512712e-01,  4.20845303e-02,\n",
      "         1.09009478e-01,  3.22594690e-02, -1.58316966e-01,\n",
      "        -4.84445090e-01,  2.47706805e-02, -7.58020841e-01],\n",
      "       [-1.72932470e+00, -1.11875984e-01,  1.48727714e-01,\n",
      "         1.45605885e+00,  7.19279604e-01,  4.18493832e-03,\n",
      "         1.38757640e-01,  1.35012392e-02, -1.66798557e-01,\n",
      "        -4.85511796e-01,  4.19130555e-02, -7.24793089e-01],\n",
      "       [-1.71587546e+00, -1.16578201e-01,  1.31684364e-01,\n",
      "         1.43959437e+00,  6.84974479e-01,  2.05536298e-02,\n",
      "         1.07468660e-01,  5.54096191e-02, -1.57343206e-01,\n",
      "        -4.69880836e-01,  2.61660302e-02, -7.27302825e-01],\n",
      "       [-1.68926830e+00, -1.28022390e-01,  1.27347166e-01,\n",
      "         1.44220497e+00,  6.59737147e-01,  2.54488244e-03,\n",
      "         1.23687602e-01,  4.34666389e-02, -1.59325585e-01,\n",
      "        -4.65406496e-01,  2.60530944e-02, -7.03618705e-01],\n",
      "       [-1.70178393e+00, -1.39039820e-01,  1.20098364e-01,\n",
      "         1.46687376e+00,  6.60005588e-01,  4.85023745e-03,\n",
      "         1.16261792e-01,  4.51160055e-02, -1.61960754e-01,\n",
      "        -4.66235936e-01,  2.65815805e-02, -7.01327612e-01],\n",
      "       [-1.73136172e+00, -1.11889428e-01,  1.59835631e-01,\n",
      "         1.46858747e+00,  7.28620542e-01,  4.16095665e-03,\n",
      "         1.53245444e-01,  2.97244816e-02, -1.66764106e-01,\n",
      "        -4.99738716e-01,  1.22139212e-02, -7.66691092e-01],\n",
      "       [-1.73840294e+00, -1.13737680e-01,  1.41138938e-01,\n",
      "         1.44895040e+00,  7.07565019e-01, -8.14463757e-03,\n",
      "         1.44689394e-01,  5.13248256e-02, -1.63342433e-01,\n",
      "        -4.83494763e-01,  1.92743377e-02, -7.39749231e-01],\n",
      "       [-1.71499356e+00, -1.31262845e-01,  1.24501410e-01,\n",
      "         1.46647094e+00,  6.29315690e-01, -2.20381711e-03,\n",
      "         1.21485857e-01,  1.38805128e-02, -1.60239951e-01,\n",
      "        -4.59377891e-01,  6.55797083e-02, -6.64585991e-01],\n",
      "       [-1.72540044e+00, -1.12603409e-01,  1.52325874e-01,\n",
      "         1.45508295e+00,  6.96674358e-01, -9.04517768e-03,\n",
      "         1.57193835e-01,  3.31089829e-02, -1.63566403e-01,\n",
      "        -4.88639375e-01,  2.08999611e-02, -7.41616163e-01],\n",
      "       [-1.72900108e+00, -1.11681325e-01,  1.42217524e-01,\n",
      "         1.44594979e+00,  6.61918175e-01, -4.74549668e-03,\n",
      "         1.39870817e-01,  3.63766965e-02, -1.58061382e-01,\n",
      "        -4.73907336e-01,  3.99762905e-02, -7.14487289e-01],\n",
      "       [-1.74028153e+00, -1.21196218e-01,  1.36415820e-01,\n",
      "         1.47201071e+00,  6.60963881e-01,  7.77681127e-03,\n",
      "         1.23284726e-01,  3.28353691e-02, -1.59678663e-01,\n",
      "        -4.73931256e-01,  4.59205514e-02, -7.11721910e-01],\n",
      "       [-1.72392396e+00, -1.09011353e-01,  1.37529234e-01,\n",
      "         1.43165597e+00,  6.51721018e-01,  1.54026079e-04,\n",
      "         1.29483205e-01,  4.70746703e-02, -1.54331254e-01,\n",
      "        -4.66927057e-01,  4.01151916e-02, -7.10547945e-01],\n",
      "       [-1.74655332e+00, -1.05512430e-01,  1.40324864e-01,\n",
      "         1.43440322e+00,  6.82607623e-01, -1.15001155e-02,\n",
      "         1.43130562e-01,  5.36610163e-02, -1.58344148e-01,\n",
      "        -4.75522403e-01,  3.32044358e-02, -7.25480480e-01]]), array([-11.90465103, -11.89738534, -11.89714667, -11.89611876,\n",
      "       -11.89543048, -11.89459568, -11.89119465, -11.88976402,\n",
      "       -11.88961561, -11.88756703, -11.88544989, -11.8848997 ,\n",
      "       -11.88311624]))\n",
      "           fun: -11.904651028973685\n",
      "       message: 'Maximum number of function evaluations has been exceeded.'\n",
      "          nfev: 2401\n",
      "           nit: 1787\n",
      "        status: 1\n",
      "       success: False\n",
      "             x: array([-1.70536841, -0.10053905,  0.15586148,  1.43285592,  0.72151271,\n",
      "        0.04208453,  0.10900948,  0.03225947, -0.15831697, -0.48444509,\n",
      "        0.02477068, -0.75802084])\n"
     ]
    }
   ],
   "source": [
    "def expectation_3q(params):\n",
    "    logicQuBit  = LogicQuBit(3)\n",
    "    q1 = Qubit()\n",
    "    q2 = Qubit()\n",
    "    q3 = Qubit()\n",
    "\n",
    "    ansatz_3q(q1,q2,q3,params)\n",
    "    #ansatz([q1,q2,q3],params)\n",
    "    psi = logicQuBit.getPsi()\n",
    "    \n",
    "    return (psi.adjoint()*H*psi).get()[0][0]\n",
    "\n",
    "minimum = minimize(expectation_3q, [0,0,0,0,0,0,0,0,0,0,0,0], method='Nelder-Mead', options={'xtol': 1e-10, 'ftol': 1e-10})\n",
    "print(minimum)"
   ]
  },
  {
   "cell_type": "code",
   "execution_count": 15,
   "metadata": {},
   "outputs": [],
   "source": [
    "def expectation_value(measurements, base = np.array([1,-1,-1,1,-1,1,1,-1])):\n",
    "    probabilities = np.array(measurements)\n",
    "    expectation = np.sum(base * probabilities)\n",
    "    return expectation\n",
    "\n",
    "def sigma_xxx(params):\n",
    "    logicQuBit  = LogicQuBit(3, first_left = False)\n",
    "    q1 = Qubit()\n",
    "    q2 = Qubit()\n",
    "    q3 = Qubit()\n",
    "    \n",
    "    ansatz_3q(q1,q2,q3,params)\n",
    "    \n",
    "    # medidas em XX\n",
    "    q1.RY(-pi/2)\n",
    "    q2.RY(-pi/2)\n",
    "    q3.RY(-pi/2)\n",
    "    \n",
    "    result = logicQuBit.Measure([q1,q2,q3])\n",
    "    result = expectation_value(result)\n",
    "    return result\n",
    "\n",
    "# [xyi, xiz]=0 precisamos de apenas uma medida no eixo XYZ\n",
    "def sigma_xyz(params):\n",
    "    logicQuBit  = LogicQuBit(3, first_left = False)\n",
    "    q1 = Qubit()\n",
    "    q2 = Qubit()\n",
    "    q3 = Qubit()\n",
    "    \n",
    "    ansatz_3q(q1,q2,q3,params)\n",
    "    \n",
    "    # medidas em XYZ\n",
    "    q1.RY(-pi/2)\n",
    "    q2.RX(pi/2)\n",
    "    \n",
    "    result = logicQuBit.Measure([q1,q2,q3])\n",
    "    xyi = expectation_value(result, sig_ssi)\n",
    "    xiz = expectation_value(result, sig_sis) \n",
    "    return xyi, xiz\n",
    "\n",
    "def sigma_yyy(params):\n",
    "    logicQuBit  = LogicQuBit(3, first_left = False)\n",
    "    q1 = Qubit()\n",
    "    q2 = Qubit()\n",
    "    q3 = Qubit()\n",
    "    \n",
    "    ansatz_3q(q1,q2,q3,params)\n",
    "    \n",
    "    # medidas em YY\n",
    "    q1.RX(pi/2)\n",
    "    q2.RX(pi/2)\n",
    "    q3.RX(pi/2)\n",
    "    \n",
    "    result = logicQuBit.Measure([q1,q2,q3])\n",
    "    result = expectation_value(result)\n",
    "    return result\n",
    "\n",
    "def sigma_zzz(params):\n",
    "    logicQuBit  = LogicQuBit(3, first_left = False)\n",
    "    q1 = Qubit()\n",
    "    q2 = Qubit()\n",
    "    q3 = Qubit()\n",
    "    \n",
    "    ansatz_3q(q1,q2,q3,params)\n",
    "          \n",
    "    result = logicQuBit.Measure([q1,q2,q3])\n",
    "    zzz = expectation_value(result)\n",
    "    izz = expectation_value(result, sig_iss) # [zzz, izz] = 0\n",
    "    return zzz, izz \n",
    "\n",
    "def expectation_energy(params):\n",
    "    xyi, xiz =  sigma_xyz(params)\n",
    "\n",
    "    result = 1 + 3*xyi + 10*xiz\n",
    "    return result"
   ]
  },
  {
   "cell_type": "code",
   "execution_count": 16,
   "metadata": {},
   "outputs": [
    {
     "name": "stdout",
     "output_type": "stream",
     "text": [
      " final_simplex: (array([[-1.59861417,  0.67851413,  0.10077095, -0.92422256, -0.11976661,\n",
      "         0.00917929,  1.13129902,  0.47232269, -0.86804904,  0.11303789,\n",
      "         0.21045843, -0.08121447],\n",
      "       [-1.59895826,  0.67857134,  0.10084076, -0.92411586, -0.11940067,\n",
      "         0.00888377,  1.1313394 ,  0.4721589 , -0.86791851,  0.11316486,\n",
      "         0.21029665, -0.08118751],\n",
      "       [-1.59883373,  0.67864737,  0.10089682, -0.9241835 , -0.11958172,\n",
      "         0.00921565,  1.13123184,  0.47222441, -0.86796823,  0.11303257,\n",
      "         0.21034507, -0.08105163],\n",
      "       [-1.59863681,  0.67853123,  0.10099701, -0.92431596, -0.11956898,\n",
      "         0.00894363,  1.13132499,  0.47220322, -0.8681013 ,  0.11301176,\n",
      "         0.21051405, -0.0810089 ],\n",
      "       [-1.59891672,  0.67803267,  0.10070373, -0.92361073, -0.11958812,\n",
      "         0.00895073,  1.13074031,  0.47220744, -0.86746476,  0.1132327 ,\n",
      "         0.21086732, -0.08111697],\n",
      "       [-1.59895044,  0.67867105,  0.10066558, -0.9243782 , -0.11958008,\n",
      "         0.00869684,  1.1320279 ,  0.47227541, -0.86868568,  0.11321458,\n",
      "         0.21042249, -0.08120846],\n",
      "       [-1.59856045,  0.67853487,  0.10067208, -0.92413636, -0.1196517 ,\n",
      "         0.00900177,  1.13148039,  0.4722272 , -0.86819776,  0.11311357,\n",
      "         0.21032051, -0.0812351 ],\n",
      "       [-1.59852924,  0.67891918,  0.10089009, -0.92418457, -0.11907734,\n",
      "         0.00869892,  1.13176505,  0.47184014, -0.86839749,  0.11311502,\n",
      "         0.20968821, -0.08100081],\n",
      "       [-1.59874767,  0.6787171 ,  0.10058647, -0.92410889, -0.11957377,\n",
      "         0.00890507,  1.13195571,  0.47213675, -0.86882512,  0.11317587,\n",
      "         0.2103274 , -0.08093424],\n",
      "       [-1.59865491,  0.67862233,  0.10095037, -0.92422868, -0.11957092,\n",
      "         0.00900781,  1.13149926,  0.47213535, -0.86845405,  0.11300785,\n",
      "         0.21054798, -0.08073757],\n",
      "       [-1.59905849,  0.67804611,  0.10083859, -0.92379546, -0.11947886,\n",
      "         0.00876768,  1.1307453 ,  0.47223251, -0.86730022,  0.11324809,\n",
      "         0.21083986, -0.08125908],\n",
      "       [-1.59884236,  0.67867333,  0.1009312 , -0.92416094, -0.11935983,\n",
      "         0.0089217 ,  1.13139659,  0.47208309, -0.86808683,  0.11309664,\n",
      "         0.21024271, -0.08099302],\n",
      "       [-1.59858964,  0.6790594 ,  0.10085633, -0.92449436, -0.11950178,\n",
      "         0.00915556,  1.13185601,  0.47214315, -0.86857939,  0.11298531,\n",
      "         0.2098386 , -0.08108023]]), array([-10.62601164, -10.62600831, -10.62600783, -10.62600772,\n",
      "       -10.62600634, -10.62600632, -10.62600568, -10.62600563,\n",
      "       -10.62600488, -10.62600456, -10.62600423, -10.62600401,\n",
      "       -10.62600391]))\n",
      "           fun: -10.626011641573301\n",
      "       message: 'Maximum number of function evaluations has been exceeded.'\n",
      "          nfev: 2400\n",
      "           nit: 1779\n",
      "        status: 1\n",
      "       success: False\n",
      "             x: array([-1.59861417,  0.67851413,  0.10077095, -0.92422256, -0.11976661,\n",
      "        0.00917929,  1.13129902,  0.47232269, -0.86804904,  0.11303789,\n",
      "        0.21045843, -0.08121447])\n"
     ]
    }
   ],
   "source": [
    "minimum = minimize(expectation_energy, [0,0,0,0,0,0,0,0,0,0,0,0], method='Nelder-Mead', options={'xtol': 1e-10, 'ftol': 1e-10})\n",
    "print(minimum)"
   ]
  },
  {
   "cell_type": "code",
   "execution_count": 17,
   "metadata": {},
   "outputs": [],
   "source": [
    "def gradient(params, evaluate, shift=pi/2):\n",
    "    n_params = params.shape[0]\n",
    "    gradients = np.zeros(n_params)\n",
    "    \n",
    "    for i in range(n_params):\n",
    "        #parameter shift rule\n",
    "        shift_vect = np.array([shift if j==i else 0 for j in range(n_params)])\n",
    "        shift_right = params + shift_vect\n",
    "        shift_left = params - shift_vect\n",
    "        \n",
    "        expectation_right = evaluate(shift_right)\n",
    "        expectation_left = evaluate(shift_left)\n",
    "\n",
    "        gradients[i] = expectation_right - expectation_left\n",
    "\n",
    "    return gradients"
   ]
  },
  {
   "cell_type": "code",
   "execution_count": 24,
   "metadata": {},
   "outputs": [],
   "source": [
    "params = np.random.uniform(-np.pi, np.pi, 12)\n",
    "last_params = np.zeros(12)"
   ]
  },
  {
   "cell_type": "code",
   "execution_count": 25,
   "metadata": {},
   "outputs": [
    {
     "name": "stderr",
     "output_type": "stream",
     "text": [
      "/tmp/ipykernel_11017/3485820173.py:14: ComplexWarning: Casting complex values to real discards the imaginary part\n",
      "  gradients[i] = expectation_right - expectation_left\n"
     ]
    },
    {
     "name": "stdout",
     "output_type": "stream",
     "text": [
      "0.8184556076668226\n",
      "0.38752317161238425\n",
      "0.31702405800521294\n",
      "0.2114378341002251\n",
      "0.12622217096968308\n",
      "0.06988522765929\n",
      "0.036757536629974275\n",
      "0.017942924481501726\n",
      "0.0070756162271398415\n",
      "0.0005119468375004432\n",
      "0.003698812536389179\n",
      "0.006590165046403695\n",
      "0.008719561745389709\n",
      "0.010398725049715174\n",
      "0.01181080663570816\n",
      "0.01306999962503802\n",
      "0.014252341439315447\n",
      "0.015412060931818933\n",
      "0.01659058414055703\n",
      "0.01782174325629804\n",
      "0.019134978012696813\n",
      "0.020557450358407475\n",
      "0.022115558994343143\n",
      "0.02383611987328671\n",
      "0.02574736439465522\n",
      "0.02787984548498948\n",
      "0.03026730594273791\n",
      "0.032947538679256816\n",
      "0.03596324558849784\n",
      "0.03936287309745537\n",
      "0.04320135940688802\n",
      "0.04754065935909127\n",
      "0.05244980096077244\n",
      "0.058004049267572466\n",
      "0.06428247867973151\n",
      "0.0713628543250511\n",
      "0.07931219144133625\n",
      "0.08817077437715488\n",
      "0.09792705008058987\n",
      "0.1084813340462448\n",
      "0.11959893426643273\n",
      "0.1308598055205104\n",
      "0.1416230660430793\n",
      "0.1510374797164561\n",
      "0.1581322214338978\n",
      "0.1619990907937687\n",
      "0.16202305509789933\n",
      "0.15806412646508625\n",
      "0.15049679275216576\n",
      "0.14009020314283258\n",
      "0.12780088054536423\n",
      "0.11457517377189513\n",
      "0.10121894277157381\n",
      "0.08834047896872375\n",
      "0.07634638312104697\n",
      "0.06546741553043031\n",
      "0.055797160058966844\n",
      "0.04733230115173521\n",
      "0.040007978616722985\n",
      "0.033725345147359545\n",
      "0.028371057127321797\n",
      "0.023829887247373782\n",
      "0.019992151752861266\n",
      "0.01675756492657432\n",
      "0.014036805316610978\n",
      "0.011751712947697434\n",
      "0.009834729013108823\n",
      "0.00822796294721231\n",
      "0.0068821177964697\n",
      "0.0057554055839963425\n",
      "0.004812522852923217\n",
      "0.004023719654357505\n",
      "0.003363973798020758\n",
      "0.0028122702278157163\n",
      "0.0023509791336336237\n",
      "0.0019653235189718513\n",
      "0.0016429259807656082\n",
      "0.0013734245613781226\n",
      "0.00114814818950284\n",
      "0.0009598431357881853\n",
      "0.0008024428977797093\n",
      "0.0006708749017532157\n",
      "0.0005608983165898752\n",
      "0.00046896809468264253\n",
      "0.0003921210799300301\n",
      "0.000327880655312196\n",
      "0.0002741769480434586\n",
      "0.00022928007796427783\n",
      "0.00019174433302846517\n",
      "0.00016036149368594543\n",
      "0.0001341218137406175\n",
      "0.00011218140624817962\n",
      "9.383498593305007e-05\n",
      "7.849309026288775e-05\n",
      "6.566304432198411e-05\n",
      "5.493305488530886e-05\n",
      "4.595891956085119e-05\n",
      "3.8452921250931034e-05\n",
      "3.217454859367752e-05\n",
      "2.6922742115287334e-05\n",
      "2.2529415194871838e-05\n",
      "1.8854040046867304e-05\n",
      "1.5779123653603123e-05\n",
      "1.3206427151390976e-05\n",
      "1.1053806463134917e-05\n",
      "9.25257191770612e-06\n"
     ]
    }
   ],
   "source": [
    "lr = 0.1\n",
    "err = 1\n",
    "while err > 1e-5:\n",
    "    grad = gradient(params, expectation_energy, pi/1.1)\n",
    "    params = params - lr*grad\n",
    "    err = abs(sum(params - last_params))\n",
    "    last_params = np.array(params)\n",
    "    print(err) "
   ]
  },
  {
   "cell_type": "code",
   "execution_count": 26,
   "metadata": {},
   "outputs": [
    {
     "data": {
      "text/plain": [
       "(-11.99999999921216+0j)"
      ]
     },
     "execution_count": 26,
     "metadata": {},
     "output_type": "execute_result"
    }
   ],
   "source": [
    "expectation_energy(params)"
   ]
  },
  {
   "cell_type": "code",
   "execution_count": null,
   "metadata": {},
   "outputs": [],
   "source": []
  },
  {
   "cell_type": "code",
   "execution_count": null,
   "metadata": {},
   "outputs": [],
   "source": []
  }
 ],
 "metadata": {
  "kernelspec": {
   "display_name": "Python 3 (ipykernel)",
   "language": "python",
   "name": "python3"
  },
  "language_info": {
   "codemirror_mode": {
    "name": "ipython",
    "version": 3
   },
   "file_extension": ".py",
   "mimetype": "text/x-python",
   "name": "python",
   "nbconvert_exporter": "python",
   "pygments_lexer": "ipython3",
   "version": "3.8.5"
  }
 },
 "nbformat": 4,
 "nbformat_minor": 2
}
