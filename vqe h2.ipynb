{
 "cells": [
  {
   "cell_type": "code",
   "execution_count": 3,
   "metadata": {
    "scrolled": true
   },
   "outputs": [],
   "source": [
    "from logicqubit.logic import *\n",
    "from cmath import *\n",
    "import numpy as np\n",
    "import sympy as sp\n",
    "import scipy\n",
    "from scipy.optimize import *\n",
    "import matplotlib.pyplot as plt"
   ]
  },
  {
   "cell_type": "markdown",
   "metadata": {},
   "source": [
    "https://arxiv.org/abs/1304.3061\n",
    "\n",
    "10.1103/PhysRevX.6.031007\n",
    "\n",
    "Second Quantized Hamiltonian\n",
    "\\begin{eqnarray*}\n",
    "    \\mathcal{H}(r)=h_0 + \\sum_{pq} h_{pq}(r) a^{\\dagger}_p a_q +\\frac{1}{2} \\sum_{pqrs} h_{pqrs}(r) a^{\\dagger}_p a^{\\dagger}_qa_ra_s\n",
    "\\end{eqnarray*}\n",
    "\n",
    "\\begin{eqnarray*}\n",
    "    h_{pq}(r)=\\int{d\\mathbf{r}}\\,\\phi^*_p(\\mathbf{r})\\left(-\\frac{1}{2}\\nabla^2-\\sum_{a}{\\frac{Z_a}{\\mathbf{r}_{a,\\mathbf{r}}}}\\right)\\phi_q(\\mathbf{r})\n",
    "\\end{eqnarray*}\n",
    "\n",
    "\\begin{eqnarray*}\n",
    "    h_{pqrs}(r)=\\int{d\\mathbf{r_1}\\,d\\mathbf{r_2}}\\,\\phi^*_p(\\mathbf{r_1})\\phi^*_q(\\mathbf{r_2})r_{1,2}^{-1}\\phi_r(\\mathbf{r_1})\\phi_s(\\mathbf{r_2})\n",
    "\\end{eqnarray*}\n",
    "\n",
    "Jordan-Wigner transformation\n",
    "\\begin{eqnarray*}\n",
    "    a^{\\dagger} = I^{\\otimes j-1}\\otimes \\sigma_{-} \\otimes \\sigma_{z}^{\\otimes N-j}\\\\\n",
    "    a = I^{\\otimes j-1}\\otimes \\sigma_{+} \\otimes \\sigma_{z}^{\\otimes N-j}\n",
    "\\end{eqnarray*}"
   ]
  },
  {
   "cell_type": "code",
   "execution_count": 4,
   "metadata": {},
   "outputs": [],
   "source": [
    "gates = Gates(1)\n",
    "\n",
    "ID = gates.ID()\n",
    "X = gates.X()\n",
    "Y = gates.Y()\n",
    "Z = gates.Z()"
   ]
  },
  {
   "cell_type": "code",
   "execution_count": 5,
   "metadata": {},
   "outputs": [],
   "source": [
    "II = ID.kron(ID)\n",
    "XX = X.kron(X)\n",
    "YY = Y.kron(Y)\n",
    "ZZ = Z.kron(Z)\n",
    "ZI = Z.kron(ID)\n",
    "IZ = ID.kron(Z)\n",
    "\n",
    "sig_is = np.kron([1, 1], [1, -1])\n",
    "sig_si = np.kron([1, -1], [1, 1])"
   ]
  },
  {
   "cell_type": "code",
   "execution_count": 6,
   "metadata": {
    "scrolled": true
   },
   "outputs": [
    {
     "name": "stdout",
     "output_type": "stream",
     "text": [
      "Repulsion energy (Eh): 0.7055696793059831\n"
     ]
    }
   ],
   "source": [
    "def repulsion_energy(Z1=1, Z2=1, r=75e-12):\n",
    "    Eh = 4.3597447222071e-18 # hartree energy\n",
    "    ep0 = 8.854187e-12\n",
    "    e = -1.602176634e-19\n",
    "    return (1/(4*pi*ep0)*(Z1*Z2*e**2)/r)/Eh\n",
    "\n",
    "rep_energy = repulsion_energy()\n",
    "print(\"Repulsion energy (Eh): %s\"%rep_energy)"
   ]
  },
  {
   "cell_type": "code",
   "execution_count": 7,
   "metadata": {},
   "outputs": [
    {
     "data": {
      "text/plain": [
       "(-1.145629444817661+0j)"
      ]
     },
     "execution_count": 7,
     "metadata": {},
     "output_type": "execute_result"
    }
   ],
   "source": [
    "g0 = -0.4804\n",
    "g1 = 0.3435\n",
    "g2 = -0.4347\n",
    "g3 = 0.5716\n",
    "g4 = 0.0910\n",
    "g5 = 0.0910\n",
    "\n",
    "H = II*g0 + IZ*g1 + ZI*g2 + ZZ*g3 + XX*g4 + YY*g5\n",
    "\n",
    "min(scipy.linalg.eig(H.get())[0])+rep_energy"
   ]
  },
  {
   "cell_type": "code",
   "execution_count": 8,
   "metadata": {},
   "outputs": [],
   "source": [
    "def ansatz(reg, params):\n",
    "    n_qubits = len(reg)\n",
    "    depth = n_qubits\n",
    "    for i in range(depth):\n",
    "        for j in range(n_qubits):\n",
    "            if(j < n_qubits-1):\n",
    "                reg[j+1].CNOT(reg[j])\n",
    "            reg[i].RY(params[j])\n",
    "            \n",
    "def ansatz_2q(q1, q2, params):\n",
    "    q2.CNOT(q1)\n",
    "    q1.RY(params[0])\n",
    "    q2.RY(params[1])\n",
    "    q1.CNOT(q2)\n",
    "    q1.RY(params[2])\n",
    "    q2.RY(params[3])\n",
    "    q2.CNOT(q1)\n",
    "    q1.RY(params[4])\n",
    "    q2.RY(params[5])"
   ]
  },
  {
   "cell_type": "code",
   "execution_count": 9,
   "metadata": {},
   "outputs": [
    {
     "name": "stderr",
     "output_type": "stream",
     "text": [
      "/home/cleoner/anaconda3/lib/python3.8/site-packages/scipy/optimize/optimize.py:586: ComplexWarning: Casting complex values to real discards the imaginary part\n",
      "  fsim[k] = func(sim[k])\n",
      "/home/cleoner/anaconda3/lib/python3.8/site-packages/scipy/optimize/optimize.py:618: ComplexWarning: Casting complex values to real discards the imaginary part\n",
      "  fsim[-1] = fxr\n",
      "/home/cleoner/anaconda3/lib/python3.8/site-packages/scipy/optimize/optimize.py:611: ComplexWarning: Casting complex values to real discards the imaginary part\n",
      "  fsim[-1] = fxe\n",
      "/home/cleoner/anaconda3/lib/python3.8/site-packages/scipy/optimize/optimize.py:614: ComplexWarning: Casting complex values to real discards the imaginary part\n",
      "  fsim[-1] = fxr\n",
      "/home/cleoner/anaconda3/lib/python3.8/site-packages/scipy/optimize/optimize.py:637: ComplexWarning: Casting complex values to real discards the imaginary part\n",
      "  fsim[-1] = fxcc\n",
      "/home/cleoner/anaconda3/lib/python3.8/site-packages/scipy/optimize/optimize.py:627: ComplexWarning: Casting complex values to real discards the imaginary part\n",
      "  fsim[-1] = fxc\n"
     ]
    },
    {
     "name": "stdout",
     "output_type": "stream",
     "text": [
      "-1.145629444817662\n"
     ]
    },
    {
     "name": "stderr",
     "output_type": "stream",
     "text": [
      "/home/cleoner/anaconda3/lib/python3.8/site-packages/scipy/optimize/optimize.py:644: ComplexWarning: Casting complex values to real discards the imaginary part\n",
      "  fsim[j] = func(sim[j])\n"
     ]
    }
   ],
   "source": [
    "def expectation_2q(params):\n",
    "    logicQuBit  = LogicQuBit(2)\n",
    "    q1 = Qubit()\n",
    "    q2 = Qubit()\n",
    "\n",
    "    ansatz_2q(q1,q2,params)\n",
    "    psi = logicQuBit.getPsi()\n",
    "    \n",
    "    return (psi.adjoint()*H*psi).get()[0][0]\n",
    "\n",
    "minimum = minimize(expectation_2q, [0,0,0,0,0,0], method='Nelder-Mead', options={'xtol': 1e-10, 'ftol': 1e-10})\n",
    "print(minimum.fun+rep_energy)"
   ]
  },
  {
   "cell_type": "code",
   "execution_count": 10,
   "metadata": {},
   "outputs": [],
   "source": [
    "def expectation_value(measurements, base = np.array([1,-1,-1,1])):\n",
    "    probabilities = np.array(measurements)\n",
    "    expectation = np.sum(base * probabilities)\n",
    "    return expectation\n",
    "\n",
    "def sigma_xx(params):\n",
    "    logicQuBit  = LogicQuBit(2, first_left = False)\n",
    "    q1 = Qubit()\n",
    "    q2 = Qubit()\n",
    "    \n",
    "    ansatz_2q(q1,q2,params)\n",
    "    \n",
    "    # medidas em XX\n",
    "    q1.RY(-pi/2)\n",
    "    q2.RY(-pi/2)\n",
    "    \n",
    "    result = logicQuBit.Measure([q1,q2])\n",
    "    result = expectation_value(result)\n",
    "    return result\n",
    "\n",
    "def sigma_yy(params):\n",
    "    logicQuBit  = LogicQuBit(2, first_left = False)\n",
    "    q1 = Qubit()\n",
    "    q2 = Qubit()\n",
    "    \n",
    "    ansatz_2q(q1,q2,params)\n",
    "    \n",
    "    # medidas em YY\n",
    "    q1.RX(pi/2)\n",
    "    q2.RX(pi/2)\n",
    "    \n",
    "    result = logicQuBit.Measure([q1,q2])\n",
    "    result = expectation_value(result)\n",
    "    return result\n",
    "\n",
    "def sigma_zz(params):\n",
    "    logicQuBit  = LogicQuBit(2, first_left = False)\n",
    "    q1 = Qubit()\n",
    "    q2 = Qubit()\n",
    "    \n",
    "    ansatz_2q(q1,q2,params)\n",
    "          \n",
    "    result = logicQuBit.Measure([q1,q2])\n",
    "    zz = expectation_value(result)\n",
    "    iz = expectation_value(result, sig_is) # [zz, iz] = 0\n",
    "    zi = expectation_value(result, sig_si) # [zz, zi] = 0\n",
    "    return zz, iz, zi\n",
    "\n",
    "def expectation_energy(params):\n",
    "    xx =  sigma_xx(params)\n",
    "    yy =  sigma_yy(params)\n",
    "    zz, iz, zi =  sigma_zz(params)\n",
    "    \n",
    "    result = g0 + g1*iz + g2*zi + g3*zz + g4*xx + g5*yy\n",
    "    return result"
   ]
  },
  {
   "cell_type": "code",
   "execution_count": 11,
   "metadata": {},
   "outputs": [
    {
     "name": "stdout",
     "output_type": "stream",
     "text": [
      "-1.1456294448176618\n"
     ]
    }
   ],
   "source": [
    "minimum = minimize(expectation_energy, [0,0,0,0,0,0], method='Nelder-Mead', options={'xtol': 1e-10, 'ftol': 1e-10})\n",
    "print(minimum.fun+rep_energy)"
   ]
  },
  {
   "cell_type": "code",
   "execution_count": 12,
   "metadata": {},
   "outputs": [],
   "source": [
    "def gradient(params, evaluate):\n",
    "    n_params = params.shape[0]\n",
    "    shift = pi/2\n",
    "    gradients = np.zeros(n_params)\n",
    "    \n",
    "    for i in range(n_params):\n",
    "        #parameter shift rule\n",
    "        shift_vect = np.array([shift if j==i else 0 for j in range(n_params)])\n",
    "        shift_right = params + shift_vect\n",
    "        shift_left = params - shift_vect\n",
    "        \n",
    "        expectation_right = evaluate(shift_right)\n",
    "        expectation_left = evaluate(shift_left)\n",
    "\n",
    "        gradients[i] = expectation_right - expectation_left\n",
    "\n",
    "    return gradients"
   ]
  },
  {
   "cell_type": "code",
   "execution_count": 13,
   "metadata": {},
   "outputs": [],
   "source": [
    "params = np.random.uniform(-np.pi, np.pi, 6)\n",
    "last_params = np.zeros(6)"
   ]
  },
  {
   "cell_type": "code",
   "execution_count": 14,
   "metadata": {},
   "outputs": [
    {
     "name": "stderr",
     "output_type": "stream",
     "text": [
      "/tmp/ipykernel_10647/1088512639.py:15: ComplexWarning: Casting complex values to real discards the imaginary part\n",
      "  gradients[i] = expectation_right - expectation_left\n"
     ]
    },
    {
     "name": "stdout",
     "output_type": "stream",
     "text": [
      "3.2771275942132028\n",
      "0.25087340996984175\n",
      "0.21642798860086027\n",
      "0.17299785149256727\n",
      "0.127042900992303\n",
      "0.08495812918109738\n",
      "0.05122215078222822\n",
      "0.027296428517020133\n",
      "0.012076889658794665\n",
      "0.003307506724051168\n",
      "0.001234210214421605\n",
      "0.0032382230817722957\n",
      "0.0038293853294496527\n",
      "0.0036995397718261325\n",
      "0.0032503120313920886\n",
      "0.0027019008242667453\n",
      "0.0021662136382552544\n",
      "0.0016931563188248289\n",
      "0.0012988346634378312\n",
      "0.000982184806577524\n",
      "0.0007344376019901011\n",
      "0.0005442638721736559\n",
      "0.00040038835375455495\n",
      "0.0002927686445351463\n",
      "0.00021299570138316737\n",
      "0.00015429889043244716\n",
      "0.00011137199120508923\n",
      "8.013731289757686e-05\n",
      "5.750742577281809e-05\n",
      "4.1171532305650516e-05\n",
      "2.94159505212499e-05\n",
      "2.0979269161391922e-05\n",
      "1.4938675643283439e-05\n",
      "1.0622518519409763e-05\n",
      "7.5440569521911804e-06\n"
     ]
    }
   ],
   "source": [
    "lr = 0.1\n",
    "err = 1\n",
    "while err > 1e-5:\n",
    "    grad = gradient(params, expectation_energy)\n",
    "    params = params - lr*grad\n",
    "    err = abs(sum(params - last_params))\n",
    "    last_params = np.array(params)\n",
    "    print(err) "
   ]
  },
  {
   "cell_type": "code",
   "execution_count": 15,
   "metadata": {},
   "outputs": [
    {
     "name": "stdout",
     "output_type": "stream",
     "text": [
      "(-1.1456294446036503+0j)\n"
     ]
    }
   ],
   "source": [
    "energy = expectation_energy(params)\n",
    "energy = energy + rep_energy\n",
    "print(energy)"
   ]
  },
  {
   "cell_type": "code",
   "execution_count": null,
   "metadata": {},
   "outputs": [],
   "source": []
  }
 ],
 "metadata": {
  "kernelspec": {
   "display_name": "Python 3 (ipykernel)",
   "language": "python",
   "name": "python3"
  },
  "language_info": {
   "codemirror_mode": {
    "name": "ipython",
    "version": 3
   },
   "file_extension": ".py",
   "mimetype": "text/x-python",
   "name": "python",
   "nbconvert_exporter": "python",
   "pygments_lexer": "ipython3",
   "version": "3.8.5"
  }
 },
 "nbformat": 4,
 "nbformat_minor": 2
}
