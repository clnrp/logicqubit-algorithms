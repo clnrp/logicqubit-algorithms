{
 "cells": [
  {
   "cell_type": "code",
   "execution_count": 23,
   "metadata": {
    "scrolled": true
   },
   "outputs": [],
   "source": [
    "from logicqubit.logic import *\n",
    "from cmath import *\n",
    "import numpy as np\n",
    "import sympy as sp\n",
    "import scipy\n",
    "from scipy.optimize import *\n",
    "import matplotlib.pyplot as plt"
   ]
  },
  {
   "cell_type": "markdown",
   "metadata": {},
   "source": [
    "See https://arxiv.org/abs/1304.3061\n",
    "\n",
    "10.1103/PhysRevX.6.031007\n",
    "\n",
    "Second Quantized Hamiltonian\n",
    "\\begin{eqnarray*}\n",
    "    \\mathcal{H}(r)=h_0 + \\sum_{ij} h_{ij}(r) a^{\\dagger}_i a_j +\\frac{1}{2} \\sum_{ijkl} h_{ijkl}(r) a^{\\dagger}_i a^{\\dagger}_ja_la_k\n",
    "\\end{eqnarray*}\n",
    "\n",
    "\\begin{eqnarray*}\n",
    "    h_{ij}(r)=\\int{d\\mathbf{r}}\\,\\chi^*_i(\\mathbf{r})\\left(-\\frac{1}{2}\\nabla^2-\\sum_{a}{\\frac{Z_a}{\\mathbf{r}_{a,\\mathbf{r}}}}\\right)\\chi_j(\\mathbf{r})\n",
    "\\end{eqnarray*}\n",
    "\n",
    "\\begin{eqnarray*}\n",
    "    h_{ijkl}(r)=\\int{d\\mathbf{r_1}\\,d\\mathbf{r_2}}\\,\\chi^*_i(\\mathbf{r_1})\\chi^*_j(\\mathbf{r_2})r_{1,2}^{-1}\\chi_k(\\mathbf{r_1})\\chi_l(\\mathbf{r_2})\n",
    "\\end{eqnarray*}\n",
    "\n",
    "Jordan-Wigner transformation\n",
    "\\begin{eqnarray*}\n",
    "    a^{\\dagger} = I^{\\otimes j-1}\\otimes \\sigma_{-} \\otimes \\sigma_{z}^{\\otimes N-j}\\\\\n",
    "    a = I^{\\otimes j-1}\\otimes \\sigma_{+} \\otimes \\sigma_{z}^{\\otimes N-j}\n",
    "\\end{eqnarray*}"
   ]
  },
  {
   "cell_type": "code",
   "execution_count": 24,
   "metadata": {},
   "outputs": [],
   "source": [
    "gates = Gates(1)\n",
    "\n",
    "ID = gates.ID()\n",
    "X = gates.X()\n",
    "Y = gates.Y()\n",
    "Z = gates.Z()"
   ]
  },
  {
   "cell_type": "code",
   "execution_count": 25,
   "metadata": {},
   "outputs": [
    {
     "data": {
      "text/plain": [
       "array([[ 1,  0,  0,  0],\n",
       "       [ 0, -1,  0,  0],\n",
       "       [ 0,  0, -1,  0],\n",
       "       [ 0,  0,  0,  1]])"
      ]
     },
     "execution_count": 25,
     "metadata": {},
     "output_type": "execute_result"
    }
   ],
   "source": [
    "II = ID.kron(ID)\n",
    "XX = X.kron(X)\n",
    "YY = Y.kron(Y)\n",
    "ZZ = Z.kron(Z)\n",
    "ZI = Z.kron(ID)\n",
    "IZ = ID.kron(Z)\n",
    "\n",
    "sig_iz = [IZ.get()[i,i] for i in range(len(IZ.get()))]\n",
    "sig_zi = [ZI.get()[i,i] for i in range(len(ZI.get()))]\n",
    "ZZ.get()"
   ]
  },
  {
   "cell_type": "code",
   "execution_count": 50,
   "metadata": {},
   "outputs": [
    {
     "name": "stdout",
     "output_type": "stream",
     "text": [
      "Repulsion energy (Eh): 0.7055696793059831\n"
     ]
    }
   ],
   "source": [
    "def repulsion_energy(Z1=1, Z2=1, r=75e-12):\n",
    "    Eh = 4.3597447222071e-18 # hartree energy\n",
    "    ep0 = 8.854187e-12\n",
    "    e = -1.602176634e-19\n",
    "    return (1/(4*pi*ep0)*(Z1*Z2*e**2)/r)/Eh\n",
    "\n",
    "rep_energy = repulsion_energy()\n",
    "print(\"Repulsion energy (Eh): %s\"%rep_energy)"
   ]
  },
  {
   "cell_type": "code",
   "execution_count": 49,
   "metadata": {},
   "outputs": [
    {
     "data": {
      "text/plain": [
       "(-1.145629444817661+0j)"
      ]
     },
     "execution_count": 49,
     "metadata": {},
     "output_type": "execute_result"
    }
   ],
   "source": [
    "g0 = -0.4804\n",
    "g1 = 0.3435\n",
    "g2 = -0.4347\n",
    "g3 = 0.5716\n",
    "g4 = 0.0910\n",
    "g5 = 0.0910\n",
    "\n",
    "H = II*g0 + IZ*g1 + ZI*g2 + ZZ*g3 + XX*g4 + YY*g5\n",
    "\n",
    "min(scipy.linalg.eig(H.get())[0])+rep_energy"
   ]
  },
  {
   "cell_type": "code",
   "execution_count": 38,
   "metadata": {},
   "outputs": [],
   "source": [
    "def ansatz(reg, params):\n",
    "    n_qubits = len(reg)\n",
    "    depth = n_qubits\n",
    "    for i in range(depth):\n",
    "        for j in range(n_qubits):\n",
    "            if(j < n_qubits-1):\n",
    "                reg[j+1].CNOT(reg[j])\n",
    "            reg[i].RY(params[j])\n",
    "            \n",
    "def ansatz_2q(q1, q2, params):\n",
    "    q2.CNOT(q1)\n",
    "    q1.RY(params[0])\n",
    "    q2.RY(params[1])\n",
    "    q1.CNOT(q2)\n",
    "    q1.RY(params[2])\n",
    "    q2.RY(params[3])\n",
    "    q2.CNOT(q1)\n",
    "    q1.RY(params[4])\n",
    "    q2.RY(params[5])"
   ]
  },
  {
   "cell_type": "code",
   "execution_count": 39,
   "metadata": {},
   "outputs": [
    {
     "name": "stdout",
     "output_type": "stream",
     "text": [
      "-1.145629444817662\n"
     ]
    }
   ],
   "source": [
    "def expectation_2q(params):\n",
    "    logicQuBit  = LogicQuBit(2)\n",
    "    q1 = Qubit()\n",
    "    q2 = Qubit()\n",
    "\n",
    "    ansatz_2q(q1,q2,params)\n",
    "    psi = logicQuBit.getPsi()\n",
    "    \n",
    "    return (psi.adjoint()*H*psi).get()[0][0]\n",
    "\n",
    "minimum = minimize(expectation_2q, [0,0,0,0,0,0], method='Nelder-Mead', options={'xtol': 1e-10, 'ftol': 1e-10})\n",
    "print(minimum.fun+rep_energy)"
   ]
  },
  {
   "cell_type": "code",
   "execution_count": 40,
   "metadata": {},
   "outputs": [],
   "source": [
    "def expectation_value(measurements, base = np.array([1,-1,-1,1])):\n",
    "    probabilities = np.array(measurements)\n",
    "    expectation = np.sum(base * probabilities)\n",
    "    return expectation\n",
    "\n",
    "def sigma_xx(params):\n",
    "    logicQuBit  = LogicQuBit(2, first_left = False)\n",
    "    q1 = Qubit()\n",
    "    q2 = Qubit()\n",
    "    \n",
    "    ansatz_2q(q1,q2,params)\n",
    "    \n",
    "    # medidas em XX\n",
    "    q1.RY(-pi/2)\n",
    "    q2.RY(-pi/2)\n",
    "    \n",
    "    result = logicQuBit.Measure([q1,q2])\n",
    "    result = expectation_value(result)\n",
    "    return result\n",
    "\n",
    "def sigma_yy(params):\n",
    "    logicQuBit  = LogicQuBit(2, first_left = False)\n",
    "    q1 = Qubit()\n",
    "    q2 = Qubit()\n",
    "    \n",
    "    ansatz_2q(q1,q2,params)\n",
    "    \n",
    "    # medidas em YY\n",
    "    q1.RX(pi/2)\n",
    "    q2.RX(pi/2)\n",
    "    \n",
    "    result = logicQuBit.Measure([q1,q2])\n",
    "    result = expectation_value(result)\n",
    "    return result\n",
    "\n",
    "def sigma_zz(params):\n",
    "    logicQuBit  = LogicQuBit(2, first_left = False)\n",
    "    q1 = Qubit()\n",
    "    q2 = Qubit()\n",
    "    \n",
    "    ansatz_2q(q1,q2,params)\n",
    "          \n",
    "    result = logicQuBit.Measure([q1,q2])\n",
    "    zz = expectation_value(result)\n",
    "    iz = expectation_value(result, sig_iz) # [zz, iz] = 0\n",
    "    zi = expectation_value(result, sig_zi) # [zz, zi] = 0\n",
    "    return zz, iz, zi\n",
    "\n",
    "def expectation_energy(params):\n",
    "    xx =  sigma_xx(params)\n",
    "    yy =  sigma_yy(params)\n",
    "    zz, iz, zi =  sigma_zz(params)\n",
    "    \n",
    "    result = g0 + g1*iz + g2*zi + g3*zz + g4*xx + g5*yy\n",
    "    return result"
   ]
  },
  {
   "cell_type": "code",
   "execution_count": 41,
   "metadata": {},
   "outputs": [
    {
     "name": "stdout",
     "output_type": "stream",
     "text": [
      "-1.1456294448176618\n"
     ]
    }
   ],
   "source": [
    "minimum = minimize(expectation_energy, [0,0,0,0,0,0], method='Nelder-Mead', options={'xtol': 1e-10, 'ftol': 1e-10})\n",
    "print(minimum.fun+rep_energy)"
   ]
  },
  {
   "cell_type": "code",
   "execution_count": 42,
   "metadata": {},
   "outputs": [],
   "source": [
    "def gradient(params, evaluate):\n",
    "    n_params = params.shape[0]\n",
    "    shift = pi/2\n",
    "    gradients = np.zeros(n_params)\n",
    "    \n",
    "    for i in range(n_params):\n",
    "        #parameter shift rule\n",
    "        shift_vect = np.array([shift if j==i else 0 for j in range(n_params)])\n",
    "        shift_right = params + shift_vect\n",
    "        shift_left = params - shift_vect\n",
    "        \n",
    "        expectation_right = evaluate(shift_right)\n",
    "        expectation_left = evaluate(shift_left)\n",
    "\n",
    "        gradients[i] = expectation_right - expectation_left\n",
    "\n",
    "    return gradients"
   ]
  },
  {
   "cell_type": "code",
   "execution_count": 43,
   "metadata": {},
   "outputs": [],
   "source": [
    "params = np.random.uniform(-np.pi, np.pi, 6)\n",
    "last_params = np.zeros(6)"
   ]
  },
  {
   "cell_type": "code",
   "execution_count": 44,
   "metadata": {},
   "outputs": [
    {
     "name": "stderr",
     "output_type": "stream",
     "text": [
      "/tmp/ipykernel_3773/1088512639.py:15: ComplexWarning: Casting complex values to real discards the imaginary part\n",
      "  gradients[i] = expectation_right - expectation_left\n"
     ]
    },
    {
     "name": "stdout",
     "output_type": "stream",
     "text": [
      "0.8036464520471593\n",
      "0.066507202474833\n",
      "0.0650056254104705\n",
      "0.06317151231647644\n",
      "0.06091693993038949\n",
      "0.05811410585290627\n",
      "0.05457926482233477\n",
      "0.05005001831855277\n",
      "0.044152640168749924\n",
      "0.03635451465793427\n",
      "0.025895344668580733\n",
      "0.011692466630882914\n",
      "0.007769389385788472\n",
      "0.034494421125069646\n",
      "0.07072792273707304\n",
      "0.11772771845743873\n",
      "0.17236247800167742\n",
      "0.2216826159166947\n",
      "0.243294660336585\n",
      "0.22441170862483945\n",
      "0.18033502618255065\n",
      "0.1359246097373531\n",
      "0.10242284608909788\n",
      "0.0798027805608332\n",
      "0.06496061081646312\n",
      "0.05509308699947513\n",
      "0.04828391929694614\n",
      "0.04334248948401881\n",
      "0.03955883451480463\n",
      "0.03651667177241848\n",
      "0.033972086248421046\n",
      "0.03178015374690006\n",
      "0.029852259476651183\n",
      "0.028131865310179943\n",
      "0.026580948989635464\n",
      "0.025172460810486658\n",
      "0.023886115252691575\n",
      "0.022706011815177576\n",
      "0.021619255713053308\n",
      "0.020615127545080138\n",
      "0.019684558589338944\n",
      "0.018819780558981994\n",
      "0.018014078684707502\n",
      "0.017261608965480534\n",
      "0.0165572574733992\n",
      "0.015896528755417538\n",
      "0.015275455375363296\n",
      "0.01469052344427561\n",
      "0.01413861061991259\n",
      "0.013616934052469104\n",
      "0.013123006394037096\n",
      "0.01265459842332744\n",
      "0.012209707145471304\n",
      "0.01178652845448876\n",
      "0.0113834336194403\n",
      "0.01099894899031668\n",
      "0.01063173842661486\n",
      "0.01028058803715827\n",
      "0.009944392888937878\n",
      "0.009622145399075646\n",
      "0.009312925170132227\n",
      "0.009015890066915923\n",
      "0.008730268364310262\n",
      "0.00845535182161647\n",
      "0.00819048956057572\n",
      "0.007935082642291008\n",
      "0.007688579253448596\n",
      "0.007450470424940445\n",
      "0.0072202862167562165\n",
      "0.006997592312064066\n",
      "0.006781986971118592\n",
      "0.006573098302144059\n",
      "0.006370581811935394\n",
      "0.006174118203669435\n",
      "0.00598341139348213\n",
      "0.005798186720886438\n",
      "0.0056181893310795344\n",
      "0.0054431827098086055\n",
      "0.005272947353693304\n",
      "0.0051072795608303745\n",
      "0.004945990328225493\n",
      "0.004788904344028955\n",
      "0.00463585906387054\n",
      "0.004486703861699876\n",
      "0.004341299246539403\n",
      "0.004199516137453833\n",
      "0.004061235189805662\n",
      "0.003926346166599941\n",
      "0.0037947473493468165\n",
      "0.0036663449834649867\n",
      "0.003541052753783847\n",
      "0.0034187912861978254\n",
      "0.0032994876720029605\n",
      "0.0031830750118770953\n",
      "0.00306949197687245\n",
      "0.002958682384212829\n",
      "0.002850594786028695\n",
      "0.002745182069552394\n",
      "0.002642401067622629\n",
      "0.00254221217868731\n",
      "0.002444578995794984\n",
      "0.00234946794435318\n",
      "0.00225684792871593\n",
      "0.0021666899878978463\n",
      "0.0020789669609333275\n",
      "0.0019936531626011944\n",
      "0.0019107240703921252\n",
      "0.001830156023730732\n",
      "0.0017519259365625997\n",
      "0.0016760110244711662\n",
      "0.0016023885475332234\n",
      "0.0015310355700887401\n",
      "0.0014619287385823493\n",
      "0.001395044078527155\n",
      "0.0013303568115556469\n",
      "0.001267841193372074\n",
      "0.001207470373244729\n",
      "0.0011492162755168123\n",
      "0.0010930495033782406\n",
      "0.0010389392649515494\n",
      "0.0009868533215107583\n",
      "0.0009367579574171836\n",
      "0.0008886179711642406\n",
      "0.0008423966866755728\n",
      "0.0007980559838254575\n",
      "0.0007555563469604787\n",
      "0.0007148569300399615\n",
      "0.0006759156368702224\n",
      "0.0006386892148057266\n",
      "0.0006031333601988625\n",
      "0.0005692028338184635\n",
      "0.0005368515844462879\n",
      "0.0005060328788450419\n",
      "0.00047669943631742373\n",
      "0.0004488035661385642\n",
      "0.00042229730620631234\n",
      "0.00039713256134799035\n",
      "0.00037326123982861503\n",
      "0.000350635386737963\n",
      "0.0003292073130577444\n",
      "0.0003089297193449858\n",
      "0.00028975581312906673\n",
      "0.0002716394192474325\n",
      "0.00025453508250466994\n",
      "0.0002383981621668918\n",
      "0.00022318491794592887\n",
      "0.0002088525872634417\n",
      "0.00019535945367726848\n",
      "0.00018266490650120648\n",
      "0.00017072949170471308\n",
      "0.00015951495430366336\n",
      "0.0001489842725071744\n",
      "0.00013910168394981604\n",
      "0.00012983270440386496\n",
      "0.00012114413940622626\n",
      "0.00011300408925776773\n",
      "0.00010538194787598765\n",
      "9.824839602126656e-05\n",
      "9.157538938320275e-05\n",
      "8.533614205150086e-05\n",
      "7.950510585946757e-05\n",
      "7.405794609849359e-05\n",
      "6.897151407517232e-05\n",
      "6.422381695611601e-05\n",
      "5.979398534547431e-05\n",
      "5.566223898673117e-05\n",
      "5.180985097782975e-05\n",
      "4.821911084587627e-05\n",
      "4.487328680838343e-05\n",
      "4.175658751473521e-05\n",
      "3.885412353576978e-05\n",
      "3.615186884373123e-05\n",
      "3.3636622498500746e-05\n",
      "3.129597072179524e-05\n",
      "2.9118249534887397e-05\n",
      "2.7092508096654422e-05\n",
      "2.5208472864246545e-05\n",
      "2.345651268018112e-05\n",
      "2.1827604866325734e-05\n",
      "2.031330239737894e-05\n",
      "1.8905702203947383e-05\n",
      "1.7597414638581554e-05\n",
      "1.6381534141129972e-05\n",
      "1.5251611109712293e-05\n",
      "1.4201624991605488e-05\n",
      "1.3225958578416686e-05\n",
      "1.2319373517005738e-05\n",
      "1.1476986991970639e-05\n",
      "1.0694249584247695e-05\n",
      "9.966924265469856e-06\n"
     ]
    }
   ],
   "source": [
    "lr = 0.1\n",
    "err = 1\n",
    "while err > 1e-5:\n",
    "    grad = gradient(params, expectation_energy)\n",
    "    params = params - lr*grad\n",
    "    err = abs(sum(params - last_params))\n",
    "    last_params = np.array(params)\n",
    "    print(err) "
   ]
  },
  {
   "cell_type": "code",
   "execution_count": 45,
   "metadata": {},
   "outputs": [
    {
     "name": "stdout",
     "output_type": "stream",
     "text": [
      "(-1.1455966226569918+0j)\n"
     ]
    }
   ],
   "source": [
    "energy = expectation_energy(params)\n",
    "energy = energy + rep_energy\n",
    "print(energy)"
   ]
  },
  {
   "cell_type": "code",
   "execution_count": null,
   "metadata": {},
   "outputs": [],
   "source": []
  }
 ],
 "metadata": {
  "kernelspec": {
   "display_name": "Python 3 (ipykernel)",
   "language": "python",
   "name": "python3"
  },
  "language_info": {
   "codemirror_mode": {
    "name": "ipython",
    "version": 3
   },
   "file_extension": ".py",
   "mimetype": "text/x-python",
   "name": "python",
   "nbconvert_exporter": "python",
   "pygments_lexer": "ipython3",
   "version": "3.8.5"
  }
 },
 "nbformat": 4,
 "nbformat_minor": 2
}
