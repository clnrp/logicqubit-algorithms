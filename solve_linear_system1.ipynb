{
 "cells": [
  {
   "cell_type": "code",
   "execution_count": 29,
   "metadata": {
    "scrolled": true
   },
   "outputs": [],
   "source": [
    "from logicqubit.logic import *\n",
    "from cmath import *\n",
    "import numpy as np\n",
    "import sympy as sp\n",
    "from scipy.linalg import expm, sinm, cosm, logm, sqrtm"
   ]
  },
  {
   "cell_type": "code",
   "execution_count": 30,
   "metadata": {},
   "outputs": [],
   "source": [
    "def qft(qr):\n",
    "    for i in range(len(qr)):\n",
    "        for j in range(i):\n",
    "            qr[i].CU1(qr[j], pi/float(2**(i-j)))\n",
    "        qr[i].H()\n",
    "        \n",
    "def iqft(qr):\n",
    "    for i in range(len(qr)):\n",
    "        for j in range(i):\n",
    "            qr[i].CU1(qr[j], -pi/float(2**(i-j)))\n",
    "        qr[i].H()\n",
    "        \n",
    "def swap(s1, s2):\n",
    "    s2.CX(s1)\n",
    "    s1.CX(s2)\n",
    "    s2.CX(s1)"
   ]
  },
  {
   "cell_type": "code",
   "execution_count": 31,
   "metadata": {},
   "outputs": [
    {
     "name": "stdout",
     "output_type": "stream",
     "text": [
      "[[-0.53489523-0.07624747j -0.11874839+0.83304996j]\n",
      " [-0.11874839+0.83304996j -0.53489523-0.07624747j]] [-0.65364362-0.7568025j -0.65364362-0.7568025j]\n"
     ]
    }
   ],
   "source": [
    "A = np.matrix([[3,1],[1,3]]) # *1/2\n",
    "U = np.matrix(expm(-1j*A))\n",
    "\n",
    "b = np.array([1,1])\n",
    "x = np.linalg.solve(U, b)\n",
    "print(U,x)"
   ]
  },
  {
   "cell_type": "code",
   "execution_count": 32,
   "metadata": {},
   "outputs": [
    {
     "name": "stdout",
     "output_type": "stream",
     "text": [
      "[[-0.53489523-0.07624747j -0.11874839+0.83304996j]\n",
      " [-0.11874839+0.83304996j -0.53489523-0.07624747j]]\n"
     ]
    }
   ],
   "source": [
    "# Ax=b, x=3/8=0.375 e -1/8=-0.125\n",
    "\n",
    "A = np.matrix([[3,1],[1,3]]) # *1/2\n",
    "U = np.matrix(expm(-1j*A))\n",
    "U_A_div2 = np.matrix(expm(1j*2*pi*A/2)) # t0=2*pi\n",
    "U_A_div4 = np.matrix(expm(1j*2*pi*A/4))\n",
    "U_A_div8 = np.matrix(expm(1j*2*pi*A/8))\n",
    "print(U)"
   ]
  },
  {
   "cell_type": "code",
   "execution_count": 33,
   "metadata": {},
   "outputs": [],
   "source": [
    "logicQuBit  = LogicQuBit(7)\n",
    "\n",
    "m = 2\n",
    "\n",
    "a = Qubit()\n",
    "c1 = Qubit()\n",
    "c2 = Qubit()\n",
    "c3 = Qubit()\n",
    "b = Qubit()\n",
    "\n",
    "c1.H()\n",
    "c2.H()\n",
    "c3.H()\n",
    "\n",
    "#b.X()\n",
    "b.H()\n",
    "# phase estimation\n",
    "b.CU(c3, U_A_div2)\n",
    "b.CU(c2, U_A_div4)\n",
    "b.CU(c1, U_A_div8)\n",
    "\n",
    "iqft([c1,c2,c3])\n",
    "\n",
    "swap(c3,c2)\n",
    "\n",
    "a.CRY(c3, 8*pi/2**(m-1))\n",
    "a.CRY(c2, 4*pi/2**(m-1))\n",
    "a.CRY(c1, 2*pi/2**(m-1))\n",
    "\n",
    "swap(c3,c2)\n",
    "\n",
    "qft([c1,c2,c3])\n",
    "\n",
    "# reverse phase estimation\n",
    "b.CU(c3, U_A_div2.conj().T)\n",
    "b.CU(c2, U_A_div4.conj().T)\n",
    "b.CU(c1, U_A_div8.conj().T)\n",
    "\n",
    "c1.H()\n",
    "c2.H()\n",
    "c3.H()\n",
    "#c3.PrintState()"
   ]
  },
  {
   "cell_type": "code",
   "execution_count": 26,
   "metadata": {},
   "outputs": [
    {
     "name": "stdout",
     "output_type": "stream",
     "text": [
      "[array(1.01239033e-31-2.20145656e-50j), array(1.-5.81739754e-18j)]\n"
     ]
    },
    {
     "data": {
      "image/png": "[encoded data removed]",
      "text/plain": [
       "<Figure size 432x288 with 1 Axes>"
      ]
     },
     "metadata": {
      "needs_background": "light"
     },
     "output_type": "display_data"
    },
    {
     "name": "stdout",
     "output_type": "stream",
     "text": [
      "[0.4999999999999989, 0.4999999999999988]\n"
     ]
    }
   ],
   "source": [
    "res_a = logicQuBit.Measure_One(a)\n",
    "print(res_a)\n",
    "res = logicQuBit.Measure([b]) # x=medir(b)\n",
    "logicQuBit.Plot()\n",
    "print(res)"
   ]
  },
  {
   "cell_type": "code",
   "execution_count": 27,
   "metadata": {},
   "outputs": [],
   "source": [
    "def Text2List(table):\n",
    "    list = [int(i, base=2) for i in table]\n",
    "    size = len(table[0])\n",
    "    tmp = sorted(list, key=int, reverse=False)  # values in ascending order\n",
    "    result = [[int(bin(j)[2:].zfill(size)[i]) for i in range(size)] for j in tmp]\n",
    "    return result\n",
    "\n",
    "def BinList(n):\n",
    "    blist = []\n",
    "    for i in iter(range(2 ** n)):\n",
    "        b = bin(i)[2:].zfill(n)  # value in binary, ex: i=1, n=4 -> '0001'\n",
    "        blist.append(b)\n",
    "    return Text2List(blist)\n",
    "\n",
    "#size=3\n",
    "#blist = [value for i,value in enumerate(BinList(size)) if res[i]>0.1] \n",
    "#results = [sum([value/2**(i+1) for i,value in enumerate(j)]) for j in blist]\n",
    "#print(results)"
   ]
  },
  {
   "cell_type": "code",
   "execution_count": 28,
   "metadata": {},
   "outputs": [
    {
     "data": {
      "text/plain": [
       "[0.0,\n",
       " 0.7853981633974483,\n",
       " 1.5707963267948966,\n",
       " 2.356194490192345,\n",
       " 3.141592653589793,\n",
       " 3.9269908169872414,\n",
       " 4.71238898038469,\n",
       " 5.497787143782138]"
      ]
     },
     "execution_count": 28,
     "metadata": {},
     "output_type": "execute_result"
    }
   ],
   "source": [
    "# todos possíveis valores\n",
    "size = 3\n",
    "blist = [[i >> bl & 0x1 for bl in range(size)][::-1] for i in range(2**size)]\n",
    "results = [2*pi*sum([value/2**(i+1) for i,value in enumerate(j)]) for j in blist]\n",
    "results"
   ]
  },
  {
   "cell_type": "code",
   "execution_count": 6,
   "metadata": {},
   "outputs": [
    {
     "name": "stdout",
     "output_type": "stream",
     "text": [
      "(array([2., 4.]), matrix([[-0.70710678,  0.70710678],\n",
      "        [ 0.70710678,  0.70710678]]))\n"
     ]
    }
   ],
   "source": [
    "h_eigenvalue = np.linalg.eigh(A)\n",
    "print(h_eigenvalue)"
   ]
  },
  {
   "cell_type": "code",
   "execution_count": 18,
   "metadata": {},
   "outputs": [],
   "source": [
    "a1 = h_eigenvalue[0][0]\n",
    "a2 = h_eigenvalue[0][1]\n",
    "v1 = h_eigenvalue[1][0]\n",
    "v2 = h_eigenvalue[1][1]"
   ]
  },
  {
   "cell_type": "code",
   "execution_count": 20,
   "metadata": {},
   "outputs": [
    {
     "data": {
      "text/plain": [
       "matrix([[1.41421356, 4.24264069]])"
      ]
     },
     "execution_count": 20,
     "metadata": {},
     "output_type": "execute_result"
    }
   ],
   "source": [
    "# multiplicar lamb^-1 por a_i*v_i\n",
    "(a1*v1+a2*v2)*0.75"
   ]
  },
  {
   "cell_type": "code",
   "execution_count": null,
   "metadata": {},
   "outputs": [],
   "source": []
  }
 ],
 "metadata": {
  "kernelspec": {
   "display_name": "Python 3",
   "language": "python",
   "name": "python3"
  },
  "language_info": {
   "codemirror_mode": {
    "name": "ipython",
    "version": 3
   },
   "file_extension": ".py",
   "mimetype": "text/x-python",
   "name": "python",
   "nbconvert_exporter": "python",
   "pygments_lexer": "ipython3",
   "version": "3.7.4"
  }
 },
 "nbformat": 4,
 "nbformat_minor": 2
}
