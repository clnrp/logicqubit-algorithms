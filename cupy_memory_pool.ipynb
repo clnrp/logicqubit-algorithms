{
 "cells": [
  {
   "cell_type": "code",
   "execution_count": 30,
   "metadata": {},
   "outputs": [],
   "source": [
    "from logicqubit.logic import *\n",
    "import cupy as cp"
   ]
  },
  {
   "cell_type": "code",
   "execution_count": 31,
   "metadata": {
    "scrolled": true
   },
   "outputs": [
    {
     "name": "stdout",
     "output_type": "stream",
     "text": [
      "6711031296\n",
      "6979354624\n"
     ]
    }
   ],
   "source": [
    "mempool = cp.get_default_memory_pool()\n",
    "\n",
    "#print(mempool.get_limit())\n",
    "#with cp.cuda.Device(0):\n",
    "#    mempool.set_limit(size=3*1024**3)  # 3 GiB\n",
    "    \n",
    "print(mempool.used_bytes())             \n",
    "print(mempool.total_bytes())     \n",
    "\n",
    "logicQuBit = LogicQuBit(13)\n",
    "q_reg = QubitRegister(13)\n",
    "q_reg.H()"
   ]
  },
  {
   "cell_type": "code",
   "execution_count": 24,
   "metadata": {},
   "outputs": [
    {
     "name": "stdout",
     "output_type": "stream",
     "text": [
      "6711031296\n",
      "6979354624\n"
     ]
    }
   ],
   "source": [
    "print(mempool.used_bytes())             \n",
    "print(mempool.total_bytes())             "
   ]
  },
  {
   "cell_type": "code",
   "execution_count": null,
   "metadata": {},
   "outputs": [],
   "source": []
  }
 ],
 "metadata": {
  "kernelspec": {
   "display_name": "Python 3",
   "language": "python",
   "name": "python3"
  },
  "language_info": {
   "codemirror_mode": {
    "name": "ipython",
    "version": 3
   },
   "file_extension": ".py",
   "mimetype": "text/x-python",
   "name": "python",
   "nbconvert_exporter": "python",
   "pygments_lexer": "ipython3",
   "version": "3.7.4"
  }
 },
 "nbformat": 4,
 "nbformat_minor": 2
}
