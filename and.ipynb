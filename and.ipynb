{
 "cells": [
  {
   "cell_type": "code",
   "execution_count": 7,
   "metadata": {},
   "outputs": [],
   "source": [
    "from logicqubit.logic import *"
   ]
  },
  {
   "cell_type": "code",
   "execution_count": 8,
   "metadata": {},
   "outputs": [
    {
     "data": {
      "text/latex": [
       "$\\displaystyle \\left[\\begin{matrix}0.5a1_{0}a2_{0} + 0.5a1_{0}b2_{1} + 0.5b1_{1}a2_{0} + 0.5b1_{1}b2_{1}\\\\0.5a1_{0}a2_{0} - 0.5a1_{0}b2_{1} + 0.5b1_{1}a2_{0} - 0.5b1_{1}b2_{1}\\\\0.5a1_{0}a2_{0} - 0.5a1_{0}b2_{1} - 0.5b1_{1}a2_{0} + 0.5b1_{1}b2_{1}\\\\0.5a1_{0}a2_{0} + 0.5a1_{0}b2_{1} - 0.5b1_{1}a2_{0} - 0.5b1_{1}b2_{1}\\end{matrix}\\right]$"
      ],
      "text/plain": [
       "<IPython.core.display.Math object>"
      ]
     },
     "metadata": {},
     "output_type": "display_data"
    }
   ],
   "source": [
    "logicQuBit  = LogicQuBit(2, symbolic=True)\n",
    "\n",
    "logicQuBit.H(1)\n",
    "logicQuBit.H(2)\n",
    "\n",
    "logicQuBit.CX(1,2)\n",
    "logicQuBit.PrintState()\n",
    "#logicQuBit.Pure()"
   ]
  },
  {
   "cell_type": "code",
   "execution_count": 9,
   "metadata": {},
   "outputs": [
    {
     "name": "stdout",
     "output_type": "stream",
     "text": [
      "['H(1)', 'H(2)', 'CX(1,2)']\n"
     ]
    }
   ],
   "source": [
    "logicQuBit.PrintOperations()"
   ]
  },
  {
   "cell_type": "code",
   "execution_count": 10,
   "metadata": {},
   "outputs": [],
   "source": [
    "logicQuBit.setSymbolValuesForAll(0,1)"
   ]
  },
  {
   "cell_type": "code",
   "execution_count": 11,
   "metadata": {},
   "outputs": [
    {
     "data": {
      "image/png": "[encoded data removed]",
      "text/plain": [
       "<Figure size 432x288 with 1 Axes>"
      ]
     },
     "metadata": {
      "needs_background": "light"
     },
     "output_type": "display_data"
    }
   ],
   "source": [
    "logicQuBit.Measure([1,2])\n",
    "logicQuBit.Plot()"
   ]
  },
  {
   "cell_type": "code",
   "execution_count": 15,
   "metadata": {},
   "outputs": [
    {
     "data": {
      "image/png": "[encoded data removed]",
      "text/plain": [
       "<Figure size 432x288 with 1 Axes>"
      ]
     },
     "metadata": {
      "needs_background": "light"
     },
     "output_type": "display_data"
    }
   ],
   "source": [
    "logicQuBit  = LogicQuBit(7)\n",
    "\n",
    "x10 = Qubit()\n",
    "x11 = Qubit()\n",
    "x20 = Qubit()\n",
    "x21 = Qubit()\n",
    "\n",
    "y0 = Qubit()\n",
    "y1 = Qubit()\n",
    "\n",
    "x10.H()\n",
    "x11.H()\n",
    "x20.H()\n",
    "x21.H()\n",
    "\n",
    "# OU\n",
    "#y0.X()\n",
    "#y1.X()\n",
    "\n",
    "y0.CCX(x10,x20)\n",
    "y1.CCX(x11,x21)\n",
    "\n",
    "values = logicQuBit.Measure([y0,y1])\n",
    "logicQuBit.Plot()"
   ]
  },
  {
   "cell_type": "code",
   "execution_count": 8,
   "metadata": {},
   "outputs": [
    {
     "data": {
      "text/plain": [
       "[0.5624999999999997,\n",
       " 0.1874999999999999,\n",
       " 0.1874999999999999,\n",
       " 0.06249999999999996]"
      ]
     },
     "execution_count": 8,
     "metadata": {},
     "output_type": "execute_result"
    }
   ],
   "source": [
    "values"
   ]
  },
  {
   "cell_type": "code",
   "execution_count": 9,
   "metadata": {},
   "outputs": [
    {
     "name": "stdout",
     "output_type": "stream",
     "text": [
      "00:9\n",
      "01:3\n",
      "10:3\n",
      "11:1\n"
     ]
    }
   ],
   "source": [
    "#00+01+10+11\n",
    "#00+01+10+11\n",
    "# OU = 00+01+10+11 + 01+01+11+11 + 10+11+10+11 + 11+11+11+11\n",
    "# E  = 00+00+00+00 + 00+01+00+01 + 00+00+10+10 + 00+01+10+11\n",
    "\n",
    "print('00:'+str(round(values[0]*16)))\n",
    "print('01:'+str(round(values[1]*16)))\n",
    "print('10:'+str(round(values[2]*16)))\n",
    "print('11:'+str(round(values[3]*16)))"
   ]
  },
  {
   "cell_type": "code",
   "execution_count": null,
   "metadata": {},
   "outputs": [],
   "source": [
    "logicQuBit  = LogicQuBit(7)\n",
    "\n",
    "q1 = Qubit()\n",
    "q2 = Qubit()\n",
    "q3 = Qubit()\n",
    "\n",
    "q1.X()\n",
    "q2.X() \n",
    "\n",
    "x10.H()\n",
    "x11.H()\n",
    "x20.H()\n",
    "x21.H()\n",
    "\n",
    "\n",
    "q3.CCX(x10,x20)\n",
    "\n",
    "values = logicQuBit.Measure([y0,y1])\n",
    "logicQuBit.Plot()"
   ]
  }
 ],
 "metadata": {
  "kernelspec": {
   "display_name": "Python 3",
   "language": "python",
   "name": "python3"
  },
  "language_info": {
   "codemirror_mode": {
    "name": "ipython",
    "version": 3
   },
   "file_extension": ".py",
   "mimetype": "text/x-python",
   "name": "python",
   "nbconvert_exporter": "python",
   "pygments_lexer": "ipython3",
   "version": "3.7.4"
  }
 },
 "nbformat": 4,
 "nbformat_minor": 2
}
