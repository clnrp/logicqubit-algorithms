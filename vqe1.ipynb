{
 "cells": [
  {
   "cell_type": "code",
   "execution_count": 6,
   "metadata": {
    "scrolled": true
   },
   "outputs": [],
   "source": [
    "from logicqubit.logic import *\n",
    "from cmath import *\n",
    "import numpy as np\n",
    "import sympy as sp\n",
    "from scipy.optimize import *\n",
    "import matplotlib.pyplot as plt"
   ]
  },
  {
   "cell_type": "code",
   "execution_count": 7,
   "metadata": {},
   "outputs": [],
   "source": [
    "def qft(qr):\n",
    "    for i in range(len(qr)):\n",
    "        for j in range(i):\n",
    "            qr[i].CU1(qr[j], pi/float(2**(i-j)))\n",
    "        qr[i].H()\n",
    "        \n",
    "def iqft(qr): # transformada quântica de Fourier inversa\n",
    "    for i in range(len(qr)):\n",
    "        for j in range(i):\n",
    "            qr[i].CU1(qr[j], -pi/float(2**(i-j)))\n",
    "        qr[i].H()\n",
    "        \n",
    "def swap(s1, s2):\n",
    "    s2.CX(s1)\n",
    "    s1.CX(s2)\n",
    "    s2.CX(s1)\n",
    "    \n",
    "def ansatz(q, theta):\n",
    "    return q.RY(theta)"
   ]
  },
  {
   "cell_type": "code",
   "execution_count": 8,
   "metadata": {},
   "outputs": [],
   "source": [
    "def expectation(theta):\n",
    "    # H = Sz\n",
    "    # <psi|H|psi> = <psi| [[1,0],[0,-1]] |psi>\n",
    "    # |0><0|=[[1,0],[0,0]] e |1><1|=[[0,0],[0,1]]\n",
    "    # <psi|H|psi> = <psi|0><0|psi> - <psi|1><1|psi> = <0> - <1>\n",
    "    \n",
    "    logicQuBit  = LogicQuBit(1)\n",
    "    q = Qubit()\n",
    "    \n",
    "    ansatz(q, theta)\n",
    "\n",
    "    res = logicQuBit.Measure([q])\n",
    "    return res[0]-res[1]"
   ]
  },
  {
   "cell_type": "code",
   "execution_count": 9,
   "metadata": {},
   "outputs": [
    {
     "data": {
      "text/plain": [
       "1.0"
      ]
     },
     "execution_count": 9,
     "metadata": {},
     "output_type": "execute_result"
    }
   ],
   "source": [
    "expectation(0)"
   ]
  },
  {
   "cell_type": "code",
   "execution_count": 12,
   "metadata": {},
   "outputs": [
    {
     "data": {
      "image/png": "[encoded data removed]",
      "text/plain": [
       "<Figure size 432x288 with 1 Axes>"
      ]
     },
     "metadata": {
      "needs_background": "light"
     },
     "output_type": "display_data"
    }
   ],
   "source": [
    "params = np.linspace(0.0, 2 * np.pi, 25)\n",
    "data = [expectation(theta) for theta in params]\n",
    " \n",
    "plt.xlabel('angulo')\n",
    "plt.ylabel('valor esperado')\n",
    "plt.plot(params, data)\n",
    "plt.show()"
   ]
  },
  {
   "cell_type": "code",
   "execution_count": 11,
   "metadata": {},
   "outputs": [
    {
     "name": "stdout",
     "output_type": "stream",
     "text": [
      " final_simplex: (array([[3.14375],\n",
      "       [3.1375 ]]), array([-0.99999767, -0.99999163]))\n",
      "           fun: -0.9999976729291358\n",
      "       message: 'Optimization terminated successfully.'\n",
      "          nfev: 28\n",
      "           nit: 14\n",
      "        status: 0\n",
      "       success: True\n",
      "             x: array([3.14375])\n"
     ]
    }
   ],
   "source": [
    "theta = 0.0\n",
    "minimum = minimize(expectation, theta, method='Nelder-Mead', options={'initial_simplex': np.array([[0.0], [0.05]]), 'xatol': 1.0e-2})\n",
    "print(minimum)"
   ]
  },
  {
   "cell_type": "code",
   "execution_count": null,
   "metadata": {},
   "outputs": [],
   "source": []
  }
 ],
 "metadata": {
  "kernelspec": {
   "display_name": "Python 3",
   "language": "python",
   "name": "python3"
  },
  "language_info": {
   "codemirror_mode": {
    "name": "ipython",
    "version": 3
   },
   "file_extension": ".py",
   "mimetype": "text/x-python",
   "name": "python",
   "nbconvert_exporter": "python",
   "pygments_lexer": "ipython3",
   "version": "3.7.4"
  }
 },
 "nbformat": 4,
 "nbformat_minor": 2
}
