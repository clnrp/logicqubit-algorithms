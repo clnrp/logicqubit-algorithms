{
 "cells": [
  {
   "cell_type": "code",
   "execution_count": 1,
   "metadata": {
    "scrolled": true
   },
   "outputs": [
    {
     "name": "stdout",
     "output_type": "stream",
     "text": [
      "Cuda is not available!\n",
      "logicqubit version 1.5.8\n"
     ]
    }
   ],
   "source": [
    "from logicqubit.logic import *\n",
    "from cmath import *\n",
    "import numpy as np\n",
    "import sympy as sp\n",
    "from scipy.linalg import expm, sinm, cosm, logm, sqrtm"
   ]
  },
  {
   "cell_type": "code",
   "execution_count": 2,
   "metadata": {},
   "outputs": [],
   "source": [
    "def qft(qr):\n",
    "    for i in range(len(qr)):\n",
    "        for j in range(i):\n",
    "            qr[i].CU1(qr[j], pi/float(2**(i-j)))\n",
    "        qr[i].H()\n",
    "        \n",
    "def iqft(qr): # transformada quântica de Fourier inversa\n",
    "    for i in range(len(qr)):\n",
    "        for j in range(i):\n",
    "            qr[i].CU1(qr[j], -pi/float(2**(i-j)))\n",
    "        qr[i].H()\n",
    "        \n",
    "def swap(s1, s2):\n",
    "    s2.CX(s1)\n",
    "    s1.CX(s2)\n",
    "    s2.CX(s1)"
   ]
  },
  {
   "cell_type": "code",
   "execution_count": 110,
   "metadata": {},
   "outputs": [
    {
     "name": "stdout",
     "output_type": "stream",
     "text": [
      "[[(0.7316888688738209+0.6816387600233341j), 0j], [0j, (-0.7373937155412454+0.675463180551151j)]]\n"
     ]
    }
   ],
   "source": [
    "D = np.matrix('0.75 0; 0 2.4')\n",
    "P = np.matrix('1 0; 0 1')/sqrt(2)\n",
    "\n",
    "H = P*D*P.I\n",
    "H_ad = H.getH()\n",
    "\n",
    "U = np.matrix(expm(1j*H)).tolist()\n",
    "print(U)"
   ]
  },
  {
   "cell_type": "code",
   "execution_count": 111,
   "metadata": {},
   "outputs": [
    {
     "name": "stdout",
     "output_type": "stream",
     "text": [
      "[[0.75+2.23984107e-17j 0.  +0.00000000e+00j]\n",
      " [0.  -0.00000000e+00j 2.4 +2.31890336e-17j]]\n"
     ]
    }
   ],
   "source": [
    "H=-1j*logm(U)\n",
    "print(H)"
   ]
  },
  {
   "cell_type": "code",
   "execution_count": 112,
   "metadata": {},
   "outputs": [],
   "source": [
    "logicQuBit  = LogicQuBit(5)\n",
    "\n",
    "x1 = Qubit()\n",
    "x2 = Qubit()\n",
    "x3 = Qubit()\n",
    "x4 = Qubit()\n",
    "\n",
    "y = Qubit()\n",
    "\n",
    "x1.H()\n",
    "x2.H()\n",
    "x3.H()\n",
    "x4.H()\n",
    "\n",
    "y.X()\n",
    "y.H()\n",
    "\n",
    "y.CU(x4, U)\n",
    "\n",
    "y.CU(x3, U)\n",
    "y.CU(x3, U)\n",
    "\n",
    "y.CU(x2, U)\n",
    "y.CU(x2, U)\n",
    "y.CU(x2, U)\n",
    "y.CU(x2, U)\n",
    "\n",
    "y.CU(x1, U)\n",
    "y.CU(x1, U)\n",
    "y.CU(x1, U)\n",
    "y.CU(x1, U)\n",
    "y.CU(x1, U)\n",
    "y.CU(x1, U)\n",
    "y.CU(x1, U)\n",
    "y.CU(x1, U)\n",
    "\n",
    "iqft([x1,x2,x3,x4])"
   ]
  },
  {
   "cell_type": "code",
   "execution_count": 113,
   "metadata": {},
   "outputs": [
    {
     "data": {
      "image/png": "[encoded data removed]",
      "text/plain": [
       "<Figure size 432x288 with 1 Axes>"
      ]
     },
     "metadata": {
      "needs_background": "light"
     },
     "output_type": "display_data"
    },
    {
     "name": "stdout",
     "output_type": "stream",
     "text": [
      "[(0.001401639196163007+0j), (0.0051524981260398645+0j), (0.4872683702867632+0j), (0.004079034518051573+0j), (0.0023766157306936786+0j), (0.005379266264092826+0j), (0.48023502593394907+0j), (0.007857372483188886+0j), (0.0019293485609914271+0j), (0.000955085534128087+0j), (0.0006340302893651549+0j), (0.000502806144298423+0j), (0.0004561505625200024+0j), (0.0004674769254270446+0j), (0.000546477776361717+0j), (0.00075880166796409+0j)]\n"
     ]
    }
   ],
   "source": [
    "res = logicQuBit.Measure([x1,x2,x3,x4])\n",
    "logicQuBit.Plot()\n",
    "print(res)"
   ]
  },
  {
   "cell_type": "code",
   "execution_count": 114,
   "metadata": {},
   "outputs": [
    {
     "name": "stdout",
     "output_type": "stream",
     "text": [
      "[0.7853981633974483, 2.356194490192345]\n"
     ]
    }
   ],
   "source": [
    "def Text2List(table):\n",
    "    list = [int(i, base=2) for i in table]\n",
    "    size = len(table[0])\n",
    "    tmp = sorted(list, key=int, reverse=False)  # values in ascending order\n",
    "    result = [[int(bin(j)[2:].zfill(size)[i]) for i in range(size)] for j in tmp]\n",
    "    return result\n",
    "\n",
    "def BinList(n):\n",
    "    blist = []\n",
    "    for i in iter(range(2 ** n)):\n",
    "        b = bin(i)[2:].zfill(n)  # value in binary, ex: i=1, n=4 -> '0001'\n",
    "        blist.append(b)\n",
    "    return Text2List(blist)\n",
    "\n",
    "size=4\n",
    "blist = [value for i,value in enumerate(BinList(size)) if res[i]>0.3] \n",
    "results = [2*pi*sum([value/2**(i+1) for i,value in enumerate(j)]) for j in blist]\n",
    "print(results)"
   ]
  },
  {
   "cell_type": "code",
   "execution_count": 115,
   "metadata": {},
   "outputs": [
    {
     "data": {
      "text/plain": [
       "[0.0,\n",
       " 0.39269908169872414,\n",
       " 0.7853981633974483,\n",
       " 1.1780972450961724,\n",
       " 1.5707963267948966,\n",
       " 1.9634954084936207,\n",
       " 2.356194490192345,\n",
       " 2.748893571891069,\n",
       " 3.141592653589793,\n",
       " 3.5342917352885173,\n",
       " 3.9269908169872414,\n",
       " 4.319689898685965,\n",
       " 4.71238898038469,\n",
       " 5.105088062083414,\n",
       " 5.497787143782138,\n",
       " 5.890486225480862]"
      ]
     },
     "execution_count": 115,
     "metadata": {},
     "output_type": "execute_result"
    }
   ],
   "source": [
    "# todos possíveis valores\n",
    "size = 4\n",
    "blist = [[i >> bl & 0x1 for bl in range(size)][::-1] for i in range(2**size)]\n",
    "results = [2*pi*sum([value/2**(i+1) for i,value in enumerate(j)]) for j in blist]\n",
    "results"
   ]
  },
  {
   "cell_type": "code",
   "execution_count": null,
   "metadata": {},
   "outputs": [],
   "source": []
  }
 ],
 "metadata": {
  "kernelspec": {
   "display_name": "Python 3 (ipykernel)",
   "language": "python",
   "name": "python3"
  },
  "language_info": {
   "codemirror_mode": {
    "name": "ipython",
    "version": 3
   },
   "file_extension": ".py",
   "mimetype": "text/x-python",
   "name": "python",
   "nbconvert_exporter": "python",
   "pygments_lexer": "ipython3",
   "version": "3.8.5"
  }
 },
 "nbformat": 4,
 "nbformat_minor": 2
}
