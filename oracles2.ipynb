{
 "cells": [
  {
   "cell_type": "code",
   "execution_count": 1,
   "metadata": {
    "scrolled": true
   },
   "outputs": [
    {
     "name": "stdout",
     "output_type": "stream",
     "text": [
      "logicqubit-gpu version 1.2.8\n"
     ]
    }
   ],
   "source": [
    "from logicqubit.logic import *"
   ]
  },
  {
   "cell_type": "code",
   "execution_count": 2,
   "metadata": {},
   "outputs": [],
   "source": [
    "# Uf|x,y> = |x,y+f(x)>\n",
    "# Uf|x>(|0>-|1>) = |x>|0+f(x)>+|x>|1+f(x)>\n",
    "# p/ f(x)=0 -> |x,y>, f(x)=1 -> -1|x,y>\n",
    "# = (-1)^f(x)|x,y>\n",
    "\n",
    "def qft(qr, n):\n",
    "    for i in range(n):\n",
    "        for j in range(i):\n",
    "            logicQuBit.CU1(qr[j], qr[i], pi/float(2**(i-j)))\n",
    "        logicQuBit.H(qr[i])\n",
    "        \n",
    "def iqft(qr, n): # transformada quântica de Fourier inversa\n",
    "    for i in range(n):\n",
    "        for j in range(i):\n",
    "            logicQuBit.CU1(qr[j], qr[i], -pi/float(2**(i-j)))\n",
    "        logicQuBit.H(qr[i])\n",
    "        \n",
    "def swap(s1, s2):\n",
    "    logicQuBit.CX(s1, s2)\n",
    "    logicQuBit.CX(s2, s1)\n",
    "    logicQuBit.CX(s1, s2)"
   ]
  },
  {
   "cell_type": "code",
   "execution_count": 3,
   "metadata": {},
   "outputs": [],
   "source": [
    "# Altera a probalidade dos estados em y\n",
    "logicQuBit  = LogicQuBit(7)\n",
    "\n",
    "x1 = Qubit()\n",
    "x2 = Qubit()\n",
    "x3 = Qubit()\n",
    "x4 = Qubit()\n",
    "\n",
    "y1 = Qubit()\n",
    "y2 = Qubit()\n",
    "y3 = Qubit()\n",
    "\n",
    "# |000>+|001>+|010>+|011>+|100>+|101>+|110>+|111>\n",
    "x1.H()\n",
    "x2.H()\n",
    "x3.H()\n",
    "x4.H()\n",
    "\n",
    "# Hx|x,y> = |000,000>+|001,000>+|010,000>+|011,000>+|100,000>+|101,000>+|110,000>+|111,000>\n",
    "\n",
    "# oracle\n",
    "#y1.X() # |001>\n",
    "\n",
    "# p/ y=000 -> nada |000,000>+|001,000>+|010,000>+|011,000>+|100,000>+|101,000>+|110,000>+|111,000>\n",
    "\n",
    "# p/ y=010 -> y2.CX(x1) |000,000>+|001,010>+|010,000>+|011,010>+|100,000>+|101,010>+|110,000>+|111,010>\n",
    "y2.CX(x2)\n",
    "\n",
    "# p/ y=100 -> X(x2) |010,000>+|011,010>+|000,000>+|001,010>+|110,000>+|111,010>+|100,000>+|101,010>\n",
    "# p/ y=100 -> y3.CX(x2) |010,100>+|011,110>+|000,000>+|001,010>+|110,100>+|111,110>+|100,000>+|101,010>\n",
    "# p/ y=100 -> X(x2) |000,100>+|001,110>+|010,000>+|011,010>+|100,100>+|101,110>+|110,000>+|111,010>\n",
    "x2.X() # not x2\n",
    "y3.CX(x3)\n",
    "x2.X()\n",
    "\n",
    "iqft([x1,x2,x3,x4],3)"
   ]
  },
  {
   "cell_type": "code",
   "execution_count": 5,
   "metadata": {},
   "outputs": [],
   "source": [
    "#x1.PrintState()"
   ]
  },
  {
   "cell_type": "code",
   "execution_count": 6,
   "metadata": {},
   "outputs": [
    {
     "data": {
      "image/png": "[encoded data removed]",
      "text/plain": [
       "<Figure size 432x288 with 1 Axes>"
      ]
     },
     "metadata": {
      "needs_background": "light"
     },
     "output_type": "display_data"
    }
   ],
   "source": [
    "logicQuBit.Measure([x1,x2,x3])\n",
    "#logicQuBit.Measure([y1,y2,y3])\n",
    "logicQuBit.Plot()"
   ]
  },
  {
   "cell_type": "code",
   "execution_count": 7,
   "metadata": {},
   "outputs": [],
   "source": [
    "# x  y\n",
    "# 0  0011\n",
    "# 1  0101\n",
    "\n",
    "logicQuBit  = LogicQuBit(6)\n",
    "\n",
    "x1 = Qubit()\n",
    "\n",
    "y1 = Qubit()\n",
    "y2 = Qubit()\n",
    "y3 = Qubit()\n",
    "y4 = Qubit()\n",
    "\n",
    "x1.H()\n",
    "\n",
    "y2.CX(x1)\n",
    "y3.CX(x1)\n",
    "y3.X()\n",
    "y4.X()"
   ]
  },
  {
   "cell_type": "code",
   "execution_count": 8,
   "metadata": {},
   "outputs": [
    {
     "data": {
      "image/png": "[encoded data removed]",
      "text/plain": [
       "<Figure size 432x288 with 1 Axes>"
      ]
     },
     "metadata": {
      "needs_background": "light"
     },
     "output_type": "display_data"
    }
   ],
   "source": [
    "res=logicQuBit.Measure([y1,y2,y3,y4])\n",
    "logicQuBit.Plot()"
   ]
  },
  {
   "cell_type": "code",
   "execution_count": null,
   "metadata": {},
   "outputs": [],
   "source": []
  }
 ],
 "metadata": {
  "kernelspec": {
   "display_name": "Python 3",
   "language": "python",
   "name": "python3"
  },
  "language_info": {
   "codemirror_mode": {
    "name": "ipython",
    "version": 3
   },
   "file_extension": ".py",
   "mimetype": "text/x-python",
   "name": "python",
   "nbconvert_exporter": "python",
   "pygments_lexer": "ipython3",
   "version": "3.7.4"
  }
 },
 "nbformat": 4,
 "nbformat_minor": 2
}
