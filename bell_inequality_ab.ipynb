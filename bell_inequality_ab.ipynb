{
 "cells": [
  {
   "cell_type": "code",
   "execution_count": 42,
   "metadata": {
    "scrolled": true
   },
   "outputs": [],
   "source": [
    "from logicqubit.logic import *\n",
    "from math import *\n",
    "import random\n",
    "import operator\n",
    "import matplotlib.pyplot as plt\n",
    "from IPython.display import display, Math, Latex"
   ]
  },
  {
   "cell_type": "code",
   "execution_count": 43,
   "metadata": {},
   "outputs": [],
   "source": [
    "def print_matrix(matrix):\n",
    "    value = sp.latex(sp.Matrix(matrix))\n",
    "    display(Math(value))"
   ]
  },
  {
   "cell_type": "code",
   "execution_count": 44,
   "metadata": {},
   "outputs": [
    {
     "name": "stdout",
     "output_type": "stream",
     "text": [
      "{'00': 0j, '01': (0.7071067811865475+0j), '10': (-0.7071067811865475+0j), '11': 0j}\n",
      "{'ab': array([-0.70710678+0.j]), \"a'b\": array([-0.70710678+0.j]), \"ab'\": array([-0.70710678+0.j]), \"a'b'\": array([0.70710678+0.j])}\n",
      "Inequality: 2.8284271247461894\n"
     ]
    }
   ],
   "source": [
    "logicQuBit = LogicQuBit(2)\n",
    "\n",
    "B = Qubit()\n",
    "A = Qubit()\n",
    "\n",
    "# generate entangled state |01>-|10>\n",
    "A.H()\n",
    "B.CNOT(A)\n",
    "B.X()\n",
    "B.Z()\n",
    "\n",
    "psi = logicQuBit.getPsi()\n",
    "\n",
    "# Axes\n",
    "gates = Gates()\n",
    "M = {}\n",
    "M[\"ab\"] = gates.Z().kron((gates.Z()+gates.X())/sqrt(2))   # Z and (Z+X)/sqrt(2)\n",
    "M[\"a'b\"] = gates.X().kron((gates.Z()+gates.X())/sqrt(2))  # X and (Z+X)/sqrt(2)\n",
    "M[\"ab'\"] = gates.Z().kron((gates.Z()-gates.X())/sqrt(2))  # Z and (Z-X)/sqrt(2)\n",
    "M[\"a'b'\"] = gates.X().kron((gates.Z()-gates.X())/sqrt(2)) # X and (Z-X)/sqrt(2)\n",
    "\n",
    "# Expected values for ab, a'b, ab' and a'b'\n",
    "values = {}\n",
    "values[\"ab\"] = (psi.adjoint()*M[\"ab\"]*psi).get()[0]\n",
    "values[\"a'b\"] = (psi.adjoint()*M[\"a'b\"]*psi).get()[0]\n",
    "values[\"ab'\"] = (psi.adjoint()*M[\"ab'\"]*psi).get()[0]\n",
    "values[\"a'b'\"] = (psi.adjoint()*M[\"a'b'\"]*psi).get()[0]\n",
    "\n",
    "print(logicQuBit.getDictPsi())\n",
    "print(values)\n",
    "\n",
    "# Bell inequality value\n",
    "inequality = values[\"ab\"] + values[\"a'b\"] + values[\"ab'\"] - values[\"a'b'\"]\n",
    "inequality = sqrt(inequality.real * inequality.real)\n",
    "print(\"Inequality: \"+str(inequality))"
   ]
  },
  {
   "cell_type": "code",
   "execution_count": 45,
   "metadata": {},
   "outputs": [
    {
     "name": "stdout",
     "output_type": "stream",
     "text": [
      "Inequality: 2.828427124746189\n"
     ]
    }
   ],
   "source": [
    "def measurement(type_A, type_B):\n",
    "    logicQuBit = LogicQuBit(2)\n",
    "    \n",
    "    gates = Gates()\n",
    "    ZZ = gates.Z().kron(gates.Z())\n",
    "    \n",
    "    A = Qubit()\n",
    "    B = Qubit()\n",
    "\n",
    "    # generate entangled state |01>-|10>\n",
    "    A.H()\n",
    "    B.CNOT(A)\n",
    "    B.X()\n",
    "    B.Z()\n",
    "\n",
    "    # Alice choose the measurement\n",
    "    if \"a'\" == type_A:\n",
    "        A.H()\n",
    "\n",
    "    # Bob choose the measurement\n",
    "    if \"b\" == type_B:\n",
    "        B.RY(-pi/4)\n",
    "    elif \"b'\" == type_B:\n",
    "        B.RY(pi/4)\n",
    "        \n",
    "    psi = logicQuBit.getPsi()\n",
    "    value = (psi.adjoint()*ZZ*psi).get()[0]\n",
    "    return value\n",
    "\n",
    "values = {}\n",
    "values[\"ab\"] = measurement(\"a\",\"b\")\n",
    "values[\"a'b\"] = measurement(\"a'\",\"b\")\n",
    "values[\"ab'\"] = measurement(\"a\",\"b'\")\n",
    "values[\"a'b'\"] = measurement(\"a'\",\"b'\")\n",
    "inequality = values[\"ab\"] + values[\"a'b\"] + values[\"ab'\"] - values[\"a'b'\"]\n",
    "inequality = sqrt(inequality.real * inequality.real)\n",
    "print(\"Inequality: \"+str(inequality))"
   ]
  },
  {
   "cell_type": "code",
   "execution_count": 46,
   "metadata": {},
   "outputs": [],
   "source": [
    "#print_matrix(((gates.Z()+gates.X())/sqrt(2)).get())\n",
    "#print_matrix(gates.U3(1,pi/2,0,pi).get())\n",
    "#print_matrix(gates.H().get())"
   ]
  },
  {
   "cell_type": "code",
   "execution_count": 50,
   "metadata": {},
   "outputs": [
    {
     "name": "stdout",
     "output_type": "stream",
     "text": [
      "{'ab': -0.7522123893805309, \"a'b\": -0.6825396825396826, \"ab'\": -0.728, \"a'b'\": 0.7647058823529411}\n",
      "2.9274579542731543\n"
     ]
    }
   ],
   "source": [
    "# |<C>| = |<a.b> + <a'.b> + <a.b'> - <a'.b'>| <= 2\n",
    "def bell_inequality(A, B):\n",
    "    direction = {\"ab\":0, \"a'b\":0, \"ab'\":0, \"a'b'\":0}\n",
    "    count = {\"ab\":0, \"a'b\":0, \"ab'\":0, \"a'b'\":0}\n",
    "    \n",
    "    # Expected values for ab, a'b, ab' and a'b'\n",
    "    for a,b in zip(A,B):\n",
    "        if a[0]==\"a\" and b[0]==\"b\":\n",
    "            direction[\"ab\"] += a[1]*b[1]\n",
    "            count[\"ab\"] += 1\n",
    "        elif a[0]==\"a'\" and b[0]==\"b\":\n",
    "            direction[\"a'b\"] += a[1]*b[1]\n",
    "            count[\"a'b\"] += 1\n",
    "        elif a[0]==\"a\" and b[0]==\"b'\":\n",
    "            direction[\"ab'\"] += a[1]*b[1]\n",
    "            count[\"ab'\"] += 1\n",
    "        elif a[0]==\"a'\" and b[0]==\"b'\":\n",
    "            direction[\"a'b'\"] += a[1]*b[1]\n",
    "            count[\"a'b'\"] += 1\n",
    "\n",
    "    direction[\"ab\"] /= count[\"ab\"]\n",
    "    direction[\"a'b\"] /= count[\"a'b\"]\n",
    "    direction[\"ab'\"] /= count[\"ab'\"]\n",
    "    direction[\"a'b'\"] /= count[\"a'b'\"]\n",
    "    # Bell inequality value\n",
    "    inequality = direction[\"ab\"] + direction[\"a'b\"] + direction[\"ab'\"] - direction[\"a'b'\"]\n",
    "    inequality = sqrt(inequality * inequality)\n",
    "    print(direction)\n",
    "    return inequality\n",
    "\n",
    "def measurements(eva=False, attempts=10):\n",
    "    to_minus_one = lambda x: -1 if x == 0 else x\n",
    "    measure_A = []\n",
    "    measure_B = []\n",
    "  \n",
    "    for i in range(attempts):\n",
    "        logicQuBit = LogicQuBit(2)\n",
    "\n",
    "        A = Qubit()\n",
    "        B = Qubit()\n",
    "\n",
    "        # generate entangled state |01>-|10>\n",
    "        A.H()\n",
    "        B.CNOT(A)\n",
    "        B.X()\n",
    "        B.Z()\n",
    "\n",
    "        # Alice choose the measurement\n",
    "        measure_type_A = random.choice([\"a\", \"a'\"])\n",
    "        if \"a'\" == measure_type_A: # for x\n",
    "            A.H()\n",
    "            \n",
    "        # Alice performs the measurement\n",
    "        m_A = logicQuBit.Measure_One(A)[0]\n",
    "        m_A = to_minus_one(m_A)\n",
    "\n",
    "        # Eva performs the measurement\n",
    "        if eva:\n",
    "            measure_type_E = random.choice([\"b\", \"b'\"])\n",
    "            if \"b\" == measure_type_E:\n",
    "                B.RY(-pi/4)\n",
    "            elif \"b'\" == measure_type_E:\n",
    "                B.RY(pi/4)\n",
    "            m_E = logicQuBit.Measure_One(B)[0]\n",
    "\n",
    "        # Bob choose the measurement\n",
    "        measure_type_B = random.choice([\"b\", \"b'\"])\n",
    "        if \"b\" == measure_type_B:\n",
    "            B.RY(-pi/4)\n",
    "        elif \"b'\" == measure_type_B:\n",
    "            B.RY(pi/4)\n",
    "       \n",
    "        # Bob performs the measurement\n",
    "        m_B = logicQuBit.Measure_One(B)[0]\n",
    "        m_B = to_minus_one(m_B)\n",
    "\n",
    "        measure_A.append([measure_type_A, m_A])\n",
    "        measure_B.append([measure_type_B, m_B])\n",
    "\n",
    "    return measure_A, measure_B\n",
    "\n",
    "measure_A, measure_B = measurements(eva=False, attempts=500)\n",
    "bell = bell_inequality(measure_A, measure_B)\n",
    "print(bell)"
   ]
  },
  {
   "cell_type": "code",
   "execution_count": 51,
   "metadata": {},
   "outputs": [
    {
     "name": "stdout",
     "output_type": "stream",
     "text": [
      "{'ab': -0.75, \"a'b\": -0.7446808510638298, \"ab'\": -0.7619047619047619, \"a'b'\": 0.6}\n",
      "2.856585612968592\n"
     ]
    }
   ],
   "source": [
    "# without eva\n",
    "measure_A, measure_B = measurements(eva=False, attempts=200)\n",
    "bell = bell_inequality(measure_A, measure_B)\n",
    "print(bell)"
   ]
  },
  {
   "cell_type": "code",
   "execution_count": 52,
   "metadata": {},
   "outputs": [
    {
     "name": "stdout",
     "output_type": "stream",
     "text": [
      "{'ab': -0.5238095238095238, \"a'b\": 0.125, \"ab'\": -0.42857142857142855, \"a'b'\": 0.037037037037037035}\n",
      "0.8644179894179893\n"
     ]
    }
   ],
   "source": [
    "# with eva\n",
    "measure_A, measure_B = measurements(eva=True, attempts=200)\n",
    "bell = bell_inequality(measure_A, measure_B)\n",
    "print(bell)"
   ]
  },
  {
   "cell_type": "code",
   "execution_count": null,
   "metadata": {},
   "outputs": [],
   "source": []
  }
 ],
 "metadata": {
  "kernelspec": {
   "display_name": "Python 3",
   "language": "python",
   "name": "python3"
  },
  "language_info": {
   "codemirror_mode": {
    "name": "ipython",
    "version": 3
   },
   "file_extension": ".py",
   "mimetype": "text/x-python",
   "name": "python",
   "nbconvert_exporter": "python",
   "pygments_lexer": "ipython3",
   "version": "3.8.5"
  }
 },
 "nbformat": 4,
 "nbformat_minor": 2
}
