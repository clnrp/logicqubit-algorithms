{
 "cells": [
  {
   "cell_type": "code",
   "execution_count": 1,
   "metadata": {
    "scrolled": true
   },
   "outputs": [
    {
     "name": "stdout",
     "output_type": "stream",
     "text": [
      "logicqubit-gpu version 1.2.8\n"
     ]
    }
   ],
   "source": [
    "from logicqubit.logic import *"
   ]
  },
  {
   "cell_type": "code",
   "execution_count": 18,
   "metadata": {},
   "outputs": [],
   "source": [
    "logicQuBit  = LogicQuBit(3, first_left=True)\n",
    "\n",
    "x1 = Qubit()\n",
    "x2 = Qubit()\n",
    "x3 = Qubit()\n",
    "\n",
    "#x1.X()\n",
    "x2.CX(x1)\n",
    "x3.CX(x1)\n",
    "\n",
    "# bit flip error\n",
    "#x2.X()\n",
    "x3.X() \n",
    "#x1.X() \n",
    "\n",
    "x2.CX(x1)\n",
    "x3.CX(x1)\n",
    "x1.CCX(x2,x3)"
   ]
  },
  {
   "cell_type": "code",
   "execution_count": 19,
   "metadata": {},
   "outputs": [
    {
     "data": {
      "image/png": "[encoded data removed]",
      "text/plain": [
       "<Figure size 432x288 with 1 Axes>"
      ]
     },
     "metadata": {
      "needs_background": "light"
     },
     "output_type": "display_data"
    }
   ],
   "source": [
    "logicQuBit.Measure([x1])\n",
    "logicQuBit.Plot()"
   ]
  },
  {
   "cell_type": "code",
   "execution_count": null,
   "metadata": {},
   "outputs": [],
   "source": []
  }
 ],
 "metadata": {
  "kernelspec": {
   "display_name": "Python 3",
   "language": "python",
   "name": "python3"
  },
  "language_info": {
   "codemirror_mode": {
    "name": "ipython",
    "version": 3
   },
   "file_extension": ".py",
   "mimetype": "text/x-python",
   "name": "python",
   "nbconvert_exporter": "python",
   "pygments_lexer": "ipython3",
   "version": "3.7.4"
  }
 },
 "nbformat": 4,
 "nbformat_minor": 2
}
