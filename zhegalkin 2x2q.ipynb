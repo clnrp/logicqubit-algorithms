{
 "cells": [
  {
   "cell_type": "code",
   "execution_count": 1,
   "metadata": {
    "scrolled": true
   },
   "outputs": [
    {
     "name": "stdout",
     "output_type": "stream",
     "text": [
      "logicqubit-gpu version 1.3.0\n"
     ]
    }
   ],
   "source": [
    "from logicqubit.logic import *\n",
    "from logicqubit.zhegalkin import *"
   ]
  },
  {
   "cell_type": "code",
   "execution_count": 4,
   "metadata": {},
   "outputs": [
    {
     "data": {
      "text/latex": [
       "$\\displaystyle x_1^0x_2^0\\oplus x_1^0x_2^1\\oplus x_1^1x_2^1$"
      ],
      "text/plain": [
       "<IPython.core.display.Math object>"
      ]
     },
     "metadata": {},
     "output_type": "display_data"
    },
    {
     "data": {
      "text/latex": [
       "$\\displaystyle x_1^0x_2^0\\oplus x_1^0x_2^1$"
      ],
      "text/plain": [
       "<IPython.core.display.Math object>"
      ]
     },
     "metadata": {},
     "output_type": "display_data"
    }
   ],
   "source": [
    "# H|x1,x2>|00>\n",
    "# x1 x2 y1 y2\n",
    "# 0  0  1  1\n",
    "# 0  1  0  0\n",
    "# 1  0  1  1\n",
    "# 1  1  1  0\n",
    "\n",
    "poly = Zhegalkin_Poly()\n",
    "poly.addTable(['00','10','11'])\n",
    "poly.addTable(['00','10'])\n",
    "poly.Compute()\n",
    "poly.ShowPolynomial()"
   ]
  },
  {
   "cell_type": "code",
   "execution_count": 14,
   "metadata": {},
   "outputs": [
    {
     "data": {
      "image/png": "[encoded data removed]",
      "text/plain": [
       "<Figure size 432x288 with 1 Axes>"
      ]
     },
     "metadata": {
      "needs_background": "light"
     },
     "output_type": "display_data"
    }
   ],
   "source": [
    "logicQuBit = LogicQuBit(8)\n",
    "\n",
    "x1 = Qubit()\n",
    "x2 = Qubit()\n",
    "\n",
    "y1 = Qubit()\n",
    "y2 = Qubit()\n",
    "\n",
    "x1.H()\n",
    "x2.H()\n",
    "\n",
    "# pol = x1^0x2^0 + x1^0x2^1 + x1^1x2^0 + x1^1x2^1, onde x1^0x2^0 = 1\n",
    "\n",
    "# p/ y1\n",
    "#p00+p10+p11 = (1,1,0,1)\n",
    "y1.CCX(x1,x2)\n",
    "y1.CX(x2)\n",
    "y1.X()\n",
    "\n",
    "# p/ y2\n",
    "#p00+p10 = (1,1,0,0)\n",
    "y2.CX(x2)\n",
    "y2.X()\n",
    "\n",
    "res = logicQuBit.Measure([y2,y1])\n",
    "\n",
    "logicQuBit.Plot()"
   ]
  },
  {
   "cell_type": "code",
   "execution_count": 6,
   "metadata": {},
   "outputs": [
    {
     "name": "stdout",
     "output_type": "stream",
     "text": [
      "['H(1)', 'H(2)', 'CCX(1,2,3)', 'CX(2,3)', 'X(3)', 'CX(2,4)', 'X(4)', 'Measure(3,4)']\n"
     ]
    }
   ],
   "source": [
    "logicQuBit.PrintOperations()"
   ]
  },
  {
   "cell_type": "code",
   "execution_count": 24,
   "metadata": {},
   "outputs": [
    {
     "data": {
      "text/plain": [
       "[1, 0, 1, 1]"
      ]
     },
     "execution_count": 24,
     "metadata": {},
     "output_type": "execute_result"
    }
   ],
   "source": [
    "list(reversed(v[0]))"
   ]
  },
  {
   "cell_type": "code",
   "execution_count": 26,
   "metadata": {},
   "outputs": [
    {
     "name": "stdout",
     "output_type": "stream",
     "text": [
      "3 1\n",
      "2 0\n",
      "1 1\n",
      "0 1\n"
     ]
    }
   ],
   "source": [
    "n=reversed(v[0])\n",
    "for i, va in reversed(list(enumerate(v[0]))):\n",
    "    print(i,va)"
   ]
  },
  {
   "cell_type": "code",
   "execution_count": 31,
   "metadata": {},
   "outputs": [
    {
     "data": {
      "text/plain": [
       "[[0, 0, 0, 0, 0],\n",
       " [0, 0, 0, 0, 1],\n",
       " [0, 0, 0, 1, 0],\n",
       " [0, 0, 0, 1, 1],\n",
       " [0, 0, 1, 0, 0],\n",
       " [0, 0, 1, 0, 1],\n",
       " [0, 0, 1, 1, 0],\n",
       " [0, 0, 1, 1, 1],\n",
       " [0, 1, 0, 0, 0],\n",
       " [0, 1, 0, 0, 1],\n",
       " [0, 1, 0, 1, 0],\n",
       " [0, 1, 0, 1, 1],\n",
       " [0, 1, 1, 0, 0],\n",
       " [0, 1, 1, 0, 1],\n",
       " [0, 1, 1, 1, 0],\n",
       " [0, 1, 1, 1, 1],\n",
       " [1, 0, 0, 0, 0],\n",
       " [1, 0, 0, 0, 1],\n",
       " [1, 0, 0, 1, 0],\n",
       " [1, 0, 0, 1, 1],\n",
       " [1, 0, 1, 0, 0],\n",
       " [1, 0, 1, 0, 1],\n",
       " [1, 0, 1, 1, 0],\n",
       " [1, 0, 1, 1, 1],\n",
       " [1, 1, 0, 0, 0],\n",
       " [1, 1, 0, 0, 1],\n",
       " [1, 1, 0, 1, 0],\n",
       " [1, 1, 0, 1, 1],\n",
       " [1, 1, 1, 0, 0],\n",
       " [1, 1, 1, 0, 1],\n",
       " [1, 1, 1, 1, 0],\n",
       " [1, 1, 1, 1, 1]]"
      ]
     },
     "execution_count": 31,
     "metadata": {},
     "output_type": "execute_result"
    }
   ],
   "source": [
    "poly.BinList(5)"
   ]
  },
  {
   "cell_type": "code",
   "execution_count": 34,
   "metadata": {},
   "outputs": [
    {
     "data": {
      "text/plain": [
       "'101'"
      ]
     },
     "execution_count": 34,
     "metadata": {},
     "output_type": "execute_result"
    }
   ],
   "source": [
    "bin(5)[2:].zfill(3)"
   ]
  },
  {
   "cell_type": "code",
   "execution_count": 35,
   "metadata": {},
   "outputs": [
    {
     "data": {
      "text/plain": [
       "[[0], [1], [1]]"
      ]
     },
     "execution_count": 35,
     "metadata": {},
     "output_type": "execute_result"
    }
   ],
   "source": [
    "poly.Text2List('101')"
   ]
  },
  {
   "cell_type": "code",
   "execution_count": 39,
   "metadata": {},
   "outputs": [],
   "source": [
    "blist=[int(i, base=2) for i in bin(5)[2:].zfill(3)]"
   ]
  },
  {
   "cell_type": "code",
   "execution_count": 50,
   "metadata": {},
   "outputs": [
    {
     "data": {
      "text/plain": [
       "1"
      ]
     },
     "execution_count": 50,
     "metadata": {},
     "output_type": "execute_result"
    }
   ],
   "source": [
    "blist[:].index(0)"
   ]
  },
  {
   "cell_type": "code",
   "execution_count": 48,
   "metadata": {},
   "outputs": [
    {
     "data": {
      "text/plain": [
       "[1, 0, 1]"
      ]
     },
     "execution_count": 48,
     "metadata": {},
     "output_type": "execute_result"
    }
   ],
   "source": [
    "blist"
   ]
  },
  {
   "cell_type": "code",
   "execution_count": null,
   "metadata": {},
   "outputs": [],
   "source": []
  }
 ],
 "metadata": {
  "kernelspec": {
   "display_name": "Python 3",
   "language": "python",
   "name": "python3"
  },
  "language_info": {
   "codemirror_mode": {
    "name": "ipython",
    "version": 3
   },
   "file_extension": ".py",
   "mimetype": "text/x-python",
   "name": "python",
   "nbconvert_exporter": "python",
   "pygments_lexer": "ipython3",
   "version": "3.7.4"
  }
 },
 "nbformat": 4,
 "nbformat_minor": 2
}
