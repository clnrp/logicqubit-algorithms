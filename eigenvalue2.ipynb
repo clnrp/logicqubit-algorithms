{
 "cells": [
  {
   "cell_type": "code",
   "execution_count": 103,
   "metadata": {
    "scrolled": true
   },
   "outputs": [],
   "source": [
    "from logicqubit.logic import *\n",
    "from cmath import *\n",
    "import numpy as np\n",
    "from scipy.linalg import expm, sinm, cosm, logm, sqrtm\n",
    "#from qiskit.quantum_info.synthesis import euler_angles_1q, decompose_two_qubit_product_gate"
   ]
  },
  {
   "cell_type": "code",
   "execution_count": 104,
   "metadata": {},
   "outputs": [],
   "source": [
    "def qft(qr):\n",
    "    for i in range(len(qr)):\n",
    "        for j in range(i):\n",
    "            qr[i].CU1(qr[j], pi/float(2**(i-j)))\n",
    "        qr[i].H()\n",
    "        \n",
    "def iqft(qr): # transformada quântica de Fourier inversa\n",
    "    for i in range(len(qr)):\n",
    "        for j in range(i):\n",
    "            qr[i].CU1(qr[j], -pi/float(2**(i-j)))\n",
    "        qr[i].H()\n",
    "        \n",
    "def swap(s1, s2):\n",
    "    s2.CX(s1)\n",
    "    s1.CX(s2)\n",
    "    s2.CX(s1)"
   ]
  },
  {
   "cell_type": "code",
   "execution_count": 169,
   "metadata": {},
   "outputs": [
    {
     "data": {
      "text/plain": [
       "'a1=0.5\\na2=1.2\\na3=2.5\\na4=0.75\\n\\nH1 = np.matrix([[a1, 0], [0, a2]])\\nH2 = np.matrix([[a3, 0], [0, a4]])\\nH=np.kron(H2,H1)\\nH_ad = H.getH()\\n\\nU = np.array(expm(1j*H))\\nU\\n#U = U.tolist()\\nprint(U)'"
      ]
     },
     "execution_count": 169,
     "metadata": {},
     "output_type": "execute_result"
    }
   ],
   "source": [
    "# matriz unitária diagonal 4x4 \n",
    "'''a1=0.5\n",
    "a2=1.2\n",
    "a3=2.5\n",
    "a4=0.75\n",
    "\n",
    "H1 = np.matrix([[a1, 0], [0, a2]])\n",
    "H2 = np.matrix([[a3, 0], [0, a4]])\n",
    "H=np.kron(H2,H1)\n",
    "H_ad = H.getH()\n",
    "\n",
    "U = np.array(expm(1j*H))\n",
    "U\n",
    "#U = U.tolist()\n",
    "print(U)'''\n",
    "\n",
    "#U2 = np.matrix([[exp(1j*a1), 0, 0, 0], [0, exp(1j*a2), 0, 0], [0, 0, exp(1j*a3), 0], [0, 0, 0, exp(1j*a4)]])\n",
    "#print(U2)"
   ]
  },
  {
   "cell_type": "code",
   "execution_count": 170,
   "metadata": {},
   "outputs": [
    {
     "name": "stdout",
     "output_type": "stream",
     "text": [
      "[[1.+1.j 0.+0.j]\n",
      " [0.+0.j 0.+2.j]]\n",
      "[[1.24904577-1.15129255j 0.        -0.j         0.        -0.j\n",
      "  0.        -0.j        ]\n",
      " [0.        -0.j         2.35619449-0.34657359j 0.        -0.j\n",
      "  0.        -0.j        ]\n",
      " [0.        -0.j         0.        -0.j         2.03444394-1.49786614j\n",
      "  0.        -0.j        ]\n",
      " [0.        -0.j         0.        -0.j         0.        -0.j\n",
      "  3.14159265-0.69314718j]]\n"
     ]
    }
   ],
   "source": [
    "U1 = np.matrix([[1+1j, 0],[0, 2j]])\n",
    "U2 = np.matrix([[2+1j, 0],[0, 1j]])\n",
    "U = np.kron(U1, U2)\n",
    "print(U1)\n",
    "\n",
    "H = -1j*logm(U)\n",
    "#H = -1j*logm(U)\n",
    "#H_ad = H.getH()\n",
    "print(H)"
   ]
  },
  {
   "cell_type": "code",
   "execution_count": null,
   "metadata": {},
   "outputs": [],
   "source": []
  },
  {
   "cell_type": "code",
   "execution_count": 171,
   "metadata": {},
   "outputs": [
    {
     "name": "stdout",
     "output_type": "stream",
     "text": [
      "(array([1.24904577, 2.03444394, 2.35619449, 3.14159265]), array([[1.+0.j, 0.+0.j, 0.+0.j, 0.+0.j],\n",
      "       [0.+0.j, 0.+0.j, 1.+0.j, 0.+0.j],\n",
      "       [0.+0.j, 1.+0.j, 0.+0.j, 0.+0.j],\n",
      "       [0.+0.j, 0.+0.j, 0.+0.j, 1.+0.j]]))\n"
     ]
    }
   ],
   "source": [
    "h_eigenvalue = np.linalg.eigh(H)\n",
    "#eigenvalue = np.linalg.eig(U)\n",
    "print(h_eigenvalue)"
   ]
  },
  {
   "cell_type": "code",
   "execution_count": 172,
   "metadata": {},
   "outputs": [
    {
     "name": "stdout",
     "output_type": "stream",
     "text": [
      "(array([ 1.+3.j, -1.+1.j, -2.+4.j, -2.+0.j]), matrix([[1.+0.j, 0.+0.j, 0.+0.j, 0.+0.j],\n",
      "        [0.+0.j, 1.+0.j, 0.+0.j, 0.+0.j],\n",
      "        [0.+0.j, 0.+0.j, 1.+0.j, 0.+0.j],\n",
      "        [0.+0.j, 0.+0.j, 0.+0.j, 1.+0.j]]))\n"
     ]
    }
   ],
   "source": [
    "eigenvalue = np.linalg.eig(U)\n",
    "print(eigenvalue)"
   ]
  },
  {
   "cell_type": "code",
   "execution_count": 173,
   "metadata": {},
   "outputs": [
    {
     "data": {
      "text/plain": [
       "\"D = np.matrix('0.78539816 0; 0 1.57079633')\\nP = np.matrix('1 0; 0 1')/sqrt(2)\\n\\nH = P*D*P.I\\nH_ad = H.getH()\\n\\n#H = Y;\\n#H = np.matrix([[1.5, 0.5],[0.5 , 1.5]])\\nU1 = np.matrix(expm(1j*H))\\nprint(U1)\""
      ]
     },
     "execution_count": 173,
     "metadata": {},
     "output_type": "execute_result"
    }
   ],
   "source": [
    "'''D = np.matrix('0.78539816 0; 0 1.57079633')\n",
    "P = np.matrix('1 0; 0 1')/sqrt(2)\n",
    "\n",
    "H = P*D*P.I\n",
    "H_ad = H.getH()\n",
    "\n",
    "#H = Y;\n",
    "#H = np.matrix([[1.5, 0.5],[0.5 , 1.5]])\n",
    "U1 = np.matrix(expm(1j*H))\n",
    "print(U1)'''"
   ]
  },
  {
   "cell_type": "code",
   "execution_count": 175,
   "metadata": {},
   "outputs": [],
   "source": [
    "logicQuBit  = LogicQuBit(7)\n",
    "\n",
    "x1 = Qubit()\n",
    "x2 = Qubit()\n",
    "x3 = Qubit()\n",
    "x4 = Qubit()\n",
    "\n",
    "y1 = Qubit()\n",
    "y2 = Qubit()\n",
    "\n",
    "x1.H()\n",
    "x2.H()\n",
    "x3.H()\n",
    "x4.H()\n",
    "\n",
    "#y1.X()\n",
    "y1.H()\n",
    "\n",
    "y1.CU(x4, U1)\n",
    "\n",
    "y1.CU(x3, U1)\n",
    "y1.CU(x3, U1)\n",
    "\n",
    "y1.CU(x2, U1)\n",
    "y1.CU(x2, U1)\n",
    "y1.CU(x2, U1)\n",
    "y1.CU(x2, U1)\n",
    "\n",
    "y1.CU(x1, U1)\n",
    "y1.CU(x1, U1)\n",
    "y1.CU(x1, U1)\n",
    "y1.CU(x1, U1)\n",
    "y1.CU(x1, U1)\n",
    "y1.CU(x1, U1)\n",
    "y1.CU(x1, U1)\n",
    "y1.CU(x1, U1)\n",
    "\n",
    "#y2.X()\n",
    "y2.H()\n",
    "\n",
    "y2.CU(x4, U2)\n",
    "\n",
    "y2.CU(x3, U2)\n",
    "y2.CU(x3, U2)\n",
    "\n",
    "y2.CU(x2, U2)\n",
    "y2.CU(x2, U2)\n",
    "y2.CU(x2, U2)\n",
    "y2.CU(x2, U2)\n",
    "\n",
    "y2.CU(x1, U2)\n",
    "y2.CU(x1, U2)\n",
    "y2.CU(x1, U2)\n",
    "y2.CU(x1, U2)\n",
    "y2.CU(x1, U2)\n",
    "y2.CU(x1, U2)\n",
    "y2.CU(x1, U2)\n",
    "y2.CU(x1, U2)\n",
    "\n",
    "iqft([x1,x2,x3,x4])"
   ]
  },
  {
   "cell_type": "code",
   "execution_count": 176,
   "metadata": {},
   "outputs": [
    {
     "data": {
      "image/png": "[encoded data removed]",
      "text/plain": [
       "<Figure size 432x288 with 1 Axes>"
      ]
     },
     "metadata": {
      "needs_background": "light"
     },
     "output_type": "display_data"
    },
    {
     "name": "stdout",
     "output_type": "stream",
     "text": [
      "[2.5601085069057332e+16, 2.9584418768169056e+16, 3.522167378802986e+16, 4.227505314391422e+16, 4.923272235496859e+16, 5.298946586783967e+16, 5.114097848641327e+16, 4.493523376108194e+16, 3.764781002839923e+16, 3.142564693821033e+16, 2.6859262127043264e+16, 2.382754825641643e+16, 2.2069539965877216e+16, 2.1389727950166984e+16, 2.1706451241045076e+16, 2.305811180790104e+16]\n"
     ]
    }
   ],
   "source": [
    "res = logicQuBit.Measure([x1,x2,x3,x4])\n",
    "logicQuBit.Plot()\n",
    "print(res)"
   ]
  },
  {
   "cell_type": "code",
   "execution_count": 178,
   "metadata": {},
   "outputs": [
    {
     "name": "stdout",
     "output_type": "stream",
     "text": [
      "[0.0, 0.39269908169872414, 0.7853981633974483, 1.1780972450961724, 1.5707963267948966, 1.9634954084936207, 2.356194490192345, 2.748893571891069, 3.141592653589793, 3.5342917352885173, 3.9269908169872414, 4.319689898685965, 4.71238898038469, 5.105088062083414, 5.497787143782138, 5.890486225480862]\n"
     ]
    }
   ],
   "source": [
    "def Text2List(table):\n",
    "    list = [int(i, base=2) for i in table]\n",
    "    size = len(table[0])\n",
    "    tmp = sorted(list, key=int, reverse=False)  # values in ascending order\n",
    "    result = [[int(bin(j)[2:].zfill(size)[i]) for i in range(size)] for j in tmp]\n",
    "    return result\n",
    "\n",
    "def BinList(n):\n",
    "    blist = []\n",
    "    for i in iter(range(2 ** n)):\n",
    "        b = bin(i)[2:].zfill(n)  # value in binary, ex: i=1, n=4 -> '0001'\n",
    "        blist.append(b)\n",
    "    return Text2List(blist)\n",
    "\n",
    "size=4\n",
    "blist = [value for i,value in enumerate(BinList(size)) if res[i]>0.52] \n",
    "results = [2*pi*sum([value/2**(i+1) for i,value in enumerate(j)]) for j in blist]\n",
    "print(results)"
   ]
  },
  {
   "cell_type": "code",
   "execution_count": 30,
   "metadata": {},
   "outputs": [
    {
     "data": {
      "text/plain": [
       "[0.0,\n",
       " 0.39269908169872414,\n",
       " 0.7853981633974483,\n",
       " 1.1780972450961724,\n",
       " 1.5707963267948966,\n",
       " 1.9634954084936207,\n",
       " 2.356194490192345,\n",
       " 2.748893571891069,\n",
       " 3.141592653589793,\n",
       " 3.5342917352885173,\n",
       " 3.9269908169872414,\n",
       " 4.319689898685965,\n",
       " 4.71238898038469,\n",
       " 5.105088062083414,\n",
       " 5.497787143782138,\n",
       " 5.890486225480862]"
      ]
     },
     "execution_count": 30,
     "metadata": {},
     "output_type": "execute_result"
    }
   ],
   "source": [
    "# todos possíveis valores\n",
    "size = 4\n",
    "blist = [[i >> bl & 0x1 for bl in range(size)][::-1] for i in range(2**size)]\n",
    "results = [2*pi*sum([value/2**(i+1) for i,value in enumerate(j)]) for j in blist]\n",
    "results"
   ]
  },
  {
   "cell_type": "code",
   "execution_count": null,
   "metadata": {},
   "outputs": [],
   "source": []
  }
 ],
 "metadata": {
  "kernelspec": {
   "display_name": "Python 3",
   "language": "python",
   "name": "python3"
  },
  "language_info": {
   "codemirror_mode": {
    "name": "ipython",
    "version": 3
   },
   "file_extension": ".py",
   "mimetype": "text/x-python",
   "name": "python",
   "nbconvert_exporter": "python",
   "pygments_lexer": "ipython3",
   "version": "3.7.4"
  }
 },
 "nbformat": 4,
 "nbformat_minor": 2
}
