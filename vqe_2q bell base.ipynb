{
 "cells": [
  {
   "cell_type": "code",
   "execution_count": 2,
   "metadata": {
    "scrolled": true
   },
   "outputs": [
    {
     "name": "stdout",
     "output_type": "stream",
     "text": [
      "Cuda is not available!\n",
      "logicqubit version 1.5.8\n"
     ]
    }
   ],
   "source": [
    "from logicqubit.logic import *\n",
    "from cmath import *\n",
    "import numpy as np\n",
    "import sympy as sp\n",
    "import scipy\n",
    "from scipy.optimize import *\n",
    "import matplotlib.pyplot as plt"
   ]
  },
  {
   "cell_type": "markdown",
   "metadata": {},
   "source": [
    "https://arxiv.org/abs/1304.3061\n",
    "\n",
    "https://cpb-us-w2.wpmucdn.com/voices.uchicago.edu/dist/0/2327/files/2020/10/SimultaneousMeasurementVQE.pdf1"
   ]
  },
  {
   "cell_type": "code",
   "execution_count": 3,
   "metadata": {},
   "outputs": [],
   "source": [
    "gates = Gates(1)\n",
    "\n",
    "ID = gates.ID()\n",
    "X = gates.X()\n",
    "Y = gates.Y()\n",
    "Z = gates.Z()"
   ]
  },
  {
   "cell_type": "code",
   "execution_count": 4,
   "metadata": {},
   "outputs": [
    {
     "data": {
      "text/plain": [
       "array([[ 1,  0,  0,  0],\n",
       "       [ 0, -1,  0,  0],\n",
       "       [ 0,  0, -1,  0],\n",
       "       [ 0,  0,  0,  1]])"
      ]
     },
     "execution_count": 4,
     "metadata": {},
     "output_type": "execute_result"
    }
   ],
   "source": [
    "II = ID.kron(ID)\n",
    "\n",
    "XX = X.kron(X)\n",
    "XI = X.kron(ID)\n",
    "IX = ID.kron(X)\n",
    "XY = X.kron(Y)\n",
    "XZ = X.kron(Z)\n",
    "\n",
    "YY = Y.kron(Y)\n",
    "YI = Y.kron(ID)\n",
    "IY = ID.kron(Y)\n",
    "YX = Y.kron(X)\n",
    "YZ = Y.kron(Z)\n",
    "\n",
    "ZZ = Z.kron(Z)\n",
    "ZI = Z.kron(ID)\n",
    "IZ = ID.kron(Z)\n",
    "ZX = Z.kron(X)\n",
    "ZY = Z.kron(Y)\n",
    "\n",
    "sig_is = np.kron([1, 1], [1, -1])\n",
    "sig_si = np.kron([1, -1], [1, 1])\n",
    "ZZ.get()"
   ]
  },
  {
   "cell_type": "code",
   "execution_count": 5,
   "metadata": {},
   "outputs": [
    {
     "data": {
      "text/plain": [
       "(-10+0j)"
      ]
     },
     "execution_count": 5,
     "metadata": {},
     "output_type": "execute_result"
    }
   ],
   "source": [
    "#H = XZ + ZI*2 # -ZX + 2*ZI\n",
    "\n",
    "H = XX*3 + ZZ*7\n",
    "\n",
    "min(scipy.linalg.eig(H.get())[0])"
   ]
  },
  {
   "cell_type": "code",
   "execution_count": 6,
   "metadata": {},
   "outputs": [],
   "source": [
    "def ansatz(reg, params):\n",
    "    n_qubits = len(reg)\n",
    "    depth = n_qubits\n",
    "    for i in range(depth):\n",
    "        for j in range(n_qubits):\n",
    "            if(j < n_qubits-1):\n",
    "                reg[j+1].CNOT(reg[j])\n",
    "            reg[i].RY(params[j])\n",
    "            \n",
    "def ansatz_2q(q1, q2, params):\n",
    "    q2.CNOT(q1)\n",
    "    q1.RY(params[0])\n",
    "    q2.RY(params[1])\n",
    "    q1.CNOT(q2)\n",
    "    q1.RY(params[2])\n",
    "    q2.RY(params[3])\n",
    "    q2.CNOT(q1)\n",
    "    q1.RY(params[4])\n",
    "    q2.RY(params[5])\n",
    "    q1.CNOT(q2)"
   ]
  },
  {
   "cell_type": "code",
   "execution_count": 7,
   "metadata": {
    "scrolled": true
   },
   "outputs": [
    {
     "name": "stderr",
     "output_type": "stream",
     "text": [
      "/home/cleoner/anaconda3/lib/python3.8/site-packages/scipy/optimize/optimize.py:586: ComplexWarning: Casting complex values to real discards the imaginary part\n",
      "  fsim[k] = func(sim[k])\n",
      "/home/cleoner/anaconda3/lib/python3.8/site-packages/scipy/optimize/optimize.py:611: ComplexWarning: Casting complex values to real discards the imaginary part\n",
      "  fsim[-1] = fxe\n",
      "/home/cleoner/anaconda3/lib/python3.8/site-packages/scipy/optimize/optimize.py:618: ComplexWarning: Casting complex values to real discards the imaginary part\n",
      "  fsim[-1] = fxr\n",
      "/home/cleoner/anaconda3/lib/python3.8/site-packages/scipy/optimize/optimize.py:614: ComplexWarning: Casting complex values to real discards the imaginary part\n",
      "  fsim[-1] = fxr\n",
      "/home/cleoner/anaconda3/lib/python3.8/site-packages/scipy/optimize/optimize.py:637: ComplexWarning: Casting complex values to real discards the imaginary part\n",
      "  fsim[-1] = fxcc\n",
      "/home/cleoner/anaconda3/lib/python3.8/site-packages/scipy/optimize/optimize.py:627: ComplexWarning: Casting complex values to real discards the imaginary part\n",
      "  fsim[-1] = fxc\n"
     ]
    },
    {
     "name": "stdout",
     "output_type": "stream",
     "text": [
      " final_simplex: (array([[ 5.31847022, -0.42327127, -3.1307354 ,  1.06588762,  1.01423211,\n",
      "        -3.42077752],\n",
      "       [ 5.31847022, -0.42327127, -3.1307354 ,  1.06588762,  1.01423211,\n",
      "        -3.42077752],\n",
      "       [ 5.31847022, -0.42327127, -3.1307354 ,  1.06588762,  1.01423211,\n",
      "        -3.42077752],\n",
      "       [ 5.31847022, -0.42327127, -3.1307354 ,  1.06588762,  1.01423211,\n",
      "        -3.42077752],\n",
      "       [ 5.31847022, -0.42327127, -3.1307354 ,  1.06588762,  1.01423211,\n",
      "        -3.42077752],\n",
      "       [ 5.31847022, -0.42327127, -3.1307354 ,  1.06588762,  1.01423211,\n",
      "        -3.42077752],\n",
      "       [ 5.31847022, -0.42327127, -3.1307354 ,  1.06588762,  1.01423211,\n",
      "        -3.42077752]]), array([-10., -10., -10., -10., -10., -10., -10.]))\n",
      "           fun: -10.000000000000004\n",
      "       message: 'Optimization terminated successfully.'\n",
      "          nfev: 1065\n",
      "           nit: 614\n",
      "        status: 0\n",
      "       success: True\n",
      "             x: array([ 5.31847022, -0.42327127, -3.1307354 ,  1.06588762,  1.01423211,\n",
      "       -3.42077752])\n"
     ]
    },
    {
     "name": "stderr",
     "output_type": "stream",
     "text": [
      "/home/cleoner/anaconda3/lib/python3.8/site-packages/scipy/optimize/optimize.py:644: ComplexWarning: Casting complex values to real discards the imaginary part\n",
      "  fsim[j] = func(sim[j])\n"
     ]
    }
   ],
   "source": [
    "def expectation_2q(params):\n",
    "    logicQuBit  = LogicQuBit(2)\n",
    "    q1 = Qubit()\n",
    "    q2 = Qubit()\n",
    "\n",
    "    ansatz_2q(q1,q2,params)\n",
    "    psi = logicQuBit.getPsi()\n",
    "    \n",
    "    return (psi.adjoint()*H*psi).get()[0][0]\n",
    "\n",
    "minimum = minimize(expectation_2q, [0,0,0,0,0,0], method='Nelder-Mead', options={'xtol': 1e-10, 'ftol': 1e-10})\n",
    "print(minimum)"
   ]
  },
  {
   "cell_type": "code",
   "execution_count": 16,
   "metadata": {},
   "outputs": [],
   "source": [
    "def expectation_value(measurements, base = np.array([1,-1,-1,1])):\n",
    "    probabilities = np.array(measurements)\n",
    "    expectation = np.sum(base * probabilities)\n",
    "    return expectation\n",
    "\n",
    "def sigma_xx(params):\n",
    "    logicQuBit  = LogicQuBit(2, first_left = False)\n",
    "    q1 = Qubit()\n",
    "    q2 = Qubit()\n",
    "    \n",
    "    ansatz_2q(q1,q2,params)\n",
    "    \n",
    "    # medidas em XX\n",
    "    q1.RY(-pi/2)\n",
    "    q2.RY(-pi/2)\n",
    "    \n",
    "    result = logicQuBit.Measure([q1,q2])\n",
    "    result = expectation_value(result)\n",
    "    return result\n",
    "\n",
    "def sigma_yy(params):\n",
    "    logicQuBit  = LogicQuBit(2, first_left = False)\n",
    "    q1 = Qubit()\n",
    "    q2 = Qubit()\n",
    "    \n",
    "    ansatz_2q(q1,q2,params)\n",
    "    \n",
    "    # medidas em YY\n",
    "    q1.RX(pi/2)\n",
    "    q2.RX(pi/2)\n",
    "    \n",
    "    result = logicQuBit.Measure([q1,q2])\n",
    "    yy = expectation_value(result)\n",
    "    iy = expectation_value(result, sig_is)\n",
    "    yi = expectation_value(result, sig_si)\n",
    "    return yy, iy, yi\n",
    "\n",
    "def sigma_zz(params):\n",
    "    logicQuBit  = LogicQuBit(2, first_left = False)\n",
    "    q1 = Qubit()\n",
    "    q2 = Qubit()\n",
    "    \n",
    "    ansatz_2q(q1,q2,params)\n",
    "          \n",
    "    result = logicQuBit.Measure([q1,q2])\n",
    "    zz = expectation_value(result)\n",
    "    iz = expectation_value(result, sig_is) # [zz, iz] = 0\n",
    "    zi = expectation_value(result, sig_si) # [zz, zi] = 0\n",
    "    return zz, iz, zi\n",
    "\n",
    "def sigma_zx(params):\n",
    "    logicQuBit  = LogicQuBit(2, first_left = False)\n",
    "    q1 = Qubit()\n",
    "    q2 = Qubit()\n",
    "    \n",
    "    ansatz_2q(q1,q2,params)\n",
    "    \n",
    "    # medidas em X\n",
    "    #q1.RY(-pi/2)\n",
    "    q2.RY(-pi/2)\n",
    "    \n",
    "    result = logicQuBit.Measure([q1,q2])\n",
    "    zx = expectation_value(result)\n",
    "    return zx\n",
    "\n",
    "def sigma_xx_zz(params):\n",
    "    logicQuBit  = LogicQuBit(2)\n",
    "    q1 = Qubit()\n",
    "    q2 = Qubit()\n",
    "    \n",
    "    ansatz_2q(q1,q2,params)\n",
    "    \n",
    "    # medida na base de bell\n",
    "    q2.CX(q1)\n",
    "    q1.H()    # Hx1\n",
    "    \n",
    "    result = logicQuBit.Measure([q1,q2])\n",
    "    zi = expectation_value(result, sig_si)\n",
    "    iz = expectation_value(result, sig_is)\n",
    "    xx = zi\n",
    "    zz = iz\n",
    "    return xx, zz\n",
    "\n",
    "def expectation_energy(params):\n",
    "    #xx =  sigma_xx(params)\n",
    "    #yy =  sigma_yy(params)\n",
    "    \n",
    "    #zz, iz, zi = sigma_zz(params)\n",
    "    #zx = sigma_zx(params)   \n",
    "    #result = -zx + zi*2\n",
    "    \n",
    "    xx, zz = sigma_xx_zz(params) \n",
    "    result = xx*3 + zz*7\n",
    "    return result"
   ]
  },
  {
   "cell_type": "code",
   "execution_count": 9,
   "metadata": {},
   "outputs": [
    {
     "name": "stdout",
     "output_type": "stream",
     "text": [
      " final_simplex: (array([[ 2.19396352, -0.53207923,  0.91245827, -3.03402174,  0.31749551,\n",
      "        -1.89342844],\n",
      "       [ 2.19396352, -0.53207923,  0.91245827, -3.03402174,  0.31749551,\n",
      "        -1.89342844],\n",
      "       [ 2.19396352, -0.53207923,  0.91245827, -3.03402174,  0.31749551,\n",
      "        -1.89342844],\n",
      "       [ 2.19396352, -0.53207923,  0.91245827, -3.03402174,  0.31749551,\n",
      "        -1.89342844],\n",
      "       [ 2.19396352, -0.53207923,  0.91245828, -3.03402174,  0.31749551,\n",
      "        -1.89342844],\n",
      "       [ 2.19396352, -0.53207923,  0.91245827, -3.03402174,  0.31749551,\n",
      "        -1.89342844],\n",
      "       [ 2.19396352, -0.53207923,  0.91245827, -3.03402174,  0.31749551,\n",
      "        -1.89342844]]), array([-10., -10., -10., -10., -10., -10., -10.]))\n",
      "           fun: -10.000000000000005\n",
      "       message: 'Optimization terminated successfully.'\n",
      "          nfev: 932\n",
      "           nit: 543\n",
      "        status: 0\n",
      "       success: True\n",
      "             x: array([ 2.19396352, -0.53207923,  0.91245827, -3.03402174,  0.31749551,\n",
      "       -1.89342844])\n"
     ]
    }
   ],
   "source": [
    "minimum = minimize(expectation_energy, [0,0,0,0,0,0], method='Nelder-Mead', options={'xtol': 1e-10, 'ftol': 1e-10})\n",
    "print(minimum)"
   ]
  },
  {
   "cell_type": "code",
   "execution_count": 10,
   "metadata": {},
   "outputs": [],
   "source": [
    "def gradient(params, evaluate, shift = pi/2):\n",
    "    n_params = params.shape[0]\n",
    "    gradients = np.zeros(n_params)\n",
    "    \n",
    "    for i in range(n_params):\n",
    "        #parameter shift rule\n",
    "        shift_vect = np.array([shift if j==i else 0 for j in range(n_params)])\n",
    "        shift_right = params + shift_vect\n",
    "        shift_left = params - shift_vect\n",
    "        \n",
    "        expectation_right = evaluate(shift_right)\n",
    "        expectation_left = evaluate(shift_left)\n",
    "\n",
    "        gradients[i] = expectation_right - expectation_left\n",
    "\n",
    "    return gradients"
   ]
  },
  {
   "cell_type": "code",
   "execution_count": 11,
   "metadata": {},
   "outputs": [],
   "source": [
    "params = np.random.uniform(-np.pi, np.pi, 6)\n",
    "last_params = np.zeros(6)"
   ]
  },
  {
   "cell_type": "code",
   "execution_count": 12,
   "metadata": {},
   "outputs": [
    {
     "name": "stdout",
     "output_type": "stream",
     "text": [
      "2.740998722971736\n",
      "0.7664059946733903\n",
      "2.6551149987384\n",
      "1.2608214802431843\n",
      "1.6463140203823585\n",
      "0.9882522116289967\n",
      "0.7597045148619697\n",
      "0.7288509454263662\n",
      "0.48616133345178747\n",
      "0.5674605061569935\n",
      "0.38406516697773163\n",
      "0.43028564541804637\n",
      "0.29331113347599436\n",
      "0.3180409806639399\n",
      "0.22291660083314208\n",
      "0.23564204761260749\n"
     ]
    },
    {
     "name": "stderr",
     "output_type": "stream",
     "text": [
      "/tmp/ipykernel_13066/2399136664.py:14: ComplexWarning: Casting complex values to real discards the imaginary part\n",
      "  gradients[i] = expectation_right - expectation_left\n"
     ]
    },
    {
     "name": "stdout",
     "output_type": "stream",
     "text": [
      "0.17091061131625096\n",
      "0.17690361978602842\n",
      "0.13286436551320124\n",
      "0.1350978736282606\n",
      "0.1047919107121954\n",
      "0.10491825192171336\n",
      "0.0837058159106186\n",
      "0.08266834303990159\n",
      "0.06753875093640191\n",
      "0.06589648464516769\n",
      "0.05490283477970613\n",
      "0.0529959455511186\n",
      "0.04486783316222952\n",
      "0.04290418378493158\n",
      "0.03679987111384837\n",
      "0.03490346410358293\n",
      "0.030255093195600533\n",
      "0.02849544969493395\n",
      "0.024912658187603715\n",
      "0.023323817622205006\n",
      "0.0205332435402516\n",
      "0.019126519558116256\n",
      "0.016933316866161174\n",
      "0.015705975012091533\n",
      "0.013968936519843905\n",
      "0.012910073278434617\n",
      "0.011525275889824105\n",
      "0.010619738007284787\n",
      "0.009509607723144992\n",
      "0.008740537754570302\n",
      "0.007846417010252585\n",
      "0.0071968454167906926\n",
      "0.006473860085199415\n",
      "0.005927646503809669\n",
      "0.005341106487352892\n",
      "0.004883446257502394\n",
      "0.004406284195538374\n",
      "0.004023932295785418\n",
      "0.0036348551808148\n",
      "0.0033161729228793763\n",
      "0.002998310149989969\n",
      "0.002733206203465899\n",
      "0.0024731080036946296\n",
      "0.0022529213447672614\n",
      "0.002039807784688666\n",
      "0.0018571634170972545\n",
      "0.00168235488315098\n",
      "0.0015310116825909825\n",
      "0.0013874924506602632\n",
      "0.001262194729184235\n",
      "0.0011442752984405363\n",
      "0.0010406145568409575\n",
      "0.0009436681184822188\n"
     ]
    }
   ],
   "source": [
    "lr = 0.1\n",
    "err = 1\n",
    "while err > 1e-3:\n",
    "    grad = gradient(params, expectation_energy, pi/1.3)\n",
    "    params = params - lr*grad\n",
    "    err = abs(sum(params - last_params))\n",
    "    last_params = np.array(params)\n",
    "    print(err) "
   ]
  },
  {
   "cell_type": "code",
   "execution_count": 13,
   "metadata": {},
   "outputs": [
    {
     "data": {
      "text/plain": [
       "(-9.999986367379375+0j)"
      ]
     },
     "execution_count": 13,
     "metadata": {},
     "output_type": "execute_result"
    }
   ],
   "source": [
    "expectation_energy(params)"
   ]
  },
  {
   "cell_type": "code",
   "execution_count": null,
   "metadata": {},
   "outputs": [],
   "source": []
  }
 ],
 "metadata": {
  "kernelspec": {
   "display_name": "Python 3 (ipykernel)",
   "language": "python",
   "name": "python3"
  },
  "language_info": {
   "codemirror_mode": {
    "name": "ipython",
    "version": 3
   },
   "file_extension": ".py",
   "mimetype": "text/x-python",
   "name": "python",
   "nbconvert_exporter": "python",
   "pygments_lexer": "ipython3",
   "version": "3.8.5"
  }
 },
 "nbformat": 4,
 "nbformat_minor": 2
}
