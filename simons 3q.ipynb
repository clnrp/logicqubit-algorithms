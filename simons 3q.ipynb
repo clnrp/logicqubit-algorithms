{
 "cells": [
  {
   "cell_type": "code",
   "execution_count": 116,
   "metadata": {
    "scrolled": true
   },
   "outputs": [],
   "source": [
    "from logicqubit.logic import *\n",
    "from logicqubit.zhegalkin import *\n",
    "import numpy as np"
   ]
  },
  {
   "cell_type": "code",
   "execution_count": 121,
   "metadata": {},
   "outputs": [],
   "source": [
    "# a=110 f(x)=f(x+a)\n",
    "# Uf*H|x1,x2,x3>|000>\n",
    "# x1 x2 x3 y1 y2 y3\n",
    "# 0  0  0  1  0  1\n",
    "# 0  0  1  0  1  0\n",
    "# 0  1  0  0  0  0\n",
    "# 0  1  1  1  1  0\n",
    "# 1  0  0  0  0  0\n",
    "# 1  0  1  1  1  0\n",
    "# 1  1  0  1  0  1\n",
    "# 1  1  1  0  1  0\n",
    "\n",
    "def simons3q():\n",
    "    logicQuBit = LogicQuBit(7, first_left=True)\n",
    "\n",
    "    x1 = Qubit()\n",
    "    x2 = Qubit()\n",
    "    x3 = Qubit()\n",
    "\n",
    "    y1 = Qubit()\n",
    "    y2 = Qubit()\n",
    "    y3 = Qubit()\n",
    "\n",
    "    x1.H()\n",
    "    x2.H()\n",
    "    x3.H()\n",
    "\n",
    "    oracle = Oracle([x1, x2, x3])\n",
    "    oracle.addTable(y1, ['000','011','101','110'])\n",
    "    oracle.addTable(y2, ['001','011','101','111'])\n",
    "    oracle.addTable(y3, ['000','110'])\n",
    "\n",
    "    logicQuBit.addOracle(oracle)\n",
    "    logicQuBit.Measure_One(y1)[0]\n",
    "    logicQuBit.Measure_One(y2)[0]\n",
    "    logicQuBit.Measure_One(y3)[0]\n",
    "    \n",
    "    x1.H()\n",
    "    x2.H()\n",
    "    x3.H()\n",
    "    \n",
    "    m_x1 = logicQuBit.Measure_One(x1)[0]\n",
    "    m_x2 = logicQuBit.Measure_One(x2)[0]\n",
    "    m_x3 = logicQuBit.Measure_One(x3)[0]\n",
    "    return [m_x1, m_x2, m_x3]"
   ]
  },
  {
   "cell_type": "code",
   "execution_count": 122,
   "metadata": {},
   "outputs": [],
   "source": [
    "#res = logicQuBit.Measure([y1,y2,y3], True)\n",
    "#logicQuBit.Plot()"
   ]
  },
  {
   "cell_type": "code",
   "execution_count": 124,
   "metadata": {},
   "outputs": [
    {
     "name": "stdout",
     "output_type": "stream",
     "text": [
      "[[1, 1, 1], [1, 1, 1], [1, 1, 0], [1, 1, 0], [0, 0, 1], [1, 1, 1]]\n"
     ]
    }
   ],
   "source": [
    "result = [simons3q() for i in range(6)]\n",
    "print(result)"
   ]
  },
  {
   "cell_type": "code",
   "execution_count": 93,
   "metadata": {},
   "outputs": [],
   "source": [
    "#0,0,1\n",
    "#1,1,0\n",
    "#1,1,1\n",
    "#a=110\n",
    "# a*z = 1*x1 + 1*x2 + 0*x3"
   ]
  },
  {
   "cell_type": "code",
   "execution_count": 117,
   "metadata": {},
   "outputs": [],
   "source": [
    "# https://gist.github.com/popcornell/bc29d1b7ba37d824335ab7b6280f7fec#file-gf2elim-py\n",
    "def gf2elim(M):\n",
    "\n",
    "    m,n = M.shape\n",
    "\n",
    "    i=0\n",
    "    j=0\n",
    "\n",
    "    while i < m and j < n:\n",
    "        # find value and index of largest element in remainder of column j\n",
    "        k = np.argmax(M[i:, j]) +i\n",
    "\n",
    "        # swap rows\n",
    "        #M[[k, i]] = M[[i, k]] this doesn't work with numba\n",
    "        temp = np.copy(M[k])\n",
    "        M[k] = M[i]\n",
    "        M[i] = temp\n",
    "\n",
    "\n",
    "        aijn = M[i, j:]\n",
    "\n",
    "        col = np.copy(M[:, j]) #make a copy otherwise M will be directly affected\n",
    "\n",
    "        col[i] = 0 #avoid xoring pivot row with itself\n",
    "\n",
    "        flip = np.outer(col, aijn)\n",
    "\n",
    "        M[:, j:] = M[:, j:] ^ flip\n",
    "\n",
    "        i += 1\n",
    "        j +=1\n",
    "\n",
    "    return M"
   ]
  },
  {
   "cell_type": "code",
   "execution_count": 125,
   "metadata": {},
   "outputs": [
    {
     "data": {
      "text/plain": [
       "array([[1, 1, 0],\n",
       "       [0, 0, 0],\n",
       "       [0, 0, 1],\n",
       "       [0, 0, 0],\n",
       "       [0, 0, 0],\n",
       "       [0, 0, 0]])"
      ]
     },
     "execution_count": 125,
     "metadata": {},
     "output_type": "execute_result"
    }
   ],
   "source": [
    "M=np.array(result)\n",
    "gf2elim(M)"
   ]
  },
  {
   "cell_type": "code",
   "execution_count": null,
   "metadata": {},
   "outputs": [],
   "source": []
  }
 ],
 "metadata": {
  "kernelspec": {
   "display_name": "Python 3",
   "language": "python",
   "name": "python3"
  },
  "language_info": {
   "codemirror_mode": {
    "name": "ipython",
    "version": 3
   },
   "file_extension": ".py",
   "mimetype": "text/x-python",
   "name": "python",
   "nbconvert_exporter": "python",
   "pygments_lexer": "ipython3",
   "version": "3.8.5"
  }
 },
 "nbformat": 4,
 "nbformat_minor": 2
}
