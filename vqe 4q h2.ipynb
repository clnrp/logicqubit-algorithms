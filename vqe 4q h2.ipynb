{
 "cells": [
  {
   "cell_type": "code",
   "execution_count": 96,
   "metadata": {
    "scrolled": true
   },
   "outputs": [],
   "source": [
    "from logicqubit.logic import *\n",
    "from openfermion.chem import MolecularData\n",
    "from openfermion.transforms import get_fermion_operator, jordan_wigner, bravyi_kitaev, parity_code\n",
    "from openfermion.linalg import get_ground_state, get_sparse_operator\n",
    "from openfermionpyscf import run_pyscf\n",
    "from cmath import *\n",
    "import numpy as np\n",
    "import scipy\n",
    "from scipy.optimize import *\n",
    "import matplotlib.pyplot as plt"
   ]
  },
  {
   "cell_type": "markdown",
   "metadata": {},
   "source": [
    "https://arxiv.org/abs/1304.3061\n",
    "\n",
    "10.1103/PhysRevX.6.031007\n",
    "\n",
    "Second Quantized Hamiltonian\n",
    "\\begin{eqnarray*}\n",
    "    \\mathcal{H}(r)=h_0 + \\sum_{pq} h_{pq}(r) a^{\\dagger}_p a_q +\\frac{1}{2} \\sum_{pqrs} h_{pqrs}(r) a^{\\dagger}_p a^{\\dagger}_qa_ra_s\n",
    "\\end{eqnarray*}\n",
    "\n",
    "\\begin{eqnarray*}\n",
    "    h_{pq}(r)=\\int{d\\mathbf{r}}\\,\\phi^*_p(\\mathbf{r})\\left(-\\frac{1}{2}\\nabla^2-\\sum_{a}{\\frac{Z_a}{\\mathbf{r}_{a,\\mathbf{r}}}}\\right)\\phi_q(\\mathbf{r})\n",
    "\\end{eqnarray*}\n",
    "\n",
    "\\begin{eqnarray*}\n",
    "    h_{pqrs}(r)=\\int{d\\mathbf{r_1}\\,d\\mathbf{r_2}}\\,\\phi^*_p(\\mathbf{r_1})\\phi^*_q(\\mathbf{r_2})r_{1,2}^{-1}\\phi_r(\\mathbf{r_1})\\phi_s(\\mathbf{r_2})\n",
    "\\end{eqnarray*}\n",
    "\n",
    "Jordan-Wigner transformation\n",
    "\\begin{eqnarray*}\n",
    "    a^{\\dagger} = I^{\\otimes j-1}\\otimes \\sigma_{-} \\otimes \\sigma_{z}^{\\otimes N-j}\\\\\n",
    "    a = I^{\\otimes j-1}\\otimes \\sigma_{+} \\otimes \\sigma_{z}^{\\otimes N-j}\n",
    "\\end{eqnarray*}"
   ]
  },
  {
   "cell_type": "code",
   "execution_count": 425,
   "metadata": {},
   "outputs": [],
   "source": [
    "gates = Gates(1)\n",
    "\n",
    "ID = gates.ID()\n",
    "X = gates.X()\n",
    "Y = gates.Y()\n",
    "Z = gates.Z()"
   ]
  },
  {
   "cell_type": "code",
   "execution_count": 426,
   "metadata": {},
   "outputs": [],
   "source": [
    "def get_molecule(distance = 0.75):\n",
    "    geometry = [('H', (0., 0., 0.)), ('H', (0., 0., distance))]\n",
    "    basis = \"sto-3g\"\n",
    "    multiplicity = 1\n",
    "    charge = 0\n",
    "    description = \"H2\"\n",
    "\n",
    "    molecule_h2 = MolecularData(geometry, basis, multiplicity, charge, description)\n",
    "\n",
    "    molecule_h2 = run_pyscf(molecule_h2, run_scf=1, verbose=0)\n",
    "\n",
    "    molecule_h2 = jordan_wigner(get_fermion_operator(molecule_h2.get_molecular_hamiltonian())) # IIII+h0, nuclear repulsion já adicionado\n",
    "\n",
    "    mol_gates = list(molecule_h2.terms.keys())\n",
    "    mol_co = list(molecule_h2.terms.values())\n",
    "    return mol_gates, mol_co"
   ]
  },
  {
   "cell_type": "code",
   "execution_count": 427,
   "metadata": {},
   "outputs": [],
   "source": [
    "def get_sigma(gate_name):\n",
    "    if gate_name == 'X':\n",
    "        gate = X\n",
    "    elif gate_name == 'Y':\n",
    "        gate = Y\n",
    "    elif gate_name == 'Z':\n",
    "        gate = Z\n",
    "    else:\n",
    "        gate = ID\n",
    "    return gate\n",
    "\n",
    "def get_H_k(mol_gates):\n",
    "    gate_list = []\n",
    "    name_list = []\n",
    "    for pauli_gate in mol_gates:\n",
    "        prod_list = [get_sigma('I') for _ in range(4)]\n",
    "        name_gate_list = ['I' for _ in range(4)]\n",
    "        for term in pauli_gate:\n",
    "            prod_list[3-term[0]] = get_sigma(term[1])\n",
    "            name_gate_list[3-term[0]] = term[1]\n",
    "        gate_kron = prod_list[0]\n",
    "        for item in prod_list[1:]:\n",
    "            gate_kron = gate_kron.kron(item)\n",
    "        gate_list.append(gate_kron)\n",
    "        name_list.append(name_gate_list)\n",
    "    return gate_list, name_list\n",
    "\n",
    "def get_base(mol_gate):\n",
    "    prod_list = [Matrix([1, 1]) for _ in range(4)]\n",
    "    if isinstance(mol_gates, tuple):\n",
    "        for item in mol_gate:\n",
    "            prod_list[3-item[0]] = Matrix([1, -1])\n",
    "    else:\n",
    "        gate_list = list(mol_gate)\n",
    "        for i, item in enumerate(gate_list):\n",
    "            if item != 'I':\n",
    "                prod_list[i] = Matrix([1, -1])\n",
    "    base_kron = prod_list[0]\n",
    "    for item in prod_list[1:]:\n",
    "        base_kron = base_kron.kron(item)\n",
    "    return base_kron\n",
    "\n",
    "def sum(items):\n",
    "    value = items[0]\n",
    "    for item in items[1:]:\n",
    "        value = value + item\n",
    "    return value"
   ]
  },
  {
   "cell_type": "code",
   "execution_count": 428,
   "metadata": {},
   "outputs": [
    {
     "data": {
      "text/plain": [
       "array([ 1,  1, -1, -1, -1, -1,  1,  1,  1,  1, -1, -1, -1, -1,  1,  1])"
      ]
     },
     "execution_count": 428,
     "metadata": {},
     "output_type": "execute_result"
    }
   ],
   "source": [
    "get_base('IXXI').get()"
   ]
  },
  {
   "cell_type": "code",
   "execution_count": 429,
   "metadata": {},
   "outputs": [
    {
     "name": "stdout",
     "output_type": "stream",
     "text": [
      "Repulsion energy (Eh): 0.7055696793059831\n"
     ]
    }
   ],
   "source": [
    "def repulsion_energy(Z1=1, Z2=1, r=75e-12):\n",
    "    Eh = 4.3597447222071e-18 # hartree energy\n",
    "    ep0 = 8.854187e-12\n",
    "    e = -1.602176634e-19\n",
    "    return (1/(4*pi*ep0)*(Z1*Z2*e**2)/r)/Eh\n",
    "\n",
    "rep_energy = repulsion_energy()\n",
    "print(\"Repulsion energy (Eh): %s\"%rep_energy)"
   ]
  },
  {
   "cell_type": "code",
   "execution_count": 430,
   "metadata": {},
   "outputs": [],
   "source": [
    "def ansatz(reg, params):\n",
    "    n_qubits = len(reg)\n",
    "    depth = n_qubits\n",
    "    for i in range(depth):\n",
    "        for j in range(n_qubits):\n",
    "            if(j < n_qubits-1):\n",
    "                reg[j+1].CNOT(reg[j])\n",
    "            reg[i].RY(params[j])\n",
    "            \n",
    "def ansatz_4q16(q1, q2, q3, q4, params):\n",
    "    q1.RY(params[0])\n",
    "    q2.RY(params[1])\n",
    "    q3.RY(params[2])\n",
    "    q4.RY(params[3])\n",
    "    q2.CNOT(q1)\n",
    "    q3.CNOT(q2)\n",
    "    q4.CNOT(q3)\n",
    "    q1.RY(params[4])\n",
    "    q2.RY(params[5])\n",
    "    q3.RY(params[6])\n",
    "    q4.RY(params[7])\n",
    "    q2.CNOT(q1)\n",
    "    q3.CNOT(q2)\n",
    "    q4.CNOT(q3)\n",
    "    q1.RY(params[8])\n",
    "    q2.RY(params[9])\n",
    "    q3.RY(params[10])\n",
    "    q4.RY(params[11])\n",
    "    q2.CNOT(q1)\n",
    "    q3.CNOT(q2)\n",
    "    q4.CNOT(q3)\n",
    "    q1.RY(params[12])\n",
    "    q2.RY(params[13])\n",
    "    q3.RY(params[14])\n",
    "    q4.RY(params[15])\n",
    "    q2.CNOT(q1)\n",
    "    q3.CNOT(q2)\n",
    "    q4.CNOT(q3)\n",
    "    \n",
    "def ansatz_4q1(q0, q1, q2, q3, params):\n",
    "    q0.X()\n",
    "    q1.RY(params[0])\n",
    "    q0.CNOT(q1)\n",
    "    q2.CNOT(q0)\n",
    "    q3.CNOT(q1)\n",
    "\n",
    "def ansatz_4q2(q1, q2, q3, q4, params):\n",
    "    q1.X()\n",
    "    q1.RY(params[0])\n",
    "    q2.RY(params[1])\n",
    "    q1.CNOT(q2)\n",
    "    q3.CNOT(q1)\n",
    "    q4.CNOT(q2)\n",
    "    \n",
    "def ansatz_4q4(q1, q2, q3, q4, params):\n",
    "    q1.RY(params[0])\n",
    "    q2.RZ(params[1])\n",
    "    q3.RY(params[2])\n",
    "    q4.RZ(params[3])\n",
    "    q2.CNOT(q1)\n",
    "    q3.CNOT(q2)\n",
    "    q4.CNOT(q3)"
   ]
  },
  {
   "cell_type": "code",
   "execution_count": 431,
   "metadata": {},
   "outputs": [
    {
     "data": {
      "text/plain": [
       "(-1.137117067345731+0j)"
      ]
     },
     "execution_count": 431,
     "metadata": {},
     "output_type": "execute_result"
    }
   ],
   "source": [
    "mol_gates, mol_co = get_molecule(0.75)\n",
    "co = [c.real for c in mol_co]\n",
    "H_k = get_H_k(mol_gates)\n",
    "H = sum([gate*co for gate,co in zip(H_k[0], mol_co)])\n",
    "min(scipy.linalg.eig(H.get())[0])"
   ]
  },
  {
   "cell_type": "code",
   "execution_count": 432,
   "metadata": {},
   "outputs": [
    {
     "name": "stdout",
     "output_type": "stream",
     "text": [
      "-1.1371170628700034\n"
     ]
    },
    {
     "name": "stderr",
     "output_type": "stream",
     "text": [
      "/tmp/ipykernel_9518/1177745638.py:14: OptimizeWarning: Unknown solver options: xtol\n",
      "  minimum = minimize(expectation_4q, initial_values, method='SLSQP',options={'xtol': 1e-5, 'ftol': 1e-5})\n"
     ]
    }
   ],
   "source": [
    "def expectation_4q(params):\n",
    "    logicQuBit  = LogicQuBit(4)\n",
    "    q0 = Qubit()\n",
    "    q1 = Qubit()\n",
    "    q2 = Qubit()\n",
    "    q3 = Qubit()\n",
    "    \n",
    "    ansatz_4q4(q0,q1,q2,q3,params)\n",
    "    psi = logicQuBit.getPsi()\n",
    "    \n",
    "    return (psi.adjoint()*H*psi).get()[0][0].real\n",
    "\n",
    "initial_values = np.random.uniform(-np.pi, np.pi, 4)\n",
    "minimum = minimize(expectation_4q, initial_values, method='SLSQP',options={'xtol': 1e-5, 'ftol': 1e-5})\n",
    "print(minimum.fun)"
   ]
  },
  {
   "cell_type": "code",
   "execution_count": 433,
   "metadata": {},
   "outputs": [
    {
     "data": {
      "text/plain": [
       "([['I', 'I', 'I', 'I'],\n",
       "  ['I', 'I', 'I', 'Z'],\n",
       "  ['I', 'I', 'Z', 'I'],\n",
       "  ['I', 'Z', 'I', 'I'],\n",
       "  ['Z', 'I', 'I', 'I'],\n",
       "  ['I', 'I', 'Z', 'Z'],\n",
       "  ['Y', 'X', 'X', 'Y'],\n",
       "  ['X', 'X', 'Y', 'Y'],\n",
       "  ['Y', 'Y', 'X', 'X'],\n",
       "  ['X', 'Y', 'Y', 'X'],\n",
       "  ['I', 'Z', 'I', 'Z'],\n",
       "  ['Z', 'I', 'I', 'Z'],\n",
       "  ['I', 'Z', 'Z', 'I'],\n",
       "  ['Z', 'I', 'Z', 'I'],\n",
       "  ['Z', 'Z', 'I', 'I']],\n",
       " [-0.10973055606700793,\n",
       "  0.16988452027940332,\n",
       "  0.16988452027940334,\n",
       "  -0.21886306781219597,\n",
       "  -0.218863067812196,\n",
       "  0.16821198673715723,\n",
       "  0.04544288414432624,\n",
       "  -0.04544288414432624,\n",
       "  -0.04544288414432624,\n",
       "  0.04544288414432624,\n",
       "  0.12005143072546043,\n",
       "  0.16549431486978666,\n",
       "  0.16549431486978666,\n",
       "  0.12005143072546043,\n",
       "  0.1739537877649417])"
      ]
     },
     "execution_count": 433,
     "metadata": {},
     "output_type": "execute_result"
    }
   ],
   "source": [
    "H_k[1],co"
   ]
  },
  {
   "cell_type": "code",
   "execution_count": 434,
   "metadata": {},
   "outputs": [],
   "source": [
    "def expectation_value(measurements, base = np.array([ 1, -1, -1,  1, -1,  1,  1, -1, -1,  1,  1, -1,  1, -1, -1,  1])):\n",
    "    probabilities = np.array(measurements)\n",
    "    expectation = np.sum(base * probabilities)\n",
    "    return expectation.real\n",
    "\n",
    "def sigma_zzzz(params):\n",
    "    logicQuBit  = LogicQuBit(4, first_left = False)\n",
    "    q1 = Qubit()\n",
    "    q2 = Qubit()\n",
    "    q3 = Qubit()\n",
    "    q4 = Qubit()\n",
    "    \n",
    "    ansatz_4q4(q1,q2,q3,q4,params)\n",
    "          \n",
    "    result = logicQuBit.Measure([q1,q2,q3,q4])\n",
    "    \n",
    "    iiiz = expectation_value(result, get_base('IIIZ').get()) # [zzzz, iiiz] = 0\n",
    "    iizi = expectation_value(result, get_base('IIZI').get()) # [zzzz, iizi] = 0\n",
    "    izii = expectation_value(result, get_base('IZII').get()) # [zzzz, izii] = 0\n",
    "    ziii = expectation_value(result, get_base('ZIII').get()) # [zzzz, ziii] = 0\n",
    "    iizz = expectation_value(result, get_base('IIZZ').get()) # [zzzz, iizz] = 0\n",
    "    \n",
    "    iziz = expectation_value(result, get_base('IZIZ').get()) # [zzzz, iziz] = 0\n",
    "    ziiz = expectation_value(result, get_base('ZIIZ').get()) # [zzzz, ziiz] = 0\n",
    "    izzi = expectation_value(result, get_base('IZZI').get()) # [zzzz, izzi] = 0\n",
    "    zizi = expectation_value(result, get_base('ZIZI').get()) # [zzzz, zizi] = 0\n",
    "    zzii = expectation_value(result, get_base('ZZII').get()) # [zzzz, zzii] = 0\n",
    "    return iiiz,iizi,izii,ziii,iizz,iziz,ziiz,izzi,zizi,zzii\n",
    "\n",
    "def sigma_yxxy(params):\n",
    "    logicQuBit  = LogicQuBit(4, first_left = False)\n",
    "    q1 = Qubit()\n",
    "    q2 = Qubit()\n",
    "    q3 = Qubit()\n",
    "    q4 = Qubit()\n",
    "    \n",
    "    ansatz_4q4(q1,q2,q3,q4,params)\n",
    "    \n",
    "    # medidas em X\n",
    "    q2.RY(-pi/2)\n",
    "    q3.RY(-pi/2)\n",
    "    \n",
    "    # medidas em Y\n",
    "    q1.RX(pi/2)\n",
    "    q4.RX(pi/2)\n",
    "    \n",
    "    result = logicQuBit.Measure([q1,q2,q3,q4])\n",
    "    result = expectation_value(result)\n",
    "    return result\n",
    "\n",
    "def sigma_xyyx(params):\n",
    "    logicQuBit  = LogicQuBit(4, first_left = False)\n",
    "    q1 = Qubit()\n",
    "    q2 = Qubit()\n",
    "    q3 = Qubit()\n",
    "    q4 = Qubit()\n",
    "    \n",
    "    ansatz_4q4(q1,q2,q3,q4,params)\n",
    "\n",
    "    # medidas em X\n",
    "    q1.RY(-pi/2)\n",
    "    q4.RY(-pi/2)\n",
    "    \n",
    "    # medidas em Y\n",
    "    q2.RX(pi/2)\n",
    "    q2.RX(pi/2)\n",
    "    \n",
    "    result = logicQuBit.Measure([q1,q2,q3,q4])\n",
    "    result = expectation_value(result)\n",
    "    return result\n",
    "\n",
    "def sigma_xxyy(params):\n",
    "    logicQuBit  = LogicQuBit(4, first_left = False)\n",
    "    q1 = Qubit()\n",
    "    q2 = Qubit()\n",
    "    q3 = Qubit()\n",
    "    q4 = Qubit()\n",
    "    \n",
    "    ansatz_4q4(q1,q2,q3,q4,params)\n",
    "\n",
    "    # medidas em X\n",
    "    q1.RY(-pi/2)\n",
    "    q2.RY(-pi/2)\n",
    "    \n",
    "    # medidas em Y\n",
    "    q3.RX(pi/2)\n",
    "    q4.RX(pi/2)\n",
    "    \n",
    "    result = logicQuBit.Measure([q1,q2,q3,q4])\n",
    "    result = expectation_value(result)\n",
    "    return result\n",
    "\n",
    "def sigma_yyxx(params):\n",
    "    logicQuBit  = LogicQuBit(4, first_left = False)\n",
    "    q1 = Qubit()\n",
    "    q2 = Qubit()\n",
    "    q3 = Qubit()\n",
    "    q4 = Qubit()\n",
    "    \n",
    "    ansatz_4q4(q1,q2,q3,q4,params)\n",
    "\n",
    "    # medidas em X\n",
    "    q3.RY(-pi/2)\n",
    "    q4.RY(-pi/2)\n",
    "    \n",
    "    # medidas em Y\n",
    "    q1.RX(pi/2)\n",
    "    q2.RX(pi/2)\n",
    "    \n",
    "    result = logicQuBit.Measure([q1,q2,q3,q4])\n",
    "    result = expectation_value(result)\n",
    "    return result\n",
    "\n",
    "def expectation_energy(params, co):\n",
    "    iiiz,iizi,izii,ziii,iizz,iziz,ziiz,izzi,zizi,zzii = sigma_zzzz(params)\n",
    "    yxxy = sigma_yxxy(params)\n",
    "    xyyx = sigma_xyyx(params)\n",
    "    xxyy = sigma_xxyy(params)\n",
    "    yyxx = sigma_yyxx(params)\n",
    "\n",
    "    result = co[0] + co[1]*iiiz + co[2]*iizi + co[3]*izii + co[4]*ziii + co[5]*iizz + co[6]*yxxy + co[7]*xyyx \\\n",
    "    + co[8]*xxyy + co[9]*yyxx + co[10]*iziz + co[11]*ziiz + co[12]*izzi + co[13]*zizi + co[14]*zzii\n",
    "    return result"
   ]
  },
  {
   "cell_type": "code",
   "execution_count": 435,
   "metadata": {},
   "outputs": [
    {
     "name": "stderr",
     "output_type": "stream",
     "text": [
      "/tmp/ipykernel_9518/2412149840.py:2: OptimizeWarning: Unknown solver options: xtol\n",
      "  minimum = minimize(expectation_energy, initial_values, method='SLSQP',options={'xtol': 1e-5, 'ftol': 1e-5}, args=(co))\n"
     ]
    },
    {
     "name": "stdout",
     "output_type": "stream",
     "text": [
      "-1.1174780613305793\n"
     ]
    }
   ],
   "source": [
    "initial_values = np.random.uniform(-np.pi, np.pi, 16)\n",
    "minimum = minimize(expectation_energy, initial_values, method='SLSQP',options={'xtol': 1e-5, 'ftol': 1e-5}, args=(co))\n",
    "print(minimum.fun)"
   ]
  },
  {
   "cell_type": "code",
   "execution_count": 439,
   "metadata": {},
   "outputs": [],
   "source": [
    "def gradient(params, evaluate, args):\n",
    "    n_params = params.shape[0]\n",
    "    shift = pi/2\n",
    "    gradients = np.zeros(n_params)\n",
    "    \n",
    "    for i in range(n_params):\n",
    "        #parameter shift rule\n",
    "        shift_vect = np.array([shift if j==i else 0 for j in range(n_params)])\n",
    "        shift_right = params + shift_vect\n",
    "        shift_left = params - shift_vect\n",
    "        \n",
    "        expectation_right = evaluate(shift_right, args)\n",
    "        expectation_left = evaluate(shift_left, args)\n",
    "\n",
    "        gradients[i] = expectation_right - expectation_left\n",
    "\n",
    "    return gradients"
   ]
  },
  {
   "cell_type": "code",
   "execution_count": 442,
   "metadata": {},
   "outputs": [],
   "source": [
    "params = np.random.uniform(-np.pi, np.pi, 4)\n",
    "last_params = np.zeros(4)"
   ]
  },
  {
   "cell_type": "code",
   "execution_count": 443,
   "metadata": {},
   "outputs": [
    {
     "name": "stdout",
     "output_type": "stream",
     "text": [
      "1.823094360289625\n",
      "0.18172393698030076\n",
      "0.19279793836022452\n",
      "0.20146196592737242\n",
      "0.20660147761822634\n",
      "0.20727320393996562\n",
      "0.20296207218350815\n",
      "0.19377251878155555\n",
      "0.18045115648689114\n",
      "0.16421187161715034\n",
      "0.14644007673225357\n",
      "0.12840665648714958\n",
      "0.11108879930177196\n",
      "0.09511812576593037\n",
      "0.08081941279463889\n",
      "0.06828894221139552\n",
      "0.0574751179985209\n",
      "0.048243487544495284\n",
      "0.040422170608989116\n",
      "0.03383037896529566\n",
      "0.02829460078386914\n",
      "0.023656667318505686\n",
      "0.019776873878972534\n",
      "0.016534296465347875\n",
      "0.013825651563927455\n",
      "0.011563502150091054\n",
      "0.009674264401713373\n",
      "0.008096256858046491\n",
      "0.006777908766676166\n",
      "0.00567617364298334\n",
      "0.004755155837851355\n",
      "0.003984938603894594\n",
      "0.0033405935644919005\n",
      "0.0028013487720284225\n",
      "0.0023498928793559415\n",
      "0.001971794744636046\n",
      "0.0016550201610678883\n",
      "0.0013895298790500554\n",
      "0.0011669454337819296\n",
      "0.0009802714020659131\n",
      "0.0008236645551424893\n",
      "0.0006922419535593249\n",
      "0.0005819213666264922\n",
      "0.0004892885210163733\n",
      "0.00041148661990941804\n",
      "0.0003461243534483849\n",
      "0.0002911992681711162\n",
      "0.00024503389917818197\n",
      "0.00020622251272506276\n",
      "0.00017358667438038822\n",
      "0.00014613816195252483\n",
      "0.00012304799412143907\n",
      "0.00010362055407941995\n",
      "8.727196008351257e-05\n"
     ]
    }
   ],
   "source": [
    "lr = 0.1\n",
    "err = 1\n",
    "while err > 1e-4:\n",
    "    grad = gradient(params, expectation_energy, co)\n",
    "    params = params - lr*grad\n",
    "    err = abs(sum(params - last_params))\n",
    "    last_params = np.array(params)\n",
    "    print(err) "
   ]
  },
  {
   "cell_type": "code",
   "execution_count": 445,
   "metadata": {},
   "outputs": [
    {
     "name": "stdout",
     "output_type": "stream",
     "text": [
      "-1.1174782548219733\n"
     ]
    }
   ],
   "source": [
    "energy = expectation_energy(params, co)\n",
    "energy = energy\n",
    "print(energy)"
   ]
  },
  {
   "cell_type": "code",
   "execution_count": 446,
   "metadata": {},
   "outputs": [
    {
     "name": "stderr",
     "output_type": "stream",
     "text": [
      "/tmp/ipykernel_9518/1886299473.py:14: OptimizeWarning: Unknown solver options: xtol\n",
      "  minimum = minimize(expectation_energy, initial_values, method='SLSQP',options={'xtol': 1e-5, 'ftol': 1e-5}, args=(co))\n",
      "/home/cleoner/anaconda3/lib/python3.8/site-packages/numpy/core/_asarray.py:85: ComplexWarning: Casting complex values to real discards the imaginary part\n",
      "  return array(a, dtype, copy=False, order=order)\n",
      "No handles with labels found to put in legend.\n"
     ]
    },
    {
     "data": {
      "image/png": "[encoded data removed]",
      "text/plain": [
       "<Figure size 720x576 with 1 Axes>"
      ]
     },
     "metadata": {
      "needs_background": "light"
     },
     "output_type": "display_data"
    }
   ],
   "source": [
    "n=20\n",
    "distances = np.linspace(0.3, 2.5, n)\n",
    "exact_energy = []\n",
    "energies = []\n",
    "\n",
    "for i, distance in enumerate(distances):\n",
    "    \n",
    "    mol_gates, mol_co = get_molecule(distance)\n",
    "    co = [c.real for c in mol_co]\n",
    "    H = sum([gate*co for gate,co in zip(get_H_k(mol_gates)[0], mol_co)])\n",
    "    exact_energy.append(min(scipy.linalg.eig(H.get())[0]))\n",
    "    \n",
    "    initial_values = np.random.uniform(-np.pi, np.pi, 4)\n",
    "    minimum = minimize(expectation_energy, initial_values, method='SLSQP',options={'xtol': 1e-5, 'ftol': 1e-5}, args=(co))\n",
    "    energies.append(minimum.fun)\n",
    "    \n",
    "fig, ax = plt.subplots(1, 1, figsize=(10,8))\n",
    "ax.plot(distances, exact_energy, color='red')\n",
    "ax.plot(distances, energies, color='blue')\n",
    "ax.set_xlabel('Distância $\\AA$', fontsize=13)\n",
    "ax.set_ylabel('Energia', fontsize=12)\n",
    "ax.set_title('Curva de dissociação do $H_2$', fontsize=12)\n",
    "ax.legend()\n",
    "plt.show()"
   ]
  },
  {
   "cell_type": "code",
   "execution_count": null,
   "metadata": {},
   "outputs": [],
   "source": []
  }
 ],
 "metadata": {
  "kernelspec": {
   "display_name": "Python 3 (ipykernel)",
   "language": "python",
   "name": "python3"
  },
  "language_info": {
   "codemirror_mode": {
    "name": "ipython",
    "version": 3
   },
   "file_extension": ".py",
   "mimetype": "text/x-python",
   "name": "python",
   "nbconvert_exporter": "python",
   "pygments_lexer": "ipython3",
   "version": "3.8.5"
  }
 },
 "nbformat": 4,
 "nbformat_minor": 2
}
