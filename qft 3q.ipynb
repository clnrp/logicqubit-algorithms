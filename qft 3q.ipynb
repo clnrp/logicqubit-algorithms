{
 "cells": [
  {
   "cell_type": "code",
   "execution_count": 13,
   "metadata": {
    "scrolled": true
   },
   "outputs": [],
   "source": [
    "from logicqubit.logic import *"
   ]
  },
  {
   "cell_type": "code",
   "execution_count": 64,
   "metadata": {},
   "outputs": [],
   "source": [
    "def qft(qr):\n",
    "    for i in range(len(qr)):\n",
    "        for j in range(i):\n",
    "            qr[i].CU1(qr[j], pi/float(2**(i-j)))\n",
    "        qr[i].H()\n",
    "        \n",
    "def iqft(qr): # transformada quântica de Fourier inversa\n",
    "    for i in range(len(qr)):\n",
    "        for j in range(i):\n",
    "            qr[i].CU1(qr[j], -pi/float(2**(i-j)))\n",
    "        qr[i].H()\n",
    "        \n",
    "def swap(s1, s2):\n",
    "    s2.CX(s1)\n",
    "    s1.CX(s2)\n",
    "    s2.CX(s1)"
   ]
  },
  {
   "cell_type": "code",
   "execution_count": 65,
   "metadata": {},
   "outputs": [
    {
     "data": {
      "text/latex": [
       "$\\displaystyle \\begin{pmatrix}0 \\\\ 0 \\\\ 0 \\\\ 0 \\\\ 0 \\\\ 1 \\\\ 0 \\\\ 0 \\end{pmatrix}$"
      ],
      "text/plain": [
       "<IPython.core.display.Math object>"
      ]
     },
     "metadata": {},
     "output_type": "display_data"
    }
   ],
   "source": [
    "logicQuBit  = LogicQuBit(3, first_left=False)\n",
    "\n",
    "x1 = Qubit()\n",
    "x2 = Qubit()\n",
    "x3 = Qubit()\n",
    "\n",
    "x1.X()\n",
    "#x2.X()\n",
    "x3.X()\n",
    "\n",
    "x1.PrintState()\n",
    "\n",
    "qft([x3,x2,x1])\n",
    "swap(x1,x3)"
   ]
  },
  {
   "cell_type": "code",
   "execution_count": 62,
   "metadata": {},
   "outputs": [
    {
     "data": {
      "text/latex": [
       "$\\displaystyle \\begin{pmatrix}0.353553 \\\\ -0.25-0.25j \\\\ 2.16489e-17+0.353553j \\\\ 0.25-0.25j \\\\ -0.353553 \\\\ 0.25+0.25j \\\\ -2.16489e-17-0.353553j \\\\ -0.25+0.25j \\end{pmatrix}$"
      ],
      "text/plain": [
       "<IPython.core.display.Math object>"
      ]
     },
     "metadata": {},
     "output_type": "display_data"
    }
   ],
   "source": [
    "x1.PrintState()"
   ]
  },
  {
   "cell_type": "code",
   "execution_count": 63,
   "metadata": {},
   "outputs": [
    {
     "data": {
      "text/plain": [
       "array([[   0.],\n",
       "       [-135.],\n",
       "       [  90.],\n",
       "       [ -45.],\n",
       "       [ 180.],\n",
       "       [  45.],\n",
       "       [ -90.],\n",
       "       [ 135.]])"
      ]
     },
     "execution_count": 63,
     "metadata": {},
     "output_type": "execute_result"
    }
   ],
   "source": [
    "x1.getPsiAtAngles(degree=True)\n",
    "# o número de \n",
    "# para 1Hz, difereça angular 360/45=8, 8/8=1 ou seja se repete 1 vez\n",
    "\n",
    "# como 360/8=45 os angulos são multiplos de 45\n",
    "# 1Hz, \"1*45\" -> 360/45  = 8  8/8=1     \n",
    "# 2Hz, \"2*45\" -> 360/90  = 4, 8/4=2 se repetem 2 vezes\n",
    "# 3hz, \"3*45\" -> 360/135 = ~2.7, ciclo = 8/2.7 = ~3 \n",
    "# 4hz, \"4*45\" -> 360/180 = 2, ciclo = 8/2 = 4\n",
    "# 5hz, \"5*45\" -> 360/225 = 1.6, ciclo = 8/1.6 = 5\n",
    "# 6hz, \"6*45\" -> 360/270 = 1.34, ciclo = 8/1.34 = ~6\n",
    "# 7hz, \"7*45\" -> 360/315 = 1.143, ciclo = 8/1.143 = ~7 \"para cada novo elemento +315 graus\""
   ]
  },
  {
   "cell_type": "code",
   "execution_count": 60,
   "metadata": {},
   "outputs": [
    {
     "data": {
      "text/latex": [
       "$\\displaystyle \\begin{pmatrix}-3.90913e-18-7.58761e-18j \\\\ 1.05105e-17-6.05953e-18j \\\\ -3.90913e-18-7.27644e-18j \\\\ 2.36158e-17-3.73508e-17j \\\\ 4.22029e-18+7.27644e-18j \\\\ -9.86264e-19+6.05953e-18j \\\\ 4.22029e-18+7.58761e-18j \\\\ 1+3.73508e-17j \\end{pmatrix}$"
      ],
      "text/plain": [
       "<IPython.core.display.Math object>"
      ]
     },
     "metadata": {},
     "output_type": "display_data"
    },
    {
     "data": {
      "image/png": "[encoded data removed]",
      "text/plain": [
       "<Figure size 432x288 with 1 Axes>"
      ]
     },
     "metadata": {
      "needs_background": "light"
     },
     "output_type": "display_data"
    }
   ],
   "source": [
    "iqft([x3,x2,x1])\n",
    "swap(x1,x3)\n",
    "\n",
    "x1.PrintState()\n",
    "\n",
    "logicQuBit.Measure([x1,x2,x3])\n",
    "logicQuBit.Plot()"
   ]
  },
  {
   "cell_type": "code",
   "execution_count": null,
   "metadata": {},
   "outputs": [],
   "source": []
  }
 ],
 "metadata": {
  "kernelspec": {
   "display_name": "Python 3",
   "language": "python",
   "name": "python3"
  },
  "language_info": {
   "codemirror_mode": {
    "name": "ipython",
    "version": 3
   },
   "file_extension": ".py",
   "mimetype": "text/x-python",
   "name": "python",
   "nbconvert_exporter": "python",
   "pygments_lexer": "ipython3",
   "version": "3.7.4"
  }
 },
 "nbformat": 4,
 "nbformat_minor": 2
}
