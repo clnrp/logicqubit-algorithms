{
 "cells": [
  {
   "cell_type": "code",
   "execution_count": 1,
   "metadata": {
    "scrolled": true
   },
   "outputs": [
    {
     "name": "stdout",
     "output_type": "stream",
     "text": [
      "logicqubit-gpu version 1.5.3\n"
     ]
    }
   ],
   "source": [
    "from logicqubit.logic import *\n",
    "from cmath import *\n",
    "import numpy as np\n",
    "import sympy as sp\n",
    "from scipy.linalg import expm, sinm, cosm, logm, sqrtm\n",
    "from qiskit.quantum_info.synthesis import euler_angles_1q "
   ]
  },
  {
   "cell_type": "code",
   "execution_count": 2,
   "metadata": {},
   "outputs": [],
   "source": [
    "def qft(qr):\n",
    "    for i in range(len(qr)):\n",
    "        for j in range(i):\n",
    "            qr[i].CU1(qr[j], pi/float(2**(i-j)))\n",
    "        qr[i].H()\n",
    "        \n",
    "def iqft(qr): # transformada quântica de Fourier inversa\n",
    "    for i in range(len(qr)):\n",
    "        for j in range(i):\n",
    "            qr[i].CU1(qr[j], -pi/float(2**(i-j)))\n",
    "        qr[i].H()\n",
    "        \n",
    "def swap(s1, s2):\n",
    "    s2.CX(s1)\n",
    "    s1.CX(s2)\n",
    "    s2.CX(s1)"
   ]
  },
  {
   "cell_type": "code",
   "execution_count": 4,
   "metadata": {},
   "outputs": [
    {
     "name": "stdout",
     "output_type": "stream",
     "text": [
      "[[1.        +0.j         0.        +0.j        ]\n",
      " [0.        +0.j         0.38268343-0.92387953j]]\n"
     ]
    }
   ],
   "source": [
    "D = np.matrix('0 0; 0 5.105088062083414')\n",
    "P = np.matrix('1 0; 0 1')/sqrt(2)\n",
    "\n",
    "H = P*D*P.I\n",
    "H_ad = H.getH()\n",
    "\n",
    "X = np.matrix([[0, 1],[1, 0]]) \n",
    "Y = np.matrix([[0, -1j],[1j, 0]]) \n",
    "Z = np.matrix([[1, 0],[0, -1]]) \n",
    "\n",
    "#H = Y;\n",
    "#H = np.matrix([[1.5, 0.5],[0.5 , 1.5]])\n",
    "U = np.matrix(expm(1j*H))\n",
    "print(U)"
   ]
  },
  {
   "cell_type": "code",
   "execution_count": 5,
   "metadata": {},
   "outputs": [
    {
     "data": {
      "text/plain": [
       "matrix([[ True,  True],\n",
       "        [ True,  True]])"
      ]
     },
     "execution_count": 5,
     "metadata": {},
     "output_type": "execute_result"
    }
   ],
   "source": [
    "H_ad==H"
   ]
  },
  {
   "cell_type": "code",
   "execution_count": 6,
   "metadata": {},
   "outputs": [
    {
     "name": "stdout",
     "output_type": "stream",
     "text": [
      "[[ 0.        -0.0000000e+00j  0.        +0.0000000e+00j]\n",
      " [ 0.        -0.0000000e+00j -1.17809725+3.0054075e-17j]]\n"
     ]
    }
   ],
   "source": [
    "H=-1j*logm(U)\n",
    "print(H)"
   ]
  },
  {
   "cell_type": "code",
   "execution_count": 7,
   "metadata": {},
   "outputs": [
    {
     "name": "stdout",
     "output_type": "stream",
     "text": [
      "(array([-1.17809725,  0.        ]), array([[0.+0.j, 1.+0.j],\n",
      "       [1.+0.j, 0.+0.j]])) (array([1.        +0.j        , 0.38268343-0.92387953j]), matrix([[1.+0.j, 0.+0.j],\n",
      "        [0.+0.j, 1.+0.j]]))\n"
     ]
    }
   ],
   "source": [
    "h_eigenvalue = np.linalg.eigh(H)\n",
    "eigenvalue = np.linalg.eig(U)\n",
    "print(h_eigenvalue, eigenvalue)"
   ]
  },
  {
   "cell_type": "code",
   "execution_count": 8,
   "metadata": {},
   "outputs": [
    {
     "data": {
      "text/plain": [
       "(1+0j)"
      ]
     },
     "execution_count": 8,
     "metadata": {},
     "output_type": "execute_result"
    }
   ],
   "source": [
    "exp(1j*h_eigenvalue[0][1])"
   ]
  },
  {
   "cell_type": "code",
   "execution_count": 9,
   "metadata": {},
   "outputs": [
    {
     "data": {
      "text/plain": [
       "(array([[ 0.        -0.0000000e+00j,  0.        +0.0000000e+00j],\n",
       "        [ 0.        -0.0000000e+00j, -1.17809725+3.0054075e-17j]]),\n",
       " matrix([[1.        +0.j        , 0.        +0.j        ],\n",
       "         [0.        +0.j        , 0.38268343-0.92387953j]]))"
      ]
     },
     "execution_count": 9,
     "metadata": {},
     "output_type": "execute_result"
    }
   ],
   "source": [
    "H,U"
   ]
  },
  {
   "cell_type": "code",
   "execution_count": 10,
   "metadata": {},
   "outputs": [
    {
     "name": "stdout",
     "output_type": "stream",
     "text": [
      "0.0 -0.5890486225480862 -0.5890486225480862\n"
     ]
    }
   ],
   "source": [
    "theta = 0\n",
    "phi = 0\n",
    "lamb = 0\n",
    "\n",
    "#m_90 = sqrtm(U)\n",
    "#alpha = 14.0*pi/8.0\n",
    "#U=np.matrix([[exp(1j*alpha), 0],[0 , exp(-1j*alpha)]])\n",
    "theta,phi,lamb = euler_angles_1q(U)    \n",
    "\n",
    "#lamb = phase = 14.0*pi/8.0\n",
    "print(theta,phi,lamb)"
   ]
  },
  {
   "cell_type": "code",
   "execution_count": 11,
   "metadata": {},
   "outputs": [],
   "source": [
    "logicQuBit  = LogicQuBit(7)\n",
    "\n",
    "x1 = Qubit()\n",
    "x2 = Qubit()\n",
    "x3 = Qubit()\n",
    "x4 = Qubit()\n",
    "\n",
    "y = Qubit()\n",
    "\n",
    "x1.H()\n",
    "x2.H()\n",
    "x3.H()\n",
    "x4.H()\n",
    "\n",
    "y.X()\n",
    "y.H()\n",
    "\n",
    "y.CU3(x4, theta, phi, lamb)\n",
    "#y.PrintLastOperator()\n",
    "y.CU3(x3, theta, phi, lamb)\n",
    "y.CU3(x3, theta, phi, lamb)\n",
    "\n",
    "y.CU3(x2, theta, phi, lamb)\n",
    "y.CU3(x2, theta, phi, lamb)\n",
    "y.CU3(x2, theta, phi, lamb)\n",
    "y.CU3(x2, theta, phi, lamb)\n",
    "\n",
    "y.CU3(x1, theta, phi, lamb)\n",
    "y.CU3(x1, theta, phi, lamb)\n",
    "y.CU3(x1, theta, phi, lamb)\n",
    "y.CU3(x1, theta, phi, lamb)\n",
    "y.CU3(x1, theta, phi, lamb)\n",
    "y.CU3(x1, theta, phi, lamb)\n",
    "y.CU3(x1, theta, phi, lamb)\n",
    "y.CU3(x1, theta, phi, lamb)\n",
    "\n",
    "iqft([x1,x2,x3,x4])"
   ]
  },
  {
   "cell_type": "code",
   "execution_count": 12,
   "metadata": {},
   "outputs": [
    {
     "data": {
      "image/png": "[encoded data removed]",
      "text/plain": [
       "<Figure size 432x288 with 1 Axes>"
      ]
     },
     "metadata": {
      "needs_background": "light"
     },
     "output_type": "display_data"
    },
    {
     "name": "stdout",
     "output_type": "stream",
     "text": [
      "[0.4999999999999993, 4.444328245002933e-33, 9.458043121942754e-34, 1.2392664900382055e-33, 3.590942506967644e-34, 7.04069276098864e-33, 7.179820318365487e-34, 1.1068365625975586e-33, 1.90674662859329e-33, 1.4898264469620576e-33, 2.6065111262397497e-33, 3.5444528800133696e-33, 1.9631849440299357e-32, 0.4999999999999993, 9.492113202510472e-33, 5.763606665478879e-33]\n"
     ]
    }
   ],
   "source": [
    "res = logicQuBit.Measure([x1,x2,x3,x4])\n",
    "logicQuBit.Plot()\n",
    "print(res)"
   ]
  },
  {
   "cell_type": "code",
   "execution_count": 13,
   "metadata": {},
   "outputs": [
    {
     "name": "stdout",
     "output_type": "stream",
     "text": [
      "[0.0, 5.105088062083414]\n"
     ]
    }
   ],
   "source": [
    "def Text2List(table):\n",
    "    list = [int(i, base=2) for i in table]\n",
    "    size = len(table[0])\n",
    "    tmp = sorted(list, key=int, reverse=False)  # values in ascending order\n",
    "    result = [[int(bin(j)[2:].zfill(size)[i]) for i in range(size)] for j in tmp]\n",
    "    return result\n",
    "\n",
    "def BinList(n):\n",
    "    blist = []\n",
    "    for i in iter(range(2 ** n)):\n",
    "        b = bin(i)[2:].zfill(n)  # value in binary, ex: i=1, n=4 -> '0001'\n",
    "        blist.append(b)\n",
    "    return Text2List(blist)\n",
    "\n",
    "size=4\n",
    "blist = [value for i,value in enumerate(BinList(size)) if res[i]>0.3] \n",
    "results = [2*pi*sum([value/2**(i+1) for i,value in enumerate(j)]) for j in blist]\n",
    "print(results)"
   ]
  },
  {
   "cell_type": "code",
   "execution_count": 171,
   "metadata": {},
   "outputs": [
    {
     "data": {
      "text/plain": [
       "[0.0,\n",
       " 0.39269908169872414,\n",
       " 0.7853981633974483,\n",
       " 1.1780972450961724,\n",
       " 1.5707963267948966,\n",
       " 1.9634954084936207,\n",
       " 2.356194490192345,\n",
       " 2.748893571891069,\n",
       " 3.141592653589793,\n",
       " 3.5342917352885173,\n",
       " 3.9269908169872414,\n",
       " 4.319689898685965,\n",
       " 4.71238898038469,\n",
       " 5.105088062083414,\n",
       " 5.497787143782138,\n",
       " 5.890486225480862]"
      ]
     },
     "execution_count": 171,
     "metadata": {},
     "output_type": "execute_result"
    }
   ],
   "source": [
    "# todos possíveis valores\n",
    "size = 4\n",
    "blist = [[i >> bl & 0x1 for bl in range(size)][::-1] for i in range(2**size)]\n",
    "results = [2*pi*sum([value/2**(i+1) for i,value in enumerate(j)]) for j in blist]\n",
    "results"
   ]
  },
  {
   "cell_type": "code",
   "execution_count": 127,
   "metadata": {},
   "outputs": [],
   "source": [
    "def myU(theta, phi, _lambda):\n",
    "    M = sp.Matrix([[exp(-1j*(phi+_lambda)/2)*cos(theta/2), -exp(-1j*(phi-_lambda)/2)*sin(theta/2)],\n",
    "                    [exp(-1j*(phi-_lambda)/2)*sin(theta/2), exp(1j*(phi+_lambda))*cos(theta/2)]])\n",
    "    return M\n",
    "\n",
    "def my1U(theta, phi, _lambda):\n",
    "    M = sp.Matrix([[cos(theta/2), -exp(1j*_lambda)*sin(theta/2)],\n",
    "                [exp(1j*phi)*sin(theta/2), exp(1j*(phi+_lambda))*cos(theta/2)]])\n",
    "    return M\n"
   ]
  },
  {
   "cell_type": "code",
   "execution_count": 128,
   "metadata": {},
   "outputs": [
    {
     "name": "stdout",
     "output_type": "stream",
     "text": [
      "[[ 0.06207773+0.87538421j -0.47822457+0.03391322j]\n",
      " [-0.47822457+0.03391322j  0.06207773+0.87538421j]]\n"
     ]
    }
   ],
   "source": [
    "H = np.matrix([[1.5, 0.5],[0.5 , 1.5]])\n",
    "U = np.matrix(expm(1j*H))\n",
    "print(U)"
   ]
  },
  {
   "cell_type": "code",
   "execution_count": 129,
   "metadata": {},
   "outputs": [
    {
     "name": "stdout",
     "output_type": "stream",
     "text": [
      "0.9999999999999999 1.5707963267948966 -1.5707963267948966\n"
     ]
    }
   ],
   "source": [
    "theta,phi,lamb = euler_angles_1q(U)  \n",
    "print(theta,phi,lamb)"
   ]
  },
  {
   "cell_type": "code",
   "execution_count": 131,
   "metadata": {},
   "outputs": [
    {
     "data": {
      "text/latex": [
       "$\\displaystyle \\left[\\begin{matrix}0.877582561890373 & -2.93563475640566 \\cdot 10^{-17} + 0.479425538604203 i\\\\2.93563475640566 \\cdot 10^{-17} - 0.479425538604203 i & 0.877582561890373\\end{matrix}\\right]$"
      ],
      "text/plain": [
       "Matrix([\n",
       "[                         0.877582561890373, -2.93563475640566e-17 + 0.479425538604203*I],\n",
       "[2.93563475640566e-17 - 0.479425538604203*I,                           0.877582561890373]])"
      ]
     },
     "execution_count": 131,
     "metadata": {},
     "output_type": "execute_result"
    }
   ],
   "source": [
    "myU(theta, phi, lamb)"
   ]
  },
  {
   "cell_type": "code",
   "execution_count": 132,
   "metadata": {},
   "outputs": [
    {
     "data": {
      "text/latex": [
       "$\\displaystyle \\left[\\begin{matrix}0.877582561890373 & -2.93563475640566 \\cdot 10^{-17} + 0.479425538604203 i\\\\2.93563475640566 \\cdot 10^{-17} + 0.479425538604203 i & 0.877582561890373\\end{matrix}\\right]$"
      ],
      "text/plain": [
       "Matrix([\n",
       "[                         0.877582561890373, -2.93563475640566e-17 + 0.479425538604203*I],\n",
       "[2.93563475640566e-17 + 0.479425538604203*I,                           0.877582561890373]])"
      ]
     },
     "execution_count": 132,
     "metadata": {},
     "output_type": "execute_result"
    }
   ],
   "source": [
    "my1U(theta, phi, lamb)"
   ]
  },
  {
   "cell_type": "code",
   "execution_count": null,
   "metadata": {},
   "outputs": [],
   "source": []
  }
 ],
 "metadata": {
  "kernelspec": {
   "display_name": "Python 3",
   "language": "python",
   "name": "python3"
  },
  "language_info": {
   "codemirror_mode": {
    "name": "ipython",
    "version": 3
   },
   "file_extension": ".py",
   "mimetype": "text/x-python",
   "name": "python",
   "nbconvert_exporter": "python",
   "pygments_lexer": "ipython3",
   "version": "3.7.4"
  }
 },
 "nbformat": 4,
 "nbformat_minor": 2
}
