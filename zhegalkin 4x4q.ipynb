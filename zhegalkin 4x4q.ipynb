{
 "cells": [
  {
   "cell_type": "code",
   "execution_count": 1,
   "metadata": {
    "scrolled": true
   },
   "outputs": [
    {
     "name": "stdout",
     "output_type": "stream",
     "text": [
      "logicqubit-gpu version 1.5.3\n"
     ]
    }
   ],
   "source": [
    "from logicqubit.logic import *\n",
    "from logicqubit.zhegalkin import *"
   ]
  },
  {
   "cell_type": "code",
   "execution_count": 2,
   "metadata": {},
   "outputs": [
    {
     "data": {
      "text/latex": [
       "$\\displaystyle x_1^0x_2^0x_3^1x_4^1\\oplus x_1^0x_2^1x_3^1x_4^1\\oplus x_1^1x_2^0x_3^1x_4^0\\oplus x_1^1x_2^0x_3^1x_4^1\\oplus x_1^1x_2^1x_3^0x_4^0\\oplus x_1^1x_2^1x_3^0x_4^1$"
      ],
      "text/plain": [
       "<IPython.core.display.Math object>"
      ]
     },
     "metadata": {},
     "output_type": "display_data"
    },
    {
     "data": {
      "text/latex": [
       "$\\displaystyle x_1^0x_2^0x_3^0x_4^1\\oplus x_1^0x_2^1x_3^0x_4^0\\oplus x_1^0x_2^1x_3^1x_4^0\\oplus x_1^1x_2^0x_3^0x_4^1\\oplus x_1^1x_2^0x_3^1x_4^1\\oplus x_1^1x_2^1x_3^0x_4^0$"
      ],
      "text/plain": [
       "<IPython.core.display.Math object>"
      ]
     },
     "metadata": {},
     "output_type": "display_data"
    },
    {
     "data": {
      "text/latex": [
       "$\\displaystyle x_1^0x_2^0x_3^0x_4^1\\oplus x_1^0x_2^1x_3^0x_4^0\\oplus x_1^0x_2^1x_3^1x_4^1\\oplus x_1^1x_2^0x_3^0x_4^0\\oplus x_1^1x_2^0x_3^0x_4^1\\oplus x_1^1x_2^0x_3^1x_4^0\\oplus x_1^1x_2^1x_3^0x_4^0\\oplus x_1^1x_2^1x_3^1x_4^1$"
      ],
      "text/plain": [
       "<IPython.core.display.Math object>"
      ]
     },
     "metadata": {},
     "output_type": "display_data"
    },
    {
     "data": {
      "text/latex": [
       "$\\displaystyle x_1^0x_2^0x_3^1x_4^1\\oplus x_1^0x_2^1x_3^0x_4^1\\oplus x_1^1x_2^0x_3^0x_4^0\\oplus x_1^1x_2^1x_3^0x_4^1$"
      ],
      "text/plain": [
       "<IPython.core.display.Math object>"
      ]
     },
     "metadata": {},
     "output_type": "display_data"
    }
   ],
   "source": [
    "# Uf*H|x1,x2,x3,x4>|0000>\n",
    "# x1 x2 x3 x4 y1 y2 y3 y4\n",
    "# 0  0  0  0  0  0  0  0\n",
    "# 0  0  0  1  0  1  1  0\n",
    "# 0  0  1  0  0  0  0  0\n",
    "# 0  0  1  1  1  1  1  1\n",
    "# 0  1  0  0  0  1  1  0\n",
    "# 0  1  0  1  0  0  0  1\n",
    "# 0  1  1  0  0  0  1  0\n",
    "# 0  1  1  1  0  1  1  0\n",
    "# 1  0  0  0  0  0  1  1\n",
    "# 1  0  0  1  0  0  1  1\n",
    "# 1  0  1  0  1  0  0  1\n",
    "# 1  0  1  1  1  1  0  0\n",
    "# 1  1  0  0  1  0  1  1\n",
    "# 1  1  0  1  0  0  1  1\n",
    "# 1  1  1  0  0  1  0  1\n",
    "# 1  1  1  1  0  0  0  0\n",
    "\n",
    "\n",
    "poly = Zhegalkin_Poly()\n",
    "poly.addTable(['0011','1010','1011','1100'])                                    # y1\n",
    "poly.addTable(['0001','0011','0100','0111','1011','1110'])                      # y2\n",
    "poly.addTable(['0001','0011','0100','0110','0111','1000','1001','1100','1101']) # y3\n",
    "poly.addTable(['0011','0101','1000','1001','1010','1100','1101','1110'])        # y4\n",
    "poly.Compute()\n",
    "poly.ShowPolynomial()"
   ]
  },
  {
   "cell_type": "code",
   "execution_count": 4,
   "metadata": {},
   "outputs": [
    {
     "data": {
      "image/png": "[encoded data removed]",
      "text/plain": [
       "<Figure size 432x288 with 1 Axes>"
      ]
     },
     "metadata": {
      "needs_background": "light"
     },
     "output_type": "display_data"
    }
   ],
   "source": [
    "logicQuBit = LogicQuBit(10)\n",
    "\n",
    "x1 = Qubit()\n",
    "x2 = Qubit()\n",
    "x3 = Qubit()\n",
    "x4 = Qubit()\n",
    "\n",
    "a1 = Qubit() # ancilla qubit, usados em série\n",
    "a2 = Qubit()\n",
    "\n",
    "y1 = Qubit()\n",
    "y2 = Qubit()\n",
    "y3 = Qubit()\n",
    "y4 = Qubit()\n",
    "\n",
    "x1.H()\n",
    "x2.H()\n",
    "x3.H()\n",
    "x4.H()\n",
    "\n",
    "# p/ y1\n",
    "a1.CCX(x1,x2)\n",
    "y1.CCX(x4,a1)\n",
    "a1.CCX(x1,x2) # limpar a1\n",
    "\n",
    "y1.CCX(x1,x2)\n",
    "\n",
    "a1.CCX(x1,x3)\n",
    "y1.CCX(x4,a1)\n",
    "a1.CCX(x1,x3) # limpar a1\n",
    "\n",
    "y1.CCX(x1,x3)\n",
    "\n",
    "a1.CCX(x2,x3)\n",
    "y1.CCX(x4,a1)\n",
    "a1.CCX(x2,x3) # limpar a1\n",
    "\n",
    "y1.CCX(x3,x4)\n",
    "\n",
    "# p/ y2\n",
    "y2.CCX(x1,x2)\n",
    "\n",
    "a1.CCX(x1,x3)\n",
    "y2.CCX(x4,a1)\n",
    "a1.CCX(x1,x3) # limpar a1\n",
    "\n",
    "y2.CCX(x1,x4)\n",
    "\n",
    "y2.CCX(x2,x3)\n",
    "\n",
    "a1.CCX(x1,x3)\n",
    "y2.CCX(x4,a1)\n",
    "a1.CCX(x1,x3) # limpar a1\n",
    "\n",
    "y2.CCX(x1,x3)\n",
    "y2.CX(x2)\n",
    "y2.CX(x4)\n",
    "\n",
    "# p/ y3\n",
    "a1.CCX(x1,x2)\n",
    "a2.CCX(x3,a1)\n",
    "y3.CCX(x4,a2)\n",
    "a2.CCX(x3,a1) # limpar a2\n",
    "a1.CCX(x1,x2) # limpar a1\n",
    "\n",
    "y3.CCX(x1,x2)\n",
    "y3.CCX(x1,x3)\n",
    "y3.CCX(x1,x4)\n",
    "\n",
    "y3.CX(x1)\n",
    "\n",
    "a1.CCX(x2,x3)\n",
    "y3.CCX(x4,a1)\n",
    "a1.CCX(x2,x3) # limpar a1\n",
    "\n",
    "y3.CX(x2)\n",
    "y3.CX(x4)\n",
    "\n",
    "# p/ y4\n",
    "a1.CCX(x1,x2)\n",
    "y4.CCX(x4,a1)\n",
    "a1.CCX(x1,x2) # limpar a1\n",
    "\n",
    "y4.CX(x1)\n",
    "\n",
    "y4.CCX(x2,x4)\n",
    "y4.CCX(x3,x4)\n",
    "\n",
    "res = logicQuBit.Measure([y1,y2,y3,y4], True)\n",
    "logicQuBit.Plot()"
   ]
  },
  {
   "cell_type": "code",
   "execution_count": null,
   "metadata": {},
   "outputs": [],
   "source": []
  }
 ],
 "metadata": {
  "kernelspec": {
   "display_name": "Python 3",
   "language": "python",
   "name": "python3"
  },
  "language_info": {
   "codemirror_mode": {
    "name": "ipython",
    "version": 3
   },
   "file_extension": ".py",
   "mimetype": "text/x-python",
   "name": "python",
   "nbconvert_exporter": "python",
   "pygments_lexer": "ipython3",
   "version": "3.7.4"
  }
 },
 "nbformat": 4,
 "nbformat_minor": 2
}
