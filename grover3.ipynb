{
 "cells": [
  {
   "cell_type": "code",
   "execution_count": 4,
   "metadata": {
    "scrolled": true
   },
   "outputs": [],
   "source": [
    "from logicqubit.logic import *"
   ]
  },
  {
   "cell_type": "code",
   "execution_count": 33,
   "metadata": {},
   "outputs": [],
   "source": [
    "logicQuBit  = LogicQuBit(5, first_left=False)\n",
    "\n",
    "q1 = Qubit()\n",
    "q2 = Qubit()\n",
    "q3 = Qubit()\n",
    "q4 = Qubit()\n",
    "\n",
    "a1 = Qubit()\n",
    "\n",
    "q1.H()\n",
    "q2.H()\n",
    "q3.H()"
   ]
  },
  {
   "cell_type": "code",
   "execution_count": 34,
   "metadata": {},
   "outputs": [
    {
     "data": {
      "text/latex": [
       "$\\displaystyle [[0.35355339+0.j]\n",
       " [0.35355339+0.j]\n",
       " [0.35355339+0.j]\n",
       " [0.35355339+0.j]\n",
       " [0.35355339+0.j]\n",
       " [0.35355339+0.j]\n",
       " [0.35355339+0.j]\n",
       " [0.35355339+0.j]\n",
       " [0.        +0.j]\n",
       " [0.        +0.j]\n",
       " [0.        +0.j]\n",
       " [0.        +0.j]\n",
       " [0.        +0.j]\n",
       " [0.        +0.j]\n",
       " [0.        +0.j]\n",
       " [0.        +0.j]\n",
       " [0.        +0.j]\n",
       " [0.        +0.j]\n",
       " [0.        +0.j]\n",
       " [0.        +0.j]\n",
       " [0.        +0.j]\n",
       " [0.        +0.j]\n",
       " [0.        +0.j]\n",
       " [0.        +0.j]\n",
       " [0.        +0.j]\n",
       " [0.        +0.j]\n",
       " [0.        +0.j]\n",
       " [0.        +0.j]\n",
       " [0.        +0.j]\n",
       " [0.        +0.j]\n",
       " [0.        +0.j]\n",
       " [0.        +0.j]]$"
      ],
      "text/plain": [
       "<IPython.core.display.Math object>"
      ]
     },
     "metadata": {},
     "output_type": "display_data"
    }
   ],
   "source": [
    "q1.PrintState()"
   ]
  },
  {
   "cell_type": "code",
   "execution_count": 35,
   "metadata": {},
   "outputs": [],
   "source": [
    "q1.X()\n",
    "#q2.X()\n",
    "#q2.PrintLastOperator()\n",
    "#q3.X()\n",
    "\n",
    "q2.CZ(q1)\n",
    "q3.CZ(q1)\n",
    "\n",
    "q1.X()\n",
    "#q2.X()\n",
    "#q3.X()"
   ]
  },
  {
   "cell_type": "code",
   "execution_count": 36,
   "metadata": {},
   "outputs": [
    {
     "data": {
      "text/latex": [
       "$\\displaystyle [[ 0.35355339+0.j]\n",
       " [ 0.35355339+0.j]\n",
       " [-0.35355339+0.j]\n",
       " [ 0.35355339+0.j]\n",
       " [-0.35355339+0.j]\n",
       " [ 0.35355339+0.j]\n",
       " [ 0.35355339+0.j]\n",
       " [ 0.35355339+0.j]\n",
       " [ 0.        +0.j]\n",
       " [ 0.        +0.j]\n",
       " [ 0.        +0.j]\n",
       " [ 0.        +0.j]\n",
       " [ 0.        +0.j]\n",
       " [ 0.        +0.j]\n",
       " [ 0.        +0.j]\n",
       " [ 0.        +0.j]\n",
       " [ 0.        +0.j]\n",
       " [ 0.        +0.j]\n",
       " [ 0.        +0.j]\n",
       " [ 0.        +0.j]\n",
       " [ 0.        +0.j]\n",
       " [ 0.        +0.j]\n",
       " [ 0.        +0.j]\n",
       " [ 0.        +0.j]\n",
       " [ 0.        +0.j]\n",
       " [ 0.        +0.j]\n",
       " [ 0.        +0.j]\n",
       " [ 0.        +0.j]\n",
       " [ 0.        +0.j]\n",
       " [ 0.        +0.j]\n",
       " [ 0.        +0.j]\n",
       " [ 0.        +0.j]]$"
      ],
      "text/plain": [
       "<IPython.core.display.Math object>"
      ]
     },
     "metadata": {},
     "output_type": "display_data"
    }
   ],
   "source": [
    "q2.PrintState()"
   ]
  },
  {
   "cell_type": "code",
   "execution_count": 37,
   "metadata": {},
   "outputs": [],
   "source": [
    "# Grover 1x\n",
    "q1.H()\n",
    "q2.H()\n",
    "q3.H()\n",
    "q1.X()\n",
    "q2.X()\n",
    "q3.X()\n",
    "\n",
    "q3.H()\n",
    "q3.CCX(q1,q2)\n",
    "q3.H()\n",
    "\n",
    "q1.X()\n",
    "q2.X()\n",
    "q3.X()\n",
    "q1.H()\n",
    "q2.H()\n",
    "q3.H()"
   ]
  },
  {
   "cell_type": "code",
   "execution_count": 38,
   "metadata": {},
   "outputs": [
    {
     "data": {
      "text/latex": [
       "$\\displaystyle [[ 2.78957589e-18+0.j]\n",
       " [-2.45055862e-34+0.j]\n",
       " [-7.07106781e-01+0.j]\n",
       " [-1.34692639e-17+0.j]\n",
       " [-7.07106781e-01+0.j]\n",
       " [-1.34692639e-17+0.j]\n",
       " [ 2.78957589e-18+0.j]\n",
       " [-2.45055862e-34+0.j]\n",
       " [ 0.00000000e+00+0.j]\n",
       " [ 0.00000000e+00+0.j]\n",
       " [ 0.00000000e+00+0.j]\n",
       " [ 0.00000000e+00+0.j]\n",
       " [ 0.00000000e+00+0.j]\n",
       " [ 0.00000000e+00+0.j]\n",
       " [ 0.00000000e+00+0.j]\n",
       " [ 0.00000000e+00+0.j]\n",
       " [ 0.00000000e+00+0.j]\n",
       " [ 0.00000000e+00+0.j]\n",
       " [ 0.00000000e+00+0.j]\n",
       " [ 0.00000000e+00+0.j]\n",
       " [ 0.00000000e+00+0.j]\n",
       " [ 0.00000000e+00+0.j]\n",
       " [ 0.00000000e+00+0.j]\n",
       " [ 0.00000000e+00+0.j]\n",
       " [ 0.00000000e+00+0.j]\n",
       " [ 0.00000000e+00+0.j]\n",
       " [ 0.00000000e+00+0.j]\n",
       " [ 0.00000000e+00+0.j]\n",
       " [ 0.00000000e+00+0.j]\n",
       " [ 0.00000000e+00+0.j]\n",
       " [ 0.00000000e+00+0.j]\n",
       " [ 0.00000000e+00+0.j]]$"
      ],
      "text/plain": [
       "<IPython.core.display.Math object>"
      ]
     },
     "metadata": {},
     "output_type": "display_data"
    }
   ],
   "source": [
    "q2.PrintState()"
   ]
  },
  {
   "cell_type": "code",
   "execution_count": 39,
   "metadata": {},
   "outputs": [
    {
     "data": {
      "image/png": "[encoded data removed]",
      "text/plain": [
       "<Figure size 432x288 with 1 Axes>"
      ]
     },
     "metadata": {
      "needs_background": "light"
     },
     "output_type": "display_data"
    }
   ],
   "source": [
    "logicQuBit.Measure([1,2,3])\n",
    "logicQuBit.Plot()"
   ]
  },
  {
   "cell_type": "code",
   "execution_count": null,
   "metadata": {},
   "outputs": [],
   "source": []
  }
 ],
 "metadata": {
  "kernelspec": {
   "display_name": "Python 3",
   "language": "python",
   "name": "python3"
  },
  "language_info": {
   "codemirror_mode": {
    "name": "ipython",
    "version": 3
   },
   "file_extension": ".py",
   "mimetype": "text/x-python",
   "name": "python",
   "nbconvert_exporter": "python",
   "pygments_lexer": "ipython3",
   "version": "3.7.4"
  }
 },
 "nbformat": 4,
 "nbformat_minor": 2
}
