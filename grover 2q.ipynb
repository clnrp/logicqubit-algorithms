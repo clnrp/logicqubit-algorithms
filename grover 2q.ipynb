{
 "cells": [
  {
   "cell_type": "code",
   "execution_count": 74,
   "metadata": {
    "scrolled": true
   },
   "outputs": [],
   "source": [
    "from logicqubit.logic import *"
   ]
  },
  {
   "cell_type": "code",
   "execution_count": 75,
   "metadata": {},
   "outputs": [],
   "source": [
    "logicQuBit  = LogicQuBit(2, symbolic=True) \n",
    "\n",
    "q1 = Qubit()\n",
    "q2 = Qubit()\n",
    "\n",
    "q1.H()\n",
    "q2.H()"
   ]
  },
  {
   "cell_type": "code",
   "execution_count": 76,
   "metadata": {},
   "outputs": [
    {
     "data": {
      "text/latex": [
       "$\\displaystyle \\left[\\begin{matrix}0.5a1_{0}a2_{0} + 0.5a1_{0}b2_{1} + 0.5b1_{1}a2_{0} + 0.5b1_{1}b2_{1}\\\\0.5a1_{0}a2_{0} - 0.5a1_{0}b2_{1} + 0.5b1_{1}a2_{0} - 0.5b1_{1}b2_{1}\\\\0.5a1_{0}a2_{0} + 0.5a1_{0}b2_{1} - 0.5b1_{1}a2_{0} - 0.5b1_{1}b2_{1}\\\\0.5a1_{0}a2_{0} - 0.5a1_{0}b2_{1} - 0.5b1_{1}a2_{0} + 0.5b1_{1}b2_{1}\\end{matrix}\\right]$"
      ],
      "text/plain": [
       "<IPython.core.display.Math object>"
      ]
     },
     "metadata": {},
     "output_type": "display_data"
    }
   ],
   "source": [
    "q1.PrintState()"
   ]
  },
  {
   "cell_type": "code",
   "execution_count": 77,
   "metadata": {},
   "outputs": [],
   "source": [
    "# inversão de fase no estado |01> = X1*I|q1>|q2>\n",
    "# inversão de fase no estado |10> = I*X2|q1>|q2>\n",
    "#q1.X()\n",
    "q2.X()\n",
    "\n",
    "q2.CZ(q1)\n",
    "\n",
    "#q1.X()\n",
    "q2.X()"
   ]
  },
  {
   "cell_type": "code",
   "execution_count": 78,
   "metadata": {},
   "outputs": [
    {
     "data": {
      "text/latex": [
       "$\\displaystyle \\left[\\begin{matrix}0.5a1_{0}a2_{0} + 0.5a1_{0}b2_{1} + 0.5b1_{1}a2_{0} + 0.5b1_{1}b2_{1}\\\\0.5a1_{0}a2_{0} - 0.5a1_{0}b2_{1} + 0.5b1_{1}a2_{0} - 0.5b1_{1}b2_{1}\\\\- 0.5a1_{0}a2_{0} - 0.5a1_{0}b2_{1} + 0.5b1_{1}a2_{0} + 0.5b1_{1}b2_{1}\\\\0.5a1_{0}a2_{0} - 0.5a1_{0}b2_{1} - 0.5b1_{1}a2_{0} + 0.5b1_{1}b2_{1}\\end{matrix}\\right]$"
      ],
      "text/plain": [
       "<IPython.core.display.Math object>"
      ]
     },
     "metadata": {},
     "output_type": "display_data"
    }
   ],
   "source": [
    "q2.PrintState()"
   ]
  },
  {
   "cell_type": "code",
   "execution_count": 79,
   "metadata": {},
   "outputs": [],
   "source": [
    "# Grover 1x\n",
    "q1.H()\n",
    "q2.H()\n",
    "q1.X()\n",
    "q2.X()\n",
    "\n",
    "q2.H()\n",
    "q2.CX(q1)\n",
    "q2.H()\n",
    "\n",
    "q2.X()\n",
    "q1.X()\n",
    "q1.H()\n",
    "q2.H()"
   ]
  },
  {
   "cell_type": "code",
   "execution_count": 80,
   "metadata": {},
   "outputs": [
    {
     "data": {
      "text/latex": [
       "$\\displaystyle \\left[\\begin{matrix}0.999999999999999a1_{0}b2_{1}\\\\- 0.999999999999999b1_{1}b2_{1}\\\\- 0.999999999999999a1_{0}a2_{0}\\\\- 0.999999999999999b1_{1}a2_{0}\\end{matrix}\\right]$"
      ],
      "text/plain": [
       "<IPython.core.display.Math object>"
      ]
     },
     "metadata": {},
     "output_type": "display_data"
    }
   ],
   "source": [
    "logicQuBit.PrintState()"
   ]
  },
  {
   "cell_type": "code",
   "execution_count": 81,
   "metadata": {},
   "outputs": [
    {
     "data": {
      "text/latex": [
       "$\\displaystyle \\left[\\begin{matrix}0\\\\0\\\\-0.999999999999999\\\\0\\end{matrix}\\right]$"
      ],
      "text/plain": [
       "<IPython.core.display.Math object>"
      ]
     },
     "metadata": {},
     "output_type": "display_data"
    }
   ],
   "source": [
    "q1.setSymbolValues(1, 0)\n",
    "q2.setSymbolValues(1, 0)\n",
    "\n",
    "logicQuBit.PrintState()"
   ]
  },
  {
   "cell_type": "code",
   "execution_count": 82,
   "metadata": {},
   "outputs": [
    {
     "data": {
      "image/png": "[encoded data removed]",
      "text/plain": [
       "<Figure size 432x288 with 1 Axes>"
      ]
     },
     "metadata": {
      "needs_background": "light"
     },
     "output_type": "display_data"
    }
   ],
   "source": [
    "logicQuBit.Measure([q1,q2],True) # o primeiro da lista é o mais significativo\n",
    "logicQuBit.Plot()"
   ]
  },
  {
   "cell_type": "code",
   "execution_count": null,
   "metadata": {},
   "outputs": [],
   "source": []
  }
 ],
 "metadata": {
  "kernelspec": {
   "display_name": "Python 3",
   "language": "python",
   "name": "python3"
  },
  "language_info": {
   "codemirror_mode": {
    "name": "ipython",
    "version": 3
   },
   "file_extension": ".py",
   "mimetype": "text/x-python",
   "name": "python",
   "nbconvert_exporter": "python",
   "pygments_lexer": "ipython3",
   "version": "3.7.4"
  }
 },
 "nbformat": 4,
 "nbformat_minor": 2
}
