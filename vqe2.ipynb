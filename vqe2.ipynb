{
 "cells": [
  {
   "cell_type": "code",
   "execution_count": 1,
   "metadata": {
    "scrolled": true
   },
   "outputs": [
    {
     "name": "stdout",
     "output_type": "stream",
     "text": [
      "logicqubit-gpu version 1.4.4\n"
     ]
    }
   ],
   "source": [
    "from logicqubit.logic import *\n",
    "from cmath import *\n",
    "import numpy as np\n",
    "import sympy as sp\n",
    "from scipy.optimize import *\n",
    "import matplotlib.pyplot as plt"
   ]
  },
  {
   "cell_type": "code",
   "execution_count": 2,
   "metadata": {},
   "outputs": [],
   "source": [
    "def qft(qr):\n",
    "    for i in range(len(qr)):\n",
    "        for j in range(i):\n",
    "            qr[i].CU1(qr[j], pi/float(2**(i-j)))\n",
    "        qr[i].H()\n",
    "        \n",
    "def iqft(qr): # transformada quântica de Fourier inversa\n",
    "    for i in range(len(qr)):\n",
    "        for j in range(i):\n",
    "            qr[i].CU1(qr[j], -pi/float(2**(i-j)))\n",
    "        qr[i].H()\n",
    "        \n",
    "def swap(s1, s2):\n",
    "    s2.CX(s1)\n",
    "    s1.CX(s2)\n",
    "    s2.CX(s1)\n",
    "    \n",
    "#def ansatz(q, params):\n",
    "#    return q.RY(params[0])\n",
    "\n",
    "def _ansatz(reg, params):\n",
    "    n_qubits = len(reg)\n",
    "    depth = n_qubits\n",
    "    for i in range(depth):\n",
    "        reg[1].CNOT(reg[0])\n",
    "        for j in range(n_qubits):\n",
    "            reg[i].RY(params[j])\n",
    "            \n",
    "def ansatz(reg, params):\n",
    "    n_qubits = len(reg)\n",
    "    depth = n_qubits\n",
    "    for i in range(depth):\n",
    "        for j in range(n_qubits):\n",
    "            if(j < n_qubits-1):\n",
    "                reg[j+1].CNOT(reg[j])\n",
    "            reg[i].RY(params[j])\n",
    "            \n",
    "def ansatz_2(q1, q2, params):\n",
    "    q2.CNOT(q1)\n",
    "    q1.RY(params[0])\n",
    "    q2.RY(params[1])\n",
    "    q1.CNOT(q2)\n",
    "    q1.RY(params[0])\n",
    "    q2.RY(params[1])\n",
    "    q2.CNOT(q1)\n",
    "    q1.RY(params[0])\n",
    "    q2.RY(params[1])"
   ]
  },
  {
   "cell_type": "code",
   "execution_count": 3,
   "metadata": {},
   "outputs": [],
   "source": [
    "def expectation(params):\n",
    "    # H = [[1,0,0,0],[0,-1,0,0],[0,0,-5,0],[0,0,0,1]]\n",
    "    # <psi|H|psi> = <psi|00><00|psi> - <psi|01><01|psi> - 5*<psi|10><10|psi> + <psi|11><11|psi>\n",
    "    logicQuBit  = LogicQuBit(2, first_left=True)\n",
    "    #reg = QubitRegister(2)\n",
    "    q1 = Qubit()\n",
    "    q2 = Qubit()\n",
    "       \n",
    "    #_ansatz(reg.getQubits(), params)\n",
    "    #ansatz([q2,q1], params)\n",
    "    ansatz_2(q1,q2,params)\n",
    "    \n",
    "    res = logicQuBit.Measure([q1,q2])\n",
    "                      \n",
    "    return -5*res[0]+res[1]-4*res[2]-10*res[3]"
   ]
  },
  {
   "cell_type": "code",
   "execution_count": 4,
   "metadata": {},
   "outputs": [
    {
     "data": {
      "text/plain": [
       "-5.0"
      ]
     },
     "execution_count": 4,
     "metadata": {},
     "output_type": "execute_result"
    }
   ],
   "source": [
    "expectation([0,0])"
   ]
  },
  {
   "cell_type": "code",
   "execution_count": 5,
   "metadata": {},
   "outputs": [
    {
     "name": "stdout",
     "output_type": "stream",
     "text": [
      " final_simplex: (array([[1.21267393, 0.32226075],\n",
      "       [1.21263944, 0.32234993],\n",
      "       [1.21262322, 0.32233524]]), array([-7.5783574, -7.5783574, -7.5783574]))\n",
      "           fun: -7.578357400998107\n",
      "       message: 'Optimization terminated successfully.'\n",
      "          nfev: 124\n",
      "           nit: 66\n",
      "        status: 0\n",
      "       success: True\n",
      "             x: array([1.21267393, 0.32226075])\n"
     ]
    }
   ],
   "source": [
    "minimum = minimize(expectation, [0,0], method='Nelder-Mead')\n",
    "print(minimum)"
   ]
  },
  {
   "cell_type": "code",
   "execution_count": null,
   "metadata": {},
   "outputs": [],
   "source": []
  }
 ],
 "metadata": {
  "kernelspec": {
   "display_name": "Python 3",
   "language": "python",
   "name": "python3"
  },
  "language_info": {
   "codemirror_mode": {
    "name": "ipython",
    "version": 3
   },
   "file_extension": ".py",
   "mimetype": "text/x-python",
   "name": "python",
   "nbconvert_exporter": "python",
   "pygments_lexer": "ipython3",
   "version": "3.7.4"
  }
 },
 "nbformat": 4,
 "nbformat_minor": 2
}
