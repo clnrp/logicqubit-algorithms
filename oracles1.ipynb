{
 "cells": [
  {
   "cell_type": "code",
   "execution_count": 1,
   "metadata": {
    "scrolled": true
   },
   "outputs": [
    {
     "name": "stdout",
     "output_type": "stream",
     "text": [
      "logicqubit-gpu version 1.2.6\n"
     ]
    }
   ],
   "source": [
    "from logicqubit.logic import *"
   ]
  },
  {
   "cell_type": "code",
   "execution_count": 2,
   "metadata": {},
   "outputs": [],
   "source": [
    "# Uf|x,y> = |x,y+f(x)>\n",
    "# Uf|x>(|0>-|1>) = |x>|0+f(x)>+|x>|1+f(x)>\n",
    "# p/ f(x)=0 -> |x,y>, f(x)=1 -> -1|x,y>\n",
    "# = (-1)^f(x)|x,y>\n",
    "\n",
    "def qft(qr, n):\n",
    "    for i in range(n):\n",
    "        for j in range(i):\n",
    "            logicQuBit.CU1(qr[j], qr[i], pi/float(2**(i-j)))\n",
    "        logicQuBit.H(qr[i])\n",
    "        \n",
    "def iqft(qr, n): # transformada quântica de Fourier inversa\n",
    "    for i in range(n):\n",
    "        for j in range(i):\n",
    "            logicQuBit.CU1(qr[j], qr[i], -pi/float(2**(i-j)))\n",
    "        logicQuBit.H(qr[i])\n",
    "        \n",
    "def swap(s1, s2):\n",
    "    logicQuBit.CX(s1, s2)\n",
    "    logicQuBit.CX(s2, s1)\n",
    "    logicQuBit.CX(s1, s2)"
   ]
  },
  {
   "cell_type": "code",
   "execution_count": 5,
   "metadata": {},
   "outputs": [
    {
     "data": {
      "image/png": "[encoded data removed]",
      "text/plain": [
       "<Figure size 432x288 with 1 Axes>"
      ]
     },
     "metadata": {
      "needs_background": "light"
     },
     "output_type": "display_data"
    }
   ],
   "source": [
    "logicQuBit  = LogicQuBit(4)\n",
    "\n",
    "x1 = Qubit()\n",
    "x2 = Qubit()\n",
    "x3 = Qubit()\n",
    "y = Qubit()\n",
    "\n",
    "# |000>+|001>+|010>+|011>+|100>+|101>+|110>+|111>\n",
    "x1.H()\n",
    "x2.H()\n",
    "x3.H()\n",
    "\n",
    "# (|0>-|1>)\n",
    "y.X()\n",
    "y.H()\n",
    "\n",
    "\n",
    "# oracle temp = q[4]\n",
    "y.CX(x1)\n",
    "#y.CX(x2)\n",
    "y.CX(x3)\n",
    "\n",
    "\n",
    "x1.H()\n",
    "x2.H()\n",
    "x3.H()\n",
    "\n",
    "logicQuBit.Measure([x1,x2,x3])\n",
    "logicQuBit.Plot()"
   ]
  },
  {
   "cell_type": "code",
   "execution_count": 13,
   "metadata": {},
   "outputs": [
    {
     "data": {
      "text/latex": [
       "$\\displaystyle \\begin{pmatrix}0 \\\\ 0 \\\\ 0 \\\\ 0 \\\\ 0 \\\\ 0 \\\\ 0 \\\\ 0 \\\\ 0.25 \\\\ 1.55582e-19 \\\\ 0.25 \\\\ 1.55582e-19 \\\\ 0.25 \\\\ 1.55582e-19 \\\\ 0.25 \\\\ 1.55582e-19 \\\\ 0 \\\\ 0 \\\\ 0 \\\\ 0 \\\\ 0 \\\\ 0 \\\\ 0 \\\\ 0 \\\\ 0 \\\\ 0 \\\\ 0 \\\\ 0 \\\\ 0 \\\\ 0 \\\\ 0 \\\\ 0 \\\\ 0.25 \\\\ 1.10013e-19+1.10013e-19j \\\\ 1.53081e-17+0.25j \\\\ -1.10013e-19+1.10013e-19j \\\\ -0.25 \\\\ -1.10013e-19-1.10013e-19j \\\\ -1.53081e-17-0.25j \\\\ 1.10013e-19-1.10013e-19j \\\\ 0 \\\\ 0 \\\\ 0 \\\\ 0 \\\\ 0 \\\\ 0 \\\\ 0 \\\\ 0 \\\\ 0 \\\\ 0 \\\\ 0 \\\\ 0 \\\\ 0 \\\\ 0 \\\\ 0 \\\\ 0 \\\\ 0.25 \\\\ 9.52666e-36+1.55582e-19j \\\\ -0.25 \\\\ -9.52666e-36-1.55582e-19j \\\\ 0.25 \\\\ 9.52666e-36+1.55582e-19j \\\\ -0.25 \\\\ -9.52666e-36-1.55582e-19j \\\\ 0 \\\\ 0 \\\\ 0 \\\\ 0 \\\\ 0 \\\\ 0 \\\\ 0 \\\\ 0 \\\\ 0 \\\\ 0 \\\\ 0 \\\\ 0 \\\\ 0 \\\\ 0 \\\\ 0 \\\\ 0 \\\\ 0 \\\\ 0 \\\\ 0 \\\\ 0 \\\\ 0 \\\\ 0 \\\\ 0 \\\\ 0 \\\\ 0 \\\\ 0 \\\\ 0 \\\\ 0 \\\\ 0 \\\\ 0 \\\\ 0 \\\\ 0 \\\\ 0 \\\\ 0 \\\\ 0 \\\\ 0 \\\\ 0 \\\\ 0 \\\\ 0 \\\\ 0 \\\\ 0.25 \\\\ -1.10013e-19+1.10013e-19j \\\\ -1.53081e-17-0.25j \\\\ 1.10013e-19+1.10013e-19j \\\\ -0.25 \\\\ 1.10013e-19-1.10013e-19j \\\\ 1.53081e-17+0.25j \\\\ -1.10013e-19-1.10013e-19j \\\\ 0 \\\\ 0 \\\\ 0 \\\\ 0 \\\\ 0 \\\\ 0 \\\\ 0 \\\\ 0 \\\\ 0 \\\\ 0 \\\\ 0 \\\\ 0 \\\\ 0 \\\\ 0 \\\\ 0 \\\\ 0 \\end{pmatrix}$"
      ],
      "text/plain": [
       "<IPython.core.display.Math object>"
      ]
     },
     "metadata": {},
     "output_type": "display_data"
    }
   ],
   "source": [
    "logicQuBit  = LogicQuBit(7)\n",
    "\n",
    "x = QubitRegister(3)\n",
    "y = QubitRegister(4)\n",
    "\n",
    "# truth table\n",
    "# x   - y\n",
    "# 000 - 0001\n",
    "# 001 - 0111\n",
    "# 010 - 0100\n",
    "# 011 - 1101\n",
    "# 100 - 0001\n",
    "# 101 - 0111\n",
    "# 110 - 0100\n",
    "# 111 - 1011\n",
    "\n",
    "# |Hx,y> = (|000,0000>+|001,0000>+|010,0000>+|011,0000>+|100,0000>+|101,0000>+|110,0000>+|111,0000>)\n",
    "x.H()\n",
    "\n",
    "# |psi> = |x>|y> = |x>|0000>\n",
    "\n",
    "# x=000 - y=0001, pois não houve outra operação\n",
    "# X(y1) (|000,0001>+|001,0001>+|010,0001>+|011,0001>+|100,0001>+|101,0001>+|110,0001>+|111,0001>)\n",
    "y[1].X()\n",
    "\n",
    "# x=001 - y=0111\n",
    "# y3.CX(x2) (|000,0001>+|001,0001>+|010,0101>+|011,0101>+|100,0001>+|101,0001>+|110,0101>+|111,0101>)\n",
    "y[3].CX(x[2])\n",
    "# y2.CX(x2) (|000,0001>+|001,0001>+|010,0111>+|011,0111>+|100,0001>+|101,0001>+|110,0111>+|111,0111>)\n",
    "y[2].CX(x[2])\n",
    "\n",
    "# x=010 - y=0100\n",
    "# y3.CX(x3) (|000,0001>+|001,0001>+|010,0111>+|011,0111>+|100,0101>+|101,0101>+|110,0011>+|111,0011>)\n",
    "y[3].CX(x[3])\n",
    "# y1.CX(x3) (|000,0001>+|001,0001>+|010,0111>+|011,0111>+|100,0100>+|101,0100>+|110,0010>+|111,0010>)\n",
    "y[1].CX(x[3])\n",
    "\n",
    "# x=011 - y=1101\n",
    "# y4.CCX(x3,x2) (|000,0001>+|001,0001>+|010,0111>+|011,0111>+|100,0100>+|101,0100>+|110,1010>+|111,1010>)\n",
    "y[4].CCX(x[3], x[2])\n",
    "\n",
    "# y3.CCX(x3,x2) (|000,0001>+|001,0001>+|010,0111>+|011,0111>+|100,0100>+|101,0100>+|110,1110>+|111,1110>)\n",
    "y[3].CCX(x[3], x[2])\n",
    "# y2.CCX(x3,x2) (|000,0001>+|001,0001>+|010,0111>+|011,0111>+|100,0100>+|101,0100>+|110,1100>+|111,1100>)\n",
    "y[2].CCX(x[3], x[2])\n",
    "# y1.CCX(x3,x2) (|000,0001>+|001,0001>+|010,0111>+|011,0111>+|100,0100>+|101,0100>+|110,1101>+|111,1101>)\n",
    "y[1].CCX(x[3], x[2])\n",
    "\n",
    "# |0001>(|000>+|001>) + |0111>(|010>+|011>) + |0100>(|100>+|101>) + |1101>(|110>+|111>) \n",
    "\n",
    "qft([x[1],x[2],x[3]],3)\n",
    "#swap(x[1],x[3])\n",
    "\n",
    "logicQuBit.PrintState()"
   ]
  },
  {
   "cell_type": "code",
   "execution_count": 14,
   "metadata": {},
   "outputs": [
    {
     "data": {
      "image/png": "[encoded data removed]",
      "text/plain": [
       "<Figure size 432x288 with 1 Axes>"
      ]
     },
     "metadata": {
      "needs_background": "light"
     },
     "output_type": "display_data"
    },
    {
     "name": "stdout",
     "output_type": "stream",
     "text": [
      "[0.24999999999999978, 9.682320048931733e-38, 0.24999999999999978, 9.682320048931733e-38, 0.24999999999999978, 9.682320048931733e-38, 0.24999999999999978, 9.682320048931733e-38]\n"
     ]
    }
   ],
   "source": [
    "#res = logicQuBit.Measure([y[1],y[2],y[3],y[4]])\n",
    "res = logicQuBit.Measure([x[1],x[2],x[3]])\n",
    "logicQuBit.Plot()\n",
    "print(res)"
   ]
  },
  {
   "cell_type": "code",
   "execution_count": null,
   "metadata": {},
   "outputs": [],
   "source": []
  }
 ],
 "metadata": {
  "kernelspec": {
   "display_name": "Python 3",
   "language": "python",
   "name": "python3"
  },
  "language_info": {
   "codemirror_mode": {
    "name": "ipython",
    "version": 3
   },
   "file_extension": ".py",
   "mimetype": "text/x-python",
   "name": "python",
   "nbconvert_exporter": "python",
   "pygments_lexer": "ipython3",
   "version": "3.7.4"
  }
 },
 "nbformat": 4,
 "nbformat_minor": 2
}
