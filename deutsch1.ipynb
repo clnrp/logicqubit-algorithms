{
 "cells": [
  {
   "cell_type": "code",
   "execution_count": 1,
   "metadata": {
    "scrolled": true
   },
   "outputs": [
    {
     "name": "stdout",
     "output_type": "stream",
     "text": [
      "logicqubit-gpu version 1.2.3\n"
     ]
    }
   ],
   "source": [
    "from logicqubit.logic import *"
   ]
  },
  {
   "cell_type": "code",
   "execution_count": 2,
   "metadata": {},
   "outputs": [],
   "source": [
    "logicQuBit  = LogicQuBit(2)\n",
    "\n",
    "# H*X*H = Z \n",
    "# Z*y = -y\n",
    "# x*Z*y = -xy\n",
    "def oracle(x, y):\n",
    "    y.X()\n",
    "    \n",
    "x = Qubit()\n",
    "y = Qubit()\n",
    "\n",
    "x.H()\n",
    "y.X()\n",
    "y.H()\n",
    "\n",
    "oracle(x, y)\n",
    "\n",
    "x.H()\n",
    "y.H()"
   ]
  },
  {
   "cell_type": "code",
   "execution_count": 3,
   "metadata": {},
   "outputs": [
    {
     "data": {
      "image/png": "[encoded data removed]",
      "text/plain": [
       "<Figure size 432x288 with 1 Axes>"
      ]
     },
     "metadata": {
      "needs_background": "light"
     },
     "output_type": "display_data"
    }
   ],
   "source": [
    "logicQuBit.Measure([x])\n",
    "logicQuBit.Plot()"
   ]
  },
  {
   "cell_type": "code",
   "execution_count": 4,
   "metadata": {},
   "outputs": [],
   "source": [
    "logicQuBit  = LogicQuBit(2)\n",
    "\n",
    "# H*CX*H = CZ \n",
    "# Fase kick back in X\n",
    "# |x>CZ|1> = |0>CZ|1> + |1>CZ|1> = |0>|1> - |1>|1>\n",
    "# |x>CZ|1> = (|0>-|1>)|1>\n",
    "def oracle(x, y):\n",
    "    y.CX(x)\n",
    "    \n",
    "x = Qubit()\n",
    "y = Qubit()\n",
    "\n",
    "x.H()\n",
    "y.X()\n",
    "y.H()\n",
    "\n",
    "oracle(x, y)\n",
    "\n",
    "x.H()\n",
    "y.H()"
   ]
  },
  {
   "cell_type": "code",
   "execution_count": 5,
   "metadata": {},
   "outputs": [
    {
     "data": {
      "image/png": "[encoded data removed]",
      "text/plain": [
       "<Figure size 432x288 with 1 Axes>"
      ]
     },
     "metadata": {
      "needs_background": "light"
     },
     "output_type": "display_data"
    }
   ],
   "source": [
    "logicQuBit.Measure([x])\n",
    "logicQuBit.Plot()"
   ]
  },
  {
   "cell_type": "code",
   "execution_count": null,
   "metadata": {},
   "outputs": [],
   "source": []
  }
 ],
 "metadata": {
  "kernelspec": {
   "display_name": "Python 3",
   "language": "python",
   "name": "python3"
  },
  "language_info": {
   "codemirror_mode": {
    "name": "ipython",
    "version": 3
   },
   "file_extension": ".py",
   "mimetype": "text/x-python",
   "name": "python",
   "nbconvert_exporter": "python",
   "pygments_lexer": "ipython3",
   "version": "3.7.4"
  }
 },
 "nbformat": 4,
 "nbformat_minor": 2
}
