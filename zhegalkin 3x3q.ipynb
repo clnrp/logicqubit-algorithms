{
 "cells": [
  {
   "cell_type": "code",
   "execution_count": 4,
   "metadata": {
    "scrolled": true
   },
   "outputs": [],
   "source": [
    "from logicqubit.logic import *\n",
    "from logicqubit.zhegalkin import *"
   ]
  },
  {
   "cell_type": "code",
   "execution_count": 5,
   "metadata": {},
   "outputs": [
    {
     "data": {
      "text/latex": [
       "$\\displaystyle 1x_1^0x_2^0x_3^0\\oplus 1x_1^0x_2^0x_3^1\\oplus 0x_1^0x_2^1x_3^0\\oplus 0x_1^0x_2^1x_3^1\\oplus 1x_1^1x_2^0x_3^0\\oplus 0x_1^1x_2^0x_3^1\\oplus 0x_1^1x_2^1x_3^0\\oplus 1x_1^1x_2^1x_3^1$"
      ],
      "text/plain": [
       "<IPython.core.display.Math object>"
      ]
     },
     "metadata": {},
     "output_type": "display_data"
    },
    {
     "data": {
      "text/latex": [
       "$\\displaystyle 1x_1^0x_2^0x_3^0\\oplus 1x_1^0x_2^0x_3^1\\oplus 0x_1^0x_2^1x_3^0\\oplus 0x_1^0x_2^1x_3^1\\oplus 0x_1^1x_2^0x_3^0\\oplus 1x_1^1x_2^0x_3^1\\oplus 1x_1^1x_2^1x_3^0\\oplus 0x_1^1x_2^1x_3^1$"
      ],
      "text/plain": [
       "<IPython.core.display.Math object>"
      ]
     },
     "metadata": {},
     "output_type": "display_data"
    },
    {
     "data": {
      "text/latex": [
       "$\\displaystyle 0x_1^0x_2^0x_3^0\\oplus 1x_1^0x_2^0x_3^1\\oplus 1x_1^0x_2^1x_3^0\\oplus 1x_1^0x_2^1x_3^1\\oplus 1x_1^1x_2^0x_3^0\\oplus 0x_1^1x_2^0x_3^1\\oplus 0x_1^1x_2^1x_3^0\\oplus 0x_1^1x_2^1x_3^1$"
      ],
      "text/plain": [
       "<IPython.core.display.Math object>"
      ]
     },
     "metadata": {},
     "output_type": "display_data"
    }
   ],
   "source": [
    "# Uf*H|x1,x2,x3>|000>\n",
    "# x1 x2 x3 y1 y2 y3\n",
    "# 0  0  0  1  1  0\n",
    "# 0  0  1  0  0  1\n",
    "# 0  1  0  1  1  1\n",
    "# 0  1  1  0  0  1\n",
    "# 1  0  0  0  1  1\n",
    "# 1  0  1  1  1  0\n",
    "# 1  1  0  0  0  0\n",
    "# 1  1  1  0  0  0\n",
    "\n",
    "poly = Zhegalkin_Poly()\n",
    "poly.addTable(['000','010','101'])       # y1\n",
    "poly.addTable(['000','010','100','101']) # y2\n",
    "poly.addTable(['001','010','011','100']) # y3\n",
    "poly.Compute()\n",
    "poly.ShowPolynomial(short=False)"
   ]
  },
  {
   "cell_type": "code",
   "execution_count": 8,
   "metadata": {},
   "outputs": [
    {
     "data": {
      "image/png": "[encoded data removed]",
      "text/plain": [
       "<Figure size 432x288 with 1 Axes>"
      ]
     },
     "metadata": {
      "needs_background": "light"
     },
     "output_type": "display_data"
    }
   ],
   "source": [
    "# pol = x1^0x2^0x3^0 + x1^0x2^0x3^1 + x1^0x2^1x3^0 + x1^0x2^1x3^1 + x1^1x2^0x3^0 \n",
    "# + x1^1x2^0x3^1 + x1^1x2^1x3^0 + x1^1x2^1x3^1\n",
    "\n",
    "logicQuBit = LogicQuBit(8, first_left=True)\n",
    "\n",
    "x1 = Qubit()\n",
    "x2 = Qubit()\n",
    "x3 = Qubit()\n",
    "\n",
    "x1.H()\n",
    "x2.H()\n",
    "x3.H()\n",
    "\n",
    "a1 = Qubit() # ancilla qubit\n",
    "a2 = Qubit()\n",
    "\n",
    "y1 = Qubit()\n",
    "y2 = Qubit()\n",
    "y3 = Qubit()\n",
    "\n",
    "# p/ y1\n",
    "# p = (1,1,0,0,1,0,0,1)\n",
    "a1.CCX(x1,x2)\n",
    "y1.CCX(x3,a1)\n",
    "y1.CX(x1)\n",
    "y1.CX(x3)\n",
    "y1.X()\n",
    "\n",
    "# p/ y2\n",
    "# p = (1,1,0,0,0,1,1,0)\n",
    "y2.CCX(x1,x2)\n",
    "y2.CCX(x1,x3)\n",
    "y2.CX(x3)\n",
    "y2.X()\n",
    "\n",
    "# p/ y3\n",
    "# p = (0,1,1,1,1,0,0,0)\n",
    "y3.CX(x1)\n",
    "y3.CCX(x2,x3)\n",
    "y3.CX(x2)\n",
    "y3.CX(x3)\n",
    "\n",
    "res = logicQuBit.Measure([y1,y2,y3])\n",
    "logicQuBit.Plot()"
   ]
  },
  {
   "cell_type": "code",
   "execution_count": null,
   "metadata": {},
   "outputs": [],
   "source": []
  }
 ],
 "metadata": {
  "kernelspec": {
   "display_name": "Python 3",
   "language": "python",
   "name": "python3"
  },
  "language_info": {
   "codemirror_mode": {
    "name": "ipython",
    "version": 3
   },
   "file_extension": ".py",
   "mimetype": "text/x-python",
   "name": "python",
   "nbconvert_exporter": "python",
   "pygments_lexer": "ipython3",
   "version": "3.7.4"
  }
 },
 "nbformat": 4,
 "nbformat_minor": 2
}
