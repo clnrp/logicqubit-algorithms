{
 "cells": [
  {
   "cell_type": "code",
   "execution_count": 1,
   "metadata": {
    "scrolled": true
   },
   "outputs": [
    {
     "name": "stdout",
     "output_type": "stream",
     "text": [
      "logicqubit-gpu version 1.5.3\n"
     ]
    }
   ],
   "source": [
    "from logicqubit.logic import *"
   ]
  },
  {
   "cell_type": "code",
   "execution_count": 2,
   "metadata": {},
   "outputs": [],
   "source": [
    "def qft(qr):\n",
    "    for i in range(len(qr)):\n",
    "        for j in range(i):\n",
    "            qr[i].CU1(qr[j], pi/float(2**(i-j)))\n",
    "        qr[i].H()\n",
    "        \n",
    "def iqft(qr): # transformada quântica de Fourier inversa\n",
    "    for i in range(len(qr)):\n",
    "        for j in range(i):\n",
    "            qr[i].CU1(qr[j], -pi/float(2**(i-j)))\n",
    "        qr[i].H()\n",
    "        \n",
    "def swap(s1, s2):\n",
    "    s2.CX(s1)\n",
    "    s1.CX(s2)\n",
    "    s2.CX(s1)"
   ]
  },
  {
   "cell_type": "code",
   "execution_count": 5,
   "metadata": {},
   "outputs": [
    {
     "name": "stdout",
     "output_type": "stream",
     "text": [
      "['H(1)', 'H(2)', 'H(3)', 'CCX(2,3,4)', 'CCX(2,3,5)', 'CX(2,5)', 'CX(3,5)', 'CCX(2,3,6)', 'CX(3,6)', 'CCX(2,3,7)', 'CX(2,7)', 'X(7)']\n"
     ]
    }
   ],
   "source": [
    "# f(x) = 7^x mod 15\n",
    "# truth table\n",
    "# x   - y\n",
    "# 000 - 0001\n",
    "# 001 - 0111\n",
    "# 010 - 0100\n",
    "# 011 - 1101\n",
    "# 100 - 0001\n",
    "# 101 - 0111\n",
    "# 110 - 0100\n",
    "# 111 - 1011\n",
    "\n",
    "logicQuBit  = LogicQuBit(7, first_left=True)\n",
    "\n",
    "x1 = Qubit()\n",
    "x2 = Qubit()\n",
    "x3 = Qubit()\n",
    "\n",
    "y1 = Qubit()\n",
    "y2 = Qubit()\n",
    "y3 = Qubit()\n",
    "y4 = Qubit()\n",
    "\n",
    "x1.H()\n",
    "x2.H()\n",
    "x3.H()\n",
    "\n",
    "oracle = Oracle([x1, x2, x3])\n",
    "oracle.addTable(y1, ['011', '111'])\n",
    "oracle.addTable(y2, ['001', '010', '011', '101','110'])\n",
    "oracle.addTable(y3, ['001', '101', '111'])\n",
    "oracle.addTable(y4, ['000', '001', '011', '100','101','111'])\n",
    "\n",
    "logicQuBit.addOracle(oracle)\n",
    "logicQuBit.PrintOperations()\n",
    "\n",
    "qft([x1,x2,x3])\n",
    "swap(x1,x3)"
   ]
  },
  {
   "cell_type": "code",
   "execution_count": 6,
   "metadata": {},
   "outputs": [],
   "source": [
    "psi = x1.getPsiAtAngles(degree = True)\n",
    "psi = {bin(i)[2:].zfill(7):value for i,value in enumerate(psi)}"
   ]
  },
  {
   "cell_type": "code",
   "execution_count": 7,
   "metadata": {},
   "outputs": [
    {
     "data": {
      "image/png": "[encoded data removed]",
      "text/plain": [
       "<Figure size 432x288 with 1 Axes>"
      ]
     },
     "metadata": {
      "needs_background": "light"
     },
     "output_type": "display_data"
    },
    {
     "name": "stdout",
     "output_type": "stream",
     "text": [
      "[0.0, 0.24999999999999978, 0.0, 0.0, 0.24999999999999978, 0.0, 0.0, 0.24999999999999978, 0.0, 0.0, 0.0, 0.0, 0.0, 0.24999999999999978, 0.0, 0.0]\n"
     ]
    }
   ],
   "source": [
    "res = logicQuBit.Measure([y1,y2,y3,y4], True)\n",
    "#res = logicQuBit.Measure([x1,x2,x3], True)\n",
    "logicQuBit.Plot()\n",
    "print(res)"
   ]
  },
  {
   "cell_type": "code",
   "execution_count": null,
   "metadata": {},
   "outputs": [],
   "source": []
  }
 ],
 "metadata": {
  "kernelspec": {
   "display_name": "Python 3",
   "language": "python",
   "name": "python3"
  },
  "language_info": {
   "codemirror_mode": {
    "name": "ipython",
    "version": 3
   },
   "file_extension": ".py",
   "mimetype": "text/x-python",
   "name": "python",
   "nbconvert_exporter": "python",
   "pygments_lexer": "ipython3",
   "version": "3.7.4"
  }
 },
 "nbformat": 4,
 "nbformat_minor": 2
}
