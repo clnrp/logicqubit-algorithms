{
 "cells": [
  {
   "cell_type": "code",
   "execution_count": 19,
   "metadata": {},
   "outputs": [],
   "source": [
    "import torch\n",
    "import numpy as np\n",
    "import numba as nb\n",
    "import cupy as cp\n",
    "from sympy import *\n",
    "from sympy.physics.quantum import TensorProduct"
   ]
  },
  {
   "cell_type": "code",
   "execution_count": 20,
   "metadata": {},
   "outputs": [],
   "source": [
    "X = [[0.,1.], [1.,0.]]\n",
    "Y = [[0.,-1j], [1j,0.]]\n",
    "x1 = [4, 1.]\n",
    "x2 = [1.,5.]"
   ]
  },
  {
   "cell_type": "code",
   "execution_count": 21,
   "metadata": {},
   "outputs": [
    {
     "data": {
      "text/plain": [
       "tensor([[ 4., 20.],\n",
       "        [ 1.,  5.]], device='cuda:0')"
      ]
     },
     "execution_count": 21,
     "metadata": {},
     "output_type": "execute_result"
    }
   ],
   "source": [
    "t1 = torch.tensor(x1, device='cuda')\n",
    "t2 = torch.tensor(x2, device='cuda')\n",
    "torch.tensordot(t1, t2, dims=0)"
   ]
  },
  {
   "cell_type": "code",
   "execution_count": 22,
   "metadata": {},
   "outputs": [],
   "source": [
    "q1 = Matrix(x1)\n",
    "q2 = Matrix(x2)"
   ]
  },
  {
   "cell_type": "code",
   "execution_count": 23,
   "metadata": {},
   "outputs": [
    {
     "data": {
      "text/latex": [
       "$\\displaystyle \\left[\\begin{matrix}4.0 & 20.0\\\\1.0 & 5.0\\end{matrix}\\right]$"
      ],
      "text/plain": [
       "Matrix([\n",
       "[4.0, 20.0],\n",
       "[1.0,  5.0]])"
      ]
     },
     "execution_count": 23,
     "metadata": {},
     "output_type": "execute_result"
    }
   ],
   "source": [
    "TensorProduct(q1,q2.transpose())"
   ]
  },
  {
   "cell_type": "code",
   "execution_count": 24,
   "metadata": {},
   "outputs": [
    {
     "data": {
      "text/plain": [
       "array([[[[0.+0.j, 0.-0.j],\n",
       "         [0.+0.j, 0.+0.j]],\n",
       "\n",
       "        [[0.+0.j, 0.-1.j],\n",
       "         [0.+1.j, 0.+0.j]]],\n",
       "\n",
       "\n",
       "       [[[0.+0.j, 0.-1.j],\n",
       "         [0.+1.j, 0.+0.j]],\n",
       "\n",
       "        [[0.+0.j, 0.-0.j],\n",
       "         [0.+0.j, 0.+0.j]]]])"
      ]
     },
     "execution_count": 24,
     "metadata": {},
     "output_type": "execute_result"
    }
   ],
   "source": [
    "n1 = np.array(X)\n",
    "n2 = np.array(Y)\n",
    "np.tensordot(n1, n2, axes=0)"
   ]
  },
  {
   "cell_type": "code",
   "execution_count": 25,
   "metadata": {},
   "outputs": [
    {
     "data": {
      "text/plain": [
       "array([[[[0.+0.j, 0.+0.j],\n",
       "         [0.+0.j, 0.+0.j]],\n",
       "\n",
       "        [[0.+0.j, 0.-1.j],\n",
       "         [0.+1.j, 0.+0.j]]],\n",
       "\n",
       "\n",
       "       [[[0.+0.j, 0.-1.j],\n",
       "         [0.+1.j, 0.+0.j]],\n",
       "\n",
       "        [[0.+0.j, 0.+0.j],\n",
       "         [0.+0.j, 0.+0.j]]]])"
      ]
     },
     "execution_count": 25,
     "metadata": {},
     "output_type": "execute_result"
    }
   ],
   "source": [
    "n1 = cp.array(X)\n",
    "n2 = cp.array(Y)\n",
    "cp.tensordot(n1, n2, axes=0)"
   ]
  },
  {
   "cell_type": "code",
   "execution_count": 90,
   "metadata": {},
   "outputs": [],
   "source": [
    "ket0 = cp.array([1., 0.])\n",
    "ID = cp.array([[1, 0], [0, 1]]) \n",
    "X = cp.array([[0, 1], [1, 0]])\n",
    "H = cp.array([[1, 1], [1, -1]])\n",
    "q1 = ket0\n",
    "q2 = ket0\n",
    "q3 = ket0\n",
    "q = cp.kron(q1, q2)\n",
    "#q = cp.tensordot(q, q3, axes=0)\n",
    "\n",
    "U = cp.kron(ID, X)\n",
    "#U = cp.tensordot(U, ID, axes=0)"
   ]
  },
  {
   "cell_type": "code",
   "execution_count": 91,
   "metadata": {},
   "outputs": [],
   "source": [
    "#U=U.reshape((8, 8))"
   ]
  },
  {
   "cell_type": "code",
   "execution_count": 92,
   "metadata": {},
   "outputs": [],
   "source": [
    "#q=q.reshape((8, 1))"
   ]
  },
  {
   "cell_type": "code",
   "execution_count": 93,
   "metadata": {},
   "outputs": [
    {
     "data": {
      "text/plain": [
       "array([[0, 1, 0, 0],\n",
       "       [1, 0, 0, 0],\n",
       "       [0, 0, 0, 1],\n",
       "       [0, 0, 1, 0]])"
      ]
     },
     "execution_count": 93,
     "metadata": {},
     "output_type": "execute_result"
    }
   ],
   "source": [
    "U"
   ]
  },
  {
   "cell_type": "code",
   "execution_count": 94,
   "metadata": {},
   "outputs": [],
   "source": [
    "q=q.reshape((4,1))"
   ]
  },
  {
   "cell_type": "code",
   "execution_count": 95,
   "metadata": {},
   "outputs": [
    {
     "data": {
      "text/plain": [
       "array([[0., 1., 0., 0.],\n",
       "       [0., 0., 0., 0.],\n",
       "       [0., 0., 0., 0.],\n",
       "       [0., 0., 0., 0.]])"
      ]
     },
     "execution_count": 95,
     "metadata": {},
     "output_type": "execute_result"
    }
   ],
   "source": [
    "U*q"
   ]
  },
  {
   "cell_type": "code",
   "execution_count": 97,
   "metadata": {},
   "outputs": [
    {
     "data": {
      "text/plain": [
       "array([[0, 0, 1, 0, 0, 0, 0, 0],\n",
       "       [0, 0, 0, 1, 0, 0, 0, 0],\n",
       "       [1, 0, 0, 0, 0, 0, 0, 0],\n",
       "       [0, 1, 0, 0, 0, 0, 0, 0],\n",
       "       [0, 0, 0, 0, 0, 0, 1, 0],\n",
       "       [0, 0, 0, 0, 0, 0, 0, 1],\n",
       "       [0, 0, 0, 0, 1, 0, 0, 0],\n",
       "       [0, 0, 0, 0, 0, 1, 0, 0]])"
      ]
     },
     "execution_count": 97,
     "metadata": {},
     "output_type": "execute_result"
    }
   ],
   "source": [
    "cp.kron(cp.kron(ID,X),ID)"
   ]
  },
  {
   "cell_type": "code",
   "execution_count": null,
   "metadata": {},
   "outputs": [],
   "source": []
  }
 ],
 "metadata": {
  "kernelspec": {
   "display_name": "Python 3",
   "language": "python",
   "name": "python3"
  },
  "language_info": {
   "codemirror_mode": {
    "name": "ipython",
    "version": 3
   },
   "file_extension": ".py",
   "mimetype": "text/x-python",
   "name": "python",
   "nbconvert_exporter": "python",
   "pygments_lexer": "ipython3",
   "version": "3.7.4"
  }
 },
 "nbformat": 4,
 "nbformat_minor": 2
}
