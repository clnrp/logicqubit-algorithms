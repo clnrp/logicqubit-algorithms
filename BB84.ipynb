{
 "cells": [
  {
   "cell_type": "code",
   "execution_count": 1,
   "metadata": {
    "scrolled": true
   },
   "outputs": [
    {
     "name": "stdout",
     "output_type": "stream",
     "text": [
      "logicqubit-gpu version 1.5.3\n"
     ]
    }
   ],
   "source": [
    "from logicqubit.logic import *\n",
    "import random\n",
    "import numpy as np"
   ]
  },
  {
   "cell_type": "code",
   "execution_count": 2,
   "metadata": {},
   "outputs": [],
   "source": [
    "def get_value(measured):\n",
    "    max_vrand=10\n",
    "    np_array=np.asarray([int(measured[i].real*max_vrand)*[i] for i,value in enumerate(measured)])\n",
    "    np_array.reshape(1, -1)\n",
    "    return random.choice(np_array)"
   ]
  },
  {
   "cell_type": "code",
   "execution_count": 3,
   "metadata": {},
   "outputs": [],
   "source": [
    "logicQuBit  = LogicQuBit(3)\n",
    "\n",
    "particle = Qubit()"
   ]
  },
  {
   "cell_type": "code",
   "execution_count": 4,
   "metadata": {},
   "outputs": [],
   "source": [
    "# Alice |1>\n",
    "\n",
    "particle.X()"
   ]
  },
  {
   "cell_type": "code",
   "execution_count": 5,
   "metadata": {},
   "outputs": [
    {
     "name": "stdout",
     "output_type": "stream",
     "text": [
      "[0 0 0 0 0 0 0 0 0 0]\n"
     ]
    }
   ],
   "source": [
    "# Eva measure in X base\n",
    "\n",
    "measured = logicQuBit.Measure_One(particle)\n",
    "value = get_value(measured)\n",
    "print(value)\n",
    "if(value[0] == 1):\n",
    "    particle.X()\n",
    "particle.H()    "
   ]
  },
  {
   "cell_type": "code",
   "execution_count": 6,
   "metadata": {},
   "outputs": [
    {
     "name": "stdout",
     "output_type": "stream",
     "text": [
      "[] [0]\n"
     ]
    }
   ],
   "source": [
    "# Bob measure in Z base\n",
    "\n",
    "measured = logicQuBit.Measure_One(particle)\n",
    "print(get_value(measured),measured)"
   ]
  },
  {
   "cell_type": "code",
   "execution_count": null,
   "metadata": {},
   "outputs": [],
   "source": []
  }
 ],
 "metadata": {
  "kernelspec": {
   "display_name": "Python 3",
   "language": "python",
   "name": "python3"
  },
  "language_info": {
   "codemirror_mode": {
    "name": "ipython",
    "version": 3
   },
   "file_extension": ".py",
   "mimetype": "text/x-python",
   "name": "python",
   "nbconvert_exporter": "python",
   "pygments_lexer": "ipython3",
   "version": "3.7.4"
  }
 },
 "nbformat": 4,
 "nbformat_minor": 2
}
