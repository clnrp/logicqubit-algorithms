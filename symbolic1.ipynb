{
 "cells": [
  {
   "cell_type": "code",
   "execution_count": 1,
   "metadata": {},
   "outputs": [
    {
     "name": "stdout",
     "output_type": "stream",
     "text": [
      "logicqubit-gpu version 1.5.3\n"
     ]
    }
   ],
   "source": [
    "from logicqubit.logic import *"
   ]
  },
  {
   "cell_type": "code",
   "execution_count": 2,
   "metadata": {},
   "outputs": [
    {
     "data": {
      "text/latex": [
       "$\\displaystyle \\left[\\begin{matrix}a2_{0}a1_{0}\\\\a2_{0}b1_{1}\\\\b2_{1}a1_{0}\\\\b2_{1}b1_{1}\\end{matrix}\\right]$"
      ],
      "text/plain": [
       "<IPython.core.display.Math object>"
      ]
     },
     "metadata": {},
     "output_type": "display_data"
    },
    {
     "data": {
      "text/latex": [
       "$\\displaystyle \\left[\\begin{matrix}0.707106781186547a2_{0}a1_{0} + 0.707106781186547a2_{0}b1_{1}\\\\0.707106781186547a2_{0}a1_{0} - 0.707106781186547a2_{0}b1_{1}\\\\0.707106781186547b2_{1}a1_{0} + 0.707106781186547b2_{1}b1_{1}\\\\0.707106781186547b2_{1}a1_{0} - 0.707106781186547b2_{1}b1_{1}\\end{matrix}\\right]$"
      ],
      "text/plain": [
       "<IPython.core.display.Math object>"
      ]
     },
     "metadata": {},
     "output_type": "display_data"
    },
    {
     "data": {
      "text/latex": [
       "$\\displaystyle \\left[\\begin{matrix}0.707106781186547\\\\0.707106781186547\\\\0\\\\0\\end{matrix}\\right]$"
      ],
      "text/plain": [
       "<IPython.core.display.Math object>"
      ]
     },
     "metadata": {},
     "output_type": "display_data"
    }
   ],
   "source": [
    "logicQuBit = LogicQuBit(2, symbolic=True, first_left=False)\n",
    "\n",
    "q1 = Qubit()\n",
    "q2 = Qubit()\n",
    "\n",
    "logicQuBit.PrintState()\n",
    "\n",
    "q1.H()\n",
    "\n",
    "logicQuBit.PrintState()\n",
    "\n",
    "q1.setSymbolValues(1, 0)\n",
    "q2.setSymbolValues(1, 0)\n",
    "#q3.setSymbolValues(1, 0)\n",
    "\n",
    "logicQuBit.PrintState()"
   ]
  },
  {
   "cell_type": "code",
   "execution_count": 3,
   "metadata": {},
   "outputs": [
    {
     "data": {
      "image/png": "[encoded data removed]",
      "text/plain": [
       "<Figure size 432x288 with 1 Axes>"
      ]
     },
     "metadata": {
      "needs_background": "light"
     },
     "output_type": "display_data"
    },
    {
     "data": {
      "text/plain": [
       "[0.500000000000000, 0.500000000000000, 0, 0]"
      ]
     },
     "execution_count": 3,
     "metadata": {},
     "output_type": "execute_result"
    }
   ],
   "source": [
    "res = logicQuBit.Measure([q1,q2])\n",
    "logicQuBit.Plot()\n",
    "res"
   ]
  },
  {
   "cell_type": "code",
   "execution_count": 75,
   "metadata": {},
   "outputs": [],
   "source": [
    "import sympy as sp\n",
    "from sympy.physics.quantum import TensorProduct\n",
    "r1=sp.Matrix([0.5,0.5])\n",
    "r2=sp.Matrix([1,0])"
   ]
  },
  {
   "cell_type": "code",
   "execution_count": 76,
   "metadata": {},
   "outputs": [
    {
     "data": {
      "text/latex": [
       "$\\displaystyle \\left[\\begin{matrix}0.5\\\\0.5\\\\0\\\\0\\end{matrix}\\right]$"
      ],
      "text/plain": [
       "Matrix([\n",
       "[0.5],\n",
       "[0.5],\n",
       "[  0],\n",
       "[  0]])"
      ]
     },
     "execution_count": 76,
     "metadata": {},
     "output_type": "execute_result"
    }
   ],
   "source": [
    "TensorProduct(r2,r1)"
   ]
  },
  {
   "cell_type": "code",
   "execution_count": null,
   "metadata": {},
   "outputs": [],
   "source": []
  }
 ],
 "metadata": {
  "kernelspec": {
   "display_name": "Python 3",
   "language": "python",
   "name": "python3"
  },
  "language_info": {
   "codemirror_mode": {
    "name": "ipython",
    "version": 3
   },
   "file_extension": ".py",
   "mimetype": "text/x-python",
   "name": "python",
   "nbconvert_exporter": "python",
   "pygments_lexer": "ipython3",
   "version": "3.7.4"
  }
 },
 "nbformat": 4,
 "nbformat_minor": 2
}
