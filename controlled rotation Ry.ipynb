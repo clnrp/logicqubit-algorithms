{
 "cells": [
  {
   "cell_type": "code",
   "execution_count": 134,
   "metadata": {},
   "outputs": [],
   "source": [
    "from logicqubit.logic import *\n",
    "from cmath import *\n",
    "from scipy.linalg import expm, sinm, cosm, logm, sqrtm\n",
    "import sympy as sp"
   ]
  },
  {
   "cell_type": "code",
   "execution_count": 113,
   "metadata": {},
   "outputs": [],
   "source": [
    "def qft(qr):\n",
    "    for i in range(len(qr)):\n",
    "        for j in range(i):\n",
    "            qr[i].CU1(qr[j], pi/float(2**(i-j)))\n",
    "        qr[i].H()\n",
    "        \n",
    "def iqft(qr):\n",
    "    for i in range(len(qr)):\n",
    "        for j in range(i):\n",
    "            qr[i].CU1(qr[j], -pi/float(2**(i-j)))\n",
    "        qr[i].H()\n",
    "        \n",
    "def swap(s1, s2):\n",
    "    s2.CX(s1)\n",
    "    s1.CX(s2)\n",
    "    s2.CX(s1)"
   ]
  },
  {
   "cell_type": "code",
   "execution_count": 131,
   "metadata": {},
   "outputs": [
    {
     "data": {
      "image/png": "[encoded data removed]",
      "text/plain": [
       "<Figure size 432x288 with 1 Axes>"
      ]
     },
     "metadata": {
      "needs_background": "light"
     },
     "output_type": "display_data"
    },
    {
     "name": "stdout",
     "output_type": "stream",
     "text": [
      "[(0.9844562108553223+0j), (0.015543789144677609+0j)] (0.12467473338522769+0j)\n"
     ]
    }
   ],
   "source": [
    "logicQuBit  = LogicQuBit(4)\n",
    "\n",
    "x1 = Qubit()\n",
    "x2 = Qubit()\n",
    "x3 = Qubit()\n",
    "a = Qubit()\n",
    "\n",
    "#x1.X()\n",
    "#x2.X()\n",
    "x3.X()\n",
    "\n",
    "# RY(a)*RY(b) = RY(a+b)\n",
    "a.CRY(x3, 1/4) # theta 1/8\n",
    "a.CRY(x2, 1/2) # theta 1/4\n",
    "a.CRY(x1, 1)   # theta 1/2\n",
    "\n",
    "res = logicQuBit.Measure([a])\n",
    "logicQuBit.Plot()\n",
    "print(res, sqrt(res[1]))"
   ]
  },
  {
   "cell_type": "code",
   "execution_count": 132,
   "metadata": {},
   "outputs": [
    {
     "name": "stdout",
     "output_type": "stream",
     "text": [
      "0.125 [(0.9844562108553223+0j), (0.015543789144677609+0j)]\n"
     ]
    }
   ],
   "source": [
    "# |x> = |x1x2...xn> => x = 0.x1x2...xn, onde 0 < x < 1\n",
    "# CRy|x>|0> = |x>(cos(x)|0> + sin(x)|1>)\n",
    "# para valores pequenos de x, sin(x) ~ x\n",
    "# CRy|x>|0> = |x>(sqrt(1-x^2)|0> + x|1>)\n",
    "\n",
    "x = 0/2**1 + 0/2**2 + 1/2**3\n",
    "print(x,[cos(x)**2,sin(x)**2])"
   ]
  },
  {
   "cell_type": "code",
   "execution_count": 133,
   "metadata": {},
   "outputs": [
    {
     "data": {
      "text/latex": [
       "\\begin{align}\n",
       " R|x>|0> = |x>(cos(x)|0> + sin(x)|1>) \\\\\n",
       " x = \\sum_{k=1}^{n} x_{k}2^{-k}\n",
       "\\end{align}\n"
      ],
      "text/plain": [
       "<IPython.core.display.Latex object>"
      ]
     },
     "metadata": {},
     "output_type": "display_data"
    }
   ],
   "source": [
    "%%latex\n",
    "\\begin{align}\n",
    " R|x>|0> = |x>(cos(x)|0> + sin(x)|1>) \\\\\n",
    " x = \\sum_{k=1}^{n} x_{k}2^{-k}\n",
    "\\end{align}"
   ]
  },
  {
   "cell_type": "code",
   "execution_count": null,
   "metadata": {},
   "outputs": [],
   "source": []
  }
 ],
 "metadata": {
  "kernelspec": {
   "display_name": "Python 3",
   "language": "python",
   "name": "python3"
  },
  "language_info": {
   "codemirror_mode": {
    "name": "ipython",
    "version": 3
   },
   "file_extension": ".py",
   "mimetype": "text/x-python",
   "name": "python",
   "nbconvert_exporter": "python",
   "pygments_lexer": "ipython3",
   "version": "3.7.4"
  }
 },
 "nbformat": 4,
 "nbformat_minor": 2
}
