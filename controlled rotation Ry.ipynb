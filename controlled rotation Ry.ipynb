{
 "cells": [
  {
   "cell_type": "code",
   "execution_count": 2,
   "metadata": {},
   "outputs": [
    {
     "name": "stdout",
     "output_type": "stream",
     "text": [
      "Cuda is not available!\n",
      "logicqubit version 1.5.6\n"
     ]
    }
   ],
   "source": [
    "from logicqubit.logic import *\n",
    "from cmath import *\n",
    "from scipy.linalg import expm, sinm, cosm, logm, sqrtm\n",
    "import sympy as sp"
   ]
  },
  {
   "cell_type": "code",
   "execution_count": 3,
   "metadata": {},
   "outputs": [],
   "source": [
    "def qft(qr):\n",
    "    for i in range(len(qr)):\n",
    "        for j in range(i):\n",
    "            qr[i].CU1(qr[j], pi/float(2**(i-j)))\n",
    "        qr[i].H()\n",
    "        \n",
    "def iqft(qr):\n",
    "    for i in range(len(qr)):\n",
    "        for j in range(i):\n",
    "            qr[i].CU1(qr[j], -pi/float(2**(i-j)))\n",
    "        qr[i].H()\n",
    "        \n",
    "def swap(s1, s2):\n",
    "    s2.CX(s1)\n",
    "    s1.CX(s2)\n",
    "    s2.CX(s1)"
   ]
  },
  {
   "cell_type": "code",
   "execution_count": 4,
   "metadata": {},
   "outputs": [
    {
     "name": "stderr",
     "output_type": "stream",
     "text": [
      "/home/cleoner/anaconda3/lib/python3.7/site-packages/matplotlib/transforms.py:796: ComplexWarning: Casting complex values to real discards the imaginary part\n",
      "  points = np.array(args, dtype=float).reshape(2, 2)\n"
     ]
    },
    {
     "data": {
      "image/png": "[encoded data removed]",
      "text/plain": [
       "<Figure size 432x288 with 1 Axes>"
      ]
     },
     "metadata": {
      "needs_background": "light"
     },
     "output_type": "display_data"
    },
    {
     "name": "stdout",
     "output_type": "stream",
     "text": [
      "[(0.9844562108553223+0j), (0.015543789144677609+0j)] (0.12467473338522769+0j)\n"
     ]
    }
   ],
   "source": [
    "logicQuBit  = LogicQuBit(4)\n",
    "\n",
    "x1 = Qubit()\n",
    "x2 = Qubit()\n",
    "x3 = Qubit()\n",
    "a = Qubit()\n",
    "\n",
    "#x1.X()\n",
    "#x2.X()\n",
    "x3.X()\n",
    "\n",
    "# RY(a)*RY(b) = RY(a+b)\n",
    "a.CRY(x3, 1/4) # theta 1/8\n",
    "a.CRY(x2, 1/2) # theta 1/4\n",
    "a.CRY(x1, 1)   # theta 1/2\n",
    "\n",
    "res = logicQuBit.Measure([a])\n",
    "logicQuBit.Plot()\n",
    "print(res, sqrt(res[1]))"
   ]
  },
  {
   "cell_type": "code",
   "execution_count": 5,
   "metadata": {},
   "outputs": [
    {
     "name": "stdout",
     "output_type": "stream",
     "text": [
      "0.125 [(0.9844562108553223+0j), (0.015543789144677609+0j)]\n"
     ]
    }
   ],
   "source": [
    "# |x> = |x1x2...xn> => x = 0.x1x2...xn, onde 0 < x < 1\n",
    "# CRy|x>|0> = |x>(cos(x)|0> + sin(x)|1>)\n",
    "# para valores pequenos de x, sin(x) ~ x\n",
    "# CRy|x>|0> = |x>(sqrt(1-x^2)|0> + x|1>)\n",
    "\n",
    "x = 0/2**1 + 0/2**2 + 1/2**3\n",
    "print(x,[cos(x)**2,sin(x)**2])"
   ]
  },
  {
   "cell_type": "code",
   "execution_count": 6,
   "metadata": {},
   "outputs": [
    {
     "data": {
      "text/latex": [
       "\\begin{align}\n",
       " R|x>|0> = |x>(cos(x)|0> + sin(x)|1>) \\\\\n",
       " x = \\sum_{k=1}^{n} x_{k}2^{-k}\n",
       "\\end{align}\n"
      ],
      "text/plain": [
       "<IPython.core.display.Latex object>"
      ]
     },
     "metadata": {},
     "output_type": "display_data"
    }
   ],
   "source": [
    "%%latex\n",
    "\\begin{align}\n",
    " R|x>|0> = |x>(cos(x)|0> + sin(x)|1>) \\\\\n",
    " x = \\sum_{k=1}^{n} x_{k}2^{-k}\n",
    "\\end{align}"
   ]
  },
  {
   "cell_type": "code",
   "execution_count": 41,
   "metadata": {},
   "outputs": [
    {
     "data": {
      "image/png": "[encoded data removed]",
      "text/plain": [
       "<Figure size 432x288 with 1 Axes>"
      ]
     },
     "metadata": {
      "needs_background": "light"
     },
     "output_type": "display_data"
    },
    {
     "name": "stdout",
     "output_type": "stream",
     "text": [
      "[(0.5000000000000001+0j), (0.5+0j)] (0.7071067811865476+0j) (0.7071067811865476+0j)\n"
     ]
    }
   ],
   "source": [
    "logicQuBit  = LogicQuBit(2)\n",
    "\n",
    "x1 = Qubit()\n",
    "x2 = Qubit()\n",
    "\n",
    "x1.RY(pi/6)\n",
    "x2.CX(x1)\n",
    "#x3.RY(pi/4)\n",
    "x2.RY(pi/2) # a+b, a-b / 0.70710678\n",
    "\n",
    "res = logicQuBit.Measure([x2])\n",
    "logicQuBit.Plot()\n",
    "print(res, sqrt(res[0]), sqrt(res[1]))"
   ]
  },
  {
   "cell_type": "code",
   "execution_count": 29,
   "metadata": {},
   "outputs": [
    {
     "data": {
      "text/plain": [
       "0.5411961001461969"
      ]
     },
     "execution_count": 29,
     "metadata": {},
     "output_type": "execute_result"
    }
   ],
   "source": [
    "(0.9238795325112867-0.3826834323650898)"
   ]
  },
  {
   "cell_type": "code",
   "execution_count": 32,
   "metadata": {},
   "outputs": [
    {
     "data": {
      "text/plain": [
       "(-0.5411961001461969+0j)"
      ]
     },
     "execution_count": 32,
     "metadata": {},
     "output_type": "execute_result"
    }
   ],
   "source": [
    "sqrt(res[0])-sqrt(res[1])"
   ]
  },
  {
   "cell_type": "code",
   "execution_count": 35,
   "metadata": {},
   "outputs": [
    {
     "data": {
      "text/plain": [
       "(0.5411961010543412+0j)"
      ]
     },
     "execution_count": 35,
     "metadata": {},
     "output_type": "execute_result"
    }
   ],
   "source": [
    "sqrt(res[0])/0.70710678"
   ]
  },
  {
   "cell_type": "code",
   "execution_count": 47,
   "metadata": {},
   "outputs": [],
   "source": [
    "v=np.array([[ 0.70710678+0.j, -0.70710678-0.j,  0.        +0.j,  0.        -0.j],\n",
    " [ 0.70710678+0.j,  0.70710678+0.j,  0.        +0.j,  0.        +0.j],\n",
    " [ 0.        +0.j,  0.        -0.j,  0.70710678+0.j, -0.70710678-0.j],\n",
    " [ 0.        +0.j,  0.        +0.j,  0.70710678+0.j,  0.70710678+0.j]])"
   ]
  },
  {
   "cell_type": "code",
   "execution_count": 45,
   "metadata": {},
   "outputs": [],
   "source": [
    "psi = np.array([[0.96592583+0.j],\n",
    " [0.        +0.j],\n",
    " [0.        +0.j],\n",
    " [0.25881905+0.j]])"
   ]
  },
  {
   "cell_type": "code",
   "execution_count": 49,
   "metadata": {},
   "outputs": [
    {
     "data": {
      "text/plain": [
       "array([[ 0.6830127 +0.j, -0.6830127 +0.j,  0.        +0.j,\n",
       "         0.        +0.j],\n",
       "       [ 0.        +0.j,  0.        +0.j,  0.        +0.j,\n",
       "         0.        +0.j],\n",
       "       [ 0.        +0.j,  0.        +0.j,  0.        +0.j,\n",
       "        -0.        +0.j],\n",
       "       [ 0.        +0.j,  0.        +0.j,  0.18301271+0.j,\n",
       "         0.18301271+0.j]])"
      ]
     },
     "execution_count": 49,
     "metadata": {},
     "output_type": "execute_result"
    }
   ],
   "source": [
    "v*psi"
   ]
  },
  {
   "cell_type": "code",
   "execution_count": null,
   "metadata": {},
   "outputs": [],
   "source": []
  }
 ],
 "metadata": {
  "kernelspec": {
   "display_name": "Python 3",
   "language": "python",
   "name": "python3"
  },
  "language_info": {
   "codemirror_mode": {
    "name": "ipython",
    "version": 3
   },
   "file_extension": ".py",
   "mimetype": "text/x-python",
   "name": "python",
   "nbconvert_exporter": "python",
   "pygments_lexer": "ipython3",
   "version": "3.8.5"
  }
 },
 "nbformat": 4,
 "nbformat_minor": 2
}
