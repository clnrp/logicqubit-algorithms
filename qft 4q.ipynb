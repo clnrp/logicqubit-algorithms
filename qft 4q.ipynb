{
 "cells": [
  {
   "cell_type": "code",
   "execution_count": 11,
   "metadata": {
    "scrolled": true
   },
   "outputs": [],
   "source": [
    "from logicqubit.logic import *"
   ]
  },
  {
   "cell_type": "code",
   "execution_count": 50,
   "metadata": {},
   "outputs": [],
   "source": [
    "def qft(qr):\n",
    "    for i in range(len(qr)):\n",
    "        for j in range(i):\n",
    "            qr[i].CU1(qr[j], pi/float(2**(i-j)))\n",
    "        qr[i].H()\n",
    "        \n",
    "def iqft(qr): # transformada quântica de Fourier inversa\n",
    "    for i in range(len(qr)):\n",
    "        for j in range(i):\n",
    "            qr[i].CU1(qr[j], -pi/float(2**(i-j)))\n",
    "        qr[i].H()\n",
    "        \n",
    "def swap(s1, s2):\n",
    "    s2.CX(s1)\n",
    "    s1.CX(s2)\n",
    "    s2.CX(s1)"
   ]
  },
  {
   "cell_type": "code",
   "execution_count": 66,
   "metadata": {},
   "outputs": [],
   "source": [
    "logicQuBit  = LogicQuBit(4, first_left=True)\n",
    "\n",
    "x1 = Qubit()\n",
    "x2 = Qubit()\n",
    "x3 = Qubit()\n",
    "x4 = Qubit()\n",
    "\n",
    "#x1.X()\n",
    "x2.X()\n",
    "x3.X()\n",
    "x4.X()\n",
    "\n",
    "iqft([x1,x2,x3,x4]) # fase negativa em relação a qft\n",
    "swap(x1,x4)\n",
    "swap(x2,x3)"
   ]
  },
  {
   "cell_type": "code",
   "execution_count": 67,
   "metadata": {},
   "outputs": [],
   "source": [
    "#x1.PrintState()"
   ]
  },
  {
   "cell_type": "code",
   "execution_count": 68,
   "metadata": {},
   "outputs": [
    {
     "data": {
      "text/plain": [
       "array([[   0. ],\n",
       "       [-157.5],\n",
       "       [  45. ],\n",
       "       [-112.5],\n",
       "       [  90. ],\n",
       "       [ -67.5],\n",
       "       [ 135. ],\n",
       "       [ -22.5],\n",
       "       [ 180. ],\n",
       "       [  22.5],\n",
       "       [-135. ],\n",
       "       [  67.5],\n",
       "       [ -90. ],\n",
       "       [ 112.5],\n",
       "       [ -45. ],\n",
       "       [ 157.5]])"
      ]
     },
     "execution_count": 68,
     "metadata": {},
     "output_type": "execute_result"
    }
   ],
   "source": [
    "# 360/16=22.5 os angulos são multiplos de 22.5\n",
    "# 360/(22.5*1)=360/22.5=16 -> 8/1=8\n",
    "# 360/(22.5*2)=360/45=8    -> 8/2=4\n",
    "\n",
    "x1.getPsiAtAngles(degree = True)"
   ]
  },
  {
   "cell_type": "code",
   "execution_count": 49,
   "metadata": {},
   "outputs": [
    {
     "data": {
      "text/latex": [
       "$\\displaystyle \\begin{pmatrix}9.07338e-18+4.84214e-18j \\\\ 1.19497e-17+2.94771e-18j \\\\ 5.67615e-18-5.99818e-18j \\\\ -7.97923e-18-2.43236e-17j \\\\ -4.90654e-18+5.13098e-18j \\\\ 1.41372e-18-1.16245e-17j \\\\ 1.26274e-18+6.10022e-18j \\\\ 1.48107e-16+5.43075e-17j \\\\ -4.31128e-18+1.39987e-19j \\\\ 2.23927e-18+4.19544e-18j \\\\ -9.14047e-19-1.91122e-18j \\\\ 5.00211e-17+3.8796e-18j \\\\ 4.90654e-18-5.35101e-18j \\\\ 8.01313e-18+4.48135e-18j \\\\ -1.26274e-18-2.95293e-18j \\\\ 1-3.38634e-17j \\end{pmatrix}$"
      ],
      "text/plain": [
       "<IPython.core.display.Math object>"
      ]
     },
     "metadata": {},
     "output_type": "display_data"
    },
    {
     "data": {
      "image/png": "[encoded data removed]",
      "text/plain": [
       "<Figure size 432x288 with 1 Axes>"
      ]
     },
     "metadata": {
      "needs_background": "light"
     },
     "output_type": "display_data"
    }
   ],
   "source": [
    "qft([x1,x2,x3,x4])\n",
    "swap(x1,x4)\n",
    "swap(x2,x3)\n",
    "\n",
    "x1.PrintState()\n",
    "\n",
    "logicQuBit.Measure([x1,x2,x3,x4])\n",
    "#logicQuBit.Measure([y1,y2,y3])\n",
    "logicQuBit.Plot()"
   ]
  },
  {
   "cell_type": "code",
   "execution_count": null,
   "metadata": {},
   "outputs": [],
   "source": []
  },
  {
   "cell_type": "code",
   "execution_count": null,
   "metadata": {},
   "outputs": [],
   "source": []
  }
 ],
 "metadata": {
  "kernelspec": {
   "display_name": "Python 3",
   "language": "python",
   "name": "python3"
  },
  "language_info": {
   "codemirror_mode": {
    "name": "ipython",
    "version": 3
   },
   "file_extension": ".py",
   "mimetype": "text/x-python",
   "name": "python",
   "nbconvert_exporter": "python",
   "pygments_lexer": "ipython3",
   "version": "3.7.4"
  }
 },
 "nbformat": 4,
 "nbformat_minor": 2
}
