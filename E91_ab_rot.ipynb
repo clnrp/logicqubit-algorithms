{
 "cells": [
  {
   "cell_type": "code",
   "execution_count": 17,
   "metadata": {
    "scrolled": true
   },
   "outputs": [],
   "source": [
    "from logicqubit.logic import *\n",
    "from math import *\n",
    "import random\n",
    "import matplotlib.pyplot as plt"
   ]
  },
  {
   "cell_type": "code",
   "execution_count": 18,
   "metadata": {},
   "outputs": [
    {
     "data": {
      "image/png": "[encoded data removed]",
      "text/plain": [
       "<Figure size 432x288 with 1 Axes>"
      ]
     },
     "metadata": {
      "needs_background": "light"
     },
     "output_type": "display_data"
    }
   ],
   "source": [
    "def measurement(type_A, type_B, angle):\n",
    "    logicQuBit = LogicQuBit(2)\n",
    "    \n",
    "    gates = Gates()\n",
    "    ZZ = gates.Z().kron(gates.Z())\n",
    "    \n",
    "    A = Qubit()\n",
    "    B = Qubit()\n",
    "\n",
    "    # generate entangled state |01>+|10>\n",
    "    A.H()\n",
    "    B.CNOT(A)\n",
    "    B.X()\n",
    "    B.Z()\n",
    "\n",
    "    # Alice choose the measurement\n",
    "    if \"a'\" == type_A:\n",
    "        A.H()\n",
    "\n",
    "    # Bob choose the measurement\n",
    "    if \"b\" == type_B:\n",
    "        B.RY(-angle)\n",
    "    elif \"b'\" == type_B:\n",
    "        B.RY(angle)\n",
    "        \n",
    "    psi = logicQuBit.getPsi()\n",
    "    value = (psi.adjoint()*ZZ*psi).get()[0]\n",
    "    return value\n",
    "\n",
    "step = 1 \n",
    "angles = np.arange(40, 50, step)\n",
    "result = []\n",
    "for angle in angles:\n",
    "    values = {}\n",
    "    values[\"ab\"] = measurement(\"a\",\"b\",angle)\n",
    "    values[\"a'b\"] = measurement(\"a'\",\"b\",angle)\n",
    "    values[\"ab'\"] = measurement(\"a\",\"b'\",angle)\n",
    "    values[\"a'b'\"] = measurement(\"a'\",\"b'\",angle)\n",
    "    inequality = values[\"ab\"] + values[\"a'b\"] + values[\"ab'\"] - values[\"a'b'\"]\n",
    "    inequality = sqrt(inequality.real * inequality.real)\n",
    "    result.append(inequality)\n",
    "    \n",
    "plt.plot(angles, result, color='blue')\n",
    "plt.show()"
   ]
  },
  {
   "cell_type": "code",
   "execution_count": 19,
   "metadata": {},
   "outputs": [
    {
     "name": "stdout",
     "output_type": "stream",
     "text": [
      "2.904277493342212\n"
     ]
    }
   ],
   "source": [
    "# |<C>| = |<a.b> + <a'.b> + <a.b'> - <a'.b'>| <= 2\n",
    "def bell_inequality(A, B):\n",
    "    direction = {\"ab\":0, \"a'b\":0, \"ab'\":0, \"a'b'\":0}\n",
    "    count = {\"ab\":0, \"a'b\":0, \"ab'\":0, \"a'b'\":0}\n",
    "    \n",
    "    for a,b in zip(A,B):\n",
    "        if a[0]==\"a\" and b[0]==\"b\":\n",
    "            direction[\"ab\"] += a[1]*b[1]\n",
    "            count[\"ab\"] += 1\n",
    "        elif a[0]==\"a'\" and b[0]==\"b\":\n",
    "            direction[\"a'b\"] += a[1]*b[1]\n",
    "            count[\"a'b\"] += 1\n",
    "        elif a[0]==\"a\" and b[0]==\"b'\":\n",
    "            direction[\"ab'\"] += a[1]*b[1]\n",
    "            count[\"ab'\"] += 1\n",
    "        elif a[0]==\"a'\" and b[0]==\"b'\":\n",
    "            direction[\"a'b'\"] += a[1]*b[1]\n",
    "            count[\"a'b'\"] += 1\n",
    "\n",
    "    direction[\"ab\"] /= count[\"ab\"]\n",
    "    direction[\"a'b\"] /= count[\"a'b\"]\n",
    "    direction[\"ab'\"] /= count[\"ab'\"]\n",
    "    direction[\"a'b'\"] /= count[\"a'b'\"]\n",
    "    inequality = direction[\"ab\"] + direction[\"a'b\"] + direction[\"ab'\"] - direction[\"a'b'\"]\n",
    "    inequality = sqrt(inequality * inequality)\n",
    "    return inequality\n",
    "\n",
    "def measurements(eva=False, attempts=10, angle=45):\n",
    "    to_minus_one = lambda x: -1 if x == 0 else x\n",
    "    measure_A = []\n",
    "    measure_B = []\n",
    "  \n",
    "    angle = angle*pi/180  \n",
    "    for i in range(attempts):\n",
    "        logicQuBit = LogicQuBit(2)\n",
    "\n",
    "        A = Qubit()\n",
    "        B = Qubit()\n",
    "\n",
    "        # generate entangled state |01>-|10>\n",
    "        A.H()\n",
    "        B.CNOT(A)\n",
    "        B.X()\n",
    "        B.Z()\n",
    "\n",
    "        # Alice choose the measurement\n",
    "        measure_type_A = random.choice([\"a\", \"a'\"])\n",
    "        if \"a'\" == measure_type_A: # for x\n",
    "            A.H()\n",
    "            \n",
    "        # Alice performs the measurement\n",
    "        m_A = logicQuBit.Measure_One(A)[0]\n",
    "        m_A = to_minus_one(m_A)\n",
    "\n",
    "        # Eva performs the measurement\n",
    "        if eva:\n",
    "            measure_type_E = random.choice([\"b\", \"b'\"])\n",
    "            if \"b\" == measure_type_E:\n",
    "                B.RY(-angle)\n",
    "            elif \"b'\" == measure_type_E:\n",
    "                B.RY(angle)\n",
    "            m_E = logicQuBit.Measure_One(B)[0]\n",
    "\n",
    "        # Bob choose the measurement\n",
    "        measure_type_B = random.choice([\"b\", \"b'\"])\n",
    "        if \"b\" == measure_type_B:\n",
    "            B.RY(-angle)\n",
    "        elif \"b'\" == measure_type_B:\n",
    "            B.RY(angle)\n",
    "       \n",
    "        # Bob performs the measurement\n",
    "        m_B = logicQuBit.Measure_One(B)[0]\n",
    "        m_B = to_minus_one(m_B)\n",
    "\n",
    "        measure_A.append([measure_type_A, m_A])\n",
    "        measure_B.append([measure_type_B, m_B])\n",
    "\n",
    "    return measure_A, measure_B\n",
    "\n",
    "measure_A, measure_B = measurements(eva=False, attempts=500, angle=45)\n",
    "bell = bell_inequality(measure_A, measure_B)\n",
    "print(bell)"
   ]
  },
  {
   "cell_type": "code",
   "execution_count": 23,
   "metadata": {},
   "outputs": [
    {
     "name": "stdout",
     "output_type": "stream",
     "text": [
      "value: 2.854432798959573\n"
     ]
    },
    {
     "data": {
      "image/png": "[encoded data removed]",
      "text/plain": [
       "<Figure size 432x288 with 1 Axes>"
      ]
     },
     "metadata": {
      "needs_background": "light"
     },
     "output_type": "display_data"
    }
   ],
   "source": [
    "# without eva, angle = 40 - 50\n",
    "step = 1 \n",
    "angles = np.arange(40, 50, step)\n",
    "result_without_eva = []\n",
    "for angle in angles:\n",
    "    measure_A, measure_B = measurements(eva=False, attempts=200, angle=angle)\n",
    "    bell = bell_inequality(measure_A, measure_B)\n",
    "    result_without_eva.append(bell)\n",
    "mean_without_eva = np.mean(result_without_eva)\n",
    "print(\"value: \"+str(mean_without_eva.real))\n",
    "plt.plot(angles, result_without_eva, color='blue')\n",
    "plt.show()"
   ]
  },
  {
   "cell_type": "code",
   "execution_count": 24,
   "metadata": {},
   "outputs": [
    {
     "name": "stdout",
     "output_type": "stream",
     "text": [
      "value: 0.9526235202270075\n"
     ]
    },
    {
     "data": {
      "image/png": "[encoded data removed]",
      "text/plain": [
       "<Figure size 432x288 with 1 Axes>"
      ]
     },
     "metadata": {
      "needs_background": "light"
     },
     "output_type": "display_data"
    }
   ],
   "source": [
    "# with eva, angle = 40 - 50\n",
    "step = 1 \n",
    "angles = np.arange(40, 50, step)\n",
    "result_with_eva = []\n",
    "for angle in angles:\n",
    "    measure_A, measure_B = measurements(eva=True, attempts=200, angle=angle)\n",
    "    bell = bell_inequality(measure_A, measure_B)\n",
    "    result_with_eva.append(bell)\n",
    "mean_with_eva = np.mean(result_with_eva)\n",
    "print(\"value: \"+str(mean_with_eva.real))\n",
    "plt.plot(angles, result_with_eva, color='blue')\n",
    "plt.show()"
   ]
  },
  {
   "cell_type": "code",
   "execution_count": null,
   "metadata": {},
   "outputs": [],
   "source": []
  }
 ],
 "metadata": {
  "kernelspec": {
   "display_name": "Python 3",
   "language": "python",
   "name": "python3"
  },
  "language_info": {
   "codemirror_mode": {
    "name": "ipython",
    "version": 3
   },
   "file_extension": ".py",
   "mimetype": "text/x-python",
   "name": "python",
   "nbconvert_exporter": "python",
   "pygments_lexer": "ipython3",
   "version": "3.7.4"
  }
 },
 "nbformat": 4,
 "nbformat_minor": 2
}
