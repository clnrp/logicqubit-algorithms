{
 "cells": [
  {
   "cell_type": "code",
   "execution_count": 67,
   "metadata": {
    "scrolled": true
   },
   "outputs": [],
   "source": [
    "from logicqubit.logic import *"
   ]
  },
  {
   "cell_type": "code",
   "execution_count": 68,
   "metadata": {},
   "outputs": [],
   "source": [
    "def qft(qr, n):\n",
    "    for i in range(n):\n",
    "        for j in range(i):\n",
    "            logicQuBit.CU1(qr[j], qr[i], pi/float(2**(i-j)))\n",
    "        logicQuBit.H(qr[i])\n",
    "        \n",
    "def iqft(qr, n): # transformada quântica de Fourier inversa\n",
    "    for i in range(n):\n",
    "        for j in range(i):\n",
    "            logicQuBit.CU1(qr[j], qr[i], -pi/float(2**(i-j)))\n",
    "        logicQuBit.H(qr[i])\n",
    "        \n",
    "def swap(s1, s2):\n",
    "    logicQuBit.CX(s1, s2)\n",
    "    logicQuBit.CX(s2, s1)\n",
    "    logicQuBit.CX(s1, s2)"
   ]
  },
  {
   "cell_type": "code",
   "execution_count": 64,
   "metadata": {},
   "outputs": [],
   "source": [
    "logicQuBit  = LogicQuBit(2, first_left=True)\n",
    "\n",
    "x1 = Qubit()\n",
    "x2 = Qubit()\n",
    "\n",
    "#x1.X()\n",
    "x2.X()\n",
    "\n",
    "qft([x1,x2],2)\n",
    "swap(x1,x2)"
   ]
  },
  {
   "cell_type": "code",
   "execution_count": 65,
   "metadata": {},
   "outputs": [
    {
     "data": {
      "text/latex": [
       "$\\displaystyle \\begin{pmatrix}0.5 \\\\ 3.06162e-17+0.5j \\\\ -0.5 \\\\ -3.06162e-17-0.5j \\end{pmatrix}$"
      ],
      "text/plain": [
       "<IPython.core.display.Math object>"
      ]
     },
     "metadata": {},
     "output_type": "display_data"
    }
   ],
   "source": [
    "x1.PrintState()"
   ]
  },
  {
   "cell_type": "code",
   "execution_count": 66,
   "metadata": {},
   "outputs": [
    {
     "data": {
      "text/latex": [
       "$\\displaystyle \\begin{pmatrix}1.62588e-17+1.62588e-17j \\\\ 1+1.68331e-33j \\\\ 1.62588e-17-1.62588e-17j \\\\ 6.22329e-19-1.68331e-33j \\end{pmatrix}$"
      ],
      "text/plain": [
       "<IPython.core.display.Math object>"
      ]
     },
     "metadata": {},
     "output_type": "display_data"
    },
    {
     "data": {
      "image/png": "[encoded data removed]",
      "text/plain": [
       "<Figure size 432x288 with 1 Axes>"
      ]
     },
     "metadata": {
      "needs_background": "light"
     },
     "output_type": "display_data"
    }
   ],
   "source": [
    "iqft([x1,x2],2)\n",
    "swap(x1,x2)\n",
    "\n",
    "x1.PrintState()\n",
    "\n",
    "logicQuBit.Measure([x1,x2])\n",
    "logicQuBit.Plot()"
   ]
  },
  {
   "cell_type": "code",
   "execution_count": null,
   "metadata": {},
   "outputs": [],
   "source": []
  }
 ],
 "metadata": {
  "kernelspec": {
   "display_name": "Python 3",
   "language": "python",
   "name": "python3"
  },
  "language_info": {
   "codemirror_mode": {
    "name": "ipython",
    "version": 3
   },
   "file_extension": ".py",
   "mimetype": "text/x-python",
   "name": "python",
   "nbconvert_exporter": "python",
   "pygments_lexer": "ipython3",
   "version": "3.7.4"
  }
 },
 "nbformat": 4,
 "nbformat_minor": 2
}
